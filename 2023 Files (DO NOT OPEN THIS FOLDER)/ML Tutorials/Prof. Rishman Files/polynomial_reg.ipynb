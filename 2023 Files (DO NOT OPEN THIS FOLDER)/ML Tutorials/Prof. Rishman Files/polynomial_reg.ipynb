{
 "cells": [
  {
   "cell_type": "code",
   "execution_count": null,
   "metadata": {
    "id": "_ZIjJS8lDa9i"
   },
   "outputs": [],
   "source": [
    "import matplotlib.pyplot as plt\n",
    "import numpy\n",
    "\n",
    "from sklearn.metrics import r2_score, mean_squared_error\n",
    "\n",
    "X = [1,2,3,4,5,6,7,8,9,10,11,12,13,14,15]\n",
    "Y = [16.08, 33.83, 65.8, 97.2, 191.55, 326.20, 386.87, 520.53, 590.03, 651.92, 724.93, 699.56, 689.96, 637.56, 717.41]\n",
    "\n",
    "n =15\n",
    "p = 2\n",
    "my_model = numpy.poly1d(numpy.polyfit(X,Y,p))\n",
    "\n",
    "my_line  = numpy.linspace(1,15,100)\n",
    "\n",
    "\n",
    "plt.scatter(X,Y)\n",
    "plt.plot(my_line, my_model(my_line))\n",
    "plt.show()\n",
    "\n",
    "\n",
    "\n",
    "# The mean squared error\n",
    "print('Mean squared error: %.2f'\n",
    "      % mean_squared_error(Y,my_model(X)))\n",
    "# The coefficient of determination: 1 is perfect prediction\n",
    "print('R^2 Score: %.2f'\n",
    "      % r2_score(Y,my_model(X)))\n",
    "\n",
    "a = (1- r2_score(Y,my_model(X)))\n",
    "b = (n-1)/(n-p-1)\n",
    "adj_rsquare = (1-(a*b))\n",
    "print(\"Adjusted R-2 score: \", adj_rsquare)"
   ]
  },
  {
   "cell_type": "code",
   "execution_count": null,
   "metadata": {
    "id": "7qrZ70h1DsSi"
   },
   "outputs": [],
   "source": [
    "  "
   ]
  }
 ],
 "metadata": {
  "colab": {
   "name": "polynomial_reg.ipynb",
   "provenance": []
  },
  "kernelspec": {
   "display_name": "Python 3 (ipykernel)",
   "language": "python",
   "name": "python3"
  },
  "language_info": {
   "codemirror_mode": {
    "name": "ipython",
    "version": 3
   },
   "file_extension": ".py",
   "mimetype": "text/x-python",
   "name": "python",
   "nbconvert_exporter": "python",
   "pygments_lexer": "ipython3",
   "version": "3.8.10"
  }
 },
 "nbformat": 4,
 "nbformat_minor": 4
}
