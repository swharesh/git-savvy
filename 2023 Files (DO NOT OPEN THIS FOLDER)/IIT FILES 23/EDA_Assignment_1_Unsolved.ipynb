{
 "cells": [
  {
   "cell_type": "code",
   "execution_count": null,
   "id": "216fc0ab",
   "metadata": {
    "id": "216fc0ab"
   },
   "outputs": [],
   "source": [
    "import pandas as pd\n",
    "import numpy as np\n",
    "import matplotlib.pyplot as plt\n",
    "import seaborn as sns"
   ]
  },
  {
   "cell_type": "code",
   "execution_count": null,
   "id": "d06790d5",
   "metadata": {
    "id": "d06790d5"
   },
   "outputs": [],
   "source": [
    "data = pd.read_csv('HousingData.csv')"
   ]
  },
  {
   "cell_type": "markdown",
   "id": "e743d29e",
   "metadata": {
    "id": "e743d29e"
   },
   "source": [
    "Q1) Print the first ten data tuples"
   ]
  },
  {
   "cell_type": "code",
   "execution_count": null,
   "id": "leWFJYT_8Y1D",
   "metadata": {
    "id": "leWFJYT_8Y1D"
   },
   "outputs": [],
   "source": [
    "data.head(10)"
   ]
  },
  {
   "cell_type": "markdown",
   "id": "50fff7fd",
   "metadata": {
    "id": "50fff7fd"
   },
   "source": [
    "Q2) Find the shape of datsets"
   ]
  },
  {
   "cell_type": "markdown",
   "id": "c9261108",
   "metadata": {
    "id": "c9261108"
   },
   "source": [
    "Q3) Find the coloums of the datsets"
   ]
  },
  {
   "cell_type": "markdown",
   "id": "e3a61e9e",
   "metadata": {
    "id": "e3a61e9e"
   },
   "source": [
    "Q4) Convert the columns into array"
   ]
  },
  {
   "cell_type": "code",
   "execution_count": null,
   "id": "9xN6d2Kb8w8X",
   "metadata": {
    "id": "9xN6d2Kb8w8X"
   },
   "outputs": [],
   "source": [
    "headers= np.array(data.columns)"
   ]
  },
  {
   "cell_type": "markdown",
   "id": "8a7bdfc4",
   "metadata": {
    "id": "8a7bdfc4"
   },
   "source": [
    "Q5) Find the information of ALL THE houses whose tax is below 250"
   ]
  },
  {
   "cell_type": "code",
   "execution_count": null,
   "id": "U2abnuUN88N3",
   "metadata": {
    "id": "U2abnuUN88N3"
   },
   "outputs": [],
   "source": []
  },
  {
   "cell_type": "markdown",
   "id": "63ad1717",
   "metadata": {
    "id": "63ad1717"
   },
   "source": [
    "Q6) Print the row no. 3,4,8,6 and colowns namely NOX, RM, B"
   ]
  },
  {
   "cell_type": "markdown",
   "id": "cb330cf6",
   "metadata": {
    "id": "cb330cf6"
   },
   "source": [
    "Q7) Drop the column ZN from the database"
   ]
  },
  {
   "cell_type": "markdown",
   "id": "e93f3aa0",
   "metadata": {
    "id": "e93f3aa0"
   },
   "source": [
    "Q8) Print the dataset information"
   ]
  }
 ],
 "metadata": {
  "colab": {
   "provenance": []
  },
  "kernelspec": {
   "display_name": "Python 3 (ipykernel)",
   "language": "python",
   "name": "python3"
  },
  "language_info": {
   "codemirror_mode": {
    "name": "ipython",
    "version": 3
   },
   "file_extension": ".py",
   "mimetype": "text/x-python",
   "name": "python",
   "nbconvert_exporter": "python",
   "pygments_lexer": "ipython3",
   "version": "3.9.7"
  }
 },
 "nbformat": 4,
 "nbformat_minor": 5
}
