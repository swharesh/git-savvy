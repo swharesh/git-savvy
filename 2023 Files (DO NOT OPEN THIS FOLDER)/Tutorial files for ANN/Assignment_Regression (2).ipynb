{
 "cells": [
  {
   "cell_type": "markdown",
   "id": "b98e2ea2",
   "metadata": {},
   "source": [
    "Import the necessary libraries"
   ]
  },
  {
   "cell_type": "code",
   "execution_count": null,
   "id": "6ade10a7",
   "metadata": {},
   "outputs": [],
   "source": []
  },
  {
   "cell_type": "markdown",
   "id": "7e11ec9e",
   "metadata": {},
   "source": [
    "Import the data.csv file"
   ]
  },
  {
   "cell_type": "code",
   "execution_count": null,
   "id": "e8d65d4d",
   "metadata": {},
   "outputs": [],
   "source": []
  },
  {
   "cell_type": "markdown",
   "id": "1ebb5f00",
   "metadata": {},
   "source": [
    "Check the head, shape and statistical summarry for the dataset"
   ]
  },
  {
   "cell_type": "code",
   "execution_count": null,
   "id": "8c5c7d04",
   "metadata": {},
   "outputs": [],
   "source": []
  },
  {
   "cell_type": "markdown",
   "id": "9f1f2a5b",
   "metadata": {},
   "source": [
    "Check null values"
   ]
  },
  {
   "cell_type": "code",
   "execution_count": null,
   "id": "ec3e2bbb",
   "metadata": {},
   "outputs": [],
   "source": []
  },
  {
   "cell_type": "code",
   "execution_count": null,
   "id": "edd14ff1",
   "metadata": {},
   "outputs": [],
   "source": []
  },
  {
   "cell_type": "markdown",
   "id": "cb634f9b",
   "metadata": {},
   "source": [
    "Use pd.get_dummies() for handling the 'State' categorical variable"
   ]
  },
  {
   "cell_type": "code",
   "execution_count": null,
   "id": "b9206924",
   "metadata": {},
   "outputs": [],
   "source": []
  },
  {
   "cell_type": "markdown",
   "id": "ead01634",
   "metadata": {},
   "source": [
    "Drop the extra 'State' column from the dataframe"
   ]
  },
  {
   "cell_type": "code",
   "execution_count": null,
   "id": "1f77ea5d",
   "metadata": {},
   "outputs": [],
   "source": []
  },
  {
   "cell_type": "markdown",
   "id": "1fc9ceab",
   "metadata": {},
   "source": [
    "Create the X and y variables for developing a regression model"
   ]
  },
  {
   "cell_type": "code",
   "execution_count": null,
   "id": "cf5618fc",
   "metadata": {},
   "outputs": [],
   "source": []
  },
  {
   "cell_type": "markdown",
   "id": "9a93cfe6",
   "metadata": {},
   "source": [
    "Perform train-test split"
   ]
  },
  {
   "cell_type": "code",
   "execution_count": null,
   "id": "a48a9943",
   "metadata": {},
   "outputs": [],
   "source": []
  },
  {
   "cell_type": "markdown",
   "id": "735cc8fe",
   "metadata": {},
   "source": [
    "Standardize the values"
   ]
  },
  {
   "cell_type": "code",
   "execution_count": null,
   "id": "c4b9156c",
   "metadata": {},
   "outputs": [],
   "source": []
  },
  {
   "cell_type": "markdown",
   "id": "ad3f57b9",
   "metadata": {},
   "source": [
    "Build a MLPRegressor model and check its performance for the given dataset"
   ]
  },
  {
   "cell_type": "code",
   "execution_count": null,
   "id": "b9ee77da",
   "metadata": {},
   "outputs": [],
   "source": []
  }
 ],
 "metadata": {
  "kernelspec": {
   "display_name": "Python 3 (ipykernel)",
   "language": "python",
   "name": "python3"
  },
  "language_info": {
   "codemirror_mode": {
    "name": "ipython",
    "version": 3
   },
   "file_extension": ".py",
   "mimetype": "text/x-python",
   "name": "python",
   "nbconvert_exporter": "python",
   "pygments_lexer": "ipython3",
   "version": "3.9.7"
  }
 },
 "nbformat": 4,
 "nbformat_minor": 5
}
