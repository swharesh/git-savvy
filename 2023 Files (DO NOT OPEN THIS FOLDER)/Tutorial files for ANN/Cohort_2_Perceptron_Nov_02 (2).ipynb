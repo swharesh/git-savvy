{
 "cells": [
  {
   "cell_type": "markdown",
   "id": "3baf8428",
   "metadata": {},
   "source": [
    "# Perceptron from Scratch using Python"
   ]
  },
  {
   "cell_type": "markdown",
   "id": "10a56a7e",
   "metadata": {},
   "source": [
    "In this Tutorial, we will see how to implement the perceptron model using Python on sample data. We will further test our model using the Iris dataset and check its performance.\n",
    "\n",
    "The aim of this tutorial is to gain a fundamental understanding of various components and steps involved for a Perceptron while gaining hands-on experience for its implementation."
   ]
  },
  {
   "cell_type": "markdown",
   "id": "75e5bc07",
   "metadata": {},
   "source": [
    "# What is a Perceptron?"
   ]
  },
  {
   "cell_type": "markdown",
   "id": "e1fe7281",
   "metadata": {},
   "source": [
    "A perceptron is a fundamental unit of the neural network which takes weighted inputs, process it and capable of performing binary classifications.\n",
    "\n",
    "The Perceptron algorithm was inspired by the basic processing units in the brain, called neurons, and how they process signals. It was invented by Frank Rosenblatt, using the McCulloch-Pitts neuron and the findings of Hebb."
   ]
  },
  {
   "cell_type": "markdown",
   "id": "f966846b",
   "metadata": {},
   "source": [
    "# Linearly Separable Data\n",
    "\n",
    "By definition, a perceptron can only solve __linearly separable problems__. What is a linearly separable problem ? \n",
    "\n",
    "In the first example, the two different classes are linearly separable by a hyperplane (a single line). A Perceptron can be used for classifying data of this kind."
   ]
  },
  {
   "cell_type": "markdown",
   "id": "3961df3c",
   "metadata": {},
   "source": [
    "![alternatvie text](https://jmchung.github.io/img/hl_classif_separation.png)"
   ]
  },
  {
   "cell_type": "markdown",
   "id": "83794b9d",
   "metadata": {},
   "source": [
    "# Elements of a Perceptron\n",
    "\n",
    "The following are the main elements of a Perceptron:\n",
    "1. Input Layer\n",
    "2. Output\n",
    "3. Weights\n",
    "4. Activation function\n",
    "5. Cost function"
   ]
  },
  {
   "cell_type": "markdown",
   "id": "ad9990c1",
   "metadata": {},
   "source": [
    "![alternatvie text](https://www.nomidl.com/wp-content/uploads/2022/04/image-5.png)"
   ]
  },
  {
   "cell_type": "markdown",
   "id": "350c5626",
   "metadata": {},
   "source": [
    "What we are essentially trying to do is to find out values for weights and bias in such a way that"
   ]
  },
  {
   "cell_type": "markdown",
   "id": "18e9df59",
   "metadata": {},
   "source": [
    "> $Activation(w_{1}x_{1} + w_{2}x_{2}) = Output$\n",
    "\n",
    "The prediction from the perceptron is denoted using either  0 or 1 to distinguish between the classes in our data\n",
    "\n",
    "The activation function in the case of a perceptron is a simple Step function."
   ]
  },
  {
   "cell_type": "markdown",
   "id": "d14d0aad",
   "metadata": {},
   "source": [
    "![alternatvie text](https://miro.medium.com/max/762/1*K9QJmeG33SvQeJgPa52mmQ.png)"
   ]
  },
  {
   "cell_type": "markdown",
   "id": "1f8c9efe",
   "metadata": {},
   "source": [
    "A __cost function__ is an important parameter that determines how well a machine learning model performs for a given dataset. \n",
    "\n",
    "It calculates the difference between the expected value and predicted value and represents it as a single real number. \n",
    "\n",
    "We shall use the residual sum of squares (RSS) cost function for this example.\n",
    "\n",
    "> $Cost_{RSS} = \\sum\\limits_{i=1}^{n}{(y_{actual} - \\hat{y})^2}$\n",
    "\n",
    "where, \n",
    "\n",
    "> $\\hat{y} = w_{1}x_{1} + w_{2}x_{2} + b$"
   ]
  },
  {
   "cell_type": "markdown",
   "id": "b85d195c",
   "metadata": {},
   "source": [
    "***\n",
    "\n",
    "# Steps involved for Perceptron"
   ]
  },
  {
   "cell_type": "markdown",
   "id": "bded9c46",
   "metadata": {},
   "source": [
    "1. Import data\n",
    "\n",
    "\n",
    "2. Training:\n",
    "    1. Define number of epochs, learning rate\n",
    "    2. Initialize weights and bias\n",
    "    3. Forward Propogation - Get the output from the Perceptron\n",
    "    4. Backpropogation - Update the weights based on error\n",
    "    5. Training the model\n",
    "\n",
    "\n",
    "3. Testing:\n",
    "    1. Gain predictions on test data\n",
    "    2. Test performance of Perceptron\n",
    "    \n",
    "***"
   ]
  },
  {
   "cell_type": "markdown",
   "id": "1b23a47a",
   "metadata": {},
   "source": [
    "## Importing the libraries"
   ]
  },
  {
   "cell_type": "code",
   "execution_count": 58,
   "id": "fa828cf9",
   "metadata": {},
   "outputs": [],
   "source": [
    "import numpy as np\n",
    "import pandas as pd\n",
    "import matplotlib.pyplot as plt\n",
    "\n",
    "from sklearn import datasets"
   ]
  },
  {
   "cell_type": "markdown",
   "id": "960ac4cf",
   "metadata": {},
   "source": [
    "## 1. Data\n",
    "\n",
    "Let us consider a simple dataset with x1 and x2 denoting the input variables, and y denoting the classes."
   ]
  },
  {
   "cell_type": "code",
   "execution_count": 64,
   "id": "1ae8f25a",
   "metadata": {},
   "outputs": [],
   "source": [
    "df = pd.DataFrame({'x1': [0,0,1,1],\n",
    "                   'x2': [0,1,0,1],\n",
    "                   'y' : [0,1,1,1]})"
   ]
  },
  {
   "cell_type": "code",
   "execution_count": 65,
   "id": "1cdc2d94",
   "metadata": {},
   "outputs": [
    {
     "data": {
      "text/html": [
       "<div>\n",
       "<style scoped>\n",
       "    .dataframe tbody tr th:only-of-type {\n",
       "        vertical-align: middle;\n",
       "    }\n",
       "\n",
       "    .dataframe tbody tr th {\n",
       "        vertical-align: top;\n",
       "    }\n",
       "\n",
       "    .dataframe thead th {\n",
       "        text-align: right;\n",
       "    }\n",
       "</style>\n",
       "<table border=\"1\" class=\"dataframe\">\n",
       "  <thead>\n",
       "    <tr style=\"text-align: right;\">\n",
       "      <th></th>\n",
       "      <th>x1</th>\n",
       "      <th>x2</th>\n",
       "      <th>y</th>\n",
       "    </tr>\n",
       "  </thead>\n",
       "  <tbody>\n",
       "    <tr>\n",
       "      <th>0</th>\n",
       "      <td>0</td>\n",
       "      <td>0</td>\n",
       "      <td>0</td>\n",
       "    </tr>\n",
       "    <tr>\n",
       "      <th>1</th>\n",
       "      <td>0</td>\n",
       "      <td>1</td>\n",
       "      <td>1</td>\n",
       "    </tr>\n",
       "    <tr>\n",
       "      <th>2</th>\n",
       "      <td>1</td>\n",
       "      <td>0</td>\n",
       "      <td>1</td>\n",
       "    </tr>\n",
       "    <tr>\n",
       "      <th>3</th>\n",
       "      <td>1</td>\n",
       "      <td>1</td>\n",
       "      <td>1</td>\n",
       "    </tr>\n",
       "  </tbody>\n",
       "</table>\n",
       "</div>"
      ],
      "text/plain": [
       "   x1  x2  y\n",
       "0   0   0  0\n",
       "1   0   1  1\n",
       "2   1   0  1\n",
       "3   1   1  1"
      ]
     },
     "execution_count": 65,
     "metadata": {},
     "output_type": "execute_result"
    }
   ],
   "source": [
    "df"
   ]
  },
  {
   "cell_type": "markdown",
   "id": "d39a3d09",
   "metadata": {},
   "source": [
    "You can see that the above data resembles the output from an OR Gate, and is linearly separable"
   ]
  },
  {
   "cell_type": "code",
   "execution_count": 66,
   "id": "57b9ffc2",
   "metadata": {},
   "outputs": [
    {
     "data": {
      "text/plain": [
       "<matplotlib.collections.PathCollection at 0x19e2d86b220>"
      ]
     },
     "execution_count": 66,
     "metadata": {},
     "output_type": "execute_result"
    },
    {
     "data": {
      "image/png": "[encoded data removed]",
      "text/plain": [
       "<Figure size 432x288 with 1 Axes>"
      ]
     },
     "metadata": {
      "needs_background": "light"
     },
     "output_type": "display_data"
    }
   ],
   "source": [
    "plt.scatter(df['x1'], df['x2'], c = df['y'])"
   ]
  },
  {
   "cell_type": "markdown",
   "id": "659e1a9f",
   "metadata": {},
   "source": [
    "## 2.1 Training: Define number of epochs and learning rate"
   ]
  },
  {
   "cell_type": "code",
   "execution_count": 67,
   "id": "ccb63b74",
   "metadata": {},
   "outputs": [],
   "source": [
    "epochs = 100\n",
    "#Learning rate\n",
    "alpha = 0.01"
   ]
  },
  {
   "cell_type": "markdown",
   "id": "cfb8654a",
   "metadata": {},
   "source": [
    "## 2.2 Training: Initialize weights and biases\n",
    "We start with the weights and biases being equal to zeros"
   ]
  },
  {
   "cell_type": "code",
   "execution_count": 68,
   "id": "4711c430",
   "metadata": {},
   "outputs": [
    {
     "data": {
      "text/plain": [
       "array([0., 0.])"
      ]
     },
     "execution_count": 68,
     "metadata": {},
     "output_type": "execute_result"
    }
   ],
   "source": [
    "#Weights\n",
    "w = np.zeros(2)\n",
    "w"
   ]
  },
  {
   "cell_type": "code",
   "execution_count": 69,
   "id": "90faae6e",
   "metadata": {},
   "outputs": [
    {
     "data": {
      "text/plain": [
       "array([0.])"
      ]
     },
     "execution_count": 69,
     "metadata": {},
     "output_type": "execute_result"
    }
   ],
   "source": [
    "#Bias\n",
    "b = np.zeros(1)\n",
    "b"
   ]
  },
  {
   "cell_type": "markdown",
   "id": "5e09700d",
   "metadata": {},
   "source": [
    "## 2.3 Training: Forward Propogation\n",
    "\n",
    "In forward propogation, we determine the output of our perceptron model .i.e. $\\hat{y}$\n",
    "\n",
    "We will use the following function to gain the output of forward propogation"
   ]
  },
  {
   "cell_type": "code",
   "execution_count": 70,
   "id": "0d995fe6",
   "metadata": {},
   "outputs": [],
   "source": [
    "def forward_prop(row):\n",
    "    y_hat = np.dot(x[row], w) + b\n",
    "    \n",
    "    if y_hat > 0:\n",
    "        return 1\n",
    "    else:\n",
    "        return 0"
   ]
  },
  {
   "cell_type": "markdown",
   "id": "74943a11",
   "metadata": {},
   "source": [
    "## 2.4 Training: Backpropagation\n",
    "\n",
    "In this step, we will update the weights of our model using gradient descent.\n",
    "\n",
    "> $Cost_{RSS} = \\sum\\limits_{i=1}^{n}{(y_{actual} - \\hat{y})^2}$\n",
    "\n",
    "where _n_ : Number of rows in the dataset\n",
    "    \n",
    "> $\\hat{y} = w_{1}x_{1} + w_{2}x_{2} + b$\n",
    "\n",
    "__Partial Derivatives__\n",
    "\n",
    "Now, we want to see what the derivative of the cost function with respect to each of the variables (weights and bias).\n",
    "\n",
    "$$\n",
    "\\frac{\\partial Cost_{RSS}}{\\partial w_{1}} = ( y - x_{1}w_{1} + w_{2}x_{2} + b)x_{1} = (y - \\hat{y})x_{1}\n",
    "$$\n",
    "\n",
    "$$\\frac{\\partial Cost_{RSS}}{\\partial w_{2}} = (y - \\hat{y})x_{2}$$\n",
    "\n",
    "$$\\frac{\\partial Cost_{RSS}}{\\partial b} = (y - \\hat{y})$$"
   ]
  },
  {
   "cell_type": "markdown",
   "id": "0d3b8fcb",
   "metadata": {},
   "source": [
    "#### Update rules"
   ]
  },
  {
   "cell_type": "markdown",
   "id": "ee75e986",
   "metadata": {},
   "source": [
    "> $w_{1new} = w_{1old} + \\alpha \\frac{\\partial Cost_{RSS}}{\\partial w_{1}} = w_{1old} + \\alpha (y - \\hat{y})x_{1} $\n",
    "\n",
    "> $w_{2new} = w_{2old} + \\alpha \\frac{\\partial Cost_{RSS}}{\\partial w_{2}} = w_{2old} + \\alpha (y - \\hat{y})x_{2} $\n",
    "\n",
    "> $b_{new} = b_{old} + \\alpha \\frac{\\partial Cost_{RSS}}{\\partial b} = b_{old} + \\alpha (y - \\hat{y}) $"
   ]
  },
  {
   "cell_type": "code",
   "execution_count": 71,
   "id": "c89ede20",
   "metadata": {},
   "outputs": [],
   "source": [
    "def backward_prop(y_hat, row, w, b):\n",
    "    w[0]  = w[0] + alpha * (y[row] - y_hat) * x[row][0]\n",
    "    w[1]  = w[1] + alpha * (y[row] - y_hat) * x[row][1]\n",
    "    b     = b + alpha * (y[row] - y_hat)\n",
    "    \n",
    "    return w,b"
   ]
  },
  {
   "cell_type": "markdown",
   "id": "cfb8595f",
   "metadata": {},
   "source": [
    "## 2.5: Training the model\n",
    "\n",
    "Finally, we put together all the steps discussed earlier\n",
    "\n"
   ]
  },
  {
   "cell_type": "code",
   "execution_count": 72,
   "id": "16b998e2",
   "metadata": {},
   "outputs": [
    {
     "data": {
      "text/plain": [
       "array([[0, 0],\n",
       "       [0, 1],\n",
       "       [1, 0],\n",
       "       [1, 1]], dtype=int64)"
      ]
     },
     "execution_count": 72,
     "metadata": {},
     "output_type": "execute_result"
    }
   ],
   "source": [
    "#Input\n",
    "x = df[['x1', 'x2']].to_numpy()\n",
    "x"
   ]
  },
  {
   "cell_type": "code",
   "execution_count": 73,
   "id": "aacbba2b",
   "metadata": {},
   "outputs": [
    {
     "data": {
      "text/plain": [
       "array([0, 1, 1, 1], dtype=int64)"
      ]
     },
     "execution_count": 73,
     "metadata": {},
     "output_type": "execute_result"
    }
   ],
   "source": [
    "y = np.array(df['y'])\n",
    "y"
   ]
  },
  {
   "cell_type": "code",
   "execution_count": 74,
   "id": "834e6a45",
   "metadata": {},
   "outputs": [
    {
     "name": "stdout",
     "output_type": "stream",
     "text": [
      "[0. 0.] [0.]\n",
      "[0.   0.01] [0.]\n",
      "[0.01 0.01] [0.]\n",
      "[0.01 0.01] [0.]\n",
      "[0.01 0.01] [0.]\n",
      "[0.01 0.01] [0.]\n",
      "[0.01 0.01] [0.]\n",
      "[0.01 0.01] [0.]\n",
      "[0.01 0.01] [0.]\n",
      "[0.01 0.01] [0.]\n",
      "[0.01 0.01] [0.]\n",
      "[0.01 0.01] [0.]\n",
      "[0.01 0.01] [0.]\n",
      "[0.01 0.01] [0.]\n",
      "[0.01 0.01] [0.]\n",
      "[0.01 0.01] [0.]\n",
      "[0.01 0.01] [0.]\n",
      "[0.01 0.01] [0.]\n",
      "[0.01 0.01] [0.]\n",
      "[0.01 0.01] [0.]\n",
      "[0.01 0.01] [0.]\n",
      "[0.01 0.01] [0.]\n",
      "[0.01 0.01] [0.]\n",
      "[0.01 0.01] [0.]\n",
      "[0.01 0.01] [0.]\n",
      "[0.01 0.01] [0.]\n",
      "[0.01 0.01] [0.]\n",
      "[0.01 0.01] [0.]\n",
      "[0.01 0.01] [0.]\n",
      "[0.01 0.01] [0.]\n",
      "[0.01 0.01] [0.]\n",
      "[0.01 0.01] [0.]\n",
      "[0.01 0.01] [0.]\n",
      "[0.01 0.01] [0.]\n",
      "[0.01 0.01] [0.]\n",
      "[0.01 0.01] [0.]\n",
      "[0.01 0.01] [0.]\n",
      "[0.01 0.01] [0.]\n",
      "[0.01 0.01] [0.]\n",
      "[0.01 0.01] [0.]\n",
      "[0.01 0.01] [0.]\n",
      "[0.01 0.01] [0.]\n",
      "[0.01 0.01] [0.]\n",
      "[0.01 0.01] [0.]\n",
      "[0.01 0.01] [0.]\n",
      "[0.01 0.01] [0.]\n",
      "[0.01 0.01] [0.]\n",
      "[0.01 0.01] [0.]\n",
      "[0.01 0.01] [0.]\n",
      "[0.01 0.01] [0.]\n",
      "[0.01 0.01] [0.]\n",
      "[0.01 0.01] [0.]\n",
      "[0.01 0.01] [0.]\n",
      "[0.01 0.01] [0.]\n",
      "[0.01 0.01] [0.]\n",
      "[0.01 0.01] [0.]\n",
      "[0.01 0.01] [0.]\n",
      "[0.01 0.01] [0.]\n",
      "[0.01 0.01] [0.]\n",
      "[0.01 0.01] [0.]\n",
      "[0.01 0.01] [0.]\n",
      "[0.01 0.01] [0.]\n",
      "[0.01 0.01] [0.]\n",
      "[0.01 0.01] [0.]\n",
      "[0.01 0.01] [0.]\n",
      "[0.01 0.01] [0.]\n",
      "[0.01 0.01] [0.]\n",
      "[0.01 0.01] [0.]\n",
      "[0.01 0.01] [0.]\n",
      "[0.01 0.01] [0.]\n",
      "[0.01 0.01] [0.]\n",
      "[0.01 0.01] [0.]\n",
      "[0.01 0.01] [0.]\n",
      "[0.01 0.01] [0.]\n",
      "[0.01 0.01] [0.]\n",
      "[0.01 0.01] [0.]\n",
      "[0.01 0.01] [0.]\n",
      "[0.01 0.01] [0.]\n",
      "[0.01 0.01] [0.]\n",
      "[0.01 0.01] [0.]\n",
      "[0.01 0.01] [0.]\n",
      "[0.01 0.01] [0.]\n",
      "[0.01 0.01] [0.]\n",
      "[0.01 0.01] [0.]\n",
      "[0.01 0.01] [0.]\n",
      "[0.01 0.01] [0.]\n",
      "[0.01 0.01] [0.]\n",
      "[0.01 0.01] [0.]\n",
      "[0.01 0.01] [0.]\n",
      "[0.01 0.01] [0.]\n",
      "[0.01 0.01] [0.]\n",
      "[0.01 0.01] [0.]\n",
      "[0.01 0.01] [0.]\n",
      "[0.01 0.01] [0.]\n",
      "[0.01 0.01] [0.]\n",
      "[0.01 0.01] [0.]\n",
      "[0.01 0.01] [0.]\n",
      "[0.01 0.01] [0.]\n",
      "[0.01 0.01] [0.]\n",
      "[0.01 0.01] [0.]\n",
      "[0.01 0.01] [0.]\n",
      "[0.01 0.01] [0.]\n",
      "[0.01 0.01] [0.]\n",
      "[0.01 0.01] [0.]\n",
      "[0.01 0.01] [0.]\n",
      "[0.01 0.01] [0.]\n",
      "[0.01 0.01] [0.]\n",
      "[0.01 0.01] [0.]\n",
      "[0.01 0.01] [0.]\n",
      "[0.01 0.01] [0.]\n",
      "[0.01 0.01] [0.]\n",
      "[0.01 0.01] [0.]\n",
      "[0.01 0.01] [0.]\n",
      "[0.01 0.01] [0.]\n",
      "[0.01 0.01] [0.]\n",
      "[0.01 0.01] [0.]\n",
      "[0.01 0.01] [0.]\n",
      "[0.01 0.01] [0.]\n",
      "[0.01 0.01] [0.]\n",
      "[0.01 0.01] [0.]\n",
      "[0.01 0.01] [0.]\n",
      "[0.01 0.01] [0.]\n",
      "[0.01 0.01] [0.]\n",
      "[0.01 0.01] [0.]\n",
      "[0.01 0.01] [0.]\n",
      "[0.01 0.01] [0.]\n",
      "[0.01 0.01] [0.]\n",
      "[0.01 0.01] [0.]\n",
      "[0.01 0.01] [0.]\n",
      "[0.01 0.01] [0.]\n",
      "[0.01 0.01] [0.]\n",
      "[0.01 0.01] [0.]\n",
      "[0.01 0.01] [0.]\n",
      "[0.01 0.01] [0.]\n",
      "[0.01 0.01] [0.]\n",
      "[0.01 0.01] [0.]\n",
      "[0.01 0.01] [0.]\n",
      "[0.01 0.01] [0.]\n",
      "[0.01 0.01] [0.]\n",
      "[0.01 0.01] [0.]\n",
      "[0.01 0.01] [0.]\n",
      "[0.01 0.01] [0.]\n",
      "[0.01 0.01] [0.]\n",
      "[0.01 0.01] [0.]\n",
      "[0.01 0.01] [0.]\n",
      "[0.01 0.01] [0.]\n",
      "[0.01 0.01] [0.]\n",
      "[0.01 0.01] [0.]\n",
      "[0.01 0.01] [0.]\n",
      "[0.01 0.01] [0.]\n",
      "[0.01 0.01] [0.]\n",
      "[0.01 0.01] [0.]\n",
      "[0.01 0.01] [0.]\n",
      "[0.01 0.01] [0.]\n",
      "[0.01 0.01] [0.]\n",
      "[0.01 0.01] [0.]\n",
      "[0.01 0.01] [0.]\n",
      "[0.01 0.01] [0.]\n",
      "[0.01 0.01] [0.]\n",
      "[0.01 0.01] [0.]\n",
      "[0.01 0.01] [0.]\n",
      "[0.01 0.01] [0.]\n",
      "[0.01 0.01] [0.]\n",
      "[0.01 0.01] [0.]\n",
      "[0.01 0.01] [0.]\n",
      "[0.01 0.01] [0.]\n",
      "[0.01 0.01] [0.]\n",
      "[0.01 0.01] [0.]\n",
      "[0.01 0.01] [0.]\n",
      "[0.01 0.01] [0.]\n",
      "[0.01 0.01] [0.]\n",
      "[0.01 0.01] [0.]\n",
      "[0.01 0.01] [0.]\n",
      "[0.01 0.01] [0.]\n",
      "[0.01 0.01] [0.]\n",
      "[0.01 0.01] [0.]\n",
      "[0.01 0.01] [0.]\n",
      "[0.01 0.01] [0.]\n",
      "[0.01 0.01] [0.]\n",
      "[0.01 0.01] [0.]\n",
      "[0.01 0.01] [0.]\n",
      "[0.01 0.01] [0.]\n",
      "[0.01 0.01] [0.]\n",
      "[0.01 0.01] [0.]\n",
      "[0.01 0.01] [0.]\n",
      "[0.01 0.01] [0.]\n",
      "[0.01 0.01] [0.]\n",
      "[0.01 0.01] [0.]\n",
      "[0.01 0.01] [0.]\n",
      "[0.01 0.01] [0.]\n",
      "[0.01 0.01] [0.]\n",
      "[0.01 0.01] [0.]\n",
      "[0.01 0.01] [0.]\n",
      "[0.01 0.01] [0.]\n",
      "[0.01 0.01] [0.]\n",
      "[0.01 0.01] [0.]\n",
      "[0.01 0.01] [0.]\n",
      "[0.01 0.01] [0.]\n",
      "[0.01 0.01] [0.]\n",
      "[0.01 0.01] [0.]\n",
      "[0.01 0.01] [0.]\n",
      "[0.01 0.01] [0.]\n",
      "[0.01 0.01] [0.]\n",
      "[0.01 0.01] [0.]\n",
      "[0.01 0.01] [0.]\n",
      "[0.01 0.01] [0.]\n",
      "[0.01 0.01] [0.]\n",
      "[0.01 0.01] [0.]\n",
      "[0.01 0.01] [0.]\n",
      "[0.01 0.01] [0.]\n",
      "[0.01 0.01] [0.]\n",
      "[0.01 0.01] [0.]\n",
      "[0.01 0.01] [0.]\n",
      "[0.01 0.01] [0.]\n",
      "[0.01 0.01] [0.]\n",
      "[0.01 0.01] [0.]\n",
      "[0.01 0.01] [0.]\n",
      "[0.01 0.01] [0.]\n",
      "[0.01 0.01] [0.]\n",
      "[0.01 0.01] [0.]\n",
      "[0.01 0.01] [0.]\n",
      "[0.01 0.01] [0.]\n",
      "[0.01 0.01] [0.]\n",
      "[0.01 0.01] [0.]\n",
      "[0.01 0.01] [0.]\n",
      "[0.01 0.01] [0.]\n",
      "[0.01 0.01] [0.]\n",
      "[0.01 0.01] [0.]\n",
      "[0.01 0.01] [0.]\n",
      "[0.01 0.01] [0.]\n",
      "[0.01 0.01] [0.]\n",
      "[0.01 0.01] [0.]\n",
      "[0.01 0.01] [0.]\n",
      "[0.01 0.01] [0.]\n",
      "[0.01 0.01] [0.]\n",
      "[0.01 0.01] [0.]\n",
      "[0.01 0.01] [0.]\n",
      "[0.01 0.01] [0.]\n",
      "[0.01 0.01] [0.]\n",
      "[0.01 0.01] [0.]\n",
      "[0.01 0.01] [0.]\n",
      "[0.01 0.01] [0.]\n",
      "[0.01 0.01] [0.]\n",
      "[0.01 0.01] [0.]\n",
      "[0.01 0.01] [0.]\n",
      "[0.01 0.01] [0.]\n",
      "[0.01 0.01] [0.]\n",
      "[0.01 0.01] [0.]\n",
      "[0.01 0.01] [0.]\n",
      "[0.01 0.01] [0.]\n",
      "[0.01 0.01] [0.]\n",
      "[0.01 0.01] [0.]\n",
      "[0.01 0.01] [0.]\n",
      "[0.01 0.01] [0.]\n",
      "[0.01 0.01] [0.]\n",
      "[0.01 0.01] [0.]\n",
      "[0.01 0.01] [0.]\n",
      "[0.01 0.01] [0.]\n",
      "[0.01 0.01] [0.]\n",
      "[0.01 0.01] [0.]\n",
      "[0.01 0.01] [0.]\n",
      "[0.01 0.01] [0.]\n",
      "[0.01 0.01] [0.]\n",
      "[0.01 0.01] [0.]\n",
      "[0.01 0.01] [0.]\n",
      "[0.01 0.01] [0.]\n",
      "[0.01 0.01] [0.]\n",
      "[0.01 0.01] [0.]\n",
      "[0.01 0.01] [0.]\n",
      "[0.01 0.01] [0.]\n",
      "[0.01 0.01] [0.]\n",
      "[0.01 0.01] [0.]\n",
      "[0.01 0.01] [0.]\n",
      "[0.01 0.01] [0.]\n",
      "[0.01 0.01] [0.]\n",
      "[0.01 0.01] [0.]\n",
      "[0.01 0.01] [0.]\n",
      "[0.01 0.01] [0.]\n",
      "[0.01 0.01] [0.]\n",
      "[0.01 0.01] [0.]\n",
      "[0.01 0.01] [0.]\n",
      "[0.01 0.01] [0.]\n",
      "[0.01 0.01] [0.]\n",
      "[0.01 0.01] [0.]\n",
      "[0.01 0.01] [0.]\n",
      "[0.01 0.01] [0.]\n",
      "[0.01 0.01] [0.]\n",
      "[0.01 0.01] [0.]\n",
      "[0.01 0.01] [0.]\n",
      "[0.01 0.01] [0.]\n",
      "[0.01 0.01] [0.]\n",
      "[0.01 0.01] [0.]\n",
      "[0.01 0.01] [0.]\n",
      "[0.01 0.01] [0.]\n",
      "[0.01 0.01] [0.]\n",
      "[0.01 0.01] [0.]\n",
      "[0.01 0.01] [0.]\n",
      "[0.01 0.01] [0.]\n",
      "[0.01 0.01] [0.]\n",
      "[0.01 0.01] [0.]\n",
      "[0.01 0.01] [0.]\n",
      "[0.01 0.01] [0.]\n",
      "[0.01 0.01] [0.]\n",
      "[0.01 0.01] [0.]\n",
      "[0.01 0.01] [0.]\n",
      "[0.01 0.01] [0.]\n",
      "[0.01 0.01] [0.]\n",
      "[0.01 0.01] [0.]\n",
      "[0.01 0.01] [0.]\n",
      "[0.01 0.01] [0.]\n",
      "[0.01 0.01] [0.]\n",
      "[0.01 0.01] [0.]\n",
      "[0.01 0.01] [0.]\n",
      "[0.01 0.01] [0.]\n",
      "[0.01 0.01] [0.]\n",
      "[0.01 0.01] [0.]\n",
      "[0.01 0.01] [0.]\n",
      "[0.01 0.01] [0.]\n",
      "[0.01 0.01] [0.]\n",
      "[0.01 0.01] [0.]\n",
      "[0.01 0.01] [0.]\n",
      "[0.01 0.01] [0.]\n",
      "[0.01 0.01] [0.]\n",
      "[0.01 0.01] [0.]\n",
      "[0.01 0.01] [0.]\n",
      "[0.01 0.01] [0.]\n",
      "[0.01 0.01] [0.]\n",
      "[0.01 0.01] [0.]\n",
      "[0.01 0.01] [0.]\n",
      "[0.01 0.01] [0.]\n",
      "[0.01 0.01] [0.]\n",
      "[0.01 0.01] [0.]\n",
      "[0.01 0.01] [0.]\n",
      "[0.01 0.01] [0.]\n",
      "[0.01 0.01] [0.]\n",
      "[0.01 0.01] [0.]\n",
      "[0.01 0.01] [0.]\n",
      "[0.01 0.01] [0.]\n",
      "[0.01 0.01] [0.]\n",
      "[0.01 0.01] [0.]\n",
      "[0.01 0.01] [0.]\n",
      "[0.01 0.01] [0.]\n",
      "[0.01 0.01] [0.]\n",
      "[0.01 0.01] [0.]\n",
      "[0.01 0.01] [0.]\n",
      "[0.01 0.01] [0.]\n",
      "[0.01 0.01] [0.]\n",
      "[0.01 0.01] [0.]\n",
      "[0.01 0.01] [0.]\n",
      "[0.01 0.01] [0.]\n",
      "[0.01 0.01] [0.]\n",
      "[0.01 0.01] [0.]\n",
      "[0.01 0.01] [0.]\n",
      "[0.01 0.01] [0.]\n",
      "[0.01 0.01] [0.]\n",
      "[0.01 0.01] [0.]\n",
      "[0.01 0.01] [0.]\n",
      "[0.01 0.01] [0.]\n",
      "[0.01 0.01] [0.]\n",
      "[0.01 0.01] [0.]\n",
      "[0.01 0.01] [0.]\n",
      "[0.01 0.01] [0.]\n",
      "[0.01 0.01] [0.]\n",
      "[0.01 0.01] [0.]\n",
      "[0.01 0.01] [0.]\n",
      "[0.01 0.01] [0.]\n",
      "[0.01 0.01] [0.]\n",
      "[0.01 0.01] [0.]\n",
      "[0.01 0.01] [0.]\n",
      "[0.01 0.01] [0.]\n",
      "[0.01 0.01] [0.]\n",
      "[0.01 0.01] [0.]\n",
      "[0.01 0.01] [0.]\n",
      "[0.01 0.01] [0.]\n",
      "[0.01 0.01] [0.]\n",
      "[0.01 0.01] [0.]\n",
      "[0.01 0.01] [0.]\n",
      "[0.01 0.01] [0.]\n",
      "[0.01 0.01] [0.]\n",
      "[0.01 0.01] [0.]\n",
      "[0.01 0.01] [0.]\n",
      "[0.01 0.01] [0.]\n",
      "[0.01 0.01] [0.]\n",
      "[0.01 0.01] [0.]\n",
      "[0.01 0.01] [0.]\n",
      "[0.01 0.01] [0.]\n",
      "[0.01 0.01] [0.]\n",
      "[0.01 0.01] [0.]\n",
      "[0.01 0.01] [0.]\n",
      "[0.01 0.01] [0.]\n",
      "[0.01 0.01] [0.]\n",
      "[0.01 0.01] [0.]\n",
      "[0.01 0.01] [0.]\n",
      "[0.01 0.01] [0.]\n",
      "[0.01 0.01] [0.]\n",
      "[0.01 0.01] [0.]\n",
      "[0.01 0.01] [0.]\n",
      "[0.01 0.01] [0.]\n",
      "[0.01 0.01] [0.]\n",
      "[0.01 0.01] [0.]\n"
     ]
    }
   ],
   "source": [
    "for epoch in range(epochs) :\n",
    "     \n",
    "    # for each row in x (cycle through the dataset)\n",
    "    for row in range(x.shape[0]) :\n",
    "         \n",
    "        # for each row in x, predict y_hat\n",
    "        y_hat = forward_prop(row)\n",
    " \n",
    "        # for each row calculate weights\n",
    "        backward_prop(y_hat,row, w, b)\n",
    " \n",
    "        print (w, b)"
   ]
  },
  {
   "cell_type": "markdown",
   "id": "21b9104b",
   "metadata": {},
   "source": [
    "## 3.1 Gain predictions on test data\n",
    "\n",
    "We shall create a function that takes the test data as input, and returns an array of predictions from our trained Perceptron model as output"
   ]
  },
  {
   "cell_type": "code",
   "execution_count": 75,
   "id": "45a5aee2",
   "metadata": {},
   "outputs": [],
   "source": [
    "def predict(x) :\n",
    "    y = []\n",
    "     \n",
    "    #Compute predictions (y_hat).\n",
    "    for row in x :\n",
    "         \n",
    "        # weighted sum\n",
    "        y_pred = np.dot(row,w) + b\n",
    "         \n",
    "        #activation function.\n",
    "        if y_pred > 0 :\n",
    "            y_pred = 1\n",
    "        else :\n",
    "            y_pred = 0\n",
    "             \n",
    "        # append the predicted y (y_hat)to an array\n",
    "        y.append(y_pred)\n",
    "         \n",
    "    # return the predicted array of y_hat for test data\n",
    "    return y"
   ]
  },
  {
   "cell_type": "markdown",
   "id": "4d7b2e65",
   "metadata": {},
   "source": [
    "Let us test our model by providing the array x defined earlier as input. If the model runs correctly, the y_hat values will be the same as the array y defined earlier"
   ]
  },
  {
   "cell_type": "code",
   "execution_count": 76,
   "id": "3a6122a4",
   "metadata": {},
   "outputs": [
    {
     "data": {
      "text/plain": [
       "array([[0, 0],\n",
       "       [0, 1],\n",
       "       [1, 0],\n",
       "       [1, 1]], dtype=int64)"
      ]
     },
     "execution_count": 76,
     "metadata": {},
     "output_type": "execute_result"
    }
   ],
   "source": [
    "x = df[['x1','x2']].to_numpy()\n",
    "x"
   ]
  },
  {
   "cell_type": "code",
   "execution_count": 77,
   "id": "363ea0b4",
   "metadata": {},
   "outputs": [
    {
     "data": {
      "text/plain": [
       "array([0, 1, 1, 1], dtype=int64)"
      ]
     },
     "execution_count": 77,
     "metadata": {},
     "output_type": "execute_result"
    }
   ],
   "source": [
    "#Actual y\n",
    "y = np.array(df['y'])\n",
    "y"
   ]
  },
  {
   "cell_type": "code",
   "execution_count": 78,
   "id": "60037e99",
   "metadata": {},
   "outputs": [
    {
     "data": {
      "text/plain": [
       "[0, 1, 1, 1]"
      ]
     },
     "execution_count": 78,
     "metadata": {},
     "output_type": "execute_result"
    }
   ],
   "source": [
    "# Y_hat\n",
    "predict(x)"
   ]
  },
  {
   "cell_type": "markdown",
   "id": "7f171bc7",
   "metadata": {},
   "source": [
    "The y_hat values are the same as the actual values, so our model has been trained correctly"
   ]
  },
  {
   "cell_type": "markdown",
   "id": "566b60d8",
   "metadata": {},
   "source": [
    "***\n",
    "# Example Using Iris Dataset\n",
    "\n",
    "We shall test the accuracy of Perceptron model for a subset of the Iris dataset."
   ]
  },
  {
   "cell_type": "code",
   "execution_count": 79,
   "id": "da79fec4",
   "metadata": {},
   "outputs": [],
   "source": [
    "from sklearn import datasets\n",
    " \n",
    "iris = datasets.load_iris()\n",
    "\n",
    "df = pd.DataFrame(data=iris.data, columns=iris.feature_names)"
   ]
  },
  {
   "cell_type": "code",
   "execution_count": 80,
   "id": "9d39ea90",
   "metadata": {},
   "outputs": [
    {
     "data": {
      "text/html": [
       "<div>\n",
       "<style scoped>\n",
       "    .dataframe tbody tr th:only-of-type {\n",
       "        vertical-align: middle;\n",
       "    }\n",
       "\n",
       "    .dataframe tbody tr th {\n",
       "        vertical-align: top;\n",
       "    }\n",
       "\n",
       "    .dataframe thead th {\n",
       "        text-align: right;\n",
       "    }\n",
       "</style>\n",
       "<table border=\"1\" class=\"dataframe\">\n",
       "  <thead>\n",
       "    <tr style=\"text-align: right;\">\n",
       "      <th></th>\n",
       "      <th>sepal length (cm)</th>\n",
       "      <th>sepal width (cm)</th>\n",
       "      <th>petal length (cm)</th>\n",
       "      <th>petal width (cm)</th>\n",
       "    </tr>\n",
       "  </thead>\n",
       "  <tbody>\n",
       "    <tr>\n",
       "      <th>0</th>\n",
       "      <td>5.1</td>\n",
       "      <td>3.5</td>\n",
       "      <td>1.4</td>\n",
       "      <td>0.2</td>\n",
       "    </tr>\n",
       "    <tr>\n",
       "      <th>1</th>\n",
       "      <td>4.9</td>\n",
       "      <td>3.0</td>\n",
       "      <td>1.4</td>\n",
       "      <td>0.2</td>\n",
       "    </tr>\n",
       "    <tr>\n",
       "      <th>2</th>\n",
       "      <td>4.7</td>\n",
       "      <td>3.2</td>\n",
       "      <td>1.3</td>\n",
       "      <td>0.2</td>\n",
       "    </tr>\n",
       "    <tr>\n",
       "      <th>3</th>\n",
       "      <td>4.6</td>\n",
       "      <td>3.1</td>\n",
       "      <td>1.5</td>\n",
       "      <td>0.2</td>\n",
       "    </tr>\n",
       "    <tr>\n",
       "      <th>4</th>\n",
       "      <td>5.0</td>\n",
       "      <td>3.6</td>\n",
       "      <td>1.4</td>\n",
       "      <td>0.2</td>\n",
       "    </tr>\n",
       "    <tr>\n",
       "      <th>...</th>\n",
       "      <td>...</td>\n",
       "      <td>...</td>\n",
       "      <td>...</td>\n",
       "      <td>...</td>\n",
       "    </tr>\n",
       "    <tr>\n",
       "      <th>145</th>\n",
       "      <td>6.7</td>\n",
       "      <td>3.0</td>\n",
       "      <td>5.2</td>\n",
       "      <td>2.3</td>\n",
       "    </tr>\n",
       "    <tr>\n",
       "      <th>146</th>\n",
       "      <td>6.3</td>\n",
       "      <td>2.5</td>\n",
       "      <td>5.0</td>\n",
       "      <td>1.9</td>\n",
       "    </tr>\n",
       "    <tr>\n",
       "      <th>147</th>\n",
       "      <td>6.5</td>\n",
       "      <td>3.0</td>\n",
       "      <td>5.2</td>\n",
       "      <td>2.0</td>\n",
       "    </tr>\n",
       "    <tr>\n",
       "      <th>148</th>\n",
       "      <td>6.2</td>\n",
       "      <td>3.4</td>\n",
       "      <td>5.4</td>\n",
       "      <td>2.3</td>\n",
       "    </tr>\n",
       "    <tr>\n",
       "      <th>149</th>\n",
       "      <td>5.9</td>\n",
       "      <td>3.0</td>\n",
       "      <td>5.1</td>\n",
       "      <td>1.8</td>\n",
       "    </tr>\n",
       "  </tbody>\n",
       "</table>\n",
       "<p>150 rows × 4 columns</p>\n",
       "</div>"
      ],
      "text/plain": [
       "     sepal length (cm)  sepal width (cm)  petal length (cm)  petal width (cm)\n",
       "0                  5.1               3.5                1.4               0.2\n",
       "1                  4.9               3.0                1.4               0.2\n",
       "2                  4.7               3.2                1.3               0.2\n",
       "3                  4.6               3.1                1.5               0.2\n",
       "4                  5.0               3.6                1.4               0.2\n",
       "..                 ...               ...                ...               ...\n",
       "145                6.7               3.0                5.2               2.3\n",
       "146                6.3               2.5                5.0               1.9\n",
       "147                6.5               3.0                5.2               2.0\n",
       "148                6.2               3.4                5.4               2.3\n",
       "149                5.9               3.0                5.1               1.8\n",
       "\n",
       "[150 rows x 4 columns]"
      ]
     },
     "execution_count": 80,
     "metadata": {},
     "output_type": "execute_result"
    }
   ],
   "source": [
    "df"
   ]
  },
  {
   "cell_type": "markdown",
   "id": "72225a50",
   "metadata": {},
   "source": [
    "Store the first 100 values of sepal length and sepal width in x"
   ]
  },
  {
   "cell_type": "code",
   "execution_count": 81,
   "id": "99e8ed4b",
   "metadata": {},
   "outputs": [
    {
     "data": {
      "text/html": [
       "<div>\n",
       "<style scoped>\n",
       "    .dataframe tbody tr th:only-of-type {\n",
       "        vertical-align: middle;\n",
       "    }\n",
       "\n",
       "    .dataframe tbody tr th {\n",
       "        vertical-align: top;\n",
       "    }\n",
       "\n",
       "    .dataframe thead th {\n",
       "        text-align: right;\n",
       "    }\n",
       "</style>\n",
       "<table border=\"1\" class=\"dataframe\">\n",
       "  <thead>\n",
       "    <tr style=\"text-align: right;\">\n",
       "      <th></th>\n",
       "      <th>sepal length (cm)</th>\n",
       "      <th>sepal width (cm)</th>\n",
       "    </tr>\n",
       "  </thead>\n",
       "  <tbody>\n",
       "    <tr>\n",
       "      <th>0</th>\n",
       "      <td>5.1</td>\n",
       "      <td>3.5</td>\n",
       "    </tr>\n",
       "    <tr>\n",
       "      <th>1</th>\n",
       "      <td>4.9</td>\n",
       "      <td>3.0</td>\n",
       "    </tr>\n",
       "    <tr>\n",
       "      <th>2</th>\n",
       "      <td>4.7</td>\n",
       "      <td>3.2</td>\n",
       "    </tr>\n",
       "    <tr>\n",
       "      <th>3</th>\n",
       "      <td>4.6</td>\n",
       "      <td>3.1</td>\n",
       "    </tr>\n",
       "    <tr>\n",
       "      <th>4</th>\n",
       "      <td>5.0</td>\n",
       "      <td>3.6</td>\n",
       "    </tr>\n",
       "    <tr>\n",
       "      <th>...</th>\n",
       "      <td>...</td>\n",
       "      <td>...</td>\n",
       "    </tr>\n",
       "    <tr>\n",
       "      <th>95</th>\n",
       "      <td>5.7</td>\n",
       "      <td>3.0</td>\n",
       "    </tr>\n",
       "    <tr>\n",
       "      <th>96</th>\n",
       "      <td>5.7</td>\n",
       "      <td>2.9</td>\n",
       "    </tr>\n",
       "    <tr>\n",
       "      <th>97</th>\n",
       "      <td>6.2</td>\n",
       "      <td>2.9</td>\n",
       "    </tr>\n",
       "    <tr>\n",
       "      <th>98</th>\n",
       "      <td>5.1</td>\n",
       "      <td>2.5</td>\n",
       "    </tr>\n",
       "    <tr>\n",
       "      <th>99</th>\n",
       "      <td>5.7</td>\n",
       "      <td>2.8</td>\n",
       "    </tr>\n",
       "  </tbody>\n",
       "</table>\n",
       "<p>100 rows × 2 columns</p>\n",
       "</div>"
      ],
      "text/plain": [
       "    sepal length (cm)  sepal width (cm)\n",
       "0                 5.1               3.5\n",
       "1                 4.9               3.0\n",
       "2                 4.7               3.2\n",
       "3                 4.6               3.1\n",
       "4                 5.0               3.6\n",
       "..                ...               ...\n",
       "95                5.7               3.0\n",
       "96                5.7               2.9\n",
       "97                6.2               2.9\n",
       "98                5.1               2.5\n",
       "99                5.7               2.8\n",
       "\n",
       "[100 rows x 2 columns]"
      ]
     },
     "execution_count": 81,
     "metadata": {},
     "output_type": "execute_result"
    }
   ],
   "source": [
    "# ( sepal length and width )\n",
    "x = df.iloc[0:100,0:2]\n",
    "x"
   ]
  },
  {
   "cell_type": "markdown",
   "id": "5064af28",
   "metadata": {},
   "source": [
    "Store the first 100 values of the target column in y\n",
    "\n",
    "\n",
    "> 0 implies species is Setosa\n",
    "\n",
    "> 1 implies species is Versicolor"
   ]
  },
  {
   "cell_type": "code",
   "execution_count": 82,
   "id": "399b6ff5",
   "metadata": {},
   "outputs": [
    {
     "data": {
      "text/plain": [
       "array([0, 0, 0, 0, 0, 0, 0, 0, 0, 0, 0, 0, 0, 0, 0, 0, 0, 0, 0, 0, 0, 0,\n",
       "       0, 0, 0, 0, 0, 0, 0, 0, 0, 0, 0, 0, 0, 0, 0, 0, 0, 0, 0, 0, 0, 0,\n",
       "       0, 0, 0, 0, 0, 0, 1, 1, 1, 1, 1, 1, 1, 1, 1, 1, 1, 1, 1, 1, 1, 1,\n",
       "       1, 1, 1, 1, 1, 1, 1, 1, 1, 1, 1, 1, 1, 1, 1, 1, 1, 1, 1, 1, 1, 1,\n",
       "       1, 1, 1, 1, 1, 1, 1, 1, 1, 1, 1, 1])"
      ]
     },
     "execution_count": 82,
     "metadata": {},
     "output_type": "execute_result"
    }
   ],
   "source": [
    "# iris species data\n",
    "y = iris.target[0:100]\n",
    "y"
   ]
  },
  {
   "cell_type": "code",
   "execution_count": 83,
   "id": "4330d36a",
   "metadata": {},
   "outputs": [
    {
     "data": {
      "text/plain": [
       "Text(0.5, 1.0, 'Iris species - Setosa, Versicolor')"
      ]
     },
     "execution_count": 83,
     "metadata": {},
     "output_type": "execute_result"
    },
    {
     "data": {
      "image/png": "[encoded data removed]",
      "text/plain": [
       "<Figure size 432x288 with 1 Axes>"
      ]
     },
     "metadata": {
      "needs_background": "light"
     },
     "output_type": "display_data"
    }
   ],
   "source": [
    "plt.scatter(x.iloc[:,0],x.iloc[:,1], c = y)\n",
    "\n",
    "plt.xlabel(\"sepal length\")\n",
    "plt.ylabel(\"sepal width\")\n",
    "plt.title(\"Iris species - Setosa, Versicolor\")"
   ]
  },
  {
   "cell_type": "markdown",
   "id": "aa60f6c1",
   "metadata": {},
   "source": [
    "## Training the Perceptron for iris data"
   ]
  },
  {
   "cell_type": "code",
   "execution_count": 86,
   "id": "d33ea124",
   "metadata": {},
   "outputs": [],
   "source": [
    "def forward_prop(row):\n",
    "    y_hat = np.dot(x.iloc[row], w) + b\n",
    "    \n",
    "    if y_hat > 0:\n",
    "        return 1\n",
    "    else:\n",
    "        return 0"
   ]
  },
  {
   "cell_type": "code",
   "execution_count": 87,
   "id": "d27c9f49",
   "metadata": {},
   "outputs": [],
   "source": [
    "def backward_prop(y_hat, row, w, b):\n",
    "    w[0]  = w[0] + alpha * (y[row] - y_hat) * x.iloc[row][0]\n",
    "    w[1]  = w[1] + alpha * (y[row] - y_hat) * x.iloc[row][1]\n",
    "    b     = b + alpha * (y[row] - y_hat)\n",
    "    \n",
    "    return w,b"
   ]
  },
  {
   "cell_type": "code",
   "execution_count": 88,
   "id": "ee8459a8",
   "metadata": {},
   "outputs": [
    {
     "name": "stdout",
     "output_type": "stream",
     "text": [
      "[ 0.75872164 -1.29332867] -0.010499062797233255\n"
     ]
    }
   ],
   "source": [
    "#Initialize weights \n",
    "w = np.random.normal(size=2)\n",
    "b = np.random.normal()\n",
    " \n",
    "# learning rate\n",
    "alpha = 0.01\n",
    " \n",
    "# number of epochs\n",
    "for epoch in range(1000) :\n",
    "     \n",
    "    # for each row in x\n",
    "    for row in range(x.shape[0]) :\n",
    "         \n",
    "        # for each row in x, predict y_hat\n",
    "        y_hat = forward_prop(row)\n",
    "        # for each row calculate weights\n",
    "        backward_prop(y_hat,row, w, b)\n",
    "print(w,b)        "
   ]
  },
  {
   "cell_type": "code",
   "execution_count": 89,
   "id": "e66ad70b",
   "metadata": {},
   "outputs": [],
   "source": [
    "y_pred = predict(np.array(x))"
   ]
  },
  {
   "cell_type": "code",
   "execution_count": 90,
   "id": "7d1204e4",
   "metadata": {},
   "outputs": [
    {
     "data": {
      "text/plain": [
       "0.99"
      ]
     },
     "execution_count": 90,
     "metadata": {},
     "output_type": "execute_result"
    }
   ],
   "source": [
    "from sklearn.metrics import accuracy_score\n",
    "\n",
    "accuracy_score(y,y_pred)"
   ]
  },
  {
   "cell_type": "code",
   "execution_count": null,
   "id": "53087535",
   "metadata": {},
   "outputs": [],
   "source": []
  },
  {
   "cell_type": "code",
   "execution_count": null,
   "id": "7d8f95a4",
   "metadata": {},
   "outputs": [],
   "source": []
  }
 ],
 "metadata": {
  "kernelspec": {
   "display_name": "Python 3 (ipykernel)",
   "language": "python",
   "name": "python3"
  },
  "language_info": {
   "codemirror_mode": {
    "name": "ipython",
    "version": 3
   },
   "file_extension": ".py",
   "mimetype": "text/x-python",
   "name": "python",
   "nbconvert_exporter": "python",
   "pygments_lexer": "ipython3",
   "version": "3.9.7"
  }
 },
 "nbformat": 4,
 "nbformat_minor": 5
}
