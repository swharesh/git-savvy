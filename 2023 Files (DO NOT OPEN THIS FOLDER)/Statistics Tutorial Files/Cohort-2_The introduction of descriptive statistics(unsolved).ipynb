{
 "cells": [
  {
   "cell_type": "markdown",
   "id": "5f38c1ad",
   "metadata": {
    "id": "5f38c1ad"
   },
   "source": [
    "# Python Statistics Fundamentals:\n",
    "\n",
    "Data science and machine learning have become critical in many disciplines of research and technology in the age of big data and artificial intelligence. Working with data necessitates the capacity to graphically describe, summarise, and depict data. **Python statistics libraries** are extensive, well-known, and commonly used tools for working with data.\n",
    "<br>\n",
    "<br>\n",
    "**In this tutorial, we will go over:**\n",
    "* What are some **numerical quantities** that we may use to define and summarise our datasets?\n",
    "* How do you **compute** descriptive statistics in Python?\n",
    "* How can we obtain **descriptive statistics** using Pyhton libraries?\n",
    "* How should we **visulize** our datasets?"
   ]
  },
  {
   "cell_type": "markdown",
   "id": "4f4e0295",
   "metadata": {
    "id": "4f4e0295"
   },
   "source": [
    "# Understanding Descriptive Statistics\n",
    "**Descriptive statistics** are concerned with describing and summarising data. It employs two primary approaches:\n",
    "1. **The quantitative approach** uses numbers to describe and summarise data.\n",
    "2. **The visual approach** utilizes charts, plots, histograms, and other visualisations to show data.\n",
    "<br>\n",
    "<br>\n",
    "Descriptive statistical analysis can be used to one or more datasets or variables. **Univariate analysis** is employed when we analyze and summarise a single variable. A **bivariate analysis** is carried out when we look for statistical relationships between two variables. A **multivariate analysis**, on the other hand, is dealing with multiple variables at the same time.\n",
    "\n",
    "## Types of Measures\n",
    "In this tutorial, we will learn about the following descriptive statistics:\n",
    "* **Central tendency** provides us concerning the centers of data. The mean, median, and mode are all significant indicators.\n",
    "* **Variability** describes the dispersion of the data. Variance and standard deviation are useful measurements.\n",
    "* **Correlation or joint variability** describes the relationship between two variables in a dataset. Covariance and correlation coefficient are two essential measurements.\n",
    "\n",
    "## Population and Samples\n",
    "In statistics, the **population** is a collection of all components or things of interest. Because populations are frequently large, they are unsuitable for data collection and analysis. That is why statisticians normally try to draw conclusions about a population by picking and analyzing a representative subset of that population.\n",
    "<br>\n",
    "This subset of a population is referred to as a **sample**. Ideally, the sample should maintain the basic statistical properties of the population to a reasonable degree. we will be able to draw inferences about the population based on the sample.\n",
    "\n",
    "## Outliers\n",
    "A data point that deviates considerably from the rest of the data in a sample or population is referred to as an **outlier**. Outliers can have a variety of reasons, but here are a handful to get we started:\n",
    "* **Natural Variation** in data\n",
    "* **Change** in the behavior of the observed system\n",
    "* **Errors** in data collection\n",
    "\n",
    "## Python Statistics Libraries\n",
    "There are several Python statistics libraries available for usage, but in this lesson, we will learn about some of the more popular and extensively used ones:\n",
    "1. **Statistics**: It is a built-in Python library for descriptive statistics. It is useful when datasets are not too large.\n",
    "2. **NumPy**: It is a third-party numerical computing package that is specialised for working with single- and multi-dimensional arrays. Its primary type is an array known as *ndarray*. This package offers a large number of statistical analysis functions.\n",
    "3. **SciPy**: It is a NumPy-based third-party library for scientific computing. It provides more capabilities than NumPy, such as *scipy.stats* for statistical analysis.\n",
    "4. **Pandas**: It is a NumPy-based third-party library for numerical computation. It excels in labelled one-dimensional (1D) data management with *Series* objects and two-dimensional (2D) data handling with *DataFrame* objects.\n",
    "5. **Matplotlib**: It is a third-party data visualisation package. It is useful in conjunction with NumPy, SciPy, and Pandas."
   ]
  },
  {
   "cell_type": "markdown",
   "id": "8269bfc5",
   "metadata": {
    "id": "8269bfc5"
   },
   "source": [
    "## Calulating Descriptive Statistics\n",
    "Beginning by importing all of the necessary packages."
   ]
  },
  {
   "cell_type": "code",
   "execution_count": 5,
   "id": "31953031",
   "metadata": {
    "executionInfo": {
     "elapsed": 2214,
     "status": "ok",
     "timestamp": 1678087474939,
     "user": {
      "displayName": "MEENU SINGH",
      "userId": "08824988348004969626"
     },
     "user_tz": -60
    },
    "id": "31953031"
   },
   "outputs": [],
   "source": [
    "import math\n",
    "import statistics\n",
    "import numpy as np\n",
    "import scipy.stats\n",
    "import pandas as pd\n",
    "import matplotlib.pyplot as plt"
   ]
  },
  {
   "cell_type": "markdown",
   "id": "e6c50fd4",
   "metadata": {
    "id": "e6c50fd4"
   },
   "source": [
    "## Measures of Central Tendency\n",
    "**Measures of central tendency** describe a set of data by identifying the central position in the data set as a single representative value. There are generally three measures of central tendency, commonly used in statistics - mean, median and mode:\n",
    "* **Mean:** Sum of all observations divided by the total number of observations.\n",
    "* **Median:** The middle or central value in an ordered set.\n",
    "* **Mode:** The most frequently occurring value in a data set.\n"
   ]
  },
  {
   "cell_type": "markdown",
   "id": "09dc364d",
   "metadata": {
    "id": "09dc364d"
   },
   "source": [
    "### Mean\n",
    "The **sample mean**, also known as the **sample arithmetic mean** or just the **average**, is the arithmetic average of all the objects in a collection. The mean of a dataset x is stated mathematically as\n",
    "$$\\frac{\\sum_i x_i}{n}$$\n",
    "where $i = 1,2,...,n$ and $n$ is the number of items in the dataset $x$."
   ]
  },
  {
   "cell_type": "markdown",
   "id": "3a813398",
   "metadata": {
    "id": "3a813398"
   },
   "source": [
    "#### Example: \n",
    "Calculate the average class size of a sample of 20 colleges and universities in\n",
    "California having class sizes for introductory lecture courses to be: \n",
    "\n",
    "| Class | Class size |\n",
    "| --- | --- |\n",
    "| A | $14$ |\n",
    "| B | $20$ |\n",
    "| C | $20$ |\n",
    "| D | $20$ |\n",
    "| E | $20$ |\n",
    "| F | $23$ |\n",
    "| G | $25$ |\n",
    "| H | $30$ |\n",
    "| I | $30$ |\n",
    "| J | $30$ |\n",
    "| K | $35$ |\n",
    "| L | $35$ |\n",
    "| M | $35$ |\n",
    "| N | $40$ |\n",
    "| O | $40$ |\n",
    "| P | $42$ |\n",
    "| Q | $50$ |\n",
    "| R | $50$ |\n",
    "| S | $80$ |\n",
    "| T | $80$ |"
   ]
  },
  {
   "cell_type": "code",
   "execution_count": 6,
   "id": "a449d4fa",
   "metadata": {},
   "outputs": [
    {
     "name": "stdout",
     "output_type": "stream",
     "text": [
      "The average or mean class size of the college is: 35.95\n"
     ]
    }
   ],
   "source": [
    "class_sizes = [14, 20, 20, 20, 20, 23, 25, 30, 30, 30, 35, 35, 35, 40, 40, 42, 50, 50, 80, 80]\n",
    "x = class_sizes\n",
    "def mean(data_vals):\n",
    "    return sum(data_vals)/len(data_vals)\n",
    "print(\"The average or mean class size of the college is:\", mean(x))"
   ]
  },
  {
   "cell_type": "code",
   "execution_count": 7,
   "id": "3a5a3322",
   "metadata": {},
   "outputs": [
    {
     "data": {
      "text/plain": [
       "35.95"
      ]
     },
     "execution_count": 7,
     "metadata": {},
     "output_type": "execute_result"
    }
   ],
   "source": [
    "mean = statistics.mean(x)\n",
    "mean"
   ]
  },
  {
   "cell_type": "code",
   "execution_count": 9,
   "id": "1264fbce",
   "metadata": {},
   "outputs": [
    {
     "data": {
      "text/plain": [
       "35.95"
      ]
     },
     "execution_count": 9,
     "metadata": {},
     "output_type": "execute_result"
    }
   ],
   "source": [
    "mean = np.mean(x)\n",
    "mean"
   ]
  },
  {
   "cell_type": "code",
   "execution_count": 10,
   "id": "bb8bbec8",
   "metadata": {},
   "outputs": [
    {
     "data": {
      "text/plain": [
       "35.95"
      ]
     },
     "execution_count": 10,
     "metadata": {},
     "output_type": "execute_result"
    }
   ],
   "source": [
    "mean = pd.Series(x).mean()\n",
    "mean"
   ]
  },
  {
   "cell_type": "code",
   "execution_count": 13,
   "id": "e433f749",
   "metadata": {},
   "outputs": [
    {
     "data": {
      "image/png": "[encoded data removed]",
      "text/plain": [
       "<Figure size 432x288 with 1 Axes>"
      ]
     },
     "metadata": {
      "needs_background": "light"
     },
     "output_type": "display_data"
    }
   ],
   "source": [
    "plt.hist(class_sizes, edgecolor = 'black', color = 'purple')\n",
    "plt.axvline(mean, color = 'red', lw=3, label = f'Average class size:${mean:,.0f}')\n",
    "plt.xlabel('class size of colleges')\n",
    "plt.ylabel('counts')  \n",
    "plt.title('college in california')\n",
    "plt.legend();"
   ]
  },
  {
   "cell_type": "code",
   "execution_count": null,
   "id": "2eb81c59",
   "metadata": {},
   "outputs": [],
   "source": []
  },
  {
   "cell_type": "code",
   "execution_count": null,
   "id": "b7346b82",
   "metadata": {},
   "outputs": [],
   "source": []
  },
  {
   "cell_type": "code",
   "execution_count": null,
   "id": "47b46c56",
   "metadata": {},
   "outputs": [],
   "source": []
  },
  {
   "cell_type": "code",
   "execution_count": null,
   "id": "0dea4dc1",
   "metadata": {},
   "outputs": [],
   "source": []
  },
  {
   "cell_type": "code",
   "execution_count": null,
   "id": "6edb5a00",
   "metadata": {},
   "outputs": [],
   "source": []
  },
  {
   "cell_type": "code",
   "execution_count": null,
   "id": "3e6c0d05",
   "metadata": {},
   "outputs": [],
   "source": []
  },
  {
   "cell_type": "code",
   "execution_count": null,
   "id": "af355fe4",
   "metadata": {},
   "outputs": [],
   "source": []
  },
  {
   "cell_type": "code",
   "execution_count": null,
   "id": "0ebcc63e",
   "metadata": {},
   "outputs": [],
   "source": []
  },
  {
   "cell_type": "code",
   "execution_count": null,
   "id": "1f95a6dd",
   "metadata": {},
   "outputs": [],
   "source": []
  },
  {
   "cell_type": "code",
   "execution_count": 5,
   "id": "afe46351",
   "metadata": {},
   "outputs": [
    {
     "name": "stdout",
     "output_type": "stream",
     "text": [
      "35.95\n"
     ]
    }
   ],
   "source": [
    "class_sizes = [14, 20, 20, 20, 20, 23, 25, 30, 30, 30, 35, 35, 35, 40, 40, 42, 50, 50, 80, 80]\n",
    "x= class_sizes\n",
    "def mean(data_vals):\n",
    "    return sum(data_vals)/len(data_vals)\n",
    "print(mean(x))"
   ]
  },
  {
   "cell_type": "markdown",
   "id": "6067c4a1",
   "metadata": {
    "id": "6067c4a1"
   },
   "source": [
    "#### Without importing libraries"
   ]
  },
  {
   "cell_type": "code",
   "execution_count": 6,
   "id": "282e735d",
   "metadata": {
    "colab": {
     "base_uri": "https://localhost:8080/"
    },
    "executionInfo": {
     "elapsed": 32,
     "status": "ok",
     "timestamp": 1678087474940,
     "user": {
      "displayName": "MEENU SINGH",
      "userId": "08824988348004969626"
     },
     "user_tz": -60
    },
    "id": "282e735d",
    "outputId": "93038c35-41b8-47a8-cf91-fc9318f03666"
   },
   "outputs": [
    {
     "name": "stdout",
     "output_type": "stream",
     "text": [
      "The average(mean) class size of the colleges is: 35.95\n"
     ]
    }
   ],
   "source": [
    "class_sizes = [14,20,20,20,20,23,25,30,30,30,35,35,35,40,\n",
    "                           40,42,50,50,80,80]\n",
    "x = class_sizes\n",
    "def mean(data_vals):\n",
    "    return sum(data_vals) / len(data_vals)\n",
    "\n",
    "print(\"The average(mean) class size of the colleges is:\",mean(x))"
   ]
  },
  {
   "cell_type": "markdown",
   "id": "f0e9110c",
   "metadata": {
    "id": "f0e9110c"
   },
   "source": [
    "It is the output of the average class size of the colleges. Note that the number doesn’t appear in the dataset but accurately describes the size of the majority of classes."
   ]
  },
  {
   "cell_type": "markdown",
   "id": "3717fb65",
   "metadata": {
    "id": "3717fb65"
   },
   "source": [
    "#### Using in-built library 'Statistics'"
   ]
  },
  {
   "cell_type": "code",
   "execution_count": 7,
   "id": "7a711172",
   "metadata": {
    "colab": {
     "base_uri": "https://localhost:8080/"
    },
    "executionInfo": {
     "elapsed": 29,
     "status": "ok",
     "timestamp": 1678087474940,
     "user": {
      "displayName": "MEENU SINGH",
      "userId": "08824988348004969626"
     },
     "user_tz": -60
    },
    "id": "7a711172",
    "outputId": "3decb2c2-3c18-44e8-97d7-b7efe8d91580"
   },
   "outputs": [
    {
     "name": "stdout",
     "output_type": "stream",
     "text": [
      "The average(mean) class size of the colleges is: 35.95\n"
     ]
    }
   ],
   "source": [
    "mean = statistics.mean(x)\n",
    "print(\"The average(mean) class size of the colleges is:\", mean)"
   ]
  },
  {
   "cell_type": "markdown",
   "id": "4f24bd90",
   "metadata": {
    "id": "4f24bd90"
   },
   "source": [
    "We used the built-in Python statistics library's mean() and achieved the same result as we did with pure Python. "
   ]
  },
  {
   "cell_type": "markdown",
   "id": "1be9f589",
   "metadata": {
    "id": "1be9f589"
   },
   "source": [
    "#### Using 'NumPy' library"
   ]
  },
  {
   "cell_type": "code",
   "execution_count": 8,
   "id": "0dd66911",
   "metadata": {
    "colab": {
     "base_uri": "https://localhost:8080/"
    },
    "executionInfo": {
     "elapsed": 25,
     "status": "ok",
     "timestamp": 1678087474941,
     "user": {
      "displayName": "MEENU SINGH",
      "userId": "08824988348004969626"
     },
     "user_tz": -60
    },
    "id": "0dd66911",
    "outputId": "d153de4f-ca31-4321-eff8-d57a65c49fcc"
   },
   "outputs": [
    {
     "name": "stdout",
     "output_type": "stream",
     "text": [
      "The average(mean) class size of the colleges is: 35.95\n"
     ]
    }
   ],
   "source": [
    "Average_age = np.mean(x)\n",
    "print(\"The average(mean) class size of the colleges is:\", Average_age)"
   ]
  },
  {
   "cell_type": "markdown",
   "id": "8f0361b6",
   "metadata": {
    "id": "8f0361b6"
   },
   "source": [
    "In the example above, mean() is a function, but we can use the corresponding method **.mean()** as well:"
   ]
  },
  {
   "cell_type": "code",
   "execution_count": 9,
   "id": "34c86828",
   "metadata": {
    "colab": {
     "base_uri": "https://localhost:8080/"
    },
    "executionInfo": {
     "elapsed": 20,
     "status": "ok",
     "timestamp": 1678087474941,
     "user": {
      "displayName": "MEENU SINGH",
      "userId": "08824988348004969626"
     },
     "user_tz": -60
    },
    "id": "34c86828",
    "outputId": "a8854b74-bd13-4d98-9612-2ee72dfccd4c"
   },
   "outputs": [
    {
     "name": "stdout",
     "output_type": "stream",
     "text": [
      "The average(mean) class size of the colleges is: 35.95\n"
     ]
    }
   ],
   "source": [
    "x = np.array(x)\n",
    "mean = x.mean()\n",
    "print(\"The average(mean) class size of the colleges is:\", mean)"
   ]
  },
  {
   "cell_type": "markdown",
   "id": "9213a8dc",
   "metadata": {
    "id": "9213a8dc"
   },
   "source": [
    "The function mean() and method .mean() from NumPy return the same result as statistics.mean(). "
   ]
  },
  {
   "cell_type": "markdown",
   "id": "e87c3acc",
   "metadata": {
    "id": "e87c3acc"
   },
   "source": [
    "#### Using 'Pandas' library"
   ]
  },
  {
   "cell_type": "code",
   "execution_count": 10,
   "id": "2262a5a8",
   "metadata": {
    "colab": {
     "base_uri": "https://localhost:8080/"
    },
    "executionInfo": {
     "elapsed": 16,
     "status": "ok",
     "timestamp": 1678087474942,
     "user": {
      "displayName": "MEENU SINGH",
      "userId": "08824988348004969626"
     },
     "user_tz": -60
    },
    "id": "2262a5a8",
    "outputId": "198d391b-4780-44eb-f0a5-12672925634b"
   },
   "outputs": [
    {
     "name": "stdout",
     "output_type": "stream",
     "text": [
      "The average(mean) class size of the colleges is: 35.95\n"
     ]
    }
   ],
   "source": [
    "mean = pd.Series(x).mean()\n",
    "print(\"The average(mean) class size of the colleges is:\", mean)"
   ]
  },
  {
   "cell_type": "markdown",
   "id": "fc41384f",
   "metadata": {
    "id": "fc41384f"
   },
   "source": [
    "### Visualization of Mean"
   ]
  },
  {
   "cell_type": "code",
   "execution_count": 11,
   "id": "d8b34f68",
   "metadata": {
    "colab": {
     "base_uri": "https://localhost:8080/",
     "height": 295
    },
    "executionInfo": {
     "elapsed": 549,
     "status": "ok",
     "timestamp": 1678087475480,
     "user": {
      "displayName": "MEENU SINGH",
      "userId": "08824988348004969626"
     },
     "user_tz": -60
    },
    "id": "d8b34f68",
    "outputId": "dab88571-8866-4ff5-d3a8-ec8ce34dabd0"
   },
   "outputs": [
    {
     "data": {
      "image/png": "[encoded data removed]",
      "text/plain": [
       "<Figure size 432x288 with 1 Axes>"
      ]
     },
     "metadata": {
      "needs_background": "light"
     },
     "output_type": "display_data"
    }
   ],
   "source": [
    "plt.hist(class_sizes, edgecolor = 'black', color='purple')\n",
    "plt.axvline(mean,color='red',lw=3,label= f'Average(mean) class size: ${mean:,.0f}')\n",
    "plt.xlabel('class size of colleges')  \n",
    "plt.ylabel('counts') \n",
    "plt.title('Colleges in California')\n",
    "plt.legend();"
   ]
  },
  {
   "cell_type": "markdown",
   "id": "d24e2a02",
   "metadata": {
    "id": "d24e2a02"
   },
   "source": [
    "The average class size of a sample of 20 colleges and universities in California having class sizes for introductory lecture courses is 36."
   ]
  },
  {
   "cell_type": "markdown",
   "id": "68e5b807",
   "metadata": {
    "id": "68e5b807"
   },
   "source": [
    "### Median\n",
    "The sample median is the middle element of a sorted dataset. The dataset can be arranged in ascending or descending order.\n",
    "* If the dataset has an odd number of items, the median is the value in the middle:\n",
    "$$(\\frac{n+1}{2})^{th}term$$.\n",
    "* If n is an even number, the median is the arithmetic mean of the two values in the centre: \n",
    "$$[(\\frac{n}{2})^{th} term + (\\frac{n}{2}+1)^{th} term]*0.5$$"
   ]
  },
  {
   "cell_type": "markdown",
   "id": "bbb5c69e",
   "metadata": {
    "id": "bbb5c69e"
   },
   "source": [
    "#### Example: \n",
    "Let’s calculate the median of given data having runs score obtained by different players in a cricket match: \n",
    "\n",
    "| Name | Runs Scored |\n",
    "| --- | --- |\n",
    "|Harbhajan | $1$ |\n",
    "| Dhoni | $6$ |\n",
    "| Virat | $40$ |\n",
    "| Yuvraj | $52$ |\n",
    "| Sehwag | $52$ |\n",
    "| Rohit | $70$ |\n",
    "| Sachin | $80$ |\n"
   ]
  },
  {
   "cell_type": "code",
   "execution_count": 14,
   "id": "a5ecaaf3",
   "metadata": {},
   "outputs": [
    {
     "name": "stderr",
     "output_type": "stream",
     "text": [
      "<>:8: SyntaxWarning: 'float' object is not callable; perhaps you missed a comma?\n",
      "<>:8: SyntaxWarning: 'float' object is not callable; perhaps you missed a comma?\n",
      "C:\\Users\\USER\\AppData\\Local\\Temp/ipykernel_6724/659261054.py:8: SyntaxWarning: 'float' object is not callable; perhaps you missed a comma?\n",
      "  median = 0.5(y_odd[index-1]+y_odd[index])\n"
     ]
    },
    {
     "data": {
      "text/plain": [
       "52"
      ]
     },
     "execution_count": 14,
     "metadata": {},
     "output_type": "execute_result"
    }
   ],
   "source": [
    "Players_run_score = [1,6,40,52,52,70,80]\n",
    "y = Players_run_score\n",
    "n = len(y)\n",
    "if n%2:\n",
    "    median = sorted(y)[round(0.5*(n+1))]\n",
    "else:\n",
    "    y_odd, index = sorted(y), round(0.5*n)\n",
    "    median = 0.5(y_odd[index-1]+y_odd[index])\n",
    "    \n",
    "median"
   ]
  },
  {
   "cell_type": "code",
   "execution_count": 16,
   "id": "e1fd64c8",
   "metadata": {},
   "outputs": [
    {
     "data": {
      "text/plain": [
       "52"
      ]
     },
     "execution_count": 16,
     "metadata": {},
     "output_type": "execute_result"
    }
   ],
   "source": [
    "median = statistics.median(y)\n",
    "median"
   ]
  },
  {
   "cell_type": "code",
   "execution_count": null,
   "id": "c013f3d6",
   "metadata": {},
   "outputs": [],
   "source": []
  },
  {
   "cell_type": "code",
   "execution_count": null,
   "id": "feebd444",
   "metadata": {},
   "outputs": [],
   "source": []
  },
  {
   "cell_type": "code",
   "execution_count": null,
   "id": "c8702eb7",
   "metadata": {},
   "outputs": [],
   "source": []
  },
  {
   "cell_type": "code",
   "execution_count": null,
   "id": "d840c4c1",
   "metadata": {},
   "outputs": [],
   "source": []
  },
  {
   "cell_type": "code",
   "execution_count": null,
   "id": "0fba9000",
   "metadata": {},
   "outputs": [],
   "source": []
  },
  {
   "cell_type": "code",
   "execution_count": null,
   "id": "251f1081",
   "metadata": {},
   "outputs": [],
   "source": []
  },
  {
   "cell_type": "code",
   "execution_count": null,
   "id": "537366f6",
   "metadata": {},
   "outputs": [],
   "source": []
  },
  {
   "cell_type": "code",
   "execution_count": null,
   "id": "1c50405d",
   "metadata": {},
   "outputs": [],
   "source": []
  },
  {
   "cell_type": "code",
   "execution_count": null,
   "id": "a44f1a8c",
   "metadata": {},
   "outputs": [],
   "source": []
  },
  {
   "cell_type": "markdown",
   "id": "9826b35e",
   "metadata": {
    "id": "9826b35e"
   },
   "source": [
    "In this example, the dataset contains odd number of values."
   ]
  },
  {
   "cell_type": "markdown",
   "id": "f60924a9",
   "metadata": {
    "id": "f60924a9"
   },
   "source": [
    "#### Without importing library"
   ]
  },
  {
   "cell_type": "code",
   "execution_count": 15,
   "id": "008ad67b",
   "metadata": {
    "colab": {
     "base_uri": "https://localhost:8080/"
    },
    "executionInfo": {
     "elapsed": 37,
     "status": "ok",
     "timestamp": 1678087475481,
     "user": {
      "displayName": "MEENU SINGH",
      "userId": "08824988348004969626"
     },
     "user_tz": -60
    },
    "id": "008ad67b",
    "outputId": "f1ed32a5-884e-4631-b245-4c8b1f69e1cf"
   },
   "outputs": [
    {
     "name": "stdout",
     "output_type": "stream",
     "text": [
      "The median run score of the cricket players is: 52\n"
     ]
    }
   ],
   "source": [
    "Players_run_score = [1,6,40,52,52,52,70,80]\n",
    "y = Players_run_score\n",
    "n = len(y)\n",
    "if n%2:\n",
    "    median = sorted(y)[round(0.5*(n+1))]\n",
    "else:\n",
    "    x_ord, index = sorted(y), round(0.5*n)\n",
    "    median = 0.5*(x_ord[index-1]+x_ord[index])\n",
    "    \n",
    "print(\"The median run score of the cricket players is:\", median)"
   ]
  },
  {
   "cell_type": "markdown",
   "id": "6c4337cd",
   "metadata": {
    "id": "6c4337cd"
   },
   "source": [
    "#### Using in-built library 'Statistics'"
   ]
  },
  {
   "cell_type": "code",
   "execution_count": 16,
   "id": "f11fcee5",
   "metadata": {
    "colab": {
     "base_uri": "https://localhost:8080/"
    },
    "executionInfo": {
     "elapsed": 34,
     "status": "ok",
     "timestamp": 1678087475482,
     "user": {
      "displayName": "MEENU SINGH",
      "userId": "08824988348004969626"
     },
     "user_tz": -60
    },
    "id": "f11fcee5",
    "outputId": "a3952bce-1099-4108-9a3b-5244c84dde82"
   },
   "outputs": [
    {
     "name": "stdout",
     "output_type": "stream",
     "text": [
      "The median run score of the cricket players is: 52\n"
     ]
    }
   ],
   "source": [
    "median = statistics.median(y) \n",
    "print(\"The median run score of the cricket players is:\", median)"
   ]
  },
  {
   "cell_type": "markdown",
   "id": "7d1d2993",
   "metadata": {
    "id": "7d1d2993"
   },
   "source": [
    "**median_low()** and **median_high()** are two more function related to the median in the Python statistics library.\n",
    "* **If the number of elements is odd**, then there is a single middle value, so these functions behave just like median().\n",
    "* **If the number of elements is even**, then there are two middle values. In this case, median_low() returns the lower and median_high() the higher middle value."
   ]
  },
  {
   "cell_type": "code",
   "execution_count": 17,
   "id": "5c4fcbdf",
   "metadata": {
    "colab": {
     "base_uri": "https://localhost:8080/"
    },
    "executionInfo": {
     "elapsed": 30,
     "status": "ok",
     "timestamp": 1678087475483,
     "user": {
      "displayName": "MEENU SINGH",
      "userId": "08824988348004969626"
     },
     "user_tz": -60
    },
    "id": "5c4fcbdf",
    "outputId": "452d15dc-2719-4933-aee7-41abce298efb"
   },
   "outputs": [
    {
     "name": "stdout",
     "output_type": "stream",
     "text": [
      "The median_low run score of the cricket players is: 52\n"
     ]
    }
   ],
   "source": [
    "median = statistics.median_low(y)\n",
    "print(\"The median_low run score of the cricket players is:\", median)"
   ]
  },
  {
   "cell_type": "code",
   "execution_count": 18,
   "id": "e2cb6855",
   "metadata": {
    "colab": {
     "base_uri": "https://localhost:8080/"
    },
    "executionInfo": {
     "elapsed": 26,
     "status": "ok",
     "timestamp": 1678087475483,
     "user": {
      "displayName": "MEENU SINGH",
      "userId": "08824988348004969626"
     },
     "user_tz": -60
    },
    "id": "e2cb6855",
    "outputId": "74e7400d-0cf3-4ec0-bea6-3ee2554a5c08"
   },
   "outputs": [
    {
     "name": "stdout",
     "output_type": "stream",
     "text": [
      "The median_high run score of the cricket players is: 52\n"
     ]
    }
   ],
   "source": [
    "median = statistics.median_high(y)\n",
    "print(\"The median_high run score of the cricket players is:\", median)"
   ]
  },
  {
   "cell_type": "markdown",
   "id": "3ae2979a",
   "metadata": {
    "id": "3ae2979a"
   },
   "source": [
    "#### Using 'NumPy' library"
   ]
  },
  {
   "cell_type": "code",
   "execution_count": null,
   "id": "f725801a",
   "metadata": {
    "colab": {
     "base_uri": "https://localhost:8080/"
    },
    "executionInfo": {
     "elapsed": 23,
     "status": "ok",
     "timestamp": 1678087475484,
     "user": {
      "displayName": "MEENU SINGH",
      "userId": "08824988348004969626"
     },
     "user_tz": -60
    },
    "id": "f725801a",
    "outputId": "80207fa4-a676-4390-da85-725dc350e15a"
   },
   "outputs": [],
   "source": [
    "median = np.median(y)\n",
    "print(\"The median_high run score of the cricket players is:\", median)"
   ]
  },
  {
   "cell_type": "markdown",
   "id": "40976101",
   "metadata": {
    "id": "40976101"
   },
   "source": [
    "We have obtained the same values with **statistics.median()** and **np.median()**."
   ]
  },
  {
   "cell_type": "markdown",
   "id": "bc872901",
   "metadata": {
    "id": "bc872901"
   },
   "source": [
    "**Using 'Pandas' library**"
   ]
  },
  {
   "cell_type": "code",
   "execution_count": null,
   "id": "70f66c2e",
   "metadata": {
    "colab": {
     "base_uri": "https://localhost:8080/"
    },
    "executionInfo": {
     "elapsed": 22,
     "status": "ok",
     "timestamp": 1678087475487,
     "user": {
      "displayName": "MEENU SINGH",
      "userId": "08824988348004969626"
     },
     "user_tz": -60
    },
    "id": "70f66c2e",
    "outputId": "245ddd24-0a0c-4ba4-a231-e7d1c1e778cd"
   },
   "outputs": [],
   "source": [
    "median = pd.Series(y).median()\n",
    "print(\"The median run score of the cricket players is:\", median)"
   ]
  },
  {
   "cell_type": "markdown",
   "id": "10e8fb3e",
   "metadata": {
    "id": "10e8fb3e"
   },
   "source": [
    "The major discrepancy between mean and median behaviour is due to dataset **outliers** or **extremes**. Outliers have a large impact on the mean, whereas outliers have little or no impact on the median.\n",
    "<br>\n",
    "<br>\n",
    "To identify outliers and asymmetry in our data, we may examine the mean and median. It is dependent on the circumstances of our particular situation whether the mean value or the median value is more valuable to us."
   ]
  },
  {
   "cell_type": "markdown",
   "id": "c4d307ea",
   "metadata": {
    "id": "c4d307ea"
   },
   "source": [
    "### Visualization of Median"
   ]
  },
  {
   "cell_type": "code",
   "execution_count": 19,
   "id": "PZRdR-VXW56q",
   "metadata": {
    "colab": {
     "base_uri": "https://localhost:8080/",
     "height": 295
    },
    "executionInfo": {
     "elapsed": 992,
     "status": "ok",
     "timestamp": 1678087476462,
     "user": {
      "displayName": "MEENU SINGH",
      "userId": "08824988348004969626"
     },
     "user_tz": -60
    },
    "id": "PZRdR-VXW56q",
    "outputId": "05fd7887-f38f-4dc2-b0d0-a7d00b5cc236"
   },
   "outputs": [
    {
     "data": {
      "image/png": "[encoded data removed]",
      "text/plain": [
       "<Figure size 432x288 with 1 Axes>"
      ]
     },
     "metadata": {
      "needs_background": "light"
     },
     "output_type": "display_data"
    }
   ],
   "source": [
    "plt.hist(Players_run_score, edgecolor = 'black', color='purple')\n",
    "plt.axvline(median,color='red',lw=3,label= f'median run scores: ${median:,.0f}')\n",
    "plt.xlabel('run scores')  \n",
    "plt.ylabel('counts') \n",
    "plt.title('Scores of cricket players')\n",
    "plt.legend();"
   ]
  },
  {
   "cell_type": "markdown",
   "id": "2a52f9a3",
   "metadata": {
    "id": "2a52f9a3"
   },
   "source": [
    "The median run scores of the cricket players is 52. "
   ]
  },
  {
   "cell_type": "markdown",
   "id": "aedd04a5",
   "metadata": {
    "id": "aedd04a5"
   },
   "source": [
    "### Mode\n",
    "The sample mode is the most often occurring value in the collection. If there is no single such value, the set is multimodal since it contains numerous modal values. For example, in the set of points 12, 13, 12, 81, and 32, the number 12 is the mode since it appears twice, but the other elements appear only once.\n",
    "\n",
    "#### Example:\n",
    "\n",
    " The points scored by a Kabaddi team in a series of matches are as follows:\n",
    "\n",
    "| Players | scores |\n",
    "| --- | --- |\n",
    "| A | $17$ |\n",
    "| B | $2$ |\n",
    "| C | $7$ |\n",
    "| D | $27$ |\n",
    "| E | $15$ |\n",
    "| F | $5$ |\n",
    "| G | $14$ |\n",
    "| H | $8$ |\n",
    "| I | $10$ |\n",
    "| J | $24$ |\n",
    "| K | $48$ |\n",
    "| L | $10$ |\n",
    "| M | $8$ |\n",
    "| N | $7$ |\n",
    "| O | $18$ |\n",
    "| P | $28$ |\n"
   ]
  },
  {
   "cell_type": "code",
   "execution_count": 18,
   "id": "28b4072f",
   "metadata": {},
   "outputs": [
    {
     "name": "stdout",
     "output_type": "stream",
     "text": [
      "[7, 8, 10]\n"
     ]
    }
   ],
   "source": [
    "Kabaddi_players_score = [17, 2, 7, 27, 15, 5, 14, 8, 10, 24, 48, 10, 8, 7, 18, 28]\n",
    "z = Kabaddi_players_score\n",
    "def mode(dataset):\n",
    "    freq = {}\n",
    "    for val in dataset:\n",
    "        freq[val] = freq.get(val, 0) + 1\n",
    "    frequent_val = max(freq.values())\n",
    "    mode_vals = [key for key, value in freq.items() if value == frequent_val]\n",
    "    return mode_vals\n",
    "print(mode(z))"
   ]
  },
  {
   "cell_type": "code",
   "execution_count": 19,
   "id": "a613b2b8",
   "metadata": {},
   "outputs": [
    {
     "data": {
      "text/plain": [
       "7"
      ]
     },
     "execution_count": 19,
     "metadata": {},
     "output_type": "execute_result"
    }
   ],
   "source": [
    "mode = statistics.mode(z)\n",
    "mode"
   ]
  },
  {
   "cell_type": "code",
   "execution_count": 20,
   "id": "16fce34d",
   "metadata": {},
   "outputs": [
    {
     "data": {
      "text/plain": [
       "[7, 8, 10]"
      ]
     },
     "execution_count": 20,
     "metadata": {},
     "output_type": "execute_result"
    }
   ],
   "source": [
    "mode = statistics.multimode(z)\n",
    "mode"
   ]
  },
  {
   "cell_type": "code",
   "execution_count": null,
   "id": "9cca9c93",
   "metadata": {},
   "outputs": [],
   "source": []
  },
  {
   "cell_type": "code",
   "execution_count": null,
   "id": "de1d8571",
   "metadata": {},
   "outputs": [],
   "source": []
  },
  {
   "cell_type": "code",
   "execution_count": null,
   "id": "1ef915f0",
   "metadata": {},
   "outputs": [],
   "source": []
  },
  {
   "cell_type": "code",
   "execution_count": null,
   "id": "cbc73523",
   "metadata": {},
   "outputs": [],
   "source": []
  },
  {
   "cell_type": "markdown",
   "id": "e918108a",
   "metadata": {
    "id": "e918108a"
   },
   "source": [
    "#### Without using library\n",
    "This is how we can get the mode with pure Python:"
   ]
  },
  {
   "cell_type": "code",
   "execution_count": 20,
   "id": "e4b7f6a2",
   "metadata": {
    "colab": {
     "base_uri": "https://localhost:8080/"
    },
    "executionInfo": {
     "elapsed": 56,
     "status": "ok",
     "timestamp": 1678087476464,
     "user": {
      "displayName": "MEENU SINGH",
      "userId": "08824988348004969626"
     },
     "user_tz": -60
    },
    "id": "e4b7f6a2",
    "outputId": "4fe8fd4d-5115-4318-b939-264376b06e6d"
   },
   "outputs": [
    {
     "name": "stdout",
     "output_type": "stream",
     "text": [
      "[7, 8, 10]\n"
     ]
    }
   ],
   "source": [
    "Kabaddi_players_score = [17, 2, 7, 27, 15, 5, 14, 8, 10, 24, 48, 10, 8, 7, 18, 28]\n",
    "z = Kabaddi_players_score                   \n",
    "def mode(dataset):\n",
    "    freq = {}\n",
    "    for val in dataset:\n",
    "        freq[val] = freq.get(val, 0) + 1\n",
    "    frequent_val = max(freq.values())\n",
    "    mode_vals = [key for key, value in freq.items() if value == frequent_val]\n",
    "    return mode_vals\n",
    "print(mode(z))"
   ]
  },
  {
   "cell_type": "markdown",
   "id": "4becdded",
   "metadata": {
    "id": "4becdded"
   },
   "source": [
    "As observed, the print statement returned numerous modes. "
   ]
  },
  {
   "cell_type": "markdown",
   "id": "ad6d2d3b",
   "metadata": {
    "id": "ad6d2d3b"
   },
   "source": [
    "**Using in-built library 'Statistics'**"
   ]
  },
  {
   "cell_type": "code",
   "execution_count": 21,
   "id": "e27b74fe",
   "metadata": {
    "colab": {
     "base_uri": "https://localhost:8080/"
    },
    "executionInfo": {
     "elapsed": 52,
     "status": "ok",
     "timestamp": 1678087476465,
     "user": {
      "displayName": "MEENU SINGH",
      "userId": "08824988348004969626"
     },
     "user_tz": -60
    },
    "id": "e27b74fe",
    "outputId": "0ef4879d-2605-4761-9bc2-a707c48757a2"
   },
   "outputs": [
    {
     "name": "stdout",
     "output_type": "stream",
     "text": [
      "The mode of the dataset: 7\n"
     ]
    }
   ],
   "source": [
    "mode = statistics.mode(z)\n",
    "print(\"The mode of the dataset:\", mode)"
   ]
  },
  {
   "cell_type": "code",
   "execution_count": 22,
   "id": "4730b6d7",
   "metadata": {
    "colab": {
     "base_uri": "https://localhost:8080/"
    },
    "executionInfo": {
     "elapsed": 48,
     "status": "ok",
     "timestamp": 1678087476466,
     "user": {
      "displayName": "MEENU SINGH",
      "userId": "08824988348004969626"
     },
     "user_tz": -60
    },
    "id": "4730b6d7",
    "outputId": "6e5c5339-ba5e-463a-95cb-245be5dce4e5"
   },
   "outputs": [
    {
     "name": "stdout",
     "output_type": "stream",
     "text": [
      "The mode of the dataset: [7, 8, 10]\n"
     ]
    }
   ],
   "source": [
    "mode = statistics.multimode(z)\n",
    "print(\"The mode of the dataset:\", mode)"
   ]
  },
  {
   "cell_type": "markdown",
   "id": "7a02ad6d",
   "metadata": {
    "id": "7a02ad6d"
   },
   "source": [
    "As we can see, mode() returned a single value, while multimode() returned the list that contains the result."
   ]
  },
  {
   "cell_type": "markdown",
   "id": "75a04a39",
   "metadata": {
    "id": "75a04a39"
   },
   "source": [
    "#### Using 'SciPy' library \n",
    "*scipy.stats.mode()*"
   ]
  },
  {
   "cell_type": "code",
   "execution_count": 23,
   "id": "f2714bf1",
   "metadata": {
    "colab": {
     "base_uri": "https://localhost:8080/"
    },
    "executionInfo": {
     "elapsed": 45,
     "status": "ok",
     "timestamp": 1678087476467,
     "user": {
      "displayName": "MEENU SINGH",
      "userId": "08824988348004969626"
     },
     "user_tz": -60
    },
    "id": "f2714bf1",
    "outputId": "df6c8730-dc8a-497e-a315-95011e5e7e2d"
   },
   "outputs": [
    {
     "name": "stdout",
     "output_type": "stream",
     "text": [
      "The mode of the dataset: ModeResult(mode=array([7]), count=array([2]))\n"
     ]
    }
   ],
   "source": [
    "u = np.array(z)\n",
    "mode = scipy.stats.mode(u)\n",
    "print(\"The mode of the dataset:\", mode)"
   ]
  },
  {
   "cell_type": "markdown",
   "id": "e32866cd",
   "metadata": {
    "id": "e32866cd"
   },
   "source": [
    "This function returns the object containing the mode value and the number of times it occurs. If the dataset contains numerous mode values, just the **least value** is returned.\n",
    "<br>\n",
    "We can get the mode and its number of occurrences as NumPy arrays with dot notation:"
   ]
  },
  {
   "cell_type": "code",
   "execution_count": 24,
   "id": "c20d383f",
   "metadata": {
    "colab": {
     "base_uri": "https://localhost:8080/"
    },
    "executionInfo": {
     "elapsed": 41,
     "status": "ok",
     "timestamp": 1678087476468,
     "user": {
      "displayName": "MEENU SINGH",
      "userId": "08824988348004969626"
     },
     "user_tz": -60
    },
    "id": "c20d383f",
    "outputId": "a1d4b14e-7010-4ad5-a537-c423ee7b27f6"
   },
   "outputs": [
    {
     "data": {
      "text/plain": [
       "array([7])"
      ]
     },
     "execution_count": 24,
     "metadata": {},
     "output_type": "execute_result"
    }
   ],
   "source": [
    "mode.mode"
   ]
  },
  {
   "cell_type": "code",
   "execution_count": 25,
   "id": "9507f203",
   "metadata": {
    "colab": {
     "base_uri": "https://localhost:8080/"
    },
    "executionInfo": {
     "elapsed": 43,
     "status": "ok",
     "timestamp": 1678087476476,
     "user": {
      "displayName": "MEENU SINGH",
      "userId": "08824988348004969626"
     },
     "user_tz": -60
    },
    "id": "9507f203",
    "outputId": "5f93fad5-ac34-45c5-9dfa-607af071eaf3"
   },
   "outputs": [
    {
     "data": {
      "text/plain": [
       "array([2])"
      ]
     },
     "execution_count": 25,
     "metadata": {},
     "output_type": "execute_result"
    }
   ],
   "source": [
    "mode.count"
   ]
  },
  {
   "cell_type": "markdown",
   "id": "e9e1a095",
   "metadata": {
    "id": "e9e1a095"
   },
   "source": [
    "**Using 'Pandas' Library**"
   ]
  },
  {
   "cell_type": "code",
   "execution_count": 26,
   "id": "0dcc1186",
   "metadata": {
    "colab": {
     "base_uri": "https://localhost:8080/"
    },
    "executionInfo": {
     "elapsed": 40,
     "status": "ok",
     "timestamp": 1678087476479,
     "user": {
      "displayName": "MEENU SINGH",
      "userId": "08824988348004969626"
     },
     "user_tz": -60
    },
    "id": "0dcc1186",
    "outputId": "923f34b1-1a33-4d56-f7c7-5be6e166c14d"
   },
   "outputs": [
    {
     "data": {
      "text/plain": [
       "0     7\n",
       "1     8\n",
       "2    10\n",
       "dtype: int64"
      ]
     },
     "execution_count": 26,
     "metadata": {},
     "output_type": "execute_result"
    }
   ],
   "source": [
    "mode = pd.Series(z).mode()\n",
    "mode"
   ]
  },
  {
   "cell_type": "markdown",
   "id": "c1918cae",
   "metadata": {
    "id": "c1918cae"
   },
   "source": [
    "As we can see, .mode() returns a new pd.Series that holds all modal values. "
   ]
  },
  {
   "cell_type": "code",
   "execution_count": 27,
   "id": "b5d370d5",
   "metadata": {
    "colab": {
     "base_uri": "https://localhost:8080/"
    },
    "executionInfo": {
     "elapsed": 38,
     "status": "ok",
     "timestamp": 1678087476481,
     "user": {
      "displayName": "MEENU SINGH",
      "userId": "08824988348004969626"
     },
     "user_tz": -60
    },
    "id": "b5d370d5",
    "outputId": "037dca70-5367-48ea-8583-cedca6da96c9",
    "scrolled": true
   },
   "outputs": [
    {
     "data": {
      "text/plain": [
       "7"
      ]
     },
     "execution_count": 27,
     "metadata": {},
     "output_type": "execute_result"
    }
   ],
   "source": [
    "mode[0]"
   ]
  },
  {
   "cell_type": "markdown",
   "id": "a131a090",
   "metadata": {
    "id": "a131a090"
   },
   "source": [
    "### Visualization of Mode"
   ]
  },
  {
   "cell_type": "code",
   "execution_count": 28,
   "id": "12db287e",
   "metadata": {
    "colab": {
     "base_uri": "https://localhost:8080/",
     "height": 295
    },
    "executionInfo": {
     "elapsed": 1004,
     "status": "ok",
     "timestamp": 1678087477453,
     "user": {
      "displayName": "MEENU SINGH",
      "userId": "08824988348004969626"
     },
     "user_tz": -60
    },
    "id": "12db287e",
    "outputId": "40a620bd-38f0-4adb-e29b-27038f9c02e8"
   },
   "outputs": [
    {
     "data": {
      "image/png": "[encoded data removed]",
      "text/plain": [
       "<Figure size 432x288 with 1 Axes>"
      ]
     },
     "metadata": {
      "needs_background": "light"
     },
     "output_type": "display_data"
    }
   ],
   "source": [
    "plt.hist(z, edgecolor = 'black', color='purple')\n",
    "plt.axvline(mode[0],color='r',lw=3,label= f'First mode score: ${mode[0]:,.0f}')\n",
    "plt.axvline(mode[1],color='b',lw=3,label= f'Second mode score: ${mode[1]:,.0f}')\n",
    "plt.axvline(mode[2],color='g',lw=3,label= f'Third mode score: ${mode[2]:,.0f}')\n",
    "plt.xlabel('scores')  \n",
    "plt.ylabel('counts') \n",
    "plt.title('Kabaddi team')\n",
    "plt.legend();"
   ]
  },
  {
   "cell_type": "markdown",
   "id": "d2e31717",
   "metadata": {
    "id": "d2e31717"
   },
   "source": [
    "There are 3 mode values 7, 8 and 9 of the kabaddi players score."
   ]
  },
  {
   "cell_type": "markdown",
   "id": "cb217668",
   "metadata": {
    "id": "cb217668"
   },
   "source": [
    "# Question 1\n",
    "The list of Jasprit Bumraha total runs conceded in T20 matches in last 20 matches. *(source: bigbashboard)*\n",
    "\n",
    "| States | Total Runs Conceded in Match  |\n",
    "| --- | --- |\n",
    "| Aus | 50 |\n",
    "| Aus | 23 |\n",
    "| Eng | 10 |\n",
    "| DC | 25 |\n",
    "| SRH | 32 |\n",
    "| CSK | 12 |\n",
    "| KKR | 10 |\n",
    "| GT | 48 |\n",
    "| RR | 27 |\n",
    "| LSG | 31 |\n",
    "| CSK | 29 |\n",
    "| LSG | 24 |\n",
    "| KXI | 28 |\n",
    "| RCB | 31 |\n",
    "| KKR | 26 |\n",
    "| RR | 17 |\n",
    "| DC | 43 |\n",
    "| SL | 24 |\n",
    "| SL | 19 |\n",
    "| Nam | 19 |\n",
    "\n",
    "\n",
    "Find the\n",
    "* Mean\n",
    "* Median\n",
    "* Mode\n",
    "\n",
    "Also show mean, median and mode on same plot."
   ]
  },
  {
   "cell_type": "code",
   "execution_count": null,
   "id": "dae682a4",
   "metadata": {
    "executionInfo": {
     "elapsed": 161,
     "status": "ok",
     "timestamp": 1678087477457,
     "user": {
      "displayName": "MEENU SINGH",
      "userId": "08824988348004969626"
     },
     "user_tz": -60
    },
    "id": "dae682a4"
   },
   "outputs": [],
   "source": [
    "Total_runs_Conceded_Match = [50,23,10,25,32,12,10,48,27,31,29,24,28,31,26,17,43,24,19,19]"
   ]
  },
  {
   "cell_type": "code",
   "execution_count": null,
   "id": "cc26ba6c",
   "metadata": {
    "executionInfo": {
     "elapsed": 162,
     "status": "ok",
     "timestamp": 1678087477460,
     "user": {
      "displayName": "MEENU SINGH",
      "userId": "08824988348004969626"
     },
     "user_tz": -60
    },
    "id": "cc26ba6c"
   },
   "outputs": [],
   "source": []
  },
  {
   "cell_type": "code",
   "execution_count": null,
   "id": "4d0a79ac",
   "metadata": {
    "executionInfo": {
     "elapsed": 163,
     "status": "ok",
     "timestamp": 1678087477462,
     "user": {
      "displayName": "MEENU SINGH",
      "userId": "08824988348004969626"
     },
     "user_tz": -60
    },
    "id": "4d0a79ac"
   },
   "outputs": [],
   "source": []
  },
  {
   "cell_type": "code",
   "execution_count": null,
   "id": "a46583ae",
   "metadata": {
    "executionInfo": {
     "elapsed": 164,
     "status": "ok",
     "timestamp": 1678087477465,
     "user": {
      "displayName": "MEENU SINGH",
      "userId": "08824988348004969626"
     },
     "user_tz": -60
    },
    "id": "a46583ae"
   },
   "outputs": [],
   "source": []
  },
  {
   "cell_type": "markdown",
   "id": "308aa9d6",
   "metadata": {
    "id": "308aa9d6"
   },
   "source": [
    "## Measures of Variability\n",
    "Data cannot be described using metrics of central tendency alone. We'll also need **measures of variability** to characterise the dispersion of data points. We'll learn how to identify and compute the following variability metrics in this section:\n",
    "* Variance\n",
    "* Standard deviation"
   ]
  },
  {
   "cell_type": "markdown",
   "id": "c3e5f3c9",
   "metadata": {
    "id": "c3e5f3c9"
   },
   "source": [
    "### Variance\n",
    "The sample variance quantifies the spread of the data. It shows numerically how far the data points are from the mean. We can express the sample variance of the dataset $x$ with $n$ elements mathematically as\n",
    "$$\\sigma^2 = \\frac{\\sum_i(x_i - \\bar{x})^2}{(n-1)}$$\n",
    "where, $i = 1,2,...,n$ and $\\bar{x}$ is the sample mean of $x$."
   ]
  },
  {
   "cell_type": "markdown",
   "id": "bf32aa13",
   "metadata": {
    "id": "bf32aa13"
   },
   "source": [
    "#### Example: \n",
    "Let’s start by estimating the average (mean) age of the drivers in a bike racing team. \n",
    "\n",
    "| Driver | Age (in years) |\n",
    "| --- | --- |\n",
    "| A | $22$ |\n",
    "| B | $25$ |\n",
    "| C | $37$ |\n",
    "| D | $29$ |\n",
    "| E | $35$ |\n",
    "| F | $33$ |\n",
    "| G | $27$ |\n",
    "| H | $27$ |"
   ]
  },
  {
   "cell_type": "code",
   "execution_count": 29,
   "id": "c9f3b2f9",
   "metadata": {
    "executionInfo": {
     "elapsed": 164,
     "status": "ok",
     "timestamp": 1678087477467,
     "user": {
      "displayName": "MEENU SINGH",
      "userId": "08824988348004969626"
     },
     "user_tz": -60
    },
    "id": "c9f3b2f9"
   },
   "outputs": [],
   "source": [
    "x = [22, 25, 37, 29, 35, 33, 27, 27]"
   ]
  },
  {
   "cell_type": "markdown",
   "id": "ffb5a227",
   "metadata": {
    "id": "ffb5a227"
   },
   "source": [
    "#### Without importing library\n",
    "We can calculate the sample variance with pure Python:"
   ]
  },
  {
   "cell_type": "code",
   "execution_count": 30,
   "id": "bc22d91e",
   "metadata": {
    "colab": {
     "base_uri": "https://localhost:8080/"
    },
    "executionInfo": {
     "elapsed": 158,
     "status": "ok",
     "timestamp": 1678087477470,
     "user": {
      "displayName": "MEENU SINGH",
      "userId": "08824988348004969626"
     },
     "user_tz": -60
    },
    "id": "bc22d91e",
    "outputId": "d0f6efb6-0247-4eef-c6a2-97b01f28674c"
   },
   "outputs": [
    {
     "name": "stdout",
     "output_type": "stream",
     "text": [
      "The variance of the data: 26.839285714285715\n"
     ]
    }
   ],
   "source": [
    "n = len(x)\n",
    "mean = sum(x)/n\n",
    "var = sum((item-mean)**2 for item in x)/(n-1)\n",
    "print(\"The variance of the data:\", var)"
   ]
  },
  {
   "cell_type": "markdown",
   "id": "21c2b921",
   "metadata": {
    "id": "21c2b921"
   },
   "source": [
    "#### Using in-built library 'Statistics'"
   ]
  },
  {
   "cell_type": "code",
   "execution_count": 31,
   "id": "62406c72",
   "metadata": {
    "colab": {
     "base_uri": "https://localhost:8080/"
    },
    "executionInfo": {
     "elapsed": 149,
     "status": "ok",
     "timestamp": 1678087477475,
     "user": {
      "displayName": "MEENU SINGH",
      "userId": "08824988348004969626"
     },
     "user_tz": -60
    },
    "id": "62406c72",
    "outputId": "36ee8805-988a-4a02-b5d6-198b9ebb5e13"
   },
   "outputs": [
    {
     "name": "stdout",
     "output_type": "stream",
     "text": [
      "The variance of the data: 26.839285714285715\n"
     ]
    }
   ],
   "source": [
    "var = statistics.variance(x)\n",
    "print(\"The variance of the data:\", var)"
   ]
  },
  {
   "cell_type": "markdown",
   "id": "8dee543d",
   "metadata": {
    "id": "8dee543d"
   },
   "source": [
    "We have obtained the same result for the variance as above .variance() can avoid calculating the mean if we provide the mean explicitly as the second argument:\n",
    "$statistics.variance(x, mean)$"
   ]
  },
  {
   "cell_type": "markdown",
   "id": "14248b88",
   "metadata": {
    "id": "14248b88"
   },
   "source": [
    "#### Using 'Numpy' library"
   ]
  },
  {
   "cell_type": "code",
   "execution_count": 32,
   "id": "115eb6ff",
   "metadata": {
    "colab": {
     "base_uri": "https://localhost:8080/"
    },
    "executionInfo": {
     "elapsed": 142,
     "status": "ok",
     "timestamp": 1678087477478,
     "user": {
      "displayName": "MEENU SINGH",
      "userId": "08824988348004969626"
     },
     "user_tz": -60
    },
    "id": "115eb6ff",
    "outputId": "108829c6-8cb8-4342-cde8-eeb56632a0f4"
   },
   "outputs": [
    {
     "name": "stdout",
     "output_type": "stream",
     "text": [
      "The variance of the data: 26.839285714285715\n"
     ]
    }
   ],
   "source": [
    "var = np.var(x,ddof=1)\n",
    "print(\"The variance of the data:\", var)"
   ]
  },
  {
   "cell_type": "markdown",
   "id": "03feeb30",
   "metadata": {
    "id": "03feeb30"
   },
   "source": [
    "It’s very important to specify the parameter ddof=1. That’s how you set the delta degrees of freedom to 1. This parameter allows the proper calculation of $\\sigma^2$, with $(n-1)$ in the denominator instead of $n$.\n",
    "<br>\n",
    "<br>\n"
   ]
  },
  {
   "cell_type": "markdown",
   "id": "e4c374d8",
   "metadata": {
    "id": "e4c374d8"
   },
   "source": [
    "To calculate the **population variance**\n",
    "* **Replace** $(n-1)$ with $n$ in the pure Python implementation.\n",
    "* **Use** $statistics.pvariance()$ instead of $statistics.variance()$.\n",
    "* **Specify** the parameter ddof=$0$ if you use NumPy or Pandas. In NumPy, we can omit ddof because its default value $0$."
   ]
  },
  {
   "cell_type": "markdown",
   "id": "c2a32bb4",
   "metadata": {
    "id": "c2a32bb4"
   },
   "source": [
    "### Standard Deviation\n",
    "Another metric of data dispersion is the **sample standard deviation**. The standard deviation, $\\sigma$, is the positive square root of the sample variance, hence it is related to it. Because it has the same unit as the data points, the standard deviation is sometimes more handy than the variance. Once we have the variance, we can use simple Python to determine the standard deviation:\n",
    "$$\\sigma=\\sqrt{\\frac{\\sum_i(x_i - \\bar{x})^2}{(n-1)}}$$"
   ]
  },
  {
   "cell_type": "markdown",
   "id": "0b25ecab",
   "metadata": {
    "id": "0b25ecab"
   },
   "source": [
    "#### Without importing library"
   ]
  },
  {
   "cell_type": "code",
   "execution_count": 33,
   "id": "b7560ee2",
   "metadata": {
    "colab": {
     "base_uri": "https://localhost:8080/"
    },
    "executionInfo": {
     "elapsed": 117,
     "status": "ok",
     "timestamp": 1678087477483,
     "user": {
      "displayName": "MEENU SINGH",
      "userId": "08824988348004969626"
     },
     "user_tz": -60
    },
    "id": "b7560ee2",
    "outputId": "c3913d36-1db1-41b8-f08a-2120a8628e0d"
   },
   "outputs": [
    {
     "name": "stdout",
     "output_type": "stream",
     "text": [
      "The standard deviation of the dataset: 5.180664601601393\n"
     ]
    }
   ],
   "source": [
    "std = var**0.5\n",
    "print(\"The standard deviation of the dataset:\", std)"
   ]
  },
  {
   "cell_type": "markdown",
   "id": "4f17ed47",
   "metadata": {
    "id": "4f17ed47"
   },
   "source": [
    "#### Using in-built library 'Statistics'"
   ]
  },
  {
   "cell_type": "code",
   "execution_count": 34,
   "id": "92adffd8",
   "metadata": {
    "colab": {
     "base_uri": "https://localhost:8080/"
    },
    "executionInfo": {
     "elapsed": 102,
     "status": "ok",
     "timestamp": 1678087477486,
     "user": {
      "displayName": "MEENU SINGH",
      "userId": "08824988348004969626"
     },
     "user_tz": -60
    },
    "id": "92adffd8",
    "outputId": "229fca43-f9d9-463f-af3c-53725b240e48"
   },
   "outputs": [
    {
     "name": "stdout",
     "output_type": "stream",
     "text": [
      "The standard deviation of the dataset: 5.180664601601393\n"
     ]
    }
   ],
   "source": [
    "std = statistics.stdev(x)\n",
    "print(\"The standard deviation of the dataset:\", std)"
   ]
  },
  {
   "cell_type": "markdown",
   "id": "522f828c",
   "metadata": {
    "id": "522f828c"
   },
   "source": [
    "#### Using 'NumPy' library"
   ]
  },
  {
   "cell_type": "code",
   "execution_count": 35,
   "id": "da3a63aa",
   "metadata": {
    "colab": {
     "base_uri": "https://localhost:8080/"
    },
    "executionInfo": {
     "elapsed": 91,
     "status": "ok",
     "timestamp": 1678087477489,
     "user": {
      "displayName": "MEENU SINGH",
      "userId": "08824988348004969626"
     },
     "user_tz": -60
    },
    "id": "da3a63aa",
    "outputId": "a0509e43-1ea2-4a56-97f1-2280160667cf"
   },
   "outputs": [
    {
     "data": {
      "text/plain": [
       "5.180664601601393"
      ]
     },
     "execution_count": 35,
     "metadata": {},
     "output_type": "execute_result"
    }
   ],
   "source": [
    "np.std(x, ddof=1)"
   ]
  },
  {
   "cell_type": "markdown",
   "id": "b090ee51",
   "metadata": {
    "id": "b090ee51"
   },
   "source": [
    "The parameter ddof(degree of freedom) defaults to 1, so we can omit it. "
   ]
  },
  {
   "cell_type": "markdown",
   "id": "c92c46c5",
   "metadata": {
    "id": "c92c46c5"
   },
   "source": [
    "To calculate the **population standard deviation**\n",
    "* **Find** the square root of the population variance in the pure Python implementation.\n",
    "* **Use** $statistics.pstddev()$ instead of $statistics.stdev()$.\n",
    "* **Specify** the parameter ddof=$0$ if you use NumPy or Pandas. In NumPy, we can omit ddof because its default value $0$."
   ]
  },
  {
   "cell_type": "markdown",
   "id": "43820f21",
   "metadata": {
    "id": "43820f21"
   },
   "source": [
    "# Question 2\n",
    "\n",
    " A data set of 91 houses containing house prices is given: \n",
    "\n",
    "| House No. | House price (U.S. dollars) |\n",
    "| --- | --- |\n",
    "| A1 | $231000$ |\n",
    "| A2 | $210155$ |\n",
    "| A3 | $248159$ |\n",
    "| --- | --- |\n",
    "| --- | --- |\n",
    "| A89 | $215963$ |\n",
    "| A90 | $218447$ |\n",
    "| A91 | $277012$ |\n",
    "\n",
    "\n",
    "\n",
    "Find the\n",
    "* Variance \n",
    "* Standard Deviation. \n",
    "\n",
    "Also, interperate the results through plot.\n",
    "\n"
   ]
  },
  {
   "cell_type": "code",
   "execution_count": null,
   "id": "1f9e51f0",
   "metadata": {
    "executionInfo": {
     "elapsed": 89,
     "status": "ok",
     "timestamp": 1678087477504,
     "user": {
      "displayName": "MEENU SINGH",
      "userId": "08824988348004969626"
     },
     "user_tz": -60
    },
    "id": "1f9e51f0"
   },
   "outputs": [],
   "source": [
    "house_prices = [231000, 210155, 248159, 210007, 224949, 109364, 180758, 115347, 192100, 209048, 159021,\n",
    "                240542, 205597, 132563, 238747, 245224, 204391, 245126, 262783, 231659, 205425, 203841,\n",
    "                204779, 240997, 246711, 201422, 209572, 167624, 112952, 266321, 175111, 205689, 205689,\n",
    "                199416, 243123, 201749, 294213, 238547, 204779, 328371, 147633, 163145, 162602, 156899,\n",
    "                247632, 256779, 246363, 175603, 245942, 189346, 144480, 174290, 267967, 144447, 271066, \n",
    "                221981, 230613, 181986, 202280, 169995, 264285, 236984, 217176, 262220, 226031, 120882,\n",
    "                158064, 229017, 202858, 309828, 287044, 105005, 198685, 236472, 151793, 174376, 203841,\n",
    "                207357, 239495, 209001, 194933, 163904, 204779, 222215, 166573, 247718, 406233, 210111,\n",
    "                215963, 218447, 277012]"
   ]
  },
  {
   "cell_type": "code",
   "execution_count": null,
   "id": "130b5bd5",
   "metadata": {
    "executionInfo": {
     "elapsed": 90,
     "status": "ok",
     "timestamp": 1678087477507,
     "user": {
      "displayName": "MEENU SINGH",
      "userId": "08824988348004969626"
     },
     "user_tz": -60
    },
    "id": "130b5bd5"
   },
   "outputs": [],
   "source": []
  },
  {
   "cell_type": "code",
   "execution_count": null,
   "id": "0004dbe5",
   "metadata": {
    "executionInfo": {
     "elapsed": 90,
     "status": "ok",
     "timestamp": 1678087477508,
     "user": {
      "displayName": "MEENU SINGH",
      "userId": "08824988348004969626"
     },
     "user_tz": -60
    },
    "id": "0004dbe5"
   },
   "outputs": [],
   "source": []
  },
  {
   "cell_type": "code",
   "execution_count": null,
   "id": "6678b892",
   "metadata": {
    "executionInfo": {
     "elapsed": 91,
     "status": "ok",
     "timestamp": 1678087477510,
     "user": {
      "displayName": "MEENU SINGH",
      "userId": "08824988348004969626"
     },
     "user_tz": -60
    },
    "id": "6678b892"
   },
   "outputs": [],
   "source": []
  },
  {
   "cell_type": "markdown",
   "id": "06ef6fc8",
   "metadata": {
    "id": "06ef6fc8"
   },
   "source": [
    "## Measures of Correlation Between Pairs of Data\n",
    "We will frequently need to look into the connection between two variables' corresponding items in a dataset. Assume we have two variables, $x$ and $y$, each with an equal amount of elements $n$. Let $x_1$ from $x$ correspond to $y_1$ from $y$, $x_2$ from $x$ correspond to $y_2$ from $y$, and so on. Then you may say there are n pairs of corresponding elements: $(x_1, y_1)$, $(x_2, y_2)$, and so on.\n",
    "<br>\n",
    "<br>\n",
    "We will see the following **measures of correlation** between pairs of data:\n",
    "* **Positive correlation** exists when larger values of $x$ correspond to larger values of $y$ and vice versa.\n",
    "* **Negative correlation** exists when larger values of $x$ correspond to smaller values of y and vice versa.\n",
    "* **Weak or no correlation** exists if there is no such apparent relationship.\n",
    "<br>\n",
    "<br>\n",
    "\n",
    "**Covariance** and the **correlation coefficient** are two statistics that assess the correlation between datasets. Let's create some statistics to go along with these metrics. We will build two Python lists and utilise them to get NumPy arrays and Pandas Series:"
   ]
  },
  {
   "cell_type": "markdown",
   "id": "7d24bf34",
   "metadata": {
    "id": "7d24bf34"
   },
   "source": [
    "Example: John is an investor. His portfolio primarily tracks the performance of S&P 500 and John wants to add the stock of ABC Corp. Before adding the stock to his portfolio, he wants to assess the directional relationship between the stock and the S&P 500.\n",
    "\n",
    "| | S&P 500 | ABC Corp. |\n",
    "|--- | --- | --- |\n",
    "| 2013 | 1692 | 68 |\n",
    "| 2014 | 1978 | 102 |\n",
    "| 2015 | 1884 | 110 |\n",
    "| 2016 | 2151 | 112 |\n",
    "| 2017 | 2519 | 154 |"
   ]
  },
  {
   "cell_type": "code",
   "execution_count": 36,
   "id": "47bbc2bf",
   "metadata": {
    "executionInfo": {
     "elapsed": 93,
     "status": "ok",
     "timestamp": 1678087477512,
     "user": {
      "displayName": "MEENU SINGH",
      "userId": "08824988348004969626"
     },
     "user_tz": -60
    },
    "id": "47bbc2bf"
   },
   "outputs": [],
   "source": [
    "x = [1692, 1978, 1884, 2151, 2519]\n",
    "y = [68, 102, 110, 112, 154]"
   ]
  },
  {
   "cell_type": "code",
   "execution_count": 37,
   "id": "afe7c679",
   "metadata": {
    "executionInfo": {
     "elapsed": 96,
     "status": "ok",
     "timestamp": 1678087477516,
     "user": {
      "displayName": "MEENU SINGH",
      "userId": "08824988348004969626"
     },
     "user_tz": -60
    },
    "id": "afe7c679"
   },
   "outputs": [],
   "source": [
    "x_a, y_a = np.array(x), np.array(y)\n",
    "x_p, y_p = pd.Series(x), pd.Series(y)"
   ]
  },
  {
   "cell_type": "markdown",
   "id": "f064c17b",
   "metadata": {
    "id": "f064c17b"
   },
   "source": [
    "### Covariance\n",
    "The **sample covariance** is a measure that quantifies the strength and direction of a relationship between a pair of variables:\n",
    "* If the correlation is positive, then the covariance is positive, as well. A stronger relationship corresponds to a higher value of the covariance.\n",
    "* If the correlation is negative, then the covariance is negative, as well. A stronger relationship corresponds to a lower (or higher absolute) value of the covariance.\n",
    "* If the correlation is weak, then the covariance is close to zero.\n",
    "<br>\n",
    "<br>\n",
    "\n",
    "The covariance of the variables $x$ and $y$ is mathematically defined as:\n",
    "$$\\sigma_{xy} = \\frac{\\sum_i(x_i - \\bar{x})\\sum_i(y_i - \\bar{y})}{(n-1)}$$\n",
    "where, $i = 1,2,...,n$ and $\\bar{x}$ is sample mean of $x$ and $\\bar{y}$ is sample mean of $y$"
   ]
  },
  {
   "cell_type": "markdown",
   "id": "16b60aa6",
   "metadata": {
    "id": "16b60aa6"
   },
   "source": [
    "#### Without importing library\n",
    "This is how we can calculate the covariance in pure Python:"
   ]
  },
  {
   "cell_type": "code",
   "execution_count": 38,
   "id": "277dd019",
   "metadata": {
    "colab": {
     "base_uri": "https://localhost:8080/"
    },
    "executionInfo": {
     "elapsed": 718,
     "status": "ok",
     "timestamp": 1678087478138,
     "user": {
      "displayName": "MEENU SINGH",
      "userId": "08824988348004969626"
     },
     "user_tz": -60
    },
    "id": "277dd019",
    "outputId": "0ef13942-44d6-41db-ed43-2827847bf0dd"
   },
   "outputs": [
    {
     "name": "stdout",
     "output_type": "stream",
     "text": [
      "The Covariance of x and y is 9107.3\n"
     ]
    }
   ],
   "source": [
    "n = len(x)\n",
    "mean_x, mean_y = sum(x)/n, sum(y)/n\n",
    "cov_xy = (sum((x[i]-mean_x)*(y[i]-mean_y) for i in range(n))/(n-1))\n",
    "print(\"The Covariance of x and y is\", cov_xy)"
   ]
  },
  {
   "cell_type": "markdown",
   "id": "781549fa",
   "metadata": {
    "id": "781549fa"
   },
   "source": [
    "In such a case, the positive covariance indicates that the price of the stock and the S&P 500 tend to move in the same direction."
   ]
  },
  {
   "cell_type": "markdown",
   "id": "ba6bca62",
   "metadata": {
    "id": "ba6bca62"
   },
   "source": [
    "#### Using 'NumPy' library"
   ]
  },
  {
   "cell_type": "code",
   "execution_count": 39,
   "id": "2b4de97d",
   "metadata": {
    "colab": {
     "base_uri": "https://localhost:8080/"
    },
    "executionInfo": {
     "elapsed": 174,
     "status": "ok",
     "timestamp": 1678087478140,
     "user": {
      "displayName": "MEENU SINGH",
      "userId": "08824988348004969626"
     },
     "user_tz": -60
    },
    "id": "2b4de97d",
    "outputId": "0effd7c6-b6e9-4de5-ccaa-fc7a8f60d5d5"
   },
   "outputs": [
    {
     "data": {
      "text/plain": [
       "array([[97732.7,  9107.3],\n",
       "       [ 9107.3,   941.2]])"
      ]
     },
     "execution_count": 39,
     "metadata": {},
     "output_type": "execute_result"
    }
   ],
   "source": [
    "np.cov(x,y)"
   ]
  },
  {
   "cell_type": "markdown",
   "id": "fb94e763",
   "metadata": {
    "id": "fb94e763"
   },
   "source": [
    "The upper-left element of the covariance matrix is the covariance of $x$ and $x$, or the variance of $x$. Similarly, the lower-right element is the covariance of $y$ and $y$, or the variance of $y$. We can check to see that thi is true:"
   ]
  },
  {
   "cell_type": "code",
   "execution_count": 40,
   "id": "eab08f6d",
   "metadata": {
    "colab": {
     "base_uri": "https://localhost:8080/"
    },
    "executionInfo": {
     "elapsed": 158,
     "status": "ok",
     "timestamp": 1678087478142,
     "user": {
      "displayName": "MEENU SINGH",
      "userId": "08824988348004969626"
     },
     "user_tz": -60
    },
    "id": "eab08f6d",
    "outputId": "167b0248-1646-49b3-baec-e696b20f3210"
   },
   "outputs": [
    {
     "data": {
      "text/plain": [
       "97732.7"
      ]
     },
     "execution_count": 40,
     "metadata": {},
     "output_type": "execute_result"
    }
   ],
   "source": [
    "x_a.var(ddof=1)"
   ]
  },
  {
   "cell_type": "code",
   "execution_count": 41,
   "id": "50972cd5",
   "metadata": {
    "colab": {
     "base_uri": "https://localhost:8080/"
    },
    "executionInfo": {
     "elapsed": 140,
     "status": "ok",
     "timestamp": 1678087478143,
     "user": {
      "displayName": "MEENU SINGH",
      "userId": "08824988348004969626"
     },
     "user_tz": -60
    },
    "id": "50972cd5",
    "outputId": "9eb3d21a-d0ee-43c8-9d81-0f55fb3c2ef0"
   },
   "outputs": [
    {
     "data": {
      "text/plain": [
       "941.2"
      ]
     },
     "execution_count": 41,
     "metadata": {},
     "output_type": "execute_result"
    }
   ],
   "source": [
    "y_a.var(ddof=1)"
   ]
  },
  {
   "cell_type": "markdown",
   "id": "b0e837ae",
   "metadata": {
    "id": "b0e837ae"
   },
   "source": [
    "The other two elements of the covariance matrix are equal and represent the actual covariance between $x$ and $y$:"
   ]
  },
  {
   "cell_type": "markdown",
   "id": "a41581c1",
   "metadata": {
    "id": "a41581c1"
   },
   "source": [
    "#### Using 'Pandas' library"
   ]
  },
  {
   "cell_type": "code",
   "execution_count": 42,
   "id": "edb27bb0",
   "metadata": {
    "colab": {
     "base_uri": "https://localhost:8080/"
    },
    "executionInfo": {
     "elapsed": 122,
     "status": "ok",
     "timestamp": 1678087478144,
     "user": {
      "displayName": "MEENU SINGH",
      "userId": "08824988348004969626"
     },
     "user_tz": -60
    },
    "id": "edb27bb0",
    "outputId": "d79554ac-0b81-4dc3-962e-3ba1b390f075"
   },
   "outputs": [
    {
     "data": {
      "text/plain": [
       "9107.3"
      ]
     },
     "execution_count": 42,
     "metadata": {},
     "output_type": "execute_result"
    }
   ],
   "source": [
    "x_p.cov(y_p)"
   ]
  },
  {
   "cell_type": "code",
   "execution_count": 43,
   "id": "8966cf7e",
   "metadata": {
    "colab": {
     "base_uri": "https://localhost:8080/"
    },
    "executionInfo": {
     "elapsed": 107,
     "status": "ok",
     "timestamp": 1678087478147,
     "user": {
      "displayName": "MEENU SINGH",
      "userId": "08824988348004969626"
     },
     "user_tz": -60
    },
    "id": "8966cf7e",
    "outputId": "f362f43a-abf5-48d7-e598-420e4b97860e"
   },
   "outputs": [
    {
     "data": {
      "text/plain": [
       "9107.3"
      ]
     },
     "execution_count": 43,
     "metadata": {},
     "output_type": "execute_result"
    }
   ],
   "source": [
    "y_p.cov(x_p)"
   ]
  },
  {
   "cell_type": "markdown",
   "id": "2e233194",
   "metadata": {
    "id": "2e233194"
   },
   "source": [
    "### Correlation Coefficient\n",
    "The **correlation coefficent**, or **Pearson product-moment correlation coefficient**, is denoted by the symbol $r$. The coefficient is another measure of the correlation between data. We can think of it as a standardized covariance. Here are some important facts about it:\n",
    "* The value $r>0$ indicates positive correlation.\n",
    "* The value $r<0$ indicates negative correlation.\n",
    "* The value $r=1$ is the maximum possible value of $𝑟$. It corresponds to a perfect positive linear relationship between variables.\n",
    "* The value $r=-1$ is the minimum possible value of $𝑟$. It corresponds to a perfect negative linear relationship between variables.\n",
    "* The value $r \\approx 0$ or when r is around zero, means that the correlation between variables is weak.\n",
    "<br>\n",
    "<br>\n",
    "\n",
    "The mathematical formula for the correaltion coefficient is:\n",
    "$$r = \\frac{\\sigma_{xy}}{\\sigma_x \\sigma_y}$$\n",
    "where $\\sigma_x$ and $\\sigma_y$ are the standard deviations of $x$ and $y$ respectively. $\\sigma_{xy}$ is the covariance of $x$ and $y$."
   ]
  },
  {
   "cell_type": "markdown",
   "id": "74597da6",
   "metadata": {
    "id": "74597da6"
   },
   "source": [
    "#### Without importing library\n",
    "We can calculate the correlation coefficient with pure Python:"
   ]
  },
  {
   "cell_type": "code",
   "execution_count": 44,
   "id": "0fba235f",
   "metadata": {
    "colab": {
     "base_uri": "https://localhost:8080/"
    },
    "executionInfo": {
     "elapsed": 99,
     "status": "ok",
     "timestamp": 1678087478149,
     "user": {
      "displayName": "MEENU SINGH",
      "userId": "08824988348004969626"
     },
     "user_tz": -60
    },
    "id": "0fba235f",
    "outputId": "52d5344a-9b01-46f5-f9ee-fd4cd4826e32"
   },
   "outputs": [
    {
     "name": "stdout",
     "output_type": "stream",
     "text": [
      "The correlation coefficient of x and y is 0.9495738255245277\n"
     ]
    }
   ],
   "source": [
    "n = len(x)\n",
    "mean_x, mean_y = sum(x)/n, sum(y)/n\n",
    "cov_xy = (sum((x[i]-mean_x)*(y[i]-mean_y) for i in range(n))/(n-1))\n",
    "var_x = sum((item-mean_x)**2 for item in x)/ (n-1)\n",
    "var_y = sum((item-mean_y)**2 for item in y)/ (n-1)\n",
    "std_x, std_y = var_x**0.5, var_y**0.5\n",
    "r = cov_xy/(std_x * std_y)\n",
    "print(\"The correlation coefficient of x and y is\", r)"
   ]
  },
  {
   "cell_type": "markdown",
   "id": "8df10530",
   "metadata": {
    "id": "8df10530"
   },
   "source": [
    "We have got the variable $r$ that represents the correlation coefficient."
   ]
  },
  {
   "cell_type": "markdown",
   "id": "6683dff3",
   "metadata": {
    "id": "6683dff3"
   },
   "source": [
    "Similar to the case of the covariance matrix, we can apply np.corrcoef() with x_a and y_a as the arguments and get the **correlation coefficient matrix**:"
   ]
  },
  {
   "cell_type": "code",
   "execution_count": 45,
   "id": "bb326520",
   "metadata": {
    "colab": {
     "base_uri": "https://localhost:8080/"
    },
    "executionInfo": {
     "elapsed": 79,
     "status": "ok",
     "timestamp": 1678087478150,
     "user": {
      "displayName": "MEENU SINGH",
      "userId": "08824988348004969626"
     },
     "user_tz": -60
    },
    "id": "bb326520",
    "outputId": "da15bc63-4978-4b83-9101-036cf1f24cb9"
   },
   "outputs": [
    {
     "data": {
      "text/plain": [
       "array([[1.        , 0.94957383],\n",
       "       [0.94957383, 1.        ]])"
      ]
     },
     "execution_count": 45,
     "metadata": {},
     "output_type": "execute_result"
    }
   ],
   "source": [
    "np.corrcoef(x_a, y_a)"
   ]
  },
  {
   "cell_type": "markdown",
   "id": "0119e5da",
   "metadata": {
    "id": "0119e5da"
   },
   "source": [
    "The upper-left element is the correlation coefficient between x_a and x_a.\n",
    "<br>\n",
    "The lower-right element is the correlation coefficient between y_a and y_a.\n",
    "<br>\n",
    "Their values are equal to 1.0.\n",
    "<br>\n",
    "The other two elements are equal and represent the actual correlation coefficient between x_a and y_a."
   ]
  },
  {
   "cell_type": "markdown",
   "id": "4c12ce33",
   "metadata": {
    "id": "4c12ce33"
   },
   "source": [
    "#### Using 'Pandas' library"
   ]
  },
  {
   "cell_type": "code",
   "execution_count": 46,
   "id": "4b860eb6",
   "metadata": {
    "colab": {
     "base_uri": "https://localhost:8080/"
    },
    "executionInfo": {
     "elapsed": 70,
     "status": "ok",
     "timestamp": 1678087478151,
     "user": {
      "displayName": "MEENU SINGH",
      "userId": "08824988348004969626"
     },
     "user_tz": -60
    },
    "id": "4b860eb6",
    "outputId": "7f3f981a-cd18-4e4e-9d7f-edc2241d2d69"
   },
   "outputs": [
    {
     "data": {
      "text/plain": [
       "0.9495738255245278"
      ]
     },
     "execution_count": 46,
     "metadata": {},
     "output_type": "execute_result"
    }
   ],
   "source": [
    "x_p.corr(y_p)"
   ]
  },
  {
   "cell_type": "code",
   "execution_count": 47,
   "id": "72255428",
   "metadata": {
    "colab": {
     "base_uri": "https://localhost:8080/"
    },
    "executionInfo": {
     "elapsed": 64,
     "status": "ok",
     "timestamp": 1678087478153,
     "user": {
      "displayName": "MEENU SINGH",
      "userId": "08824988348004969626"
     },
     "user_tz": -60
    },
    "id": "72255428",
    "outputId": "26c74476-a664-4c9d-fad2-b74dc69cd2e6"
   },
   "outputs": [
    {
     "data": {
      "text/plain": [
       "0.9495738255245277"
      ]
     },
     "execution_count": 47,
     "metadata": {},
     "output_type": "execute_result"
    }
   ],
   "source": [
    "y_p.corr(x_p)"
   ]
  },
  {
   "cell_type": "markdown",
   "id": "8b65ec68",
   "metadata": {
    "id": "8b65ec68"
   },
   "source": [
    "# Question 3\n",
    "The list of heights and weight of random people. *(source: BMI dataset from Kaggle)*\n",
    "\n",
    "| Height (cms) | Weight (kgs) |\n",
    "| --- | --- |\n",
    "| 174 | 96 |\n",
    "| 189 | 87 |\n",
    "| 185 | 110 |\n",
    "| 195 | 104 |\n",
    "| 149 | 61 |\n",
    "| 189 | 104 |\n",
    "| 147 | 92 |\n",
    "| 154 | 111 |\n",
    "| 174 | 90 |\n",
    "| 192 | 101 |\n",
    "| 155 | 51 |\n",
    "| 191 | 79 |\n",
    "| 153 | 107 |\n",
    "| 157 | 110 |\n",
    "| 140 | 129 |\n",
    "| 144 | 145 |\n",
    "| 172 | 139 |\n",
    "| 157 | 110 |\n",
    "| 153 | 149 |\n",
    "| 169 | 97 |\n",
    "| 185 | 139 |\n",
    "| 172 | 67 |\n",
    "| 151 | 64 |\n",
    "\n",
    "\n",
    "Find and interperate\n",
    "* Covariance\n",
    "* Correlation coefficient"
   ]
  },
  {
   "cell_type": "code",
   "execution_count": null,
   "id": "3ec650ba",
   "metadata": {
    "executionInfo": {
     "elapsed": 59,
     "status": "ok",
     "timestamp": 1678087478158,
     "user": {
      "displayName": "MEENU SINGH",
      "userId": "08824988348004969626"
     },
     "user_tz": -60
    },
    "id": "3ec650ba"
   },
   "outputs": [],
   "source": [
    "h = [174,189,185,195,149,189,147,154,174,192,155,191,153,157,140,144,172,157,153,169,185,172,151]\n",
    "w = [96,87,110,104,61,104,92,111,90,101,51,79,107,110,129,145,139,110,149,97,139,67,64]"
   ]
  },
  {
   "cell_type": "markdown",
   "id": "kGA-nT-eVqva",
   "metadata": {
    "id": "kGA-nT-eVqva"
   },
   "source": [
    "* **Covariance**"
   ]
  },
  {
   "cell_type": "code",
   "execution_count": null,
   "id": "WbglCfOKVoeq",
   "metadata": {
    "executionInfo": {
     "elapsed": 59,
     "status": "ok",
     "timestamp": 1678087478159,
     "user": {
      "displayName": "MEENU SINGH",
      "userId": "08824988348004969626"
     },
     "user_tz": -60
    },
    "id": "WbglCfOKVoeq"
   },
   "outputs": [],
   "source": []
  },
  {
   "cell_type": "markdown",
   "id": "DQLqj0PlVvpi",
   "metadata": {
    "id": "DQLqj0PlVvpi"
   },
   "source": [
    "* **Correlation coefficient**"
   ]
  },
  {
   "cell_type": "code",
   "execution_count": null,
   "id": "G5a4bYV7V0k-",
   "metadata": {
    "executionInfo": {
     "elapsed": 57,
     "status": "ok",
     "timestamp": 1678087478159,
     "user": {
      "displayName": "MEENU SINGH",
      "userId": "08824988348004969626"
     },
     "user_tz": -60
    },
    "id": "G5a4bYV7V0k-"
   },
   "outputs": [],
   "source": []
  },
  {
   "cell_type": "code",
   "execution_count": null,
   "id": "c0eac192",
   "metadata": {},
   "outputs": [],
   "source": []
  },
  {
   "cell_type": "code",
   "execution_count": null,
   "id": "86fd217e",
   "metadata": {},
   "outputs": [],
   "source": []
  },
  {
   "cell_type": "code",
   "execution_count": null,
   "id": "9dc8017b",
   "metadata": {},
   "outputs": [],
   "source": []
  }
 ],
 "metadata": {
  "colab": {
   "collapsed_sections": [
    "09dc364d",
    "6067c4a1",
    "3717fb65",
    "60cdd94e",
    "1be9f589",
    "e87c3acc",
    "47aebd03",
    "129cad92",
    "32c46e94",
    "b35570dc",
    "b6d44bd6",
    "c0a997c7",
    "82777a9c",
    "5aaf681b",
    "387e4598",
    "15dfe151",
    "68e5b807",
    "f60924a9",
    "e918108a",
    "75a04a39",
    "c3e5f3c9",
    "ffb5a227",
    "c2a32bb4",
    "0b25ecab",
    "4f17ed47",
    "522f828c",
    "3e2639f0",
    "d1514e0c",
    "9a449c1b",
    "fddd150f",
    "1788d25e",
    "c0171d75",
    "b2ec2095",
    "f3f45f68",
    "72daa2c3",
    "e8cba9d6",
    "a8f05f5e",
    "7ca06e54",
    "85d42f83",
    "54c8b7f8",
    "a06b6b56",
    "f064c17b",
    "16b60aa6",
    "2e233194",
    "74597da6"
   ],
   "provenance": []
  },
  "kernelspec": {
   "display_name": "Python 3 (ipykernel)",
   "language": "python",
   "name": "python3"
  },
  "language_info": {
   "codemirror_mode": {
    "name": "ipython",
    "version": 3
   },
   "file_extension": ".py",
   "mimetype": "text/x-python",
   "name": "python",
   "nbconvert_exporter": "python",
   "pygments_lexer": "ipython3",
   "version": "3.9.7"
  }
 },
 "nbformat": 4,
 "nbformat_minor": 5
}
