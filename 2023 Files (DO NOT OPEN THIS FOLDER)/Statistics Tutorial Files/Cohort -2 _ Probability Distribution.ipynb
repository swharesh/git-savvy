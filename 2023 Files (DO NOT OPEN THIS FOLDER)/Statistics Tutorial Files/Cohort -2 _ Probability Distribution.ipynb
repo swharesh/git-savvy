{
 "cells": [
  {
   "cell_type": "markdown",
   "id": "b460c817",
   "metadata": {
    "id": "b460c817"
   },
   "source": [
    "# Probability Distribution\n",
    "Probability distribution reflects the values of a variable that holds the probabilities of an experiment in mathematics, particularly in probability theory and statistics. Probability distributions are widely used in machine learning and data science. In the context of machine learning, we must deal with a large amount of data, and the process of detecting patterns in data requires a large number of studies based on the probability distribution."
   ]
  },
  {
   "cell_type": "markdown",
   "id": "f5b4b577",
   "metadata": {
    "id": "f5b4b577"
   },
   "source": [
    "# Elements of the probability distribution\n",
    "\n",
    "There are the following functions used to obtain the probability distributions:\n",
    "* **Probability Mass Function:** This function gives the similarity probability which is the probability of a discrete random variable to be equal to some value. We can also call it a discrete probability distribution.\n",
    "* **Probability Density Function:** This function represents the density of a continuous random variable lying between specific range of values. We also call it continuous probability distribution."
   ]
  },
  {
   "cell_type": "markdown",
   "id": "e89c5b6c",
   "metadata": {
    "id": "e89c5b6c"
   },
   "source": [
    "# Probability Mass Function (Discrete Probability Distribution):\n",
    "If $X$ is a discrete random variable, the function given by $f(x) = P(X=x)$ for each $x$ within the range of $X$ is called the **probability mass function**.\n",
    "\n",
    "**Theorem**: A function can serve as the probability mass function of a discrete random variable $X$ if and only if its values, $f(x)$, satisfy the conditions.\n",
    "1. $f(x)\\geq 0$ for each value within its domain.\n",
    "2. $\\sum_x f(x) = 1$, where the summation extends over all the values within its domain."
   ]
  },
  {
   "cell_type": "markdown",
   "id": "333371e0",
   "metadata": {
    "id": "333371e0"
   },
   "source": [
    "### Question 1 \n",
    "Check whether the below function serve as probability mass function\n",
    "$$f(x) = \\frac{x+3}{25} \\text{ for } x =1,2,3,4,5.$$"
   ]
  },
  {
   "cell_type": "code",
   "execution_count": 4,
   "id": "75012b12",
   "metadata": {},
   "outputs": [
    {
     "name": "stdout",
     "output_type": "stream",
     "text": [
      "function does not serve as a pmf\n"
     ]
    }
   ],
   "source": [
    "f = lambda x: (x+3)/25\n",
    "x = [1,2,3,4,5]\n",
    "\n",
    "count = 0\n",
    "tot = 0\n",
    "\n",
    "for i in x:\n",
    "    if f(i)>=0:\n",
    "        count += 1\n",
    "        tot += f(i)\n",
    "        \n",
    "    else:\n",
    "        break\n",
    "        \n",
    "if (count == len(x) and tot == 1):\n",
    "    print(\"function serves as a pmf\")\n",
    "else:\n",
    "    print(\"function does not serve as a pmf\")\n",
    "    \n",
    "    "
   ]
  },
  {
   "cell_type": "markdown",
   "id": "04acc2fb",
   "metadata": {
    "id": "04acc2fb"
   },
   "source": [
    "### Question 2 \n",
    "Determine $k$ so that the function can serve as the probability distribution of a random variable with the given range:\n",
    "\n",
    "$f(x) = kx^2$, for $x = 1,2,3,4,5$"
   ]
  },
  {
   "cell_type": "code",
   "execution_count": 6,
   "id": "44fc225f",
   "metadata": {},
   "outputs": [
    {
     "name": "stdout",
     "output_type": "stream",
     "text": [
      "The value of k is:  [1/55]\n"
     ]
    }
   ],
   "source": [
    "f = lambda x: x**2\n",
    "m = 5\n",
    "tot = 0\n",
    "for i in range(1,6):\n",
    "    tot += f(i)\n",
    "from sympy import symbols, solve, Eq\n",
    "\n",
    "k = symbols('k')\n",
    "eq = Eq(tot*k -1, 0)\n",
    "\n",
    "sol = solve(eq)\n",
    "print(\"The value of k is: \", sol)"
   ]
  },
  {
   "cell_type": "code",
   "execution_count": null,
   "id": "c73553c9",
   "metadata": {},
   "outputs": [],
   "source": []
  },
  {
   "cell_type": "code",
   "execution_count": null,
   "id": "0841e616",
   "metadata": {},
   "outputs": [],
   "source": []
  },
  {
   "cell_type": "code",
   "execution_count": null,
   "id": "d56a885e",
   "metadata": {},
   "outputs": [],
   "source": []
  },
  {
   "cell_type": "code",
   "execution_count": null,
   "id": "887424ac",
   "metadata": {},
   "outputs": [],
   "source": []
  },
  {
   "cell_type": "code",
   "execution_count": null,
   "id": "40b8b0ba",
   "metadata": {},
   "outputs": [],
   "source": []
  },
  {
   "cell_type": "markdown",
   "id": "3e538213",
   "metadata": {
    "id": "3e538213"
   },
   "source": [
    "### Assignment 1\n",
    "Determine $k$ so that the function can serve as the probability distribution of a random variable with the given range:\n",
    "\n",
    "$f(x) = k(\\frac{1}{4+x})$, for $x = 1,2,3,...$"
   ]
  },
  {
   "cell_type": "code",
   "execution_count": null,
   "id": "9645051c",
   "metadata": {},
   "outputs": [],
   "source": []
  },
  {
   "cell_type": "code",
   "execution_count": null,
   "id": "6f6bee7d",
   "metadata": {},
   "outputs": [],
   "source": []
  },
  {
   "cell_type": "markdown",
   "id": "53b7107d",
   "metadata": {
    "id": "53b7107d"
   },
   "source": [
    "The popular distributions under the discrete probability distribution categories are listed below how they can be used in python.\n",
    "* Binomial distribution\n",
    "* Poisson distribution\n",
    "* Geometric distribution"
   ]
  },
  {
   "cell_type": "markdown",
   "id": "f0b2a878",
   "metadata": {
    "id": "f0b2a878"
   },
   "source": [
    "## Binomial Distribution\n",
    " A random variable $X$ has a **binomial distribution** and it is referred to as a binomial random variable if and only if its probability is given by\n",
    " \n",
    " $b(x;n,r) = C^{n}_{r}p^r(1-p)^{(n-r)}$, $r = 0,1,2,...,n$"
   ]
  },
  {
   "cell_type": "markdown",
   "id": "fed6c150",
   "metadata": {
    "id": "fed6c150"
   },
   "source": [
    "The binomial distribution tells you how likely it is to achieve a given number of successes in n trials of the experiment.\n",
    "#### Example\n",
    "We could model flipping a fair coin $10$ times with a binomial distribution where the number of trials is set to $1000$ and the probability of success is set to $0.5$.\n",
    "\n",
    "In this case the distribution would tell us how likely it is to get zero heads, 1 heads, 2 heads and so on."
   ]
  },
  {
   "cell_type": "code",
   "execution_count": 8,
   "id": "233b001b",
   "metadata": {
    "executionInfo": {
     "elapsed": 1207,
     "status": "ok",
     "timestamp": 1671710721549,
     "user": {
      "displayName": "MEENU SINGH",
      "userId": "08824988348004969626"
     },
     "user_tz": -330
    },
    "id": "233b001b"
   },
   "outputs": [],
   "source": [
    "from scipy.stats import binom"
   ]
  },
  {
   "cell_type": "code",
   "execution_count": 9,
   "id": "e4535f14",
   "metadata": {
    "id": "e4535f14"
   },
   "outputs": [],
   "source": [
    "fair_coin_flips = binom.rvs(n=10,        # Number of flips per trial\n",
    "                                  p=0.5,       # Success probability\n",
    "                                  size=1000)  # Number of trials"
   ]
  },
  {
   "cell_type": "code",
   "execution_count": 10,
   "id": "c2b6c18a",
   "metadata": {
    "colab": {
     "base_uri": "https://localhost:8080/"
    },
    "executionInfo": {
     "elapsed": 13,
     "status": "ok",
     "timestamp": 1671700631531,
     "user": {
      "displayName": "Shivani Jaiswal",
      "userId": "09061956050866222184"
     },
     "user_tz": -330
    },
    "id": "c2b6c18a",
    "outputId": "5e902e01-28c7-4fe9-d037-1824778c709c"
   },
   "outputs": [
    {
     "name": "stdout",
     "output_type": "stream",
     "text": [
      "col_0   0   1   2    3    4    5    6   7   8  9\n",
      "row_0                                           \n",
      "counts  2  13  61  124  220  238  194  96  43  9\n"
     ]
    }
   ],
   "source": [
    "import pandas as pd\n",
    "print( pd.crosstab(index=\"counts\", columns= fair_coin_flips))"
   ]
  },
  {
   "cell_type": "code",
   "execution_count": 11,
   "id": "ed718d5d",
   "metadata": {
    "colab": {
     "base_uri": "https://localhost:8080/",
     "height": 296
    },
    "executionInfo": {
     "elapsed": 933,
     "status": "ok",
     "timestamp": 1671700632455,
     "user": {
      "displayName": "Shivani Jaiswal",
      "userId": "09061956050866222184"
     },
     "user_tz": -330
    },
    "id": "ed718d5d",
    "outputId": "52e9d716-523a-4f69-ef4f-7225e30f3edc"
   },
   "outputs": [
    {
     "data": {
      "text/plain": [
       "[Text(0.5, 0, 'Binomial'), Text(0, 0.5, 'Frequency')]"
      ]
     },
     "execution_count": 11,
     "metadata": {},
     "output_type": "execute_result"
    },
    {
     "data": {
      "image/png": "[encoded data removed]",
      "text/plain": [
       "<Figure size 432x288 with 1 Axes>"
      ]
     },
     "metadata": {
      "needs_background": "light"
     },
     "output_type": "display_data"
    }
   ],
   "source": [
    "import seaborn as sns\n",
    "ax = sns.histplot(fair_coin_flips,\n",
    "                  kde=True,\n",
    "                  color='blue')\n",
    "ax.set(xlabel='Binomial', ylabel='Frequency')"
   ]
  },
  {
   "cell_type": "markdown",
   "id": "25fe27f7",
   "metadata": {
    "id": "25fe27f7"
   },
   "source": [
    "Note that as the binomial distribution is discrete, it only takes on integer values therefore we can describe binomial data with a frequency table and its distribution using a histogram. The histogram shows us that a binomial distribution with a 50% probability of success is essentially symmetric, with the most frequent events located at the centre. This resembles the normal distribution, however if we change the success probability, the distribution will no longer be symmetric:"
   ]
  },
  {
   "cell_type": "code",
   "execution_count": 12,
   "id": "922acd8f",
   "metadata": {
    "id": "922acd8f"
   },
   "outputs": [],
   "source": [
    "biased_coin_flips = binom.rvs(n=10,      # Number of flips per trial\n",
    "                                p=0.8,       # Success probability\n",
    "                                size=1000)  # Number of trials"
   ]
  },
  {
   "cell_type": "code",
   "execution_count": 13,
   "id": "e3ef6f32",
   "metadata": {
    "colab": {
     "base_uri": "https://localhost:8080/"
    },
    "executionInfo": {
     "elapsed": 74,
     "status": "ok",
     "timestamp": 1671700632457,
     "user": {
      "displayName": "Shivani Jaiswal",
      "userId": "09061956050866222184"
     },
     "user_tz": -330
    },
    "id": "e3ef6f32",
    "outputId": "b0603c99-a436-426a-f8d1-77cbd783d50b"
   },
   "outputs": [
    {
     "name": "stdout",
     "output_type": "stream",
     "text": [
      "col_0   4   5   6    7    8    9    10\n",
      "row_0                                 \n",
      "counts   6  25  93  206  294  273  103\n"
     ]
    }
   ],
   "source": [
    "print( pd.crosstab(index=\"counts\", columns= biased_coin_flips))"
   ]
  },
  {
   "cell_type": "code",
   "execution_count": 14,
   "id": "c40a7452",
   "metadata": {
    "colab": {
     "base_uri": "https://localhost:8080/",
     "height": 296
    },
    "executionInfo": {
     "elapsed": 69,
     "status": "ok",
     "timestamp": 1671700632458,
     "user": {
      "displayName": "Shivani Jaiswal",
      "userId": "09061956050866222184"
     },
     "user_tz": -330
    },
    "id": "c40a7452",
    "outputId": "0ba51131-d0d6-4797-c867-57e000bdc6cc"
   },
   "outputs": [
    {
     "data": {
      "text/plain": [
       "[Text(0.5, 0, 'Binomial'), Text(0, 0.5, 'Frequency')]"
      ]
     },
     "execution_count": 14,
     "metadata": {},
     "output_type": "execute_result"
    },
    {
     "data": {
      "image/png": "[encoded data removed]",
      "text/plain": [
       "<Figure size 432x288 with 1 Axes>"
      ]
     },
     "metadata": {
      "needs_background": "light"
     },
     "output_type": "display_data"
    }
   ],
   "source": [
    "ax = sns.histplot(biased_coin_flips,\n",
    "                  kde=True,\n",
    "                  color='blue')\n",
    "ax.set(xlabel='Binomial', ylabel='Frequency')"
   ]
  },
  {
   "cell_type": "markdown",
   "id": "ab05d558",
   "metadata": {
    "id": "ab05d558"
   },
   "source": [
    "The **cdf()** function lets us check the probability of achieving a number of successes within a certain range:"
   ]
  },
  {
   "cell_type": "code",
   "execution_count": 15,
   "id": "ff9f2c11",
   "metadata": {
    "colab": {
     "base_uri": "https://localhost:8080/"
    },
    "executionInfo": {
     "elapsed": 62,
     "status": "ok",
     "timestamp": 1671700632458,
     "user": {
      "displayName": "Shivani Jaiswal",
      "userId": "09061956050866222184"
     },
     "user_tz": -330
    },
    "id": "ff9f2c11",
    "outputId": "ae37fa2d-a525-4118-d4e6-3005d4aeeede"
   },
   "outputs": [
    {
     "data": {
      "text/plain": [
       "0.03279349759999997"
      ]
     },
     "execution_count": 15,
     "metadata": {},
     "output_type": "execute_result"
    }
   ],
   "source": [
    "binom.cdf(k=5,      # Probability of k = 5 successes or less\n",
    "        n=10,       # With 10 flips\n",
    "        p=0.8)      # And success probability 0.8"
   ]
  },
  {
   "cell_type": "code",
   "execution_count": 16,
   "id": "1dbc2686",
   "metadata": {
    "colab": {
     "base_uri": "https://localhost:8080/"
    },
    "executionInfo": {
     "elapsed": 57,
     "status": "ok",
     "timestamp": 1671700632459,
     "user": {
      "displayName": "Shivani Jaiswal",
      "userId": "09061956050866222184"
     },
     "user_tz": -330
    },
    "id": "1dbc2686",
    "outputId": "04607bcb-1e60-46cc-dbe1-5d9f26c71049"
   },
   "outputs": [
    {
     "data": {
      "text/plain": [
       "0.37580963840000015"
      ]
     },
     "execution_count": 16,
     "metadata": {},
     "output_type": "execute_result"
    }
   ],
   "source": [
    "1 - binom.cdf(k=8,        # Probability of k = 9 successes or more\n",
    "            n=10,         # With 10 flips\n",
    "            p=0.8)        # And success probability 0.8"
   ]
  },
  {
   "cell_type": "markdown",
   "id": "d95a0ccc",
   "metadata": {
    "id": "d95a0ccc"
   },
   "source": [
    "The **pmf()** function to check the proportion of observations at given number of successes k:"
   ]
  },
  {
   "cell_type": "code",
   "execution_count": 17,
   "id": "38a6072b",
   "metadata": {
    "colab": {
     "base_uri": "https://localhost:8080/"
    },
    "executionInfo": {
     "elapsed": 47,
     "status": "ok",
     "timestamp": 1671700632459,
     "user": {
      "displayName": "Shivani Jaiswal",
      "userId": "09061956050866222184"
     },
     "user_tz": -330
    },
    "id": "38a6072b",
    "outputId": "9b51b315-79de-46d9-a8c4-97c5761dd7d9"
   },
   "outputs": [
    {
     "data": {
      "text/plain": [
       "0.026424115199999956"
      ]
     },
     "execution_count": 17,
     "metadata": {},
     "output_type": "execute_result"
    }
   ],
   "source": [
    "binom.pmf(k=5,      # Probability of k = 5 successes\n",
    "        n=10,       # With 10 flips\n",
    "        p=0.8)      # And success probability 0.8"
   ]
  },
  {
   "cell_type": "markdown",
   "id": "67fc9422",
   "metadata": {},
   "source": [
    "### Assignment 2\n",
    "The probability of a customer ordering the colour of a particular model of new car in silver is 0.2. Find the probability that in next 30 random orders there will be:\n",
    "\n",
    "a) exactly 10 orders in silver. \n",
    "\n",
    "b) at most 8 orders in silver.\n",
    "\n",
    "c) no more than 11 orders in silver.  "
   ]
  },
  {
   "cell_type": "code",
   "execution_count": 18,
   "id": "d5c47291",
   "metadata": {},
   "outputs": [
    {
     "name": "stdout",
     "output_type": "stream",
     "text": [
      "probability of exactly 10 orders in silver is: 0.03547089295332892\n"
     ]
    }
   ],
   "source": [
    "exact_10 = binom.pmf(k = 10, n = 30, p = 0.2)\n",
    "print(\"probability of exactly 10 orders in silver is:\", exact_10)"
   ]
  },
  {
   "cell_type": "code",
   "execution_count": 19,
   "id": "cf4811e5",
   "metadata": {},
   "outputs": [
    {
     "data": {
      "text/plain": [
       "0.8713492460859559"
      ]
     },
     "execution_count": 19,
     "metadata": {},
     "output_type": "execute_result"
    }
   ],
   "source": [
    "atmost_8 = binom.cdf(k = 8, n = 30, p = 0.2)\n",
    "atmost_8"
   ]
  },
  {
   "cell_type": "code",
   "execution_count": 20,
   "id": "8376bdc9",
   "metadata": {},
   "outputs": [
    {
     "data": {
      "text/plain": [
       "0.9905068778252775"
      ]
     },
     "execution_count": 20,
     "metadata": {},
     "output_type": "execute_result"
    }
   ],
   "source": [
    "atmost_11 = binom.cdf(k = 11, n = 30, p = 0.2)\n",
    "atmost_11"
   ]
  },
  {
   "cell_type": "markdown",
   "id": "c23f8d07",
   "metadata": {
    "id": "c23f8d07"
   },
   "source": [
    "## Poisson Distribution\n",
    "A random variable $X$ has a **Poisson distribution** and it is referred to as a Poisson random variable if and only if its probability distribution is given by\n",
    "$p(x;\\lambda) = \\frac{\\lambda^x e^{-\\lambda}}{x!}$ for $x=0,1,2,...$"
   ]
  },
  {
   "cell_type": "markdown",
   "id": "d8efde93",
   "metadata": {
    "id": "d8efde93"
   },
   "source": [
    "The Poisson distribution can be used to model traffic, such as the number of arrivals a hospital can expect in a hour's time or the number of emails you'd expect to receive in a week.\n",
    "\n",
    "Let's generate and plot some data from a Poisson distribution with an arrival rate of $1$ per time unit:"
   ]
  },
  {
   "cell_type": "code",
   "execution_count": 21,
   "id": "7a42e555",
   "metadata": {
    "id": "7a42e555"
   },
   "outputs": [],
   "source": [
    "from scipy.stats import poisson"
   ]
  },
  {
   "cell_type": "code",
   "execution_count": 22,
   "id": "20e6553d",
   "metadata": {
    "id": "20e6553d"
   },
   "outputs": [],
   "source": [
    "arrival_rate_1 = poisson.rvs(size=1000,  # Generate Poisson data\n",
    "                            mu=1 )        # Average arrival time 1"
   ]
  },
  {
   "cell_type": "code",
   "execution_count": 23,
   "id": "2a56692b",
   "metadata": {
    "colab": {
     "base_uri": "https://localhost:8080/"
    },
    "executionInfo": {
     "elapsed": 34,
     "status": "ok",
     "timestamp": 1671700632464,
     "user": {
      "displayName": "Shivani Jaiswal",
      "userId": "09061956050866222184"
     },
     "user_tz": -330
    },
    "id": "2a56692b",
    "outputId": "20ff244e-89a4-4f9a-b75c-f171111ead14"
   },
   "outputs": [
    {
     "name": "stdout",
     "output_type": "stream",
     "text": [
      "col_0     0    1    2   3   4  5\n",
      "row_0                           \n",
      "counts  382  356  182  65  13  2\n"
     ]
    }
   ],
   "source": [
    "# Print table of counts\n",
    "print( pd.crosstab(index=\"counts\", columns= arrival_rate_1))"
   ]
  },
  {
   "cell_type": "code",
   "execution_count": 24,
   "id": "ff12c931",
   "metadata": {
    "colab": {
     "base_uri": "https://localhost:8080/",
     "height": 299
    },
    "executionInfo": {
     "elapsed": 93,
     "status": "ok",
     "timestamp": 1671700633300,
     "user": {
      "displayName": "Shivani Jaiswal",
      "userId": "09061956050866222184"
     },
     "user_tz": -330
    },
    "id": "ff12c931",
    "outputId": "a14dac3f-702b-484f-861f-80adcf36e687"
   },
   "outputs": [
    {
     "data": {
      "text/plain": [
       "[Text(0.5, 0, 'Poisson'), Text(0, 0.5, 'Frequency')]"
      ]
     },
     "execution_count": 24,
     "metadata": {},
     "output_type": "execute_result"
    },
    {
     "data": {
      "image/png": "[encoded data removed]",
      "text/plain": [
       "<Figure size 432x288 with 1 Axes>"
      ]
     },
     "metadata": {
      "needs_background": "light"
     },
     "output_type": "display_data"
    }
   ],
   "source": [
    "ax = sns.histplot(arrival_rate_1,\n",
    "                  color='blue')\n",
    "ax.set(xlabel='Poisson', ylabel='Frequency')"
   ]
  },
  {
   "cell_type": "markdown",
   "id": "63d1ace5",
   "metadata": {
    "id": "63d1ace5"
   },
   "source": [
    "The histogram shows that when arrivals are relatively infrequent, it is rare to see more than a couple of arrivals in each time period. When the arrival rate is high, it becomes increasingly rare to see a low number of arrivals and the distribution starts to look more symmetric:"
   ]
  },
  {
   "cell_type": "code",
   "execution_count": 25,
   "id": "a748360c",
   "metadata": {
    "id": "a748360c"
   },
   "outputs": [],
   "source": [
    "arrival_rate_10 = poisson.rvs(size=1000,  # Generate Poisson data\n",
    "                            mu=10 )        # Average arrival time 10"
   ]
  },
  {
   "cell_type": "code",
   "execution_count": 26,
   "id": "84cf1f39",
   "metadata": {
    "colab": {
     "base_uri": "https://localhost:8080/"
    },
    "executionInfo": {
     "elapsed": 92,
     "status": "ok",
     "timestamp": 1671700633305,
     "user": {
      "displayName": "Shivani Jaiswal",
      "userId": "09061956050866222184"
     },
     "user_tz": -330
    },
    "id": "84cf1f39",
    "outputId": "183213cf-252b-4f5a-9c83-bd195efaceb4"
   },
   "outputs": [
    {
     "name": "stdout",
     "output_type": "stream",
     "text": [
      "col_0   1   2   3   4   5   6   7    8    9    10   11   12  13  14  15  16  \\\n",
      "row_0                                                                         \n",
      "counts   2   2  10  21  52  72  88  108  111  130  100  102  61  52  44  23   \n",
      "\n",
      "col_0   17  18  19  20  \n",
      "row_0                   \n",
      "counts  11   5   4   2  \n"
     ]
    }
   ],
   "source": [
    "print( pd.crosstab(index=\"counts\", columns= arrival_rate_10))"
   ]
  },
  {
   "cell_type": "code",
   "execution_count": 27,
   "id": "80b0c862",
   "metadata": {
    "colab": {
     "base_uri": "https://localhost:8080/",
     "height": 298
    },
    "executionInfo": {
     "elapsed": 89,
     "status": "ok",
     "timestamp": 1671700633311,
     "user": {
      "displayName": "Shivani Jaiswal",
      "userId": "09061956050866222184"
     },
     "user_tz": -330
    },
    "id": "80b0c862",
    "outputId": "c409086a-5010-45b8-d2ad-1b838012f0a0"
   },
   "outputs": [
    {
     "data": {
      "text/plain": [
       "[Text(0.5, 0, 'Poisson'), Text(0, 0.5, 'Frequency')]"
      ]
     },
     "execution_count": 27,
     "metadata": {},
     "output_type": "execute_result"
    },
    {
     "data": {
      "image/png": "[encoded data removed]",
      "text/plain": [
       "<Figure size 432x288 with 1 Axes>"
      ]
     },
     "metadata": {
      "needs_background": "light"
     },
     "output_type": "display_data"
    }
   ],
   "source": [
    "ax = sns.histplot(arrival_rate_10,\n",
    "                  color='blue')\n",
    "ax.set(xlabel='Poisson', ylabel='Frequency')"
   ]
  },
  {
   "cell_type": "markdown",
   "id": "edf96767",
   "metadata": {
    "id": "edf96767"
   },
   "source": [
    "As with other discrete probability distributions, we can use **cdf()** to check the probability of achieving more or less than a certain number of successes and **pmf()** to check the probability of obtaining a specific number of successes:"
   ]
  },
  {
   "cell_type": "code",
   "execution_count": 28,
   "id": "9b2e7e30",
   "metadata": {
    "colab": {
     "base_uri": "https://localhost:8080/"
    },
    "executionInfo": {
     "elapsed": 79,
     "status": "ok",
     "timestamp": 1671700633312,
     "user": {
      "displayName": "Shivani Jaiswal",
      "userId": "09061956050866222184"
     },
     "user_tz": -330
    },
    "id": "9b2e7e30",
    "outputId": "4a1cf079-593e-45f9-8bc2-051f9e8af2ee"
   },
   "outputs": [
    {
     "data": {
      "text/plain": [
       "0.06708596287903189"
      ]
     },
     "execution_count": 28,
     "metadata": {},
     "output_type": "execute_result"
    }
   ],
   "source": [
    "poisson.cdf(k=5,     # Check the probability of 5 arrivals or less\n",
    "            mu=10)   # With arrival rate 10"
   ]
  },
  {
   "cell_type": "code",
   "execution_count": 29,
   "id": "668df904",
   "metadata": {
    "colab": {
     "base_uri": "https://localhost:8080/"
    },
    "executionInfo": {
     "elapsed": 77,
     "status": "ok",
     "timestamp": 1671700633316,
     "user": {
      "displayName": "Shivani Jaiswal",
      "userId": "09061956050866222184"
     },
     "user_tz": -330
    },
    "id": "668df904",
    "outputId": "4160d8f9-deaa-46ef-b76d-3eb28f81999b"
   },
   "outputs": [
    {
     "data": {
      "text/plain": [
       "0.12511003572113372"
      ]
     },
     "execution_count": 29,
     "metadata": {},
     "output_type": "execute_result"
    }
   ],
   "source": [
    "poisson.pmf(k=10,     # Check the prob f exactly 10 arrivals\n",
    "            mu=10)    # With arrival rate 10"
   ]
  },
  {
   "cell_type": "markdown",
   "id": "ee470193",
   "metadata": {},
   "source": [
    "### Assignment 3\n",
    "A factory produces nails and packs them in boxes of 200. If the probability that a nail is substandard is 0.006, find the probability that a box selected at random contains at most two nails which are substandard. "
   ]
  },
  {
   "cell_type": "code",
   "execution_count": 32,
   "id": "34feeab1",
   "metadata": {},
   "outputs": [
    {
     "data": {
      "text/plain": [
       "0.8794870987836302"
      ]
     },
     "execution_count": 32,
     "metadata": {},
     "output_type": "execute_result"
    }
   ],
   "source": [
    "p = 0.006\n",
    "n = 200\n",
    "l = n*p\n",
    "x = 2\n",
    "\n",
    "probability = poisson.cdf(x, l)\n",
    "probability"
   ]
  },
  {
   "cell_type": "code",
   "execution_count": null,
   "id": "cc1ce041",
   "metadata": {},
   "outputs": [],
   "source": []
  },
  {
   "cell_type": "markdown",
   "id": "4c950981",
   "metadata": {
    "id": "4c950981"
   },
   "source": [
    "## Geometric Distribution\n",
    "A random variable $X$ has a **geometric distribution** and it is referred to as a geometric random variable if and only if its probability distribution is given by:\n",
    "\n",
    "$g(x;p) = (1-p)^{(x-1)}p$ for $x = 1,2,3,...$"
   ]
  },
  {
   "cell_type": "markdown",
   "id": "86f8f373",
   "metadata": {
    "id": "86f8f373"
   },
   "source": [
    "Geometric distribution is  probability distribution for random variable $X$ represnting the number of trails will take to have first success.\n",
    "\n",
    "Let's calculate the probability of $X = 1,2,3,...,10$ number of throws for first successful throw. Consider, probability of a perfect throw (sucess) is $0.6$."
   ]
  },
  {
   "cell_type": "code",
   "execution_count": 34,
   "id": "efd312fc",
   "metadata": {
    "executionInfo": {
     "elapsed": 9,
     "status": "ok",
     "timestamp": 1671711396487,
     "user": {
      "displayName": "MEENU SINGH",
      "userId": "08824988348004969626"
     },
     "user_tz": -330
    },
    "id": "efd312fc"
   },
   "outputs": [],
   "source": [
    "from scipy.stats import geom"
   ]
  },
  {
   "cell_type": "code",
   "execution_count": 35,
   "id": "a0f4b632",
   "metadata": {
    "executionInfo": {
     "elapsed": 671,
     "status": "ok",
     "timestamp": 1671711397801,
     "user": {
      "displayName": "MEENU SINGH",
      "userId": "08824988348004969626"
     },
     "user_tz": -330
    },
    "id": "a0f4b632"
   },
   "outputs": [],
   "source": [
    "# X = Discrete random variable representing number of throws\n",
    "# p = Probability of the perfect throw\n",
    "\n",
    "X = [1, 2, 3, 4, 5, 6, 7, 8, 9, 10]\n",
    "p = 0.6"
   ]
  },
  {
   "cell_type": "code",
   "execution_count": 36,
   "id": "ece82754",
   "metadata": {
    "executionInfo": {
     "elapsed": 702,
     "status": "ok",
     "timestamp": 1671711400867,
     "user": {
      "displayName": "MEENU SINGH",
      "userId": "08824988348004969626"
     },
     "user_tz": -330
    },
    "id": "ece82754"
   },
   "outputs": [],
   "source": [
    "# Calculate geometric probability distribution\n",
    "\n",
    "geom_pd = geom.pmf(X, p)"
   ]
  },
  {
   "cell_type": "code",
   "execution_count": 37,
   "id": "1a5f2a72",
   "metadata": {
    "colab": {
     "base_uri": "https://localhost:8080/",
     "height": 307
    },
    "executionInfo": {
     "elapsed": 934,
     "status": "ok",
     "timestamp": 1671700634187,
     "user": {
      "displayName": "Shivani Jaiswal",
      "userId": "09061956050866222184"
     },
     "user_tz": -330
    },
    "id": "1a5f2a72",
    "outputId": "ca96efe7-071e-4862-ad65-a3ee3d53b0f0"
   },
   "outputs": [
    {
     "data": {
      "image/png": "[encoded data removed]",
      "text/plain": [
       "<Figure size 432x288 with 1 Axes>"
      ]
     },
     "metadata": {
      "needs_background": "light"
     },
     "output_type": "display_data"
    }
   ],
   "source": [
    "# Plot the probability distribution\n",
    "\n",
    "import matplotlib.pyplot as plt\n",
    "\n",
    "plt.plot(X, geom_pd, 'bo')\n",
    "plt.ylabel(\"Probability\", fontsize=\"18\")\n",
    "plt.xlabel(\"X - No. of Throws\", fontsize=\"18\")\n",
    "plt.title(\"Geometric Distribution - No. of Throws Vs Probability\", fontsize=\"18\")\n",
    "plt.vlines(X, 0, geom_pd, colors = 'b', lw = 5, alpha = 0.5)\n",
    "plt.show()"
   ]
  },
  {
   "cell_type": "markdown",
   "id": "cbd75a08",
   "metadata": {},
   "source": [
    "### Assignment 4\n",
    "You play a game of chance that you can either win or lose (there are no other possibilities) until you lose. Your probability of losing is  p=0.57. What is the probability that it takes five games until you lose? "
   ]
  },
  {
   "cell_type": "code",
   "execution_count": 38,
   "id": "7208d648",
   "metadata": {},
   "outputs": [
    {
     "data": {
      "text/plain": [
       "0.01948716570000001"
      ]
     },
     "execution_count": 38,
     "metadata": {},
     "output_type": "execute_result"
    }
   ],
   "source": [
    "p = 0.57\n",
    "r = 5\n",
    "probability = geom.pmf(r,p)\n",
    "probability"
   ]
  },
  {
   "cell_type": "code",
   "execution_count": null,
   "id": "ac4899cc",
   "metadata": {},
   "outputs": [],
   "source": []
  },
  {
   "cell_type": "markdown",
   "id": "3ff7f10d",
   "metadata": {
    "id": "3ff7f10d"
   },
   "source": [
    "# Probability Density Function (Continuous Probability Distribution):\n",
    "A function with values $f(x)$, defined over the set of all real numbers, is called a **probability density function** of the continuous random variable $X$ if and only if\n",
    "$$P(a\\leq X \\leq b) = \\int_a^b f(x) dx$$\n",
    "for any real constants $a$ and $b$ with $a\\leq b$."
   ]
  },
  {
   "cell_type": "markdown",
   "id": "9989ff27",
   "metadata": {
    "id": "9989ff27"
   },
   "source": [
    "**Theorem:** A function can serve as a probability density of a continuous random varibale $X$ if its values, $f(x)$, satisfy the conditions\n",
    "1. $f(x) \\geq 0$ for $-\\infty < x < \\infty$\n",
    "2. $\\int_{-\\infty}^{\\infty} f(x) dx = 1$"
   ]
  },
  {
   "cell_type": "markdown",
   "id": "15dfc0a7",
   "metadata": {
    "id": "15dfc0a7"
   },
   "source": [
    "### Assignment 5\n",
    "Determine the value of k for which the below function serve as probability density function\n",
    "$$f(x) = k.x(16-x^2) \\text{ for } 0\\leq x \\leq 4. $$ "
   ]
  },
  {
   "cell_type": "code",
   "execution_count": 39,
   "id": "6b7c699a",
   "metadata": {},
   "outputs": [
    {
     "data": {
      "text/plain": [
       "0.015625"
      ]
     },
     "execution_count": 39,
     "metadata": {},
     "output_type": "execute_result"
    }
   ],
   "source": [
    "from scipy.integrate import quad\n",
    "\n",
    "def integrand(x):\n",
    "    return x*(16 - x**2)\n",
    "result, error = quad(integrand, 0, 4)\n",
    "k = 1/result\n",
    "k"
   ]
  },
  {
   "cell_type": "code",
   "execution_count": null,
   "id": "5f1a6f14",
   "metadata": {},
   "outputs": [],
   "source": []
  },
  {
   "cell_type": "markdown",
   "id": "ffc6da4d",
   "metadata": {
    "id": "ffc6da4d"
   },
   "source": [
    "### Assignment 6\n",
    "Let $X$ be a continuous random variable whose probability density function is:\n",
    "$$f(x) = 3.e^{-3x}, \\text{ for } x > 0$$\n",
    "* Find $P\\{1 < X < 3\\}$"
   ]
  },
  {
   "cell_type": "code",
   "execution_count": null,
   "id": "9af4c3a1",
   "metadata": {},
   "outputs": [],
   "source": []
  },
  {
   "cell_type": "code",
   "execution_count": null,
   "id": "1120a378",
   "metadata": {},
   "outputs": [],
   "source": []
  },
  {
   "cell_type": "markdown",
   "id": "a0252baf",
   "metadata": {
    "id": "a0252baf"
   },
   "source": [
    "The popular distribution under the continuous probability distribution categories are listed below how they can be used in python:\n",
    "* Uniform distribution\n",
    "* Exponential distribution\n",
    "* Normal distribution"
   ]
  },
  {
   "cell_type": "markdown",
   "id": "ced86fc2",
   "metadata": {
    "id": "ced86fc2"
   },
   "source": [
    "## Uniform Distribution\n",
    "A random variable has a **uniform distribution** and it is referred to as a continuous uniform random variabel if and only if its probability density is given by:\n",
    "\n",
    "$u(x;\\alpha,\\beta) = \\frac{1}{\\beta - \\alpha}$, for $\\alpha < x < \\beta$\n",
    "\n",
    "The parameters $\\alpha$ and $\\beta$ of this probability density are real constants, with $\\alpha < \\beta$."
   ]
  },
  {
   "cell_type": "markdown",
   "id": "fda81c4b",
   "metadata": {
    "id": "fda81c4b"
   },
   "source": [
    "Uniform distribution is applicable where the likelihood of an event occurring is the same all through, such as when you roll a die one time, the probability that it falls on a number between $1$ and $6$ follows a uniform distribution because each number is equally likely to occur.\n",
    "\n",
    "Let's generate some uniform data and plot a density curve:"
   ]
  },
  {
   "cell_type": "code",
   "execution_count": 40,
   "id": "bbb9c869",
   "metadata": {
    "id": "bbb9c869"
   },
   "outputs": [],
   "source": [
    "from scipy.stats import uniform"
   ]
  },
  {
   "cell_type": "code",
   "execution_count": 41,
   "id": "f763bc97",
   "metadata": {
    "id": "f763bc97"
   },
   "outputs": [],
   "source": [
    "uniform_data = uniform.rvs(size=10000,  # Generate 10000 numbers\n",
    "                        loc = 0,       # From 0 \n",
    "                        scale=10)      # To 10"
   ]
  },
  {
   "cell_type": "code",
   "execution_count": 42,
   "id": "95006061",
   "metadata": {
    "colab": {
     "base_uri": "https://localhost:8080/",
     "height": 265
    },
    "executionInfo": {
     "elapsed": 112,
     "status": "ok",
     "timestamp": 1671700634209,
     "user": {
      "displayName": "Shivani Jaiswal",
      "userId": "09061956050866222184"
     },
     "user_tz": -330
    },
    "id": "95006061",
    "outputId": "f2928cb4-5b88-45d4-f296-849899bd7eb9"
   },
   "outputs": [
    {
     "data": {
      "image/png": "[encoded data removed]",
      "text/plain": [
       "<Figure size 640x480 with 1 Axes>"
      ]
     },
     "metadata": {},
     "output_type": "display_data"
    }
   ],
   "source": [
    "sns.kdeplot(data = uniform_data)\n",
    "plt.show()"
   ]
  },
  {
   "cell_type": "markdown",
   "id": "2088bf4b",
   "metadata": {
    "id": "2088bf4b"
   },
   "source": [
    "In the code above, we generated $10,000$ data points from a uniform distribution spanning the range $0$ to $10$. In the density plot, we see that the density of our uniform data is essentially level meaning any given value has the same probability of occurring. The area under a probability density curve is always equal to $1$."
   ]
  },
  {
   "cell_type": "markdown",
   "id": "a3b482d4",
   "metadata": {
    "id": "a3b482d4"
   },
   "source": [
    "**rvs()** generates random numbers from the specified distribution. The arguments to **rvs()** will vary depending on the type of distribution you're working with; in the case of the uniform distribution, we have to specify the starting and ending points and the size (number of random points to generate.)."
   ]
  },
  {
   "cell_type": "markdown",
   "id": "f8b5219f",
   "metadata": {
    "id": "f8b5219f"
   },
   "source": [
    "**cdf()** is used to determine the probability that an observation drawn from a distribution falls below a specified value.\n",
    "\n",
    "In essence, **cdf()** gives you the area under the distribution's density curve to the left of a certain value on the x axis. For example, in the uniform distribution above, there is a $25\\%$ chance that an observation will be in the range $0$ to $2.5$ and a $75\\%$ chance it will fall in the range $2.5$ to $10$. We can confirm this with **cdf()**:"
   ]
  },
  {
   "cell_type": "code",
   "execution_count": 43,
   "id": "ceea4b9d",
   "metadata": {
    "colab": {
     "base_uri": "https://localhost:8080/"
    },
    "executionInfo": {
     "elapsed": 113,
     "status": "ok",
     "timestamp": 1671700634213,
     "user": {
      "displayName": "Shivani Jaiswal",
      "userId": "09061956050866222184"
     },
     "user_tz": -330
    },
    "id": "ceea4b9d",
    "outputId": "9dd24fb5-bd57-43d0-fe19-1952f9ee4265"
   },
   "outputs": [
    {
     "data": {
      "text/plain": [
       "0.25"
      ]
     },
     "execution_count": 43,
     "metadata": {},
     "output_type": "execute_result"
    }
   ],
   "source": [
    "uniform.cdf(x=2.5,         # Cutoff value (quantile) to check\n",
    "            loc=0,         # Distribution start\n",
    "            scale=10)      # Distribution end"
   ]
  },
  {
   "cell_type": "markdown",
   "id": "2105230b",
   "metadata": {
    "id": "2105230b"
   },
   "source": [
    "**ppf()** is the inverse of **cdf()**: it returns the x axis cutoff value (quantile) associated with a given probability. For instance, if we want to know the cutoff value for which we have a 40% chance of drawing an observation below that value, we can use **ppf()**:"
   ]
  },
  {
   "cell_type": "code",
   "execution_count": 44,
   "id": "77e8c591",
   "metadata": {
    "colab": {
     "base_uri": "https://localhost:8080/"
    },
    "executionInfo": {
     "elapsed": 110,
     "status": "ok",
     "timestamp": 1671700634220,
     "user": {
      "displayName": "Shivani Jaiswal",
      "userId": "09061956050866222184"
     },
     "user_tz": -330
    },
    "id": "77e8c591",
    "outputId": "2b3fd30a-7d0d-45e0-ca9e-2b51964de071"
   },
   "outputs": [
    {
     "data": {
      "text/plain": [
       "4.0"
      ]
     },
     "execution_count": 44,
     "metadata": {},
     "output_type": "execute_result"
    }
   ],
   "source": [
    "uniform.ppf(q=0.4,         # Probability cutoff\n",
    "            loc=0,         # Distribution start\n",
    "            scale=10)      # Distribution end"
   ]
  },
  {
   "cell_type": "markdown",
   "id": "33b5ac18",
   "metadata": {
    "id": "33b5ac18"
   },
   "source": [
    "**pdf()** gives you the probability density (height of the distribution) at a given $x$ value. Since the uniform distribution is flat, all $x$ values within its range will have the same probability density and $x$ values outside the range have a probability density of $0$:"
   ]
  },
  {
   "cell_type": "code",
   "execution_count": 45,
   "id": "4670e910",
   "metadata": {
    "colab": {
     "base_uri": "https://localhost:8080/"
    },
    "executionInfo": {
     "elapsed": 104,
     "status": "ok",
     "timestamp": 1671700634222,
     "user": {
      "displayName": "Shivani Jaiswal",
      "userId": "09061956050866222184"
     },
     "user_tz": -330
    },
    "id": "4670e910",
    "outputId": "c118d24a-e8ff-472e-e0ff-e80205511d25"
   },
   "outputs": [
    {
     "name": "stdout",
     "output_type": "stream",
     "text": [
      "Density at x value -1\n",
      "0.0\n",
      "Density at x value 0\n",
      "0.1\n",
      "Density at x value 1\n",
      "0.1\n",
      "Density at x value 2\n",
      "0.1\n",
      "Density at x value 3\n",
      "0.1\n",
      "Density at x value 4\n",
      "0.1\n",
      "Density at x value 5\n",
      "0.1\n",
      "Density at x value 6\n",
      "0.1\n",
      "Density at x value 7\n",
      "0.1\n",
      "Density at x value 8\n",
      "0.1\n",
      "Density at x value 9\n",
      "0.1\n",
      "Density at x value 10\n",
      "0.1\n",
      "Density at x value 11\n",
      "0.0\n"
     ]
    }
   ],
   "source": [
    "for x in range(-1,12):\n",
    "    print(\"Density at x value \" + str(x))\n",
    "    print(uniform.pdf(x, loc=0, scale=10))"
   ]
  },
  {
   "cell_type": "markdown",
   "id": "b699000b",
   "metadata": {
    "id": "b699000b"
   },
   "source": [
    "### Assignment 7\n",
    "Buses arrives at a specified stop at $15$ minute intervals starting at $7$ AM. Rishab arrive at $7$, $7:15$, $7:30$, $7:45$, and so on. If a passenger arrives at the stop at a time taht is uniformly distributed between $7$ and $7:30$, find the probability that he waits:\n",
    "1. less than $5$ minutes for a bus.\n",
    "2. more than $10$ minutes for a bus."
   ]
  },
  {
   "cell_type": "markdown",
   "id": "be6eaca8",
   "metadata": {
    "id": "be6eaca8"
   },
   "source": [
    "**Solution**: - Let $X$ denotes the number of minutes past 7 that the Rishabh arrives at the stop. Since $X$ is a uniform random variable over the interval $(0,30)$, it follows that he will have to wait less than 5 minutes if and only if he arrives between $7:10$ and $7:45$ or between $7:25$ and $7:30$. Hence, the desires probability for part 1 is \n",
    "$$P\\{10<X<15\\} + P\\{25<X<30\\}$$"
   ]
  },
  {
   "cell_type": "code",
   "execution_count": null,
   "id": "c10928b3",
   "metadata": {
    "id": "c10928b3"
   },
   "outputs": [],
   "source": []
  },
  {
   "cell_type": "markdown",
   "id": "5888e1ec",
   "metadata": {
    "id": "5888e1ec"
   },
   "source": [
    "Similarly, he would have to wait more than $10$ minutes if he arrives between $7$ and $7:05$ or between $7:15$ and $7:20$, so the probability for part (b) is\n",
    "$$P\\{0<X<5\\} + P\\{15<X<20\\}$$"
   ]
  },
  {
   "cell_type": "code",
   "execution_count": null,
   "id": "cf34e894",
   "metadata": {
    "id": "cf34e894"
   },
   "outputs": [],
   "source": []
  },
  {
   "cell_type": "markdown",
   "id": "70f9a281",
   "metadata": {
    "id": "70f9a281"
   },
   "source": [
    "## Exponential Distribution\n",
    "A random variable $X$ has an **exponential distribution** and it is referred to as exponential random variable if and only if its probability density is given by:\n",
    "\n",
    "$g(x;\\lambda) = \\lambda e^{-\\lambda x}$ for $x\\geq0$ and $\\lambda > 0$ is the parameter of the distribution, often called the *rate parameter*."
   ]
  },
  {
   "cell_type": "markdown",
   "id": "de04b57e",
   "metadata": {
    "id": "de04b57e"
   },
   "source": [
    "The exponential distribution descirbes how long it takes for a continuous process to change state. The exponential distribution is the probability distribution of the time between events in a Poisson point process in probability and statistics.\n",
    "\n",
    "Let's generate some uniform data and plot a curve:"
   ]
  },
  {
   "cell_type": "code",
   "execution_count": 46,
   "id": "d0bb3625",
   "metadata": {
    "id": "d0bb3625"
   },
   "outputs": [],
   "source": [
    "from scipy.stats import expon"
   ]
  },
  {
   "cell_type": "code",
   "execution_count": 47,
   "id": "25aac6d8",
   "metadata": {
    "id": "25aac6d8"
   },
   "outputs": [],
   "source": [
    "expon_data = expon.rvs(size=10000,  # Specify output shape\n",
    "                        loc = 0,       # Specify the location of the distribution. Default \n",
    "                        scale = 1/10)  # Specify the scale parameter, beta = 1/lambda. Must be non-negative. Default is 1.0."
   ]
  },
  {
   "cell_type": "code",
   "execution_count": 48,
   "id": "a405f239",
   "metadata": {
    "colab": {
     "base_uri": "https://localhost:8080/",
     "height": 165
    },
    "executionInfo": {
     "elapsed": 596,
     "status": "error",
     "timestamp": 1671700634723,
     "user": {
      "displayName": "Shivani Jaiswal",
      "userId": "09061956050866222184"
     },
     "user_tz": -330
    },
    "id": "a405f239",
    "outputId": "ad703d6b-aa78-425a-9d40-6680d812dddd"
   },
   "outputs": [
    {
     "data": {
      "text/plain": [
       "0.09943899563103754"
      ]
     },
     "execution_count": 48,
     "metadata": {},
     "output_type": "execute_result"
    }
   ],
   "source": [
    "np.mean(expon_data)"
   ]
  },
  {
   "cell_type": "code",
   "execution_count": 49,
   "id": "56c05d99",
   "metadata": {
    "colab": {
     "base_uri": "https://localhost:8080/",
     "height": 465
    },
    "executionInfo": {
     "elapsed": 900,
     "status": "error",
     "timestamp": 1671700658944,
     "user": {
      "displayName": "Shivani Jaiswal",
      "userId": "09061956050866222184"
     },
     "user_tz": -330
    },
    "id": "56c05d99",
    "outputId": "f498e730-d44d-42a6-aa9e-a15c450359f6"
   },
   "outputs": [
    {
     "data": {
      "image/png": "[encoded data removed]",
      "text/plain": [
       "<Figure size 640x480 with 1 Axes>"
      ]
     },
     "metadata": {},
     "output_type": "display_data"
    }
   ],
   "source": [
    "sns.kdeplot(data = expon_data)\n",
    "plt.legend(['Exponential Distribution', 'Mean'])\n",
    "plt.axvline(np.mean(expon_data), color = 'red', label = 'mean')\n",
    "plt.show()"
   ]
  },
  {
   "cell_type": "markdown",
   "id": "a7d76268",
   "metadata": {
    "id": "a7d76268"
   },
   "source": [
    "**rvs()** is used to generates random numbers from the distribution.\n",
    "\n",
    "**Syntax: -** *expon.rvs(loc = 0, scale = 1, size = 1)*"
   ]
  },
  {
   "cell_type": "markdown",
   "id": "0f294a5a",
   "metadata": {
    "id": "0f294a5a"
   },
   "source": [
    "**cdf()** is used to determine the probability that an observation drawn from a distribution falls below a specified value.\n",
    "\n",
    "**Syntax: -** *expon.cdf(x, loc = 0, scale = 1)*"
   ]
  },
  {
   "cell_type": "markdown",
   "id": "be8273c2",
   "metadata": {
    "id": "be8273c2"
   },
   "source": [
    "**ppf()** is the inverse of **cdf()**: it returns the $x$ axis cutoff value (quantile) associated with a given probability.\n",
    "\n",
    "**Syntax: -** *expon.ppf(q, loc = 0, scale =1)*"
   ]
  },
  {
   "cell_type": "markdown",
   "id": "7c81215a",
   "metadata": {
    "id": "7c81215a"
   },
   "source": [
    "**pdf()** gives you the probability density (height of the distribution) at a given $x$ value.\n",
    "\n",
    "**Syntax: -** *expon.pdf(x, loc = 0, scale = 1)*"
   ]
  },
  {
   "cell_type": "markdown",
   "id": "73f67598",
   "metadata": {
    "id": "73f67598"
   },
   "source": [
    "**Parameters**\n",
    "\n",
    "|Parameter| |\n",
    "| --- | --- |\n",
    "| x - | Required. Specify float or array_like of floats representing random variables|\n",
    "| q - | Required. Specify float or array_like of floats representing probabilities |\n",
    "| loc - | Optional. Specify the location of the distribution. Default is 0 |\n",
    "| scale - | Optional. Specify the scale parameters $\\frac{1}{\\lambda}$. Must be non-negative. Default is 1|\n",
    "| size - | Optional. Specify output shape|"
   ]
  },
  {
   "cell_type": "markdown",
   "id": "af8d5e21",
   "metadata": {
    "id": "af8d5e21"
   },
   "source": [
    "### Assignment 8\n",
    "Suppose that the length of a phone call ion minutes is an exponential random variable with parameter $\\lambda = \\frac{1}{10}$. If someone arrives immediately ahead of you at a public telephone booth, find the probability that you will have to wait\n",
    "1. more than $10$ minutes\n",
    "2. between $10$ and $20$ minutes"
   ]
  },
  {
   "cell_type": "code",
   "execution_count": 50,
   "id": "b3381256",
   "metadata": {
    "id": "b3381256"
   },
   "outputs": [],
   "source": [
    "# To find P{X>10} = 1-F(10)\n"
   ]
  },
  {
   "cell_type": "code",
   "execution_count": 51,
   "id": "c64fa43a",
   "metadata": {
    "id": "c64fa43a"
   },
   "outputs": [],
   "source": [
    "# P{10<X<20}\n"
   ]
  },
  {
   "cell_type": "markdown",
   "id": "38bc6bec",
   "metadata": {
    "id": "38bc6bec"
   },
   "source": [
    "## Normal Distribution\n",
    "This is a subcategory of continuous probability distribution which can also be called a **Gaussian distribution**. A random variable $X$ has a **normal distribution** and it is referred to as a normal random variable if and only if its probability density is given by:\n",
    "\n",
    "\n",
    "$f(x;\\mu,\\sigma) = \\frac{1}{\\sqrt{2\\pi}}e^{-(x - \\mu)^2/ 2\\sigma^2}$, for $-\\infty < x < \\infty$\n",
    "\n",
    "where $\\mu$ is mean and $\\sigma^2$ is variance"
   ]
  },
  {
   "cell_type": "markdown",
   "id": "5c6f0f02",
   "metadata": {
    "id": "5c6f0f02"
   },
   "source": [
    "**Normal Distribution** is the default probability for many real-world scenarios. It represent a **symmetric distribution** where most of the observations cluster around the central peak called as **mean** of the distribution.\n",
    "\n",
    "**Gaussian Distribution** which typically has two parameters: **mean** and **standard deviation**. The probabilities for values occurring near the mean are higher than the values far away from the mean.\n",
    "\n",
    "Let us general normal distributed data and plot curve."
   ]
  },
  {
   "cell_type": "code",
   "execution_count": 52,
   "id": "c26bc290",
   "metadata": {
    "id": "c26bc290"
   },
   "outputs": [],
   "source": [
    "from scipy.stats import norm"
   ]
  },
  {
   "cell_type": "code",
   "execution_count": 53,
   "id": "2d1ceeb4",
   "metadata": {
    "id": "2d1ceeb4"
   },
   "outputs": [],
   "source": [
    "mean = 2\n",
    "std = 3\n",
    "norm_data = norm.rvs(size = 10000,\n",
    "                    loc = mean,\n",
    "                    scale = std)"
   ]
  },
  {
   "cell_type": "code",
   "execution_count": 54,
   "id": "a65d6551",
   "metadata": {
    "colab": {
     "base_uri": "https://localhost:8080/",
     "height": 265
    },
    "executionInfo": {
     "elapsed": 14,
     "status": "ok",
     "timestamp": 1671700673738,
     "user": {
      "displayName": "Shivani Jaiswal",
      "userId": "09061956050866222184"
     },
     "user_tz": -330
    },
    "id": "a65d6551",
    "outputId": "a6eec86f-6f39-40be-e0d0-97c6507b050c"
   },
   "outputs": [
    {
     "data": {
      "image/png": "[encoded data removed]",
      "text/plain": [
       "<Figure size 640x480 with 1 Axes>"
      ]
     },
     "metadata": {},
     "output_type": "display_data"
    }
   ],
   "source": [
    "sns.kdeplot(data = norm_data)\n",
    "plt.axvline(mean, color = 'red', label = 'mean')\n",
    "plt.legend(['Normal Distribution', 'Mean'])\n",
    "\n",
    "plt.show()"
   ]
  },
  {
   "cell_type": "markdown",
   "id": "46a252c2",
   "metadata": {
    "id": "46a252c2"
   },
   "source": [
    "**rvs()** is used to generates random numbers from the distribution.\n",
    "\n",
    "**Syntax: -** *norm.rvs(loc = mean, scale = std, size = 1)*"
   ]
  },
  {
   "cell_type": "markdown",
   "id": "19bdacae",
   "metadata": {
    "id": "19bdacae"
   },
   "source": [
    "**cdf()** is used to determine the probability that an observation drawn from a distribution falls below a specified value.\n",
    "\n",
    "**Syntax: -** *norm.cdf(x, loc = mean, scale = std)*"
   ]
  },
  {
   "cell_type": "markdown",
   "id": "a42384ae",
   "metadata": {
    "id": "a42384ae"
   },
   "source": [
    "**ppf()** is the inverse of **cdf()**: it returns the $x$ axis cutoff value (quantile) associated with a given probability.\n",
    "\n",
    "**Syntax: -** *norm.ppf(q, loc = mean, scale = std)*"
   ]
  },
  {
   "cell_type": "markdown",
   "id": "bf8c4db2",
   "metadata": {
    "id": "bf8c4db2"
   },
   "source": [
    "**pdf()** gives you the probability density (height of the distribution) at a given $x$ value.\n",
    "\n",
    "**Syntax: -** *norm.pdf(x, loc = mean, scale = std)*"
   ]
  },
  {
   "cell_type": "markdown",
   "id": "6d017fa4",
   "metadata": {
    "id": "6d017fa4"
   },
   "source": [
    "### Assignment 9\n",
    "If $X$ is a normal random variable with parameter $\\mu =3$ and $\\sigma^2 = 9$. find $P\\{|X-3|>6\\}$"
   ]
  },
  {
   "cell_type": "code",
   "execution_count": null,
   "id": "f6d0a687",
   "metadata": {
    "id": "f6d0a687"
   },
   "outputs": [],
   "source": []
  },
  {
   "cell_type": "code",
   "execution_count": null,
   "id": "9ea45e20",
   "metadata": {
    "id": "9ea45e20"
   },
   "outputs": [],
   "source": []
  }
 ],
 "metadata": {
  "colab": {
   "provenance": []
  },
  "kernelspec": {
   "display_name": "Python 3 (ipykernel)",
   "language": "python",
   "name": "python3"
  },
  "language_info": {
   "codemirror_mode": {
    "name": "ipython",
    "version": 3
   },
   "file_extension": ".py",
   "mimetype": "text/x-python",
   "name": "python",
   "nbconvert_exporter": "python",
   "pygments_lexer": "ipython3",
   "version": "3.9.7"
  }
 },
 "nbformat": 4,
 "nbformat_minor": 5
}
