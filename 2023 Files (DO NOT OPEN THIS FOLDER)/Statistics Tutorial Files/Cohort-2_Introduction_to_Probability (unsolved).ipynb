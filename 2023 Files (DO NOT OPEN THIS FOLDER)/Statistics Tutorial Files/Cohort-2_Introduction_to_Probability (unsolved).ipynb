{
 "cells": [
  {
   "cell_type": "markdown",
   "id": "28597615",
   "metadata": {
    "id": "28597615"
   },
   "source": [
    "## Introduction to Probability\n",
    "\n",
    "### Basic definitions\n",
    "\n",
    "#### Random Experiments: \n",
    "*  Any process of observation is referred to as an experiment. The results of an observation are called the outcomes of the experiment. An experiment is called a random experiment if its outcome cannot be predicted.\n",
    "##### Examples: Roll of a die, the toss of a coin, drawing a card from a deck, or selecting a message signal for transmission from several messages.\n",
    "\n",
    "#### Sample Space:\n",
    "* A collection of all possible outcomes of an experiment is called  sample space. It is denoted by S.\n",
    "##### Example: A coin is tossed once, then sample space is\n",
    "                S = {H, T}\n",
    "\n",
    "#### Event:\n",
    "* Any subset of the sample space S is called an event.\n",
    "                \n",
    "\n",
    "#### Probability\n",
    "* The probability is the measure of the likelihood of an event to happen. The formula for probability is given by\n",
    "\n",
    "$$P(E) = \\frac{\\text{Number of Favourable Outcome}}{\\text{Number of total outcomes}}$$"
   ]
  },
  {
   "cell_type": "markdown",
   "id": "01ec8691",
   "metadata": {
    "id": "01ec8691"
   },
   "source": [
    "### Elementary Properties of Probability: \n",
    "##### Let A and B be any two events of the sample space S, then\n",
    "##### 1.  $P(A) + P(\\overline{A}) = 1$  , where  $\\overline{A}$ is complement of event A\n",
    "##### 2.  $P(A \\cup B) = P(A)+  P(B) - P(A \\cap B)$"
   ]
  },
  {
   "cell_type": "markdown",
   "id": "5951cca1",
   "metadata": {
    "id": "5951cca1"
   },
   "source": [
    "## Conditional Probability\n",
    "The conditional probability of an event $A$ given event $B$, denoted by $P(A | B)$, is defined as\n",
    "$$P(A|B) = \\frac{P(A\\cap B)}{P(B)} \\text{   ,   } P(B)>0$$"
   ]
  },
  {
   "cell_type": "markdown",
   "id": "8f790769",
   "metadata": {
    "id": "8f790769"
   },
   "source": [
    "## Bayes' Theorem Statement\n",
    "If $E_1$, $E_2$, $E_3$, …, $E_n$ are non-empty events which form a partition of the sample space S, that is, $E_1$, $E_2$, $E_3$, …, $E_n$ are pairwise disjoint and $E_1\\cup E_2 \\cup E_3\\cup …, \\cup E_n = S$. If A is any event of non-zero probability that occurs with some $E_n$, then\n",
    "\n",
    "$P(E_i|A) = \\frac{P(A|E_i)*P(E_i)}{\\sum_i^n P(A|E_i)*P(E_i)}$ ; $i=1,2,3,....,n$"
   ]
  },
  {
   "cell_type": "markdown",
   "id": "86d2838b",
   "metadata": {
    "id": "86d2838b"
   },
   "source": [
    "## Expectation\n",
    "The **expectation** of a random variable $X$. For a discrete random variable $X$ having the possible values $x_1,x_2,...,x_n$, the expectation of $X$ is defined as\n",
    "$$ E(X) = x_1P(X=x_1)+x_2P(X=x_2)+...+x_nP(X=x_n) = \\sum_{i=1}^{n}x_iP(X=x_i)$$"
   ]
  },
  {
   "cell_type": "markdown",
   "id": "5ab79c7b",
   "metadata": {
    "id": "5ab79c7b"
   },
   "source": [
    "## Questions\n",
    "\n",
    "**Question 1**. In a simultaneous throw of a two dice, what is the probability of getting a doublet?\n",
    "\n",
    "**Question 2**. The probability of 3 students solving a question are $\\frac{1}{3}$, $\\frac{1}{5}$, and $\\frac{1}{7}$ respectively. Find the probability that at least one of them solve the problem.\n",
    "\n",
    "**Question 3**. Find the probability of drawing a card that is a Heart, a face card (such as Jacks, Queens, or Kings), or a combination of both, such as a Queen of Hearts. \n",
    "\n",
    "**Question 4**. 10% of the bulbs produced in a factory are of red colour and 2% are red and defective. If one bulb is picked up at random, determine the probability of its being defective if it is red.\n",
    "\n",
    "**Question 5**. Consider the data in the following table:\n",
    "\n",
    "|  | reserved lot | open lot |\n",
    "| --- | --- |--- |\n",
    "| junior | 75 | 175 |\n",
    "| senior | 125 | 275 |\n",
    "\n",
    "What is the probability of picking a junior, given that the student parked in the reserved lot? \n",
    "\n",
    "**Question 6** Here is a table tabulated frequencies for the majors and genders of the students in the class survey.\n",
    "\n",
    "| Gender <br> Major | Female | Male | Total |\n",
    "| --- | --- |--- | --- |\n",
    "| Finance | 12 | 20 | 32 |\n",
    "| Other | 4 | 3 | 7 |\n",
    "| Undecided | 10 | 15 | 25 |\n",
    "| Total | 26 | 38 | 64 |\n",
    "\n",
    "Find the following conditional probability\n",
    "\n",
    "* Probability of students listed other subject for Major.\n",
    "* Probability of female students listed Finance subject as Major.\n",
    "* Probability of students who listed Finance as Major are Male.\n",
    "* Probability of male students listed Other subject as Major.\n",
    "* Probability of students who listed Undecided as Major are Female.\n",
    "* OR and AND questions form openstax\n",
    "\n",
    "**Question 7**. Three identical boxes contain red and white balls. The first box contains 3 red and 2 white balls, the second box has 4 red and 5 white balls, and the third box has 2 red and 4 white balls. A box is chosen very randomly and a ball is drawn from it. If the ball that is drawn out is red, what will be the probability that the second box is chosen? \n",
    "\n",
    "**Question 8**. In a bolt factory, three machines M₁, M₂, and M₃ manufacture 2000, 2500, and 4000 bolts every day. Of their output 3%, 4%, and 2.5% are defective bolts. One of the bolts is drawn very randomly from a day’s production and is found to be defective. What is the probability that it was produced by machine M₂?\n",
    "\n",
    "**Question 9**. Suppose an individuals thinks that if they quit their job and work for themselves that there is a 60% chance they could earn Rs. 20,0000 in their first year, a 30 % chance they could earn Rs. 60,0000, and a 10 % chance they would earn $ 0. What is the expected value for their income in the first year of entrepreneurship ? \n",
    "\n",
    "\n",
    "\n",
    "| Amount(X) | Probability P(X) |\n",
    "| --- | --- |\n",
    "| Rs. 200000 | 0.6 |\n",
    "| Rs. 600000 | 0.3 |\n",
    "| Rs. 0 | 0.1 |\n",
    "\n",
    "**Question 10**.\n",
    "Suppose that the random variable $X$ is equal to the number of hits obtained by a certain baseball player in his next $3$ at bats. If $P\\{X=1\\} = 0.3, P\\{X=2\\} = 0.2, \\text{ and } P\\{ X = 0\\} = 3 P\\{X=3\\} $ find $E[X]$ and $var(X)$.\n",
    "#### Hint\n",
    "* Sum of probability is 1.\n"
   ]
  },
  {
   "cell_type": "code",
   "execution_count": 2,
   "id": "b805a767",
   "metadata": {},
   "outputs": [
    {
     "data": {
      "text/plain": [
       "0.16666666666666666"
      ]
     },
     "execution_count": 2,
     "metadata": {},
     "output_type": "execute_result"
    }
   ],
   "source": [
    "def probability_of_doublet():\n",
    "    total_outcomes = 6*6\n",
    "    \n",
    "    doublet_outcomes = 0\n",
    "    for die1 in range(1,7):\n",
    "        for die2 in range (1,7):\n",
    "            if die1 == die2:\n",
    "                doublet_outcomes +=1\n",
    "    probability =    doublet_outcomes/ total_outcomes\n",
    "    \n",
    "    return probability\n",
    "result = probability_of_doublet()\n",
    "result"
   ]
  },
  {
   "cell_type": "code",
   "execution_count": null,
   "id": "2578aa91",
   "metadata": {},
   "outputs": [],
   "source": []
  },
  {
   "cell_type": "code",
   "execution_count": null,
   "id": "18a2bf45",
   "metadata": {},
   "outputs": [],
   "source": []
  },
  {
   "cell_type": "code",
   "execution_count": null,
   "id": "96e99bf2",
   "metadata": {},
   "outputs": [],
   "source": []
  },
  {
   "cell_type": "code",
   "execution_count": null,
   "id": "c14ce1ab",
   "metadata": {},
   "outputs": [],
   "source": []
  },
  {
   "cell_type": "code",
   "execution_count": null,
   "id": "1349f7e8",
   "metadata": {},
   "outputs": [],
   "source": []
  },
  {
   "cell_type": "code",
   "execution_count": null,
   "id": "1592b00f",
   "metadata": {},
   "outputs": [],
   "source": []
  },
  {
   "cell_type": "code",
   "execution_count": null,
   "id": "532c709b",
   "metadata": {},
   "outputs": [],
   "source": []
  },
  {
   "cell_type": "code",
   "execution_count": null,
   "id": "7307a315",
   "metadata": {},
   "outputs": [],
   "source": []
  },
  {
   "cell_type": "code",
   "execution_count": null,
   "id": "57f10a79",
   "metadata": {},
   "outputs": [],
   "source": []
  },
  {
   "cell_type": "code",
   "execution_count": null,
   "id": "ce60b9bf",
   "metadata": {},
   "outputs": [],
   "source": []
  },
  {
   "cell_type": "code",
   "execution_count": null,
   "id": "fa11991f",
   "metadata": {},
   "outputs": [],
   "source": []
  },
  {
   "cell_type": "code",
   "execution_count": null,
   "id": "01691ed4",
   "metadata": {},
   "outputs": [],
   "source": []
  },
  {
   "cell_type": "code",
   "execution_count": null,
   "id": "71fb99d6",
   "metadata": {},
   "outputs": [],
   "source": []
  },
  {
   "cell_type": "code",
   "execution_count": null,
   "id": "61e3c172",
   "metadata": {},
   "outputs": [],
   "source": []
  },
  {
   "cell_type": "code",
   "execution_count": 3,
   "id": "5f68a833",
   "metadata": {
    "id": "5f68a833"
   },
   "outputs": [
    {
     "data": {
      "text/plain": [
       "0.5428571428571427"
      ]
     },
     "execution_count": 3,
     "metadata": {},
     "output_type": "execute_result"
    }
   ],
   "source": [
    "prob_A = 1/3\n",
    "prob_B = 1/5\n",
    "prob_C = 1/7\n",
    "prob_not_ABC = (1-prob_A)*(1-prob_B)*(1-prob_C)\n",
    "prob_A_B_C = 1- prob_not_ABC\n",
    "prob_A_B_C"
   ]
  },
  {
   "cell_type": "code",
   "execution_count": null,
   "id": "14b29109",
   "metadata": {
    "id": "14b29109"
   },
   "outputs": [],
   "source": []
  },
  {
   "cell_type": "code",
   "execution_count": null,
   "id": "95cdb562",
   "metadata": {
    "id": "95cdb562"
   },
   "outputs": [],
   "source": []
  },
  {
   "cell_type": "code",
   "execution_count": null,
   "id": "00438974",
   "metadata": {
    "id": "00438974"
   },
   "outputs": [],
   "source": []
  },
  {
   "cell_type": "code",
   "execution_count": null,
   "id": "bdfae1d5",
   "metadata": {
    "id": "bdfae1d5"
   },
   "outputs": [],
   "source": []
  },
  {
   "cell_type": "code",
   "execution_count": null,
   "id": "f5a2af8a",
   "metadata": {
    "id": "f5a2af8a"
   },
   "outputs": [],
   "source": []
  },
  {
   "cell_type": "code",
   "execution_count": null,
   "id": "9a194aa8",
   "metadata": {
    "id": "9a194aa8"
   },
   "outputs": [],
   "source": []
  },
  {
   "cell_type": "code",
   "execution_count": null,
   "id": "a8d57589",
   "metadata": {
    "id": "a8d57589"
   },
   "outputs": [],
   "source": []
  },
  {
   "cell_type": "code",
   "execution_count": null,
   "id": "a3023b98",
   "metadata": {
    "id": "a3023b98"
   },
   "outputs": [],
   "source": []
  }
 ],
 "metadata": {
  "colab": {
   "provenance": []
  },
  "kernelspec": {
   "display_name": "Python 3 (ipykernel)",
   "language": "python",
   "name": "python3"
  },
  "language_info": {
   "codemirror_mode": {
    "name": "ipython",
    "version": 3
   },
   "file_extension": ".py",
   "mimetype": "text/x-python",
   "name": "python",
   "nbconvert_exporter": "python",
   "pygments_lexer": "ipython3",
   "version": "3.9.7"
  }
 },
 "nbformat": 4,
 "nbformat_minor": 5
}
