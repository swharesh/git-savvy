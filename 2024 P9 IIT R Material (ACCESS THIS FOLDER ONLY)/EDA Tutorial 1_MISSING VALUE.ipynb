{
 "cells": [
  {
   "cell_type": "markdown",
   "id": "f9fe9faf",
   "metadata": {},
   "source": [
    "# Working with missing data"
   ]
  },
  {
   "cell_type": "markdown",
   "id": "8af1ee7d",
   "metadata": {},
   "source": [
    "In this section, we will discuss missing (also referred to as NA) values in pandas."
   ]
  },
  {
   "cell_type": "markdown",
   "id": "0c3a0417",
   "metadata": {},
   "source": [
    "**Note**\n",
    "\n",
    "The choice of using **NaN** internally to denote missing data was largely for simplicity and performance reasons. Starting from pandas 1.0, some optional data types start experimenting with a native **NA** scalar using a mask-based approach. See here for more."
   ]
  },
  {
   "cell_type": "markdown",
   "id": "26ce31b5",
   "metadata": {},
   "source": [
    "See the cookbook for some advanced strategies."
   ]
  },
  {
   "cell_type": "markdown",
   "id": "4549bed5",
   "metadata": {},
   "source": [
    "# Values considered “missing”"
   ]
  },
  {
   "cell_type": "markdown",
   "id": "260f5a38",
   "metadata": {},
   "source": [
    "As data comes in many shapes and forms, pandas aims to be flexible with regard to handling missing data. While **NaN** is the default missing value marker for reasons of computational speed and convenience, we need to be able to easily detect this value with data of different types: floating point, integer, boolean, and general object. In many cases, however, the Python **None** will arise and we wish to also consider that “missing” or “not available” or “NA”.\n",
    "\n",
    "**Note**\n",
    "\n",
    "If you want to consider inf and -inf to be “NA” in computations, you can set \n",
    "\n",
    "**pandas.options.mode.use_inf_as_na = True.**\n"
   ]
  },
  {
   "cell_type": "code",
   "execution_count": 1,
   "id": "3127b600",
   "metadata": {},
   "outputs": [],
   "source": [
    "import pandas as pd\n",
    "import numpy as np"
   ]
  },
  {
   "cell_type": "code",
   "execution_count": 2,
   "id": "3b044361",
   "metadata": {},
   "outputs": [],
   "source": [
    "df = pd.DataFrame(\n",
    "    np.random.randn(5, 3),\n",
    "    index=[\"a\", \"c\", \"e\", \"f\", \"h\"],\n",
    "    columns=[\"one\", \"two\", \"three\"],\n",
    ")\n"
   ]
  },
  {
   "cell_type": "code",
   "execution_count": 3,
   "id": "115e1168",
   "metadata": {},
   "outputs": [],
   "source": [
    "df[\"four\"] = \"bar\""
   ]
  },
  {
   "cell_type": "code",
   "execution_count": 6,
   "id": "4eba96cb",
   "metadata": {},
   "outputs": [],
   "source": [
    "df[\"five\"] = df[\"one\"] > 0"
   ]
  },
  {
   "cell_type": "code",
   "execution_count": 7,
   "id": "80b6475f",
   "metadata": {},
   "outputs": [
    {
     "data": {
      "text/html": [
       "<div>\n",
       "<style scoped>\n",
       "    .dataframe tbody tr th:only-of-type {\n",
       "        vertical-align: middle;\n",
       "    }\n",
       "\n",
       "    .dataframe tbody tr th {\n",
       "        vertical-align: top;\n",
       "    }\n",
       "\n",
       "    .dataframe thead th {\n",
       "        text-align: right;\n",
       "    }\n",
       "</style>\n",
       "<table border=\"1\" class=\"dataframe\">\n",
       "  <thead>\n",
       "    <tr style=\"text-align: right;\">\n",
       "      <th></th>\n",
       "      <th>one</th>\n",
       "      <th>two</th>\n",
       "      <th>three</th>\n",
       "      <th>four</th>\n",
       "      <th>five</th>\n",
       "    </tr>\n",
       "  </thead>\n",
       "  <tbody>\n",
       "    <tr>\n",
       "      <th>a</th>\n",
       "      <td>1.759126</td>\n",
       "      <td>-0.713632</td>\n",
       "      <td>-1.183805</td>\n",
       "      <td>bar</td>\n",
       "      <td>True</td>\n",
       "    </tr>\n",
       "    <tr>\n",
       "      <th>c</th>\n",
       "      <td>0.810318</td>\n",
       "      <td>1.026181</td>\n",
       "      <td>0.025248</td>\n",
       "      <td>bar</td>\n",
       "      <td>True</td>\n",
       "    </tr>\n",
       "    <tr>\n",
       "      <th>e</th>\n",
       "      <td>0.490947</td>\n",
       "      <td>0.138604</td>\n",
       "      <td>0.823038</td>\n",
       "      <td>bar</td>\n",
       "      <td>True</td>\n",
       "    </tr>\n",
       "    <tr>\n",
       "      <th>f</th>\n",
       "      <td>-0.547248</td>\n",
       "      <td>1.349807</td>\n",
       "      <td>0.108538</td>\n",
       "      <td>bar</td>\n",
       "      <td>False</td>\n",
       "    </tr>\n",
       "    <tr>\n",
       "      <th>h</th>\n",
       "      <td>-0.060108</td>\n",
       "      <td>-0.379824</td>\n",
       "      <td>-1.274125</td>\n",
       "      <td>bar</td>\n",
       "      <td>False</td>\n",
       "    </tr>\n",
       "  </tbody>\n",
       "</table>\n",
       "</div>"
      ],
      "text/plain": [
       "        one       two     three four   five\n",
       "a  1.759126 -0.713632 -1.183805  bar   True\n",
       "c  0.810318  1.026181  0.025248  bar   True\n",
       "e  0.490947  0.138604  0.823038  bar   True\n",
       "f -0.547248  1.349807  0.108538  bar  False\n",
       "h -0.060108 -0.379824 -1.274125  bar  False"
      ]
     },
     "execution_count": 7,
     "metadata": {},
     "output_type": "execute_result"
    }
   ],
   "source": [
    "df"
   ]
  },
  {
   "cell_type": "code",
   "execution_count": 6,
   "id": "aceff2ad",
   "metadata": {},
   "outputs": [
    {
     "data": {
      "text/html": [
       "<div>\n",
       "<style scoped>\n",
       "    .dataframe tbody tr th:only-of-type {\n",
       "        vertical-align: middle;\n",
       "    }\n",
       "\n",
       "    .dataframe tbody tr th {\n",
       "        vertical-align: top;\n",
       "    }\n",
       "\n",
       "    .dataframe thead th {\n",
       "        text-align: right;\n",
       "    }\n",
       "</style>\n",
       "<table border=\"1\" class=\"dataframe\">\n",
       "  <thead>\n",
       "    <tr style=\"text-align: right;\">\n",
       "      <th></th>\n",
       "      <th>one</th>\n",
       "      <th>two</th>\n",
       "      <th>three</th>\n",
       "      <th>four</th>\n",
       "      <th>five</th>\n",
       "    </tr>\n",
       "  </thead>\n",
       "  <tbody>\n",
       "    <tr>\n",
       "      <th>a</th>\n",
       "      <td>-0.428489</td>\n",
       "      <td>-1.137496</td>\n",
       "      <td>1.494745</td>\n",
       "      <td>bar</td>\n",
       "      <td>False</td>\n",
       "    </tr>\n",
       "    <tr>\n",
       "      <th>b</th>\n",
       "      <td>NaN</td>\n",
       "      <td>NaN</td>\n",
       "      <td>NaN</td>\n",
       "      <td>NaN</td>\n",
       "      <td>NaN</td>\n",
       "    </tr>\n",
       "    <tr>\n",
       "      <th>c</th>\n",
       "      <td>1.537751</td>\n",
       "      <td>-0.708188</td>\n",
       "      <td>0.796904</td>\n",
       "      <td>bar</td>\n",
       "      <td>True</td>\n",
       "    </tr>\n",
       "    <tr>\n",
       "      <th>d</th>\n",
       "      <td>NaN</td>\n",
       "      <td>NaN</td>\n",
       "      <td>NaN</td>\n",
       "      <td>NaN</td>\n",
       "      <td>NaN</td>\n",
       "    </tr>\n",
       "    <tr>\n",
       "      <th>e</th>\n",
       "      <td>0.438832</td>\n",
       "      <td>0.376937</td>\n",
       "      <td>1.076602</td>\n",
       "      <td>bar</td>\n",
       "      <td>True</td>\n",
       "    </tr>\n",
       "    <tr>\n",
       "      <th>f</th>\n",
       "      <td>1.607654</td>\n",
       "      <td>0.615904</td>\n",
       "      <td>-1.848926</td>\n",
       "      <td>bar</td>\n",
       "      <td>True</td>\n",
       "    </tr>\n",
       "    <tr>\n",
       "      <th>g</th>\n",
       "      <td>NaN</td>\n",
       "      <td>NaN</td>\n",
       "      <td>NaN</td>\n",
       "      <td>NaN</td>\n",
       "      <td>NaN</td>\n",
       "    </tr>\n",
       "    <tr>\n",
       "      <th>h</th>\n",
       "      <td>0.939784</td>\n",
       "      <td>-1.314244</td>\n",
       "      <td>-1.167946</td>\n",
       "      <td>bar</td>\n",
       "      <td>True</td>\n",
       "    </tr>\n",
       "  </tbody>\n",
       "</table>\n",
       "</div>"
      ],
      "text/plain": [
       "        one       two     three four   five\n",
       "a -0.428489 -1.137496  1.494745  bar  False\n",
       "b       NaN       NaN       NaN  NaN    NaN\n",
       "c  1.537751 -0.708188  0.796904  bar   True\n",
       "d       NaN       NaN       NaN  NaN    NaN\n",
       "e  0.438832  0.376937  1.076602  bar   True\n",
       "f  1.607654  0.615904 -1.848926  bar   True\n",
       "g       NaN       NaN       NaN  NaN    NaN\n",
       "h  0.939784 -1.314244 -1.167946  bar   True"
      ]
     },
     "execution_count": 6,
     "metadata": {},
     "output_type": "execute_result"
    }
   ],
   "source": [
    "df2 = df.reindex([\"a\", \"b\", \"c\", \"d\", \"e\", \"f\", \"g\", \"h\"])\n",
    "df2"
   ]
  },
  {
   "cell_type": "markdown",
   "id": "80acaca5",
   "metadata": {},
   "source": [
    "To make detecting missing values easier (and across different array dtypes), pandas provides the isna() and notna() functions, which are also methods on Series and DataFrame objects:"
   ]
  },
  {
   "cell_type": "code",
   "execution_count": 7,
   "id": "283f2984",
   "metadata": {},
   "outputs": [
    {
     "data": {
      "text/plain": [
       "a   -0.428489\n",
       "b         NaN\n",
       "c    1.537751\n",
       "d         NaN\n",
       "e    0.438832\n",
       "f    1.607654\n",
       "g         NaN\n",
       "h    0.939784\n",
       "Name: one, dtype: float64"
      ]
     },
     "execution_count": 7,
     "metadata": {},
     "output_type": "execute_result"
    }
   ],
   "source": [
    "df2[\"one\"]"
   ]
  },
  {
   "cell_type": "code",
   "execution_count": 8,
   "id": "8f2119c7",
   "metadata": {},
   "outputs": [
    {
     "data": {
      "text/plain": [
       "a    False\n",
       "b     True\n",
       "c    False\n",
       "d     True\n",
       "e    False\n",
       "f    False\n",
       "g     True\n",
       "h    False\n",
       "Name: one, dtype: bool"
      ]
     },
     "execution_count": 8,
     "metadata": {},
     "output_type": "execute_result"
    }
   ],
   "source": [
    "pd.isna(df2[\"one\"])"
   ]
  },
  {
   "cell_type": "code",
   "execution_count": 9,
   "id": "48cf9c09",
   "metadata": {},
   "outputs": [
    {
     "data": {
      "text/plain": [
       "a     True\n",
       "b    False\n",
       "c     True\n",
       "d    False\n",
       "e     True\n",
       "f     True\n",
       "g    False\n",
       "h     True\n",
       "Name: four, dtype: bool"
      ]
     },
     "execution_count": 9,
     "metadata": {},
     "output_type": "execute_result"
    }
   ],
   "source": [
    "df2[\"four\"].notna()"
   ]
  },
  {
   "cell_type": "code",
   "execution_count": 10,
   "id": "6c1ff660",
   "metadata": {},
   "outputs": [
    {
     "data": {
      "text/html": [
       "<div>\n",
       "<style scoped>\n",
       "    .dataframe tbody tr th:only-of-type {\n",
       "        vertical-align: middle;\n",
       "    }\n",
       "\n",
       "    .dataframe tbody tr th {\n",
       "        vertical-align: top;\n",
       "    }\n",
       "\n",
       "    .dataframe thead th {\n",
       "        text-align: right;\n",
       "    }\n",
       "</style>\n",
       "<table border=\"1\" class=\"dataframe\">\n",
       "  <thead>\n",
       "    <tr style=\"text-align: right;\">\n",
       "      <th></th>\n",
       "      <th>one</th>\n",
       "      <th>two</th>\n",
       "      <th>three</th>\n",
       "      <th>four</th>\n",
       "      <th>five</th>\n",
       "    </tr>\n",
       "  </thead>\n",
       "  <tbody>\n",
       "    <tr>\n",
       "      <th>a</th>\n",
       "      <td>False</td>\n",
       "      <td>False</td>\n",
       "      <td>False</td>\n",
       "      <td>False</td>\n",
       "      <td>False</td>\n",
       "    </tr>\n",
       "    <tr>\n",
       "      <th>b</th>\n",
       "      <td>True</td>\n",
       "      <td>True</td>\n",
       "      <td>True</td>\n",
       "      <td>True</td>\n",
       "      <td>True</td>\n",
       "    </tr>\n",
       "    <tr>\n",
       "      <th>c</th>\n",
       "      <td>False</td>\n",
       "      <td>False</td>\n",
       "      <td>False</td>\n",
       "      <td>False</td>\n",
       "      <td>False</td>\n",
       "    </tr>\n",
       "    <tr>\n",
       "      <th>d</th>\n",
       "      <td>True</td>\n",
       "      <td>True</td>\n",
       "      <td>True</td>\n",
       "      <td>True</td>\n",
       "      <td>True</td>\n",
       "    </tr>\n",
       "    <tr>\n",
       "      <th>e</th>\n",
       "      <td>False</td>\n",
       "      <td>False</td>\n",
       "      <td>False</td>\n",
       "      <td>False</td>\n",
       "      <td>False</td>\n",
       "    </tr>\n",
       "    <tr>\n",
       "      <th>f</th>\n",
       "      <td>False</td>\n",
       "      <td>False</td>\n",
       "      <td>False</td>\n",
       "      <td>False</td>\n",
       "      <td>False</td>\n",
       "    </tr>\n",
       "    <tr>\n",
       "      <th>g</th>\n",
       "      <td>True</td>\n",
       "      <td>True</td>\n",
       "      <td>True</td>\n",
       "      <td>True</td>\n",
       "      <td>True</td>\n",
       "    </tr>\n",
       "    <tr>\n",
       "      <th>h</th>\n",
       "      <td>False</td>\n",
       "      <td>False</td>\n",
       "      <td>False</td>\n",
       "      <td>False</td>\n",
       "      <td>False</td>\n",
       "    </tr>\n",
       "  </tbody>\n",
       "</table>\n",
       "</div>"
      ],
      "text/plain": [
       "     one    two  three   four   five\n",
       "a  False  False  False  False  False\n",
       "b   True   True   True   True   True\n",
       "c  False  False  False  False  False\n",
       "d   True   True   True   True   True\n",
       "e  False  False  False  False  False\n",
       "f  False  False  False  False  False\n",
       "g   True   True   True   True   True\n",
       "h  False  False  False  False  False"
      ]
     },
     "execution_count": 10,
     "metadata": {},
     "output_type": "execute_result"
    }
   ],
   "source": [
    "df2.isna()"
   ]
  },
  {
   "cell_type": "markdown",
   "id": "65d54957",
   "metadata": {},
   "source": [
    "**Warning**\n",
    "\n",
    "One has to be mindful that in Python (and NumPy), the **nan's** don’t compare equal, but None's **do**. Note that pandas/NumPy uses the fact that **np.nan != np.nan,** and treats **None** like **np.nan**."
   ]
  },
  {
   "cell_type": "code",
   "execution_count": 11,
   "id": "3006ae01",
   "metadata": {},
   "outputs": [
    {
     "data": {
      "text/plain": [
       "True"
      ]
     },
     "execution_count": 11,
     "metadata": {},
     "output_type": "execute_result"
    }
   ],
   "source": [
    "None == None  # noqa: E711"
   ]
  },
  {
   "cell_type": "code",
   "execution_count": 12,
   "id": "b3cf0321",
   "metadata": {},
   "outputs": [
    {
     "data": {
      "text/plain": [
       "False"
      ]
     },
     "execution_count": 12,
     "metadata": {},
     "output_type": "execute_result"
    }
   ],
   "source": [
    "np.nan == np.nan"
   ]
  },
  {
   "cell_type": "markdown",
   "id": "57ede62d",
   "metadata": {},
   "source": [
    "So as compared to above, a scalar equality comparison versus a None/np.nan doesn’t provide useful information."
   ]
  },
  {
   "cell_type": "code",
   "execution_count": 13,
   "id": "2c30f598",
   "metadata": {},
   "outputs": [
    {
     "data": {
      "text/plain": [
       "a    False\n",
       "b    False\n",
       "c    False\n",
       "d    False\n",
       "e    False\n",
       "f    False\n",
       "g    False\n",
       "h    False\n",
       "Name: one, dtype: bool"
      ]
     },
     "execution_count": 13,
     "metadata": {},
     "output_type": "execute_result"
    }
   ],
   "source": [
    "df2[\"one\"] == np.nan"
   ]
  },
  {
   "cell_type": "markdown",
   "id": "8c415de5",
   "metadata": {},
   "source": [
    "### Integer dtypes and missing data\n",
    "\n",
    "\n",
    "Because **NaN** is a float, a column of integers with even one missing values is cast to floating-point dtype (see Support for integer NA for more). pandas provides a nullable integer array, which can be used by explicitly requesting the dtype:"
   ]
  },
  {
   "cell_type": "code",
   "execution_count": 14,
   "id": "20ff7ed6",
   "metadata": {},
   "outputs": [
    {
     "data": {
      "text/plain": [
       "0       1\n",
       "1       2\n",
       "2    <NA>\n",
       "3       4\n",
       "dtype: Int64"
      ]
     },
     "execution_count": 14,
     "metadata": {},
     "output_type": "execute_result"
    }
   ],
   "source": [
    "pd.Series([1, 2, np.nan, 4], dtype=pd.Int64Dtype())"
   ]
  },
  {
   "cell_type": "markdown",
   "id": "c7e1adeb",
   "metadata": {},
   "source": [
    "Alternatively, the string alias **dtype='Int64'** (note the capital \"I\") can be used.\n",
    "\n",
    "See Nullable integer data type for more."
   ]
  },
  {
   "cell_type": "markdown",
   "id": "70ecf32e",
   "metadata": {},
   "source": [
    "## Datetimes\n",
    "\n",
    "For datetime64[ns] types, NaT represents missing values. This is a pseudo-native sentinel value that can be represented by NumPy in a singular dtype (datetime64[ns]). pandas objects provide compatibility between NaT and NaN."
   ]
  },
  {
   "cell_type": "code",
   "execution_count": 15,
   "id": "968e0dc7",
   "metadata": {},
   "outputs": [
    {
     "data": {
      "text/html": [
       "<div>\n",
       "<style scoped>\n",
       "    .dataframe tbody tr th:only-of-type {\n",
       "        vertical-align: middle;\n",
       "    }\n",
       "\n",
       "    .dataframe tbody tr th {\n",
       "        vertical-align: top;\n",
       "    }\n",
       "\n",
       "    .dataframe thead th {\n",
       "        text-align: right;\n",
       "    }\n",
       "</style>\n",
       "<table border=\"1\" class=\"dataframe\">\n",
       "  <thead>\n",
       "    <tr style=\"text-align: right;\">\n",
       "      <th></th>\n",
       "      <th>one</th>\n",
       "      <th>two</th>\n",
       "      <th>three</th>\n",
       "      <th>four</th>\n",
       "      <th>five</th>\n",
       "      <th>timestamp</th>\n",
       "    </tr>\n",
       "  </thead>\n",
       "  <tbody>\n",
       "    <tr>\n",
       "      <th>a</th>\n",
       "      <td>-0.428489</td>\n",
       "      <td>-1.137496</td>\n",
       "      <td>1.494745</td>\n",
       "      <td>bar</td>\n",
       "      <td>False</td>\n",
       "      <td>2012-01-01</td>\n",
       "    </tr>\n",
       "    <tr>\n",
       "      <th>c</th>\n",
       "      <td>1.537751</td>\n",
       "      <td>-0.708188</td>\n",
       "      <td>0.796904</td>\n",
       "      <td>bar</td>\n",
       "      <td>True</td>\n",
       "      <td>2012-01-01</td>\n",
       "    </tr>\n",
       "    <tr>\n",
       "      <th>e</th>\n",
       "      <td>0.438832</td>\n",
       "      <td>0.376937</td>\n",
       "      <td>1.076602</td>\n",
       "      <td>bar</td>\n",
       "      <td>True</td>\n",
       "      <td>2012-01-01</td>\n",
       "    </tr>\n",
       "    <tr>\n",
       "      <th>f</th>\n",
       "      <td>1.607654</td>\n",
       "      <td>0.615904</td>\n",
       "      <td>-1.848926</td>\n",
       "      <td>bar</td>\n",
       "      <td>True</td>\n",
       "      <td>2012-01-01</td>\n",
       "    </tr>\n",
       "    <tr>\n",
       "      <th>h</th>\n",
       "      <td>0.939784</td>\n",
       "      <td>-1.314244</td>\n",
       "      <td>-1.167946</td>\n",
       "      <td>bar</td>\n",
       "      <td>True</td>\n",
       "      <td>2012-01-01</td>\n",
       "    </tr>\n",
       "  </tbody>\n",
       "</table>\n",
       "</div>"
      ],
      "text/plain": [
       "        one       two     three four   five  timestamp\n",
       "a -0.428489 -1.137496  1.494745  bar  False 2012-01-01\n",
       "c  1.537751 -0.708188  0.796904  bar   True 2012-01-01\n",
       "e  0.438832  0.376937  1.076602  bar   True 2012-01-01\n",
       "f  1.607654  0.615904 -1.848926  bar   True 2012-01-01\n",
       "h  0.939784 -1.314244 -1.167946  bar   True 2012-01-01"
      ]
     },
     "execution_count": 15,
     "metadata": {},
     "output_type": "execute_result"
    }
   ],
   "source": [
    "df2 = df.copy()\n",
    "df2[\"timestamp\"] = pd.Timestamp(\"20120101\")\n",
    "df2"
   ]
  },
  {
   "cell_type": "code",
   "execution_count": 16,
   "id": "aa02e0f9",
   "metadata": {},
   "outputs": [
    {
     "data": {
      "text/html": [
       "<div>\n",
       "<style scoped>\n",
       "    .dataframe tbody tr th:only-of-type {\n",
       "        vertical-align: middle;\n",
       "    }\n",
       "\n",
       "    .dataframe tbody tr th {\n",
       "        vertical-align: top;\n",
       "    }\n",
       "\n",
       "    .dataframe thead th {\n",
       "        text-align: right;\n",
       "    }\n",
       "</style>\n",
       "<table border=\"1\" class=\"dataframe\">\n",
       "  <thead>\n",
       "    <tr style=\"text-align: right;\">\n",
       "      <th></th>\n",
       "      <th>one</th>\n",
       "      <th>two</th>\n",
       "      <th>three</th>\n",
       "      <th>four</th>\n",
       "      <th>five</th>\n",
       "      <th>timestamp</th>\n",
       "    </tr>\n",
       "  </thead>\n",
       "  <tbody>\n",
       "    <tr>\n",
       "      <th>a</th>\n",
       "      <td>NaN</td>\n",
       "      <td>-1.137496</td>\n",
       "      <td>1.494745</td>\n",
       "      <td>bar</td>\n",
       "      <td>False</td>\n",
       "      <td>NaT</td>\n",
       "    </tr>\n",
       "    <tr>\n",
       "      <th>c</th>\n",
       "      <td>NaN</td>\n",
       "      <td>-0.708188</td>\n",
       "      <td>0.796904</td>\n",
       "      <td>bar</td>\n",
       "      <td>True</td>\n",
       "      <td>NaT</td>\n",
       "    </tr>\n",
       "    <tr>\n",
       "      <th>e</th>\n",
       "      <td>0.438832</td>\n",
       "      <td>0.376937</td>\n",
       "      <td>1.076602</td>\n",
       "      <td>bar</td>\n",
       "      <td>True</td>\n",
       "      <td>2012-01-01</td>\n",
       "    </tr>\n",
       "    <tr>\n",
       "      <th>f</th>\n",
       "      <td>1.607654</td>\n",
       "      <td>0.615904</td>\n",
       "      <td>-1.848926</td>\n",
       "      <td>bar</td>\n",
       "      <td>True</td>\n",
       "      <td>2012-01-01</td>\n",
       "    </tr>\n",
       "    <tr>\n",
       "      <th>h</th>\n",
       "      <td>NaN</td>\n",
       "      <td>-1.314244</td>\n",
       "      <td>-1.167946</td>\n",
       "      <td>bar</td>\n",
       "      <td>True</td>\n",
       "      <td>NaT</td>\n",
       "    </tr>\n",
       "  </tbody>\n",
       "</table>\n",
       "</div>"
      ],
      "text/plain": [
       "        one       two     three four   five  timestamp\n",
       "a       NaN -1.137496  1.494745  bar  False        NaT\n",
       "c       NaN -0.708188  0.796904  bar   True        NaT\n",
       "e  0.438832  0.376937  1.076602  bar   True 2012-01-01\n",
       "f  1.607654  0.615904 -1.848926  bar   True 2012-01-01\n",
       "h       NaN -1.314244 -1.167946  bar   True        NaT"
      ]
     },
     "execution_count": 16,
     "metadata": {},
     "output_type": "execute_result"
    }
   ],
   "source": [
    "df2.loc[[\"a\", \"c\", \"h\"], [\"one\", \"timestamp\"]] = np.nan\n",
    "df2\n"
   ]
  },
  {
   "cell_type": "code",
   "execution_count": 17,
   "id": "e46d7418",
   "metadata": {},
   "outputs": [
    {
     "data": {
      "text/plain": [
       "float64           3\n",
       "object            1\n",
       "datetime64[ns]    1\n",
       "bool              1\n",
       "dtype: int64"
      ]
     },
     "execution_count": 17,
     "metadata": {},
     "output_type": "execute_result"
    }
   ],
   "source": [
    "df2.dtypes.value_counts()"
   ]
  },
  {
   "cell_type": "markdown",
   "id": "76df7559",
   "metadata": {},
   "source": [
    "### Inserting missing data\n",
    "You can insert missing values by simply assigning to containers. The actual missing value used will be chosen based on the dtype.\n",
    "\n",
    "For example, numeric containers will always use **NaN**  regardless of the missing value type chosen:"
   ]
  },
  {
   "cell_type": "code",
   "execution_count": 18,
   "id": "e6766d5e",
   "metadata": {},
   "outputs": [
    {
     "data": {
      "text/plain": [
       "0    NaN\n",
       "1    2.0\n",
       "2    3.0\n",
       "dtype: float64"
      ]
     },
     "execution_count": 18,
     "metadata": {},
     "output_type": "execute_result"
    }
   ],
   "source": [
    "s = pd.Series([1, 2, 3])\n",
    "s.loc[0] = None\n",
    "s\n"
   ]
  },
  {
   "cell_type": "markdown",
   "id": "c34f02e6",
   "metadata": {},
   "source": [
    "Likewise, datetime containers will always use NaT.\n",
    "\n",
    "For object containers, pandas will use the value given:"
   ]
  },
  {
   "cell_type": "code",
   "execution_count": 19,
   "id": "38e2280a",
   "metadata": {},
   "outputs": [
    {
     "data": {
      "text/plain": [
       "0    None\n",
       "1     NaN\n",
       "2       c\n",
       "dtype: object"
      ]
     },
     "execution_count": 19,
     "metadata": {},
     "output_type": "execute_result"
    }
   ],
   "source": [
    "s = pd.Series([\"a\", \"b\", \"c\"])\n",
    "s.loc[0] = None\n",
    "s.loc[1] = np.nan\n",
    "s\n"
   ]
  },
  {
   "cell_type": "markdown",
   "id": "b5b8522e",
   "metadata": {},
   "source": [
    "## Calculations with missing data\n",
    "\n",
    "\n",
    "Missing values propagate naturally through arithmetic operations between pandas objects."
   ]
  },
  {
   "cell_type": "code",
   "execution_count": 20,
   "id": "dcf23630",
   "metadata": {},
   "outputs": [
    {
     "data": {
      "text/html": [
       "<div>\n",
       "<style scoped>\n",
       "    .dataframe tbody tr th:only-of-type {\n",
       "        vertical-align: middle;\n",
       "    }\n",
       "\n",
       "    .dataframe tbody tr th {\n",
       "        vertical-align: top;\n",
       "    }\n",
       "\n",
       "    .dataframe thead th {\n",
       "        text-align: right;\n",
       "    }\n",
       "</style>\n",
       "<table border=\"1\" class=\"dataframe\">\n",
       "  <thead>\n",
       "    <tr style=\"text-align: right;\">\n",
       "      <th></th>\n",
       "      <th>one</th>\n",
       "      <th>two</th>\n",
       "      <th>three</th>\n",
       "    </tr>\n",
       "  </thead>\n",
       "  <tbody>\n",
       "    <tr>\n",
       "      <th>a</th>\n",
       "      <td>0.414318</td>\n",
       "      <td>-0.385738</td>\n",
       "      <td>-1.136747</td>\n",
       "    </tr>\n",
       "    <tr>\n",
       "      <th>c</th>\n",
       "      <td>-0.856698</td>\n",
       "      <td>0.922684</td>\n",
       "      <td>-0.308979</td>\n",
       "    </tr>\n",
       "    <tr>\n",
       "      <th>e</th>\n",
       "      <td>-0.664644</td>\n",
       "      <td>-0.054859</td>\n",
       "      <td>0.838842</td>\n",
       "    </tr>\n",
       "    <tr>\n",
       "      <th>f</th>\n",
       "      <td>-0.112066</td>\n",
       "      <td>-0.479347</td>\n",
       "      <td>-0.518381</td>\n",
       "    </tr>\n",
       "    <tr>\n",
       "      <th>h</th>\n",
       "      <td>0.825911</td>\n",
       "      <td>-1.264201</td>\n",
       "      <td>-0.495070</td>\n",
       "    </tr>\n",
       "  </tbody>\n",
       "</table>\n",
       "</div>"
      ],
      "text/plain": [
       "        one       two     three\n",
       "a  0.414318 -0.385738 -1.136747\n",
       "c -0.856698  0.922684 -0.308979\n",
       "e -0.664644 -0.054859  0.838842\n",
       "f -0.112066 -0.479347 -0.518381\n",
       "h  0.825911 -1.264201 -0.495070"
      ]
     },
     "execution_count": 20,
     "metadata": {},
     "output_type": "execute_result"
    }
   ],
   "source": [
    "a = pd.DataFrame(\n",
    "    np.random.randn(5, 3),\n",
    "    index=[\"a\", \"c\", \"e\", \"f\", \"h\"],\n",
    "    columns=[\"one\", \"two\", \"three\"],\n",
    ")\n",
    "a"
   ]
  },
  {
   "cell_type": "code",
   "execution_count": 21,
   "id": "ad1ab014",
   "metadata": {},
   "outputs": [
    {
     "data": {
      "text/html": [
       "<div>\n",
       "<style scoped>\n",
       "    .dataframe tbody tr th:only-of-type {\n",
       "        vertical-align: middle;\n",
       "    }\n",
       "\n",
       "    .dataframe tbody tr th {\n",
       "        vertical-align: top;\n",
       "    }\n",
       "\n",
       "    .dataframe thead th {\n",
       "        text-align: right;\n",
       "    }\n",
       "</style>\n",
       "<table border=\"1\" class=\"dataframe\">\n",
       "  <thead>\n",
       "    <tr style=\"text-align: right;\">\n",
       "      <th></th>\n",
       "      <th>one</th>\n",
       "      <th>two</th>\n",
       "      <th>three</th>\n",
       "    </tr>\n",
       "  </thead>\n",
       "  <tbody>\n",
       "    <tr>\n",
       "      <th>a</th>\n",
       "      <td>-1.056650</td>\n",
       "      <td>-1.339990</td>\n",
       "      <td>0.406410</td>\n",
       "    </tr>\n",
       "    <tr>\n",
       "      <th>c</th>\n",
       "      <td>-0.940589</td>\n",
       "      <td>-0.195771</td>\n",
       "      <td>0.238130</td>\n",
       "    </tr>\n",
       "    <tr>\n",
       "      <th>e</th>\n",
       "      <td>-0.060251</td>\n",
       "      <td>-0.729108</td>\n",
       "      <td>-0.476921</td>\n",
       "    </tr>\n",
       "    <tr>\n",
       "      <th>f</th>\n",
       "      <td>-1.092709</td>\n",
       "      <td>-1.367877</td>\n",
       "      <td>0.379848</td>\n",
       "    </tr>\n",
       "    <tr>\n",
       "      <th>h</th>\n",
       "      <td>1.403223</td>\n",
       "      <td>-0.041413</td>\n",
       "      <td>0.561941</td>\n",
       "    </tr>\n",
       "  </tbody>\n",
       "</table>\n",
       "</div>"
      ],
      "text/plain": [
       "        one       two     three\n",
       "a -1.056650 -1.339990  0.406410\n",
       "c -0.940589 -0.195771  0.238130\n",
       "e -0.060251 -0.729108 -0.476921\n",
       "f -1.092709 -1.367877  0.379848\n",
       "h  1.403223 -0.041413  0.561941"
      ]
     },
     "execution_count": 21,
     "metadata": {},
     "output_type": "execute_result"
    }
   ],
   "source": [
    "b = pd.DataFrame(\n",
    "    np.random.randn(5, 3),\n",
    "    index=[\"a\", \"c\", \"e\", \"f\", \"h\"],\n",
    "    columns=[\"one\", \"two\", \"three\"],\n",
    ")\n",
    "b"
   ]
  },
  {
   "cell_type": "code",
   "execution_count": 22,
   "id": "d7e605e2",
   "metadata": {},
   "outputs": [
    {
     "data": {
      "text/html": [
       "<div>\n",
       "<style scoped>\n",
       "    .dataframe tbody tr th:only-of-type {\n",
       "        vertical-align: middle;\n",
       "    }\n",
       "\n",
       "    .dataframe tbody tr th {\n",
       "        vertical-align: top;\n",
       "    }\n",
       "\n",
       "    .dataframe thead th {\n",
       "        text-align: right;\n",
       "    }\n",
       "</style>\n",
       "<table border=\"1\" class=\"dataframe\">\n",
       "  <thead>\n",
       "    <tr style=\"text-align: right;\">\n",
       "      <th></th>\n",
       "      <th>one</th>\n",
       "      <th>two</th>\n",
       "      <th>three</th>\n",
       "    </tr>\n",
       "  </thead>\n",
       "  <tbody>\n",
       "    <tr>\n",
       "      <th>a</th>\n",
       "      <td>-0.642332</td>\n",
       "      <td>-1.725728</td>\n",
       "      <td>-0.730337</td>\n",
       "    </tr>\n",
       "    <tr>\n",
       "      <th>c</th>\n",
       "      <td>-1.797287</td>\n",
       "      <td>0.726913</td>\n",
       "      <td>-0.070849</td>\n",
       "    </tr>\n",
       "    <tr>\n",
       "      <th>e</th>\n",
       "      <td>-0.724895</td>\n",
       "      <td>-0.783967</td>\n",
       "      <td>0.361921</td>\n",
       "    </tr>\n",
       "    <tr>\n",
       "      <th>f</th>\n",
       "      <td>-1.204775</td>\n",
       "      <td>-1.847224</td>\n",
       "      <td>-0.138533</td>\n",
       "    </tr>\n",
       "    <tr>\n",
       "      <th>h</th>\n",
       "      <td>2.229134</td>\n",
       "      <td>-1.305614</td>\n",
       "      <td>0.066871</td>\n",
       "    </tr>\n",
       "  </tbody>\n",
       "</table>\n",
       "</div>"
      ],
      "text/plain": [
       "        one       two     three\n",
       "a -0.642332 -1.725728 -0.730337\n",
       "c -1.797287  0.726913 -0.070849\n",
       "e -0.724895 -0.783967  0.361921\n",
       "f -1.204775 -1.847224 -0.138533\n",
       "h  2.229134 -1.305614  0.066871"
      ]
     },
     "execution_count": 22,
     "metadata": {},
     "output_type": "execute_result"
    }
   ],
   "source": [
    "a+b"
   ]
  },
  {
   "cell_type": "markdown",
   "id": "d1eeff60",
   "metadata": {},
   "source": [
    "The descriptive statistics and computational methods discussed in the data structure overview (and listed here and here) are all written to account for missing data. For example:\n",
    "\n",
    "- When summing data, NA (missing) values will be treated as zero.\n",
    "\n",
    "- If the data are all NA, the result will be 0.\n",
    "\n",
    "- Cumulative methods like cumsum() and cumprod() ignore NA values by default, but preserve them in the resulting arrays. To override this behaviour and include NA values, use skipna=False."
   ]
  },
  {
   "cell_type": "code",
   "execution_count": 23,
   "id": "67e13f80",
   "metadata": {},
   "outputs": [
    {
     "data": {
      "text/html": [
       "<div>\n",
       "<style scoped>\n",
       "    .dataframe tbody tr th:only-of-type {\n",
       "        vertical-align: middle;\n",
       "    }\n",
       "\n",
       "    .dataframe tbody tr th {\n",
       "        vertical-align: top;\n",
       "    }\n",
       "\n",
       "    .dataframe thead th {\n",
       "        text-align: right;\n",
       "    }\n",
       "</style>\n",
       "<table border=\"1\" class=\"dataframe\">\n",
       "  <thead>\n",
       "    <tr style=\"text-align: right;\">\n",
       "      <th></th>\n",
       "      <th>one</th>\n",
       "      <th>two</th>\n",
       "      <th>three</th>\n",
       "      <th>four</th>\n",
       "      <th>five</th>\n",
       "    </tr>\n",
       "  </thead>\n",
       "  <tbody>\n",
       "    <tr>\n",
       "      <th>a</th>\n",
       "      <td>-0.428489</td>\n",
       "      <td>-1.137496</td>\n",
       "      <td>1.494745</td>\n",
       "      <td>bar</td>\n",
       "      <td>False</td>\n",
       "    </tr>\n",
       "    <tr>\n",
       "      <th>c</th>\n",
       "      <td>1.537751</td>\n",
       "      <td>-0.708188</td>\n",
       "      <td>0.796904</td>\n",
       "      <td>bar</td>\n",
       "      <td>True</td>\n",
       "    </tr>\n",
       "    <tr>\n",
       "      <th>e</th>\n",
       "      <td>0.438832</td>\n",
       "      <td>0.376937</td>\n",
       "      <td>1.076602</td>\n",
       "      <td>bar</td>\n",
       "      <td>True</td>\n",
       "    </tr>\n",
       "    <tr>\n",
       "      <th>f</th>\n",
       "      <td>1.607654</td>\n",
       "      <td>0.615904</td>\n",
       "      <td>-1.848926</td>\n",
       "      <td>bar</td>\n",
       "      <td>True</td>\n",
       "    </tr>\n",
       "    <tr>\n",
       "      <th>h</th>\n",
       "      <td>0.939784</td>\n",
       "      <td>-1.314244</td>\n",
       "      <td>-1.167946</td>\n",
       "      <td>bar</td>\n",
       "      <td>True</td>\n",
       "    </tr>\n",
       "  </tbody>\n",
       "</table>\n",
       "</div>"
      ],
      "text/plain": [
       "        one       two     three four   five\n",
       "a -0.428489 -1.137496  1.494745  bar  False\n",
       "c  1.537751 -0.708188  0.796904  bar   True\n",
       "e  0.438832  0.376937  1.076602  bar   True\n",
       "f  1.607654  0.615904 -1.848926  bar   True\n",
       "h  0.939784 -1.314244 -1.167946  bar   True"
      ]
     },
     "execution_count": 23,
     "metadata": {},
     "output_type": "execute_result"
    }
   ],
   "source": [
    "df"
   ]
  },
  {
   "cell_type": "code",
   "execution_count": 24,
   "id": "a5112916",
   "metadata": {},
   "outputs": [
    {
     "data": {
      "text/plain": [
       "4.095531549346713"
      ]
     },
     "execution_count": 24,
     "metadata": {},
     "output_type": "execute_result"
    }
   ],
   "source": [
    "df[\"one\"].sum()"
   ]
  },
  {
   "cell_type": "code",
   "execution_count": 25,
   "id": "744d59ab",
   "metadata": {},
   "outputs": [
    {
     "data": {
      "text/plain": [
       "a   -0.017810\n",
       "c    0.656617\n",
       "e    0.723093\n",
       "f    0.343658\n",
       "h   -0.135601\n",
       "dtype: float64"
      ]
     },
     "execution_count": 25,
     "metadata": {},
     "output_type": "execute_result"
    }
   ],
   "source": [
    "df.mean(1)"
   ]
  },
  {
   "cell_type": "code",
   "execution_count": 26,
   "id": "c92cd306",
   "metadata": {},
   "outputs": [
    {
     "data": {
      "text/html": [
       "<div>\n",
       "<style scoped>\n",
       "    .dataframe tbody tr th:only-of-type {\n",
       "        vertical-align: middle;\n",
       "    }\n",
       "\n",
       "    .dataframe tbody tr th {\n",
       "        vertical-align: top;\n",
       "    }\n",
       "\n",
       "    .dataframe thead th {\n",
       "        text-align: right;\n",
       "    }\n",
       "</style>\n",
       "<table border=\"1\" class=\"dataframe\">\n",
       "  <thead>\n",
       "    <tr style=\"text-align: right;\">\n",
       "      <th></th>\n",
       "      <th>one</th>\n",
       "      <th>two</th>\n",
       "      <th>three</th>\n",
       "      <th>four</th>\n",
       "      <th>five</th>\n",
       "    </tr>\n",
       "  </thead>\n",
       "  <tbody>\n",
       "    <tr>\n",
       "      <th>a</th>\n",
       "      <td>-0.428489</td>\n",
       "      <td>-1.137496</td>\n",
       "      <td>1.494745</td>\n",
       "      <td>bar</td>\n",
       "      <td>0</td>\n",
       "    </tr>\n",
       "    <tr>\n",
       "      <th>c</th>\n",
       "      <td>1.109262</td>\n",
       "      <td>-1.845683</td>\n",
       "      <td>2.291649</td>\n",
       "      <td>barbar</td>\n",
       "      <td>1</td>\n",
       "    </tr>\n",
       "    <tr>\n",
       "      <th>e</th>\n",
       "      <td>1.548093</td>\n",
       "      <td>-1.468746</td>\n",
       "      <td>3.368251</td>\n",
       "      <td>barbarbar</td>\n",
       "      <td>2</td>\n",
       "    </tr>\n",
       "    <tr>\n",
       "      <th>f</th>\n",
       "      <td>3.155747</td>\n",
       "      <td>-0.852843</td>\n",
       "      <td>1.519324</td>\n",
       "      <td>barbarbarbar</td>\n",
       "      <td>3</td>\n",
       "    </tr>\n",
       "    <tr>\n",
       "      <th>h</th>\n",
       "      <td>4.095532</td>\n",
       "      <td>-2.167086</td>\n",
       "      <td>0.351378</td>\n",
       "      <td>barbarbarbarbar</td>\n",
       "      <td>4</td>\n",
       "    </tr>\n",
       "  </tbody>\n",
       "</table>\n",
       "</div>"
      ],
      "text/plain": [
       "        one       two     three             four  five\n",
       "a -0.428489 -1.137496  1.494745              bar     0\n",
       "c  1.109262 -1.845683  2.291649           barbar     1\n",
       "e  1.548093 -1.468746  3.368251        barbarbar     2\n",
       "f  3.155747 -0.852843  1.519324     barbarbarbar     3\n",
       "h  4.095532 -2.167086  0.351378  barbarbarbarbar     4"
      ]
     },
     "execution_count": 26,
     "metadata": {},
     "output_type": "execute_result"
    }
   ],
   "source": [
    "df.cumsum()"
   ]
  },
  {
   "cell_type": "code",
   "execution_count": 27,
   "id": "91e6286f",
   "metadata": {},
   "outputs": [
    {
     "data": {
      "text/html": [
       "<div>\n",
       "<style scoped>\n",
       "    .dataframe tbody tr th:only-of-type {\n",
       "        vertical-align: middle;\n",
       "    }\n",
       "\n",
       "    .dataframe tbody tr th {\n",
       "        vertical-align: top;\n",
       "    }\n",
       "\n",
       "    .dataframe thead th {\n",
       "        text-align: right;\n",
       "    }\n",
       "</style>\n",
       "<table border=\"1\" class=\"dataframe\">\n",
       "  <thead>\n",
       "    <tr style=\"text-align: right;\">\n",
       "      <th></th>\n",
       "      <th>one</th>\n",
       "      <th>two</th>\n",
       "      <th>three</th>\n",
       "      <th>four</th>\n",
       "      <th>five</th>\n",
       "    </tr>\n",
       "  </thead>\n",
       "  <tbody>\n",
       "    <tr>\n",
       "      <th>a</th>\n",
       "      <td>-0.428489</td>\n",
       "      <td>-1.137496</td>\n",
       "      <td>1.494745</td>\n",
       "      <td>bar</td>\n",
       "      <td>0</td>\n",
       "    </tr>\n",
       "    <tr>\n",
       "      <th>c</th>\n",
       "      <td>1.109262</td>\n",
       "      <td>-1.845683</td>\n",
       "      <td>2.291649</td>\n",
       "      <td>barbar</td>\n",
       "      <td>1</td>\n",
       "    </tr>\n",
       "    <tr>\n",
       "      <th>e</th>\n",
       "      <td>1.548093</td>\n",
       "      <td>-1.468746</td>\n",
       "      <td>3.368251</td>\n",
       "      <td>barbarbar</td>\n",
       "      <td>2</td>\n",
       "    </tr>\n",
       "    <tr>\n",
       "      <th>f</th>\n",
       "      <td>3.155747</td>\n",
       "      <td>-0.852843</td>\n",
       "      <td>1.519324</td>\n",
       "      <td>barbarbarbar</td>\n",
       "      <td>3</td>\n",
       "    </tr>\n",
       "    <tr>\n",
       "      <th>h</th>\n",
       "      <td>4.095532</td>\n",
       "      <td>-2.167086</td>\n",
       "      <td>0.351378</td>\n",
       "      <td>barbarbarbarbar</td>\n",
       "      <td>4</td>\n",
       "    </tr>\n",
       "  </tbody>\n",
       "</table>\n",
       "</div>"
      ],
      "text/plain": [
       "        one       two     three             four  five\n",
       "a -0.428489 -1.137496  1.494745              bar     0\n",
       "c  1.109262 -1.845683  2.291649           barbar     1\n",
       "e  1.548093 -1.468746  3.368251        barbarbar     2\n",
       "f  3.155747 -0.852843  1.519324     barbarbarbar     3\n",
       "h  4.095532 -2.167086  0.351378  barbarbarbarbar     4"
      ]
     },
     "execution_count": 27,
     "metadata": {},
     "output_type": "execute_result"
    }
   ],
   "source": [
    "df.cumsum(skipna=False)"
   ]
  },
  {
   "cell_type": "markdown",
   "id": "22004987",
   "metadata": {},
   "source": [
    "# Sum/prod of empties/nans\n",
    "\n",
    "**Warning**\n",
    "\n",
    "This behavior is now standard as of v0.22.0 and is consistent with the default in numpy; previously sum/prod of all-NA or empty Series/DataFrames would return NaN. See v0.22.0 whatsnew for more."
   ]
  },
  {
   "cell_type": "markdown",
   "id": "ed12335d",
   "metadata": {},
   "source": [
    "The sum of an empty or all-NA Series or column of a DataFrame is 0."
   ]
  },
  {
   "cell_type": "code",
   "execution_count": 28,
   "id": "f79891cb",
   "metadata": {},
   "outputs": [
    {
     "data": {
      "text/plain": [
       "0.0"
      ]
     },
     "execution_count": 28,
     "metadata": {},
     "output_type": "execute_result"
    }
   ],
   "source": [
    "pd.Series([np.nan]).sum()"
   ]
  },
  {
   "cell_type": "code",
   "execution_count": 29,
   "id": "b8c97385",
   "metadata": {},
   "outputs": [
    {
     "data": {
      "text/plain": [
       "0.0"
      ]
     },
     "execution_count": 29,
     "metadata": {},
     "output_type": "execute_result"
    }
   ],
   "source": [
    "pd.Series([], dtype=\"float64\").sum()"
   ]
  },
  {
   "cell_type": "markdown",
   "id": "e7d95532",
   "metadata": {},
   "source": [
    "The product of an empty or all-NA Series or column of a DataFrame is 1."
   ]
  },
  {
   "cell_type": "code",
   "execution_count": 30,
   "id": "1b540e57",
   "metadata": {},
   "outputs": [
    {
     "data": {
      "text/plain": [
       "1.0"
      ]
     },
     "execution_count": 30,
     "metadata": {},
     "output_type": "execute_result"
    }
   ],
   "source": [
    "pd.Series([np.nan]).prod()"
   ]
  },
  {
   "cell_type": "code",
   "execution_count": 31,
   "id": "4fe51274",
   "metadata": {},
   "outputs": [
    {
     "data": {
      "text/plain": [
       "1.0"
      ]
     },
     "execution_count": 31,
     "metadata": {},
     "output_type": "execute_result"
    }
   ],
   "source": [
    "pd.Series([], dtype=\"float64\").prod()"
   ]
  },
  {
   "cell_type": "markdown",
   "id": "a993c91e",
   "metadata": {},
   "source": [
    "# NA values in GroupBy\n",
    "\n",
    "\n",
    "NA groups in GroupBy are automatically excluded. This behavior is consistent with R, for example:"
   ]
  },
  {
   "cell_type": "code",
   "execution_count": 32,
   "id": "316a28a9",
   "metadata": {},
   "outputs": [
    {
     "data": {
      "text/html": [
       "<div>\n",
       "<style scoped>\n",
       "    .dataframe tbody tr th:only-of-type {\n",
       "        vertical-align: middle;\n",
       "    }\n",
       "\n",
       "    .dataframe tbody tr th {\n",
       "        vertical-align: top;\n",
       "    }\n",
       "\n",
       "    .dataframe thead th {\n",
       "        text-align: right;\n",
       "    }\n",
       "</style>\n",
       "<table border=\"1\" class=\"dataframe\">\n",
       "  <thead>\n",
       "    <tr style=\"text-align: right;\">\n",
       "      <th></th>\n",
       "      <th>one</th>\n",
       "      <th>two</th>\n",
       "      <th>three</th>\n",
       "      <th>four</th>\n",
       "      <th>five</th>\n",
       "    </tr>\n",
       "  </thead>\n",
       "  <tbody>\n",
       "    <tr>\n",
       "      <th>a</th>\n",
       "      <td>-0.428489</td>\n",
       "      <td>-1.137496</td>\n",
       "      <td>1.494745</td>\n",
       "      <td>bar</td>\n",
       "      <td>False</td>\n",
       "    </tr>\n",
       "    <tr>\n",
       "      <th>c</th>\n",
       "      <td>1.537751</td>\n",
       "      <td>-0.708188</td>\n",
       "      <td>0.796904</td>\n",
       "      <td>bar</td>\n",
       "      <td>True</td>\n",
       "    </tr>\n",
       "    <tr>\n",
       "      <th>e</th>\n",
       "      <td>0.438832</td>\n",
       "      <td>0.376937</td>\n",
       "      <td>1.076602</td>\n",
       "      <td>bar</td>\n",
       "      <td>True</td>\n",
       "    </tr>\n",
       "    <tr>\n",
       "      <th>f</th>\n",
       "      <td>1.607654</td>\n",
       "      <td>0.615904</td>\n",
       "      <td>-1.848926</td>\n",
       "      <td>bar</td>\n",
       "      <td>True</td>\n",
       "    </tr>\n",
       "    <tr>\n",
       "      <th>h</th>\n",
       "      <td>0.939784</td>\n",
       "      <td>-1.314244</td>\n",
       "      <td>-1.167946</td>\n",
       "      <td>bar</td>\n",
       "      <td>True</td>\n",
       "    </tr>\n",
       "  </tbody>\n",
       "</table>\n",
       "</div>"
      ],
      "text/plain": [
       "        one       two     three four   five\n",
       "a -0.428489 -1.137496  1.494745  bar  False\n",
       "c  1.537751 -0.708188  0.796904  bar   True\n",
       "e  0.438832  0.376937  1.076602  bar   True\n",
       "f  1.607654  0.615904 -1.848926  bar   True\n",
       "h  0.939784 -1.314244 -1.167946  bar   True"
      ]
     },
     "execution_count": 32,
     "metadata": {},
     "output_type": "execute_result"
    }
   ],
   "source": [
    "df"
   ]
  },
  {
   "cell_type": "code",
   "execution_count": 33,
   "id": "566eecfc",
   "metadata": {},
   "outputs": [
    {
     "data": {
      "text/html": [
       "<div>\n",
       "<style scoped>\n",
       "    .dataframe tbody tr th:only-of-type {\n",
       "        vertical-align: middle;\n",
       "    }\n",
       "\n",
       "    .dataframe tbody tr th {\n",
       "        vertical-align: top;\n",
       "    }\n",
       "\n",
       "    .dataframe thead th {\n",
       "        text-align: right;\n",
       "    }\n",
       "</style>\n",
       "<table border=\"1\" class=\"dataframe\">\n",
       "  <thead>\n",
       "    <tr style=\"text-align: right;\">\n",
       "      <th></th>\n",
       "      <th>two</th>\n",
       "      <th>three</th>\n",
       "      <th>five</th>\n",
       "    </tr>\n",
       "    <tr>\n",
       "      <th>one</th>\n",
       "      <th></th>\n",
       "      <th></th>\n",
       "      <th></th>\n",
       "    </tr>\n",
       "  </thead>\n",
       "  <tbody>\n",
       "    <tr>\n",
       "      <th>-0.428489</th>\n",
       "      <td>-1.137496</td>\n",
       "      <td>1.494745</td>\n",
       "      <td>False</td>\n",
       "    </tr>\n",
       "    <tr>\n",
       "      <th>0.438832</th>\n",
       "      <td>0.376937</td>\n",
       "      <td>1.076602</td>\n",
       "      <td>True</td>\n",
       "    </tr>\n",
       "    <tr>\n",
       "      <th>0.939784</th>\n",
       "      <td>-1.314244</td>\n",
       "      <td>-1.167946</td>\n",
       "      <td>True</td>\n",
       "    </tr>\n",
       "    <tr>\n",
       "      <th>1.537751</th>\n",
       "      <td>-0.708188</td>\n",
       "      <td>0.796904</td>\n",
       "      <td>True</td>\n",
       "    </tr>\n",
       "    <tr>\n",
       "      <th>1.607654</th>\n",
       "      <td>0.615904</td>\n",
       "      <td>-1.848926</td>\n",
       "      <td>True</td>\n",
       "    </tr>\n",
       "  </tbody>\n",
       "</table>\n",
       "</div>"
      ],
      "text/plain": [
       "                two     three   five\n",
       "one                                 \n",
       "-0.428489 -1.137496  1.494745  False\n",
       " 0.438832  0.376937  1.076602   True\n",
       " 0.939784 -1.314244 -1.167946   True\n",
       " 1.537751 -0.708188  0.796904   True\n",
       " 1.607654  0.615904 -1.848926   True"
      ]
     },
     "execution_count": 33,
     "metadata": {},
     "output_type": "execute_result"
    }
   ],
   "source": [
    "df.groupby(\"one\").mean()"
   ]
  },
  {
   "cell_type": "markdown",
   "id": "11d0f26d",
   "metadata": {},
   "source": [
    "See the groupby section here for more information."
   ]
  },
  {
   "cell_type": "markdown",
   "id": "a106a596",
   "metadata": {},
   "source": [
    "## Cleaning / filling missing data\n",
    "pandas objects are equipped with various data manipulation methods for dealing with missing data."
   ]
  },
  {
   "cell_type": "markdown",
   "id": "09785ee1",
   "metadata": {},
   "source": [
    "# Filling missing values: fillna\n",
    "\n",
    "fillna() can “fill in” NA values with non-NA data in a couple of ways, which we illustrate:\n",
    "\n",
    "**Replace NA with a scalar value**"
   ]
  },
  {
   "cell_type": "code",
   "execution_count": 34,
   "id": "8d7cb031",
   "metadata": {},
   "outputs": [
    {
     "data": {
      "text/html": [
       "<div>\n",
       "<style scoped>\n",
       "    .dataframe tbody tr th:only-of-type {\n",
       "        vertical-align: middle;\n",
       "    }\n",
       "\n",
       "    .dataframe tbody tr th {\n",
       "        vertical-align: top;\n",
       "    }\n",
       "\n",
       "    .dataframe thead th {\n",
       "        text-align: right;\n",
       "    }\n",
       "</style>\n",
       "<table border=\"1\" class=\"dataframe\">\n",
       "  <thead>\n",
       "    <tr style=\"text-align: right;\">\n",
       "      <th></th>\n",
       "      <th>one</th>\n",
       "      <th>two</th>\n",
       "      <th>three</th>\n",
       "      <th>four</th>\n",
       "      <th>five</th>\n",
       "      <th>timestamp</th>\n",
       "    </tr>\n",
       "  </thead>\n",
       "  <tbody>\n",
       "    <tr>\n",
       "      <th>a</th>\n",
       "      <td>NaN</td>\n",
       "      <td>-1.137496</td>\n",
       "      <td>1.494745</td>\n",
       "      <td>bar</td>\n",
       "      <td>False</td>\n",
       "      <td>NaT</td>\n",
       "    </tr>\n",
       "    <tr>\n",
       "      <th>c</th>\n",
       "      <td>NaN</td>\n",
       "      <td>-0.708188</td>\n",
       "      <td>0.796904</td>\n",
       "      <td>bar</td>\n",
       "      <td>True</td>\n",
       "      <td>NaT</td>\n",
       "    </tr>\n",
       "    <tr>\n",
       "      <th>e</th>\n",
       "      <td>0.438832</td>\n",
       "      <td>0.376937</td>\n",
       "      <td>1.076602</td>\n",
       "      <td>bar</td>\n",
       "      <td>True</td>\n",
       "      <td>2012-01-01</td>\n",
       "    </tr>\n",
       "    <tr>\n",
       "      <th>f</th>\n",
       "      <td>1.607654</td>\n",
       "      <td>0.615904</td>\n",
       "      <td>-1.848926</td>\n",
       "      <td>bar</td>\n",
       "      <td>True</td>\n",
       "      <td>2012-01-01</td>\n",
       "    </tr>\n",
       "    <tr>\n",
       "      <th>h</th>\n",
       "      <td>NaN</td>\n",
       "      <td>-1.314244</td>\n",
       "      <td>-1.167946</td>\n",
       "      <td>bar</td>\n",
       "      <td>True</td>\n",
       "      <td>NaT</td>\n",
       "    </tr>\n",
       "  </tbody>\n",
       "</table>\n",
       "</div>"
      ],
      "text/plain": [
       "        one       two     three four   five  timestamp\n",
       "a       NaN -1.137496  1.494745  bar  False        NaT\n",
       "c       NaN -0.708188  0.796904  bar   True        NaT\n",
       "e  0.438832  0.376937  1.076602  bar   True 2012-01-01\n",
       "f  1.607654  0.615904 -1.848926  bar   True 2012-01-01\n",
       "h       NaN -1.314244 -1.167946  bar   True        NaT"
      ]
     },
     "execution_count": 34,
     "metadata": {},
     "output_type": "execute_result"
    }
   ],
   "source": [
    "df2"
   ]
  },
  {
   "cell_type": "code",
   "execution_count": 35,
   "id": "151e6ec7",
   "metadata": {},
   "outputs": [
    {
     "data": {
      "text/html": [
       "<div>\n",
       "<style scoped>\n",
       "    .dataframe tbody tr th:only-of-type {\n",
       "        vertical-align: middle;\n",
       "    }\n",
       "\n",
       "    .dataframe tbody tr th {\n",
       "        vertical-align: top;\n",
       "    }\n",
       "\n",
       "    .dataframe thead th {\n",
       "        text-align: right;\n",
       "    }\n",
       "</style>\n",
       "<table border=\"1\" class=\"dataframe\">\n",
       "  <thead>\n",
       "    <tr style=\"text-align: right;\">\n",
       "      <th></th>\n",
       "      <th>one</th>\n",
       "      <th>two</th>\n",
       "      <th>three</th>\n",
       "      <th>four</th>\n",
       "      <th>five</th>\n",
       "      <th>timestamp</th>\n",
       "    </tr>\n",
       "  </thead>\n",
       "  <tbody>\n",
       "    <tr>\n",
       "      <th>a</th>\n",
       "      <td>0.000000</td>\n",
       "      <td>-1.137496</td>\n",
       "      <td>1.494745</td>\n",
       "      <td>bar</td>\n",
       "      <td>False</td>\n",
       "      <td>0</td>\n",
       "    </tr>\n",
       "    <tr>\n",
       "      <th>c</th>\n",
       "      <td>0.000000</td>\n",
       "      <td>-0.708188</td>\n",
       "      <td>0.796904</td>\n",
       "      <td>bar</td>\n",
       "      <td>True</td>\n",
       "      <td>0</td>\n",
       "    </tr>\n",
       "    <tr>\n",
       "      <th>e</th>\n",
       "      <td>0.438832</td>\n",
       "      <td>0.376937</td>\n",
       "      <td>1.076602</td>\n",
       "      <td>bar</td>\n",
       "      <td>True</td>\n",
       "      <td>2012-01-01 00:00:00</td>\n",
       "    </tr>\n",
       "    <tr>\n",
       "      <th>f</th>\n",
       "      <td>1.607654</td>\n",
       "      <td>0.615904</td>\n",
       "      <td>-1.848926</td>\n",
       "      <td>bar</td>\n",
       "      <td>True</td>\n",
       "      <td>2012-01-01 00:00:00</td>\n",
       "    </tr>\n",
       "    <tr>\n",
       "      <th>h</th>\n",
       "      <td>0.000000</td>\n",
       "      <td>-1.314244</td>\n",
       "      <td>-1.167946</td>\n",
       "      <td>bar</td>\n",
       "      <td>True</td>\n",
       "      <td>0</td>\n",
       "    </tr>\n",
       "  </tbody>\n",
       "</table>\n",
       "</div>"
      ],
      "text/plain": [
       "        one       two     three four   five            timestamp\n",
       "a  0.000000 -1.137496  1.494745  bar  False                    0\n",
       "c  0.000000 -0.708188  0.796904  bar   True                    0\n",
       "e  0.438832  0.376937  1.076602  bar   True  2012-01-01 00:00:00\n",
       "f  1.607654  0.615904 -1.848926  bar   True  2012-01-01 00:00:00\n",
       "h  0.000000 -1.314244 -1.167946  bar   True                    0"
      ]
     },
     "execution_count": 35,
     "metadata": {},
     "output_type": "execute_result"
    }
   ],
   "source": [
    "df2.fillna(0)"
   ]
  },
  {
   "cell_type": "code",
   "execution_count": 36,
   "id": "f3990cf6",
   "metadata": {},
   "outputs": [
    {
     "data": {
      "text/plain": [
       "a     missing\n",
       "c     missing\n",
       "e    0.438832\n",
       "f    1.607654\n",
       "h     missing\n",
       "Name: one, dtype: object"
      ]
     },
     "execution_count": 36,
     "metadata": {},
     "output_type": "execute_result"
    }
   ],
   "source": [
    "df2[\"one\"].fillna(\"missing\")"
   ]
  },
  {
   "cell_type": "raw",
   "id": "71ba46df",
   "metadata": {},
   "source": [
    "### Fill gaps forward or backward\n",
    "\n",
    "Using the same filling arguments as reindexing, we can propagate non-NA values forward or backward:"
   ]
  },
  {
   "cell_type": "markdown",
   "id": "09334029",
   "metadata": {},
   "source": [
    "df"
   ]
  },
  {
   "cell_type": "markdown",
   "id": "cc110167",
   "metadata": {},
   "source": [
    "df.fillna(method=\"pad\")"
   ]
  },
  {
   "cell_type": "raw",
   "id": "02694051",
   "metadata": {},
   "source": [
    "**Limit the amount of filling**\n",
    "\n",
    "If we only want consecutive gaps filled up to a certain number of data points, we can use the limit keyword:\n",
    "\n"
   ]
  },
  {
   "cell_type": "markdown",
   "id": "f99c36d6",
   "metadata": {},
   "source": [
    "df"
   ]
  },
  {
   "cell_type": "markdown",
   "id": "5e4a0246",
   "metadata": {},
   "source": [
    "df.fillna(method=\"pad\", limit=1)"
   ]
  },
  {
   "cell_type": "raw",
   "id": "735450e8",
   "metadata": {},
   "source": [
    "To remind you, these are the available filling methods:\n",
    "\n",
    "\n",
    "Method                  Action\n",
    "\n",
    "pad / ffill            Fill values forward\n",
    "\n",
    "bfill / backfill       Fill values backward"
   ]
  },
  {
   "cell_type": "raw",
   "id": "97edcf4d",
   "metadata": {},
   "source": [
    "With time series data, using pad/ffill is extremely common so that the “last known value” is available at every time point."
   ]
  },
  {
   "cell_type": "raw",
   "id": "3a0248f3",
   "metadata": {},
   "source": [
    "ffill() is equivalent to fillna(method='ffill') and bfill() is equivalent to fillna(method='bfill')"
   ]
  },
  {
   "cell_type": "markdown",
   "id": "1285f633",
   "metadata": {},
   "source": [
    "### Filling with a PandasObject\n",
    "You can also fillna using a dict or Series that is alignable. The labels of the dict or index of the Series must match the columns of the frame you wish to fill. The use case of this is to fill a DataFrame with the mean of that column."
   ]
  },
  {
   "cell_type": "code",
   "execution_count": 41,
   "id": "0967b32e",
   "metadata": {},
   "outputs": [
    {
     "data": {
      "text/html": [
       "<div>\n",
       "<style scoped>\n",
       "    .dataframe tbody tr th:only-of-type {\n",
       "        vertical-align: middle;\n",
       "    }\n",
       "\n",
       "    .dataframe tbody tr th {\n",
       "        vertical-align: top;\n",
       "    }\n",
       "\n",
       "    .dataframe thead th {\n",
       "        text-align: right;\n",
       "    }\n",
       "</style>\n",
       "<table border=\"1\" class=\"dataframe\">\n",
       "  <thead>\n",
       "    <tr style=\"text-align: right;\">\n",
       "      <th></th>\n",
       "      <th>0</th>\n",
       "      <th>1</th>\n",
       "      <th>2</th>\n",
       "      <th>3</th>\n",
       "    </tr>\n",
       "  </thead>\n",
       "  <tbody>\n",
       "    <tr>\n",
       "      <th>0</th>\n",
       "      <td>NaN</td>\n",
       "      <td>NaN</td>\n",
       "      <td>NaN</td>\n",
       "      <td>NaN</td>\n",
       "    </tr>\n",
       "    <tr>\n",
       "      <th>1</th>\n",
       "      <td>NaN</td>\n",
       "      <td>NaN</td>\n",
       "      <td>NaN</td>\n",
       "      <td>NaN</td>\n",
       "    </tr>\n",
       "    <tr>\n",
       "      <th>2</th>\n",
       "      <td>NaN</td>\n",
       "      <td>NaN</td>\n",
       "      <td>NaN</td>\n",
       "      <td>NaN</td>\n",
       "    </tr>\n",
       "    <tr>\n",
       "      <th>3</th>\n",
       "      <td>NaN</td>\n",
       "      <td>NaN</td>\n",
       "      <td>NaN</td>\n",
       "      <td>NaN</td>\n",
       "    </tr>\n",
       "    <tr>\n",
       "      <th>4</th>\n",
       "      <td>NaN</td>\n",
       "      <td>NaN</td>\n",
       "      <td>NaN</td>\n",
       "      <td>NaN</td>\n",
       "    </tr>\n",
       "  </tbody>\n",
       "</table>\n",
       "</div>"
      ],
      "text/plain": [
       "    0   1   2   3\n",
       "0 NaN NaN NaN NaN\n",
       "1 NaN NaN NaN NaN\n",
       "2 NaN NaN NaN NaN\n",
       "3 NaN NaN NaN NaN\n",
       "4 NaN NaN NaN NaN"
      ]
     },
     "execution_count": 41,
     "metadata": {},
     "output_type": "execute_result"
    }
   ],
   "source": [
    "df = pd.DataFrame(np.random.randn(10000, 4))\n",
    "df.iloc[:9998] = np.nan\n",
    "sdf = df.astype(pd.SparseDtype(\"float\", np.nan))\n",
    "sdf.head()"
   ]
  },
  {
   "cell_type": "code",
   "execution_count": 42,
   "id": "e4a46f97",
   "metadata": {},
   "outputs": [
    {
     "data": {
      "text/plain": [
       "0    Sparse[float64, nan]\n",
       "1    Sparse[float64, nan]\n",
       "2    Sparse[float64, nan]\n",
       "3    Sparse[float64, nan]\n",
       "dtype: object"
      ]
     },
     "execution_count": 42,
     "metadata": {},
     "output_type": "execute_result"
    }
   ],
   "source": [
    "sdf.dtypes"
   ]
  },
  {
   "cell_type": "code",
   "execution_count": 43,
   "id": "529a550b",
   "metadata": {},
   "outputs": [
    {
     "data": {
      "text/plain": [
       "0.0002"
      ]
     },
     "execution_count": 43,
     "metadata": {},
     "output_type": "execute_result"
    }
   ],
   "source": [
    "sdf.sparse.density"
   ]
  },
  {
   "cell_type": "markdown",
   "id": "3378a8ac",
   "metadata": {},
   "source": [
    "As you can see, the density (% of values that have not been “compressed”) is extremely low. This sparse object takes up much less memory on disk (pickled) and in the Python interpreter."
   ]
  },
  {
   "cell_type": "code",
   "execution_count": 44,
   "id": "c77a360c",
   "metadata": {},
   "outputs": [
    {
     "data": {
      "text/plain": [
       "'dense : 320.13 bytes'"
      ]
     },
     "execution_count": 44,
     "metadata": {},
     "output_type": "execute_result"
    }
   ],
   "source": [
    "'dense : {:0.2f} bytes'.format(df.memory_usage().sum() / 1e3)"
   ]
  },
  {
   "cell_type": "code",
   "execution_count": 45,
   "id": "30f6d936",
   "metadata": {},
   "outputs": [
    {
     "data": {
      "text/plain": [
       "'sparse: 0.22 bytes'"
      ]
     },
     "execution_count": 45,
     "metadata": {},
     "output_type": "execute_result"
    }
   ],
   "source": [
    "'sparse: {:0.2f} bytes'.format(sdf.memory_usage().sum() / 1e3)"
   ]
  },
  {
   "cell_type": "markdown",
   "id": "0e63c9b2",
   "metadata": {},
   "source": [
    "Functionally, their behavior should be nearly identical to their dense counterparts."
   ]
  },
  {
   "cell_type": "markdown",
   "id": "d612a487",
   "metadata": {},
   "source": [
    "# SparseArray\n",
    "arrays.SparseArray is a ExtensionArray for storing an array of sparse values (see dtypes for more on extension arrays). It is a 1-dimensional ndarray-like object storing only values distinct from the fill_value:"
   ]
  },
  {
   "cell_type": "code",
   "execution_count": 46,
   "id": "f0840fe8",
   "metadata": {},
   "outputs": [],
   "source": [
    "arr = np.random.randn(10)\n"
   ]
  },
  {
   "cell_type": "code",
   "execution_count": 47,
   "id": "d9ee5d70",
   "metadata": {},
   "outputs": [],
   "source": [
    "arr[2:5] = np.nan"
   ]
  },
  {
   "cell_type": "code",
   "execution_count": 48,
   "id": "58d9dc00",
   "metadata": {},
   "outputs": [],
   "source": [
    "arr[7:8] = np.nan"
   ]
  },
  {
   "cell_type": "code",
   "execution_count": 49,
   "id": "555ea50f",
   "metadata": {},
   "outputs": [],
   "source": [
    "sparr = pd.arrays.SparseArray(arr)"
   ]
  },
  {
   "cell_type": "code",
   "execution_count": 50,
   "id": "80783c3c",
   "metadata": {},
   "outputs": [
    {
     "data": {
      "text/plain": [
       "[0.49435150453632515, 0.02362110805436182, nan, nan, nan, -0.0949576280498383, 1.0399881794396344, nan, 0.7184644493356547, 0.23660609584795705]\n",
       "Fill: nan\n",
       "IntIndex\n",
       "Indices: array([0, 1, 5, 6, 8, 9])"
      ]
     },
     "execution_count": 50,
     "metadata": {},
     "output_type": "execute_result"
    }
   ],
   "source": [
    "sparr"
   ]
  },
  {
   "cell_type": "markdown",
   "id": "4d7366e6",
   "metadata": {},
   "source": [
    "A sparse array can be converted to a regular (dense) ndarray with numpy.asarray()"
   ]
  },
  {
   "cell_type": "code",
   "execution_count": 51,
   "id": "b1cbdbfe",
   "metadata": {},
   "outputs": [
    {
     "data": {
      "text/plain": [
       "array([ 0.4943515 ,  0.02362111,         nan,         nan,         nan,\n",
       "       -0.09495763,  1.03998818,         nan,  0.71846445,  0.2366061 ])"
      ]
     },
     "execution_count": 51,
     "metadata": {},
     "output_type": "execute_result"
    }
   ],
   "source": [
    "np.asarray(sparr)"
   ]
  },
  {
   "cell_type": "markdown",
   "id": "93955442",
   "metadata": {},
   "source": [
    "# SparseDtype\n",
    "The SparseArray.dtype property stores two pieces of information\n",
    "\n",
    "1. The dtype of the non-sparse values\n",
    "\n",
    "2. The scalar fill value"
   ]
  },
  {
   "cell_type": "code",
   "execution_count": 52,
   "id": "18385b33",
   "metadata": {},
   "outputs": [
    {
     "data": {
      "text/plain": [
       "Sparse[float64, nan]"
      ]
     },
     "execution_count": 52,
     "metadata": {},
     "output_type": "execute_result"
    }
   ],
   "source": [
    "sparr.dtype"
   ]
  },
  {
   "cell_type": "markdown",
   "id": "19bb131e",
   "metadata": {},
   "source": [
    "A SparseDtype may be constructed by passing only a dtype"
   ]
  },
  {
   "cell_type": "code",
   "execution_count": 53,
   "id": "2a97feaf",
   "metadata": {},
   "outputs": [
    {
     "data": {
      "text/plain": [
       "Sparse[datetime64[ns], NaT]"
      ]
     },
     "execution_count": 53,
     "metadata": {},
     "output_type": "execute_result"
    }
   ],
   "source": [
    "pd.SparseDtype(np.dtype('datetime64[ns]'))"
   ]
  },
  {
   "cell_type": "markdown",
   "id": "85043a65",
   "metadata": {},
   "source": [
    "in which case a default fill value will be used (for NumPy dtypes this is often the “missing” value for that dtype). To override this default an explicit fill value may be passed instead"
   ]
  },
  {
   "cell_type": "code",
   "execution_count": 54,
   "id": "89042415",
   "metadata": {},
   "outputs": [
    {
     "data": {
      "text/plain": [
       "Sparse[datetime64[ns], Timestamp('2017-01-01 00:00:00')]"
      ]
     },
     "execution_count": 54,
     "metadata": {},
     "output_type": "execute_result"
    }
   ],
   "source": [
    "pd.SparseDtype(np.dtype('datetime64[ns]'),\n",
    "               fill_value=pd.Timestamp('2017-01-01'))"
   ]
  },
  {
   "cell_type": "markdown",
   "id": "5bcaa3c7",
   "metadata": {},
   "source": [
    "Finally, the string alias 'Sparse[dtype]' may be used to specify a sparse dtype in many places"
   ]
  },
  {
   "cell_type": "code",
   "execution_count": 55,
   "id": "60094e7a",
   "metadata": {},
   "outputs": [
    {
     "data": {
      "text/plain": [
       "[1, 0, 0, 2]\n",
       "Fill: 0\n",
       "IntIndex\n",
       "Indices: array([0, 3])"
      ]
     },
     "execution_count": 55,
     "metadata": {},
     "output_type": "execute_result"
    }
   ],
   "source": [
    "pd.array([1, 0, 0, 2], dtype='Sparse[int]')"
   ]
  },
  {
   "cell_type": "markdown",
   "id": "e5650fba",
   "metadata": {},
   "source": [
    "# Sparse accessor\n",
    "pandas provides a .sparse accessor, similar to .str for string data, .cat for categorical data, and .dt for datetime-like data. This namespace provides attributes and methods that are specific to sparse data."
   ]
  },
  {
   "cell_type": "code",
   "execution_count": 56,
   "id": "8e0a7ef2",
   "metadata": {},
   "outputs": [],
   "source": [
    "s = pd.Series([0, 0, 1, 2], dtype=\"Sparse[int]\")"
   ]
  },
  {
   "cell_type": "code",
   "execution_count": 57,
   "id": "baa4a3b8",
   "metadata": {},
   "outputs": [
    {
     "data": {
      "text/plain": [
       "0.5"
      ]
     },
     "execution_count": 57,
     "metadata": {},
     "output_type": "execute_result"
    }
   ],
   "source": [
    "s.sparse.density"
   ]
  },
  {
   "cell_type": "code",
   "execution_count": 58,
   "id": "c2058a94",
   "metadata": {},
   "outputs": [
    {
     "data": {
      "text/plain": [
       "0"
      ]
     },
     "execution_count": 58,
     "metadata": {},
     "output_type": "execute_result"
    }
   ],
   "source": [
    "s.sparse.fill_value"
   ]
  },
  {
   "cell_type": "markdown",
   "id": "44f51254",
   "metadata": {},
   "source": [
    "This accessor is available only on data with SparseDtype, and on the Series class itself for creating a Series with sparse data from a scipy COO matrix with."
   ]
  },
  {
   "cell_type": "markdown",
   "id": "acdd309e",
   "metadata": {},
   "source": [
    "## New in version 0.25.0.\n",
    "\n",
    "A .sparse accessor has been added for DataFrame as well. See Sparse accessor for more."
   ]
  },
  {
   "cell_type": "markdown",
   "id": "c4d0cdd8",
   "metadata": {},
   "source": [
    "# Sparse calculation\n",
    "You can apply NumPy ufuncs to **SparseArray** and get a **SparseArray** as a result."
   ]
  },
  {
   "cell_type": "code",
   "execution_count": 59,
   "id": "150b7297",
   "metadata": {},
   "outputs": [
    {
     "data": {
      "text/plain": [
       "[1.0, nan, nan, 2.0, nan]\n",
       "Fill: nan\n",
       "IntIndex\n",
       "Indices: array([0, 3])"
      ]
     },
     "execution_count": 59,
     "metadata": {},
     "output_type": "execute_result"
    }
   ],
   "source": [
    "arr = pd.arrays.SparseArray([1., np.nan, np.nan, -2., np.nan])\n",
    "\n",
    "np.abs(arr)"
   ]
  },
  {
   "cell_type": "markdown",
   "id": "7c87f985",
   "metadata": {},
   "source": [
    "The ufunc is also applied to **fill_value**. This is needed to get the correct dense result."
   ]
  },
  {
   "cell_type": "code",
   "execution_count": 60,
   "id": "159b5f6b",
   "metadata": {},
   "outputs": [
    {
     "data": {
      "text/plain": [
       "[1.0, 1, 1, 2.0, 1]\n",
       "Fill: 1\n",
       "IntIndex\n",
       "Indices: array([0, 3])"
      ]
     },
     "execution_count": 60,
     "metadata": {},
     "output_type": "execute_result"
    }
   ],
   "source": [
    "arr = pd.arrays.SparseArray([1., -1, -1, -2., -1], fill_value=-1)\n",
    "np.abs(arr)"
   ]
  },
  {
   "cell_type": "code",
   "execution_count": 61,
   "id": "736181a2",
   "metadata": {},
   "outputs": [
    {
     "data": {
      "text/plain": [
       "array([1., 1., 1., 2., 1.])"
      ]
     },
     "execution_count": 61,
     "metadata": {},
     "output_type": "execute_result"
    }
   ],
   "source": [
    "np.abs(arr).to_dense()"
   ]
  },
  {
   "cell_type": "markdown",
   "id": "1deddc4b",
   "metadata": {},
   "source": [
    "# Migrating\n",
    "\n",
    "**Note**\n",
    "\n",
    "SparseSeries and SparseDataFrame were removed in pandas 1.0.0. This migration guide is present to aid in migrating from previous versions."
   ]
  },
  {
   "cell_type": "markdown",
   "id": "3f16a8db",
   "metadata": {},
   "source": [
    "In older versions of pandas, the SparseSeries and SparseDataFrame classes (documented below) were the preferred way to work with sparse data. With the advent of extension arrays, these subclasses are no longer needed. Their purpose is better served by using a regular Series or DataFrame with sparse values instead."
   ]
  },
  {
   "cell_type": "markdown",
   "id": "274c5216",
   "metadata": {},
   "source": [
    "**Note**\n",
    "\n",
    "There’s no performance or memory penalty to using a Series or DataFrame with sparse values, rather than a SparseSeries or SparseDataFrame."
   ]
  },
  {
   "cell_type": "markdown",
   "id": "dbe60034",
   "metadata": {},
   "source": [
    "This section provides some guidance on migrating your code to the new style. As a reminder, you can use the Python warnings module to control warnings. But we recommend modifying your code, rather than ignoring the warning."
   ]
  },
  {
   "cell_type": "markdown",
   "id": "72eb99e3",
   "metadata": {},
   "source": [
    "**Construction**\n",
    "\n",
    "From an array-like, use the regular Series or DataFrame constructors with SparseArray values."
   ]
  },
  {
   "cell_type": "raw",
   "id": "68de91f9",
   "metadata": {},
   "source": [
    "# Previous way\n",
    "\n",
    ">>> pd.SparseDataFrame({\"A\": [0, 1]})"
   ]
  },
  {
   "cell_type": "code",
   "execution_count": 62,
   "id": "666e425b",
   "metadata": {},
   "outputs": [
    {
     "data": {
      "text/html": [
       "<div>\n",
       "<style scoped>\n",
       "    .dataframe tbody tr th:only-of-type {\n",
       "        vertical-align: middle;\n",
       "    }\n",
       "\n",
       "    .dataframe tbody tr th {\n",
       "        vertical-align: top;\n",
       "    }\n",
       "\n",
       "    .dataframe thead th {\n",
       "        text-align: right;\n",
       "    }\n",
       "</style>\n",
       "<table border=\"1\" class=\"dataframe\">\n",
       "  <thead>\n",
       "    <tr style=\"text-align: right;\">\n",
       "      <th></th>\n",
       "      <th>A</th>\n",
       "    </tr>\n",
       "  </thead>\n",
       "  <tbody>\n",
       "    <tr>\n",
       "      <th>0</th>\n",
       "      <td>0</td>\n",
       "    </tr>\n",
       "    <tr>\n",
       "      <th>1</th>\n",
       "      <td>1</td>\n",
       "    </tr>\n",
       "  </tbody>\n",
       "</table>\n",
       "</div>"
      ],
      "text/plain": [
       "   A\n",
       "0  0\n",
       "1  1"
      ]
     },
     "execution_count": 62,
     "metadata": {},
     "output_type": "execute_result"
    }
   ],
   "source": [
    "pd.DataFrame({\"A\": pd.arrays.SparseArray([0, 1])})"
   ]
  },
  {
   "cell_type": "markdown",
   "id": "233eb0aa",
   "metadata": {},
   "source": [
    "From a SciPy sparse matrix, use DataFrame.sparse.from_spmatrix(),"
   ]
  },
  {
   "cell_type": "raw",
   "id": "72d93d44",
   "metadata": {},
   "source": [
    "# Previous way\n",
    ">>> from scipy import sparse\n",
    ">>> mat = sparse.eye(3)\n",
    ">>> df = pd.SparseDataFrame(mat, columns=['A', 'B', 'C'])"
   ]
  },
  {
   "cell_type": "code",
   "execution_count": 63,
   "id": "cd369137",
   "metadata": {},
   "outputs": [
    {
     "data": {
      "text/plain": [
       "A    Sparse[float64, 0]\n",
       "B    Sparse[float64, 0]\n",
       "C    Sparse[float64, 0]\n",
       "dtype: object"
      ]
     },
     "execution_count": 63,
     "metadata": {},
     "output_type": "execute_result"
    }
   ],
   "source": [
    "# New way\n",
    "from scipy import sparse\n",
    "\n",
    "mat = sparse.eye(3)\n",
    "\n",
    "df = pd.DataFrame.sparse.from_spmatrix(mat, columns=['A', 'B', 'C'])\n",
    "\n",
    "df.dtypes"
   ]
  },
  {
   "cell_type": "markdown",
   "id": "d45e9d5b",
   "metadata": {},
   "source": [
    "**Conversion**\n",
    "\n",
    "From sparse to dense, use the .sparse accessors"
   ]
  },
  {
   "cell_type": "code",
   "execution_count": 64,
   "id": "7752a337",
   "metadata": {},
   "outputs": [
    {
     "data": {
      "text/html": [
       "<div>\n",
       "<style scoped>\n",
       "    .dataframe tbody tr th:only-of-type {\n",
       "        vertical-align: middle;\n",
       "    }\n",
       "\n",
       "    .dataframe tbody tr th {\n",
       "        vertical-align: top;\n",
       "    }\n",
       "\n",
       "    .dataframe thead th {\n",
       "        text-align: right;\n",
       "    }\n",
       "</style>\n",
       "<table border=\"1\" class=\"dataframe\">\n",
       "  <thead>\n",
       "    <tr style=\"text-align: right;\">\n",
       "      <th></th>\n",
       "      <th>A</th>\n",
       "      <th>B</th>\n",
       "      <th>C</th>\n",
       "    </tr>\n",
       "  </thead>\n",
       "  <tbody>\n",
       "    <tr>\n",
       "      <th>0</th>\n",
       "      <td>1.0</td>\n",
       "      <td>0.0</td>\n",
       "      <td>0.0</td>\n",
       "    </tr>\n",
       "    <tr>\n",
       "      <th>1</th>\n",
       "      <td>0.0</td>\n",
       "      <td>1.0</td>\n",
       "      <td>0.0</td>\n",
       "    </tr>\n",
       "    <tr>\n",
       "      <th>2</th>\n",
       "      <td>0.0</td>\n",
       "      <td>0.0</td>\n",
       "      <td>1.0</td>\n",
       "    </tr>\n",
       "  </tbody>\n",
       "</table>\n",
       "</div>"
      ],
      "text/plain": [
       "     A    B    C\n",
       "0  1.0  0.0  0.0\n",
       "1  0.0  1.0  0.0\n",
       "2  0.0  0.0  1.0"
      ]
     },
     "execution_count": 64,
     "metadata": {},
     "output_type": "execute_result"
    }
   ],
   "source": [
    "df.sparse.to_dense()"
   ]
  },
  {
   "cell_type": "code",
   "execution_count": 65,
   "id": "3fd9e692",
   "metadata": {},
   "outputs": [
    {
     "data": {
      "text/plain": [
       "<3x3 sparse matrix of type '<class 'numpy.float64'>'\n",
       "\twith 3 stored elements in COOrdinate format>"
      ]
     },
     "execution_count": 65,
     "metadata": {},
     "output_type": "execute_result"
    }
   ],
   "source": [
    "df.sparse.to_coo()"
   ]
  },
  {
   "cell_type": "markdown",
   "id": "1824eff8",
   "metadata": {},
   "source": [
    "From dense to sparse, use DataFrame.astype() with a SparseDtype."
   ]
  },
  {
   "cell_type": "code",
   "execution_count": 66,
   "id": "4920ae62",
   "metadata": {},
   "outputs": [],
   "source": [
    "dense = pd.DataFrame({\"A\": [1, 0, 0, 1]})\n"
   ]
  },
  {
   "cell_type": "code",
   "execution_count": 67,
   "id": "731169eb",
   "metadata": {},
   "outputs": [
    {
     "data": {
      "text/html": [
       "<div>\n",
       "<style scoped>\n",
       "    .dataframe tbody tr th:only-of-type {\n",
       "        vertical-align: middle;\n",
       "    }\n",
       "\n",
       "    .dataframe tbody tr th {\n",
       "        vertical-align: top;\n",
       "    }\n",
       "\n",
       "    .dataframe thead th {\n",
       "        text-align: right;\n",
       "    }\n",
       "</style>\n",
       "<table border=\"1\" class=\"dataframe\">\n",
       "  <thead>\n",
       "    <tr style=\"text-align: right;\">\n",
       "      <th></th>\n",
       "      <th>A</th>\n",
       "    </tr>\n",
       "  </thead>\n",
       "  <tbody>\n",
       "    <tr>\n",
       "      <th>0</th>\n",
       "      <td>1</td>\n",
       "    </tr>\n",
       "    <tr>\n",
       "      <th>1</th>\n",
       "      <td>0</td>\n",
       "    </tr>\n",
       "    <tr>\n",
       "      <th>2</th>\n",
       "      <td>0</td>\n",
       "    </tr>\n",
       "    <tr>\n",
       "      <th>3</th>\n",
       "      <td>1</td>\n",
       "    </tr>\n",
       "  </tbody>\n",
       "</table>\n",
       "</div>"
      ],
      "text/plain": [
       "   A\n",
       "0  1\n",
       "1  0\n",
       "2  0\n",
       "3  1"
      ]
     },
     "execution_count": 67,
     "metadata": {},
     "output_type": "execute_result"
    }
   ],
   "source": [
    "dtype = pd.SparseDtype(int, fill_value=0)\n",
    "dense.astype(dtype)"
   ]
  },
  {
   "cell_type": "markdown",
   "id": "d920c986",
   "metadata": {},
   "source": [
    "##### Sparse Properties\n",
    "\n",
    "Sparse-specific properties, like density, are available on the .sparse accessor."
   ]
  },
  {
   "cell_type": "code",
   "execution_count": 68,
   "id": "c2abcfe4",
   "metadata": {},
   "outputs": [
    {
     "data": {
      "text/plain": [
       "0.3333333333333333"
      ]
     },
     "execution_count": 68,
     "metadata": {},
     "output_type": "execute_result"
    }
   ],
   "source": [
    "df.sparse.density"
   ]
  },
  {
   "cell_type": "markdown",
   "id": "a04e1f4c",
   "metadata": {},
   "source": [
    "#### General differences\n",
    "\n",
    "In a SparseDataFrame, all columns were sparse. A DataFrame can have a mixture of sparse and dense columns. As a consequence, assigning new columns to a DataFrame with sparse values will not automatically convert the input to be sparse."
   ]
  },
  {
   "cell_type": "raw",
   "id": "8a8ba3e6",
   "metadata": {},
   "source": [
    "# Previous Way\n",
    ">>> df = pd.SparseDataFrame({\"A\": [0, 1]})\n",
    ">>> df['B'] = [0, 0]  # implicitly becomes Sparse\n",
    ">>> df['B'].dtype\n",
    "Sparse[int64, nan]"
   ]
  },
  {
   "cell_type": "markdown",
   "id": "bdfcd3a1",
   "metadata": {},
   "source": [
    "Instead, you’ll need to ensure that the values being assigned are sparse"
   ]
  },
  {
   "cell_type": "code",
   "execution_count": 69,
   "id": "ca1dbe1e",
   "metadata": {},
   "outputs": [],
   "source": [
    "df = pd.DataFrame({\"A\": pd.arrays.SparseArray([0, 1])})"
   ]
  },
  {
   "cell_type": "code",
   "execution_count": 70,
   "id": "6f65bb42",
   "metadata": {},
   "outputs": [],
   "source": [
    "df['B'] = [0, 0]  # remains dense"
   ]
  },
  {
   "cell_type": "code",
   "execution_count": 71,
   "id": "4e353614",
   "metadata": {},
   "outputs": [
    {
     "data": {
      "text/plain": [
       "dtype('int64')"
      ]
     },
     "execution_count": 71,
     "metadata": {},
     "output_type": "execute_result"
    }
   ],
   "source": [
    "df['B'].dtype"
   ]
  },
  {
   "cell_type": "code",
   "execution_count": 72,
   "id": "8632592c",
   "metadata": {},
   "outputs": [],
   "source": [
    "df['B'] = pd.arrays.SparseArray([0, 0])"
   ]
  },
  {
   "cell_type": "code",
   "execution_count": 73,
   "id": "306830fa",
   "metadata": {},
   "outputs": [
    {
     "data": {
      "text/plain": [
       "Sparse[int64, 0]"
      ]
     },
     "execution_count": 73,
     "metadata": {},
     "output_type": "execute_result"
    }
   ],
   "source": [
    "df['B'].dtype"
   ]
  },
  {
   "cell_type": "markdown",
   "id": "9f291d55",
   "metadata": {},
   "source": [
    "The SparseDataFrame.default_kind and SparseDataFrame.default_fill_value attributes have no replacement."
   ]
  },
  {
   "cell_type": "markdown",
   "id": "55c2957b",
   "metadata": {},
   "source": [
    "# Interaction with scipy.sparse\n",
    "Use DataFrame.sparse.from_spmatrix() to create a DataFrame with sparse values from a sparse matrix."
   ]
  },
  {
   "cell_type": "markdown",
   "id": "6c9d139b",
   "metadata": {},
   "source": [
    "#### New in version 0.25.0."
   ]
  },
  {
   "cell_type": "code",
   "execution_count": 74,
   "id": "4e115e2d",
   "metadata": {},
   "outputs": [
    {
     "data": {
      "text/plain": [
       "<1000x5 sparse matrix of type '<class 'numpy.float64'>'\n",
       "\twith 479 stored elements in Compressed Sparse Row format>"
      ]
     },
     "execution_count": 74,
     "metadata": {},
     "output_type": "execute_result"
    }
   ],
   "source": [
    "from scipy.sparse import csr_matrix\n",
    "\n",
    "arr = np.random.random(size=(1000, 5))\n",
    "\n",
    "arr[arr < .9] = 0\n",
    "\n",
    "sp_arr = csr_matrix(arr)\n",
    "\n",
    "sp_arr"
   ]
  },
  {
   "cell_type": "code",
   "execution_count": 75,
   "id": "b1d6a60d",
   "metadata": {},
   "outputs": [
    {
     "data": {
      "text/html": [
       "<div>\n",
       "<style scoped>\n",
       "    .dataframe tbody tr th:only-of-type {\n",
       "        vertical-align: middle;\n",
       "    }\n",
       "\n",
       "    .dataframe tbody tr th {\n",
       "        vertical-align: top;\n",
       "    }\n",
       "\n",
       "    .dataframe thead th {\n",
       "        text-align: right;\n",
       "    }\n",
       "</style>\n",
       "<table border=\"1\" class=\"dataframe\">\n",
       "  <thead>\n",
       "    <tr style=\"text-align: right;\">\n",
       "      <th></th>\n",
       "      <th>0</th>\n",
       "      <th>1</th>\n",
       "      <th>2</th>\n",
       "      <th>3</th>\n",
       "      <th>4</th>\n",
       "    </tr>\n",
       "  </thead>\n",
       "  <tbody>\n",
       "    <tr>\n",
       "      <th>0</th>\n",
       "      <td>0.978601</td>\n",
       "      <td>0.990133</td>\n",
       "      <td>0.0</td>\n",
       "      <td>0.000000</td>\n",
       "      <td>0.0</td>\n",
       "    </tr>\n",
       "    <tr>\n",
       "      <th>1</th>\n",
       "      <td>0.000000</td>\n",
       "      <td>0.000000</td>\n",
       "      <td>0.0</td>\n",
       "      <td>0.000000</td>\n",
       "      <td>0.0</td>\n",
       "    </tr>\n",
       "    <tr>\n",
       "      <th>2</th>\n",
       "      <td>0.000000</td>\n",
       "      <td>0.000000</td>\n",
       "      <td>0.0</td>\n",
       "      <td>0.000000</td>\n",
       "      <td>0.0</td>\n",
       "    </tr>\n",
       "    <tr>\n",
       "      <th>3</th>\n",
       "      <td>0.000000</td>\n",
       "      <td>0.000000</td>\n",
       "      <td>0.0</td>\n",
       "      <td>0.911242</td>\n",
       "      <td>0.0</td>\n",
       "    </tr>\n",
       "    <tr>\n",
       "      <th>4</th>\n",
       "      <td>0.000000</td>\n",
       "      <td>0.000000</td>\n",
       "      <td>0.0</td>\n",
       "      <td>0.000000</td>\n",
       "      <td>0.0</td>\n",
       "    </tr>\n",
       "  </tbody>\n",
       "</table>\n",
       "</div>"
      ],
      "text/plain": [
       "          0         1    2         3    4\n",
       "0  0.978601  0.990133  0.0  0.000000  0.0\n",
       "1  0.000000  0.000000  0.0  0.000000  0.0\n",
       "2  0.000000  0.000000  0.0  0.000000  0.0\n",
       "3  0.000000  0.000000  0.0  0.911242  0.0\n",
       "4  0.000000  0.000000  0.0  0.000000  0.0"
      ]
     },
     "execution_count": 75,
     "metadata": {},
     "output_type": "execute_result"
    }
   ],
   "source": [
    "sdf = pd.DataFrame.sparse.from_spmatrix(sp_arr)\n",
    "sdf.head()"
   ]
  },
  {
   "cell_type": "code",
   "execution_count": 76,
   "id": "937fc1f0",
   "metadata": {},
   "outputs": [
    {
     "data": {
      "text/plain": [
       "0    Sparse[float64, 0]\n",
       "1    Sparse[float64, 0]\n",
       "2    Sparse[float64, 0]\n",
       "3    Sparse[float64, 0]\n",
       "4    Sparse[float64, 0]\n",
       "dtype: object"
      ]
     },
     "execution_count": 76,
     "metadata": {},
     "output_type": "execute_result"
    }
   ],
   "source": [
    "\n",
    "sdf.dtypes"
   ]
  },
  {
   "cell_type": "markdown",
   "id": "22a1af74",
   "metadata": {},
   "source": [
    "All sparse formats are supported, but matrices that are not in COOrdinate format will be converted, copying data as needed. To convert back to sparse SciPy matrix in COO format, you can use the DataFrame.sparse.to_coo() method:"
   ]
  },
  {
   "cell_type": "code",
   "execution_count": 77,
   "id": "8ce87ab2",
   "metadata": {},
   "outputs": [
    {
     "data": {
      "text/plain": [
       "<1000x5 sparse matrix of type '<class 'numpy.float64'>'\n",
       "\twith 479 stored elements in COOrdinate format>"
      ]
     },
     "execution_count": 77,
     "metadata": {},
     "output_type": "execute_result"
    }
   ],
   "source": [
    "sdf.sparse.to_coo()"
   ]
  },
  {
   "cell_type": "markdown",
   "id": "9d1765da",
   "metadata": {},
   "source": [
    "meth:Series.sparse.to_coo is implemented for transforming a Series with sparse values indexed by a MultiIndex to a scipy.sparse.coo_matrix.\n",
    "\n",
    "The method requires a MultiIndex with two or more levels."
   ]
  },
  {
   "cell_type": "code",
   "execution_count": 78,
   "id": "39106171",
   "metadata": {},
   "outputs": [
    {
     "data": {
      "text/plain": [
       "A  B  C  D\n",
       "1  2  a  0    3.0\n",
       "         1    NaN\n",
       "   1  b  0    1.0\n",
       "         1    3.0\n",
       "2  1  b  0    NaN\n",
       "         1    NaN\n",
       "dtype: Sparse[float64, nan]"
      ]
     },
     "execution_count": 78,
     "metadata": {},
     "output_type": "execute_result"
    }
   ],
   "source": [
    "s = pd.Series([3.0, np.nan, 1.0, 3.0, np.nan, np.nan])\n",
    "s.index = pd.MultiIndex.from_tuples(\n",
    "    [\n",
    "        (1, 2, \"a\", 0),\n",
    "        (1, 2, \"a\", 1),\n",
    "        (1, 1, \"b\", 0),\n",
    "        (1, 1, \"b\", 1),\n",
    "        (2, 1, \"b\", 0),\n",
    "        (2, 1, \"b\", 1),\n",
    "    ],\n",
    "    names=[\"A\", \"B\", \"C\", \"D\"],\n",
    ")\n",
    "\n",
    "\n",
    "ss = s.astype('Sparse')\n",
    "ss"
   ]
  },
  {
   "cell_type": "markdown",
   "id": "90488936",
   "metadata": {},
   "source": [
    "In the example below, we transform the Series to a sparse representation of a 2-d array by specifying that the first and second MultiIndex levels define labels for the rows and the third and fourth levels define labels for the columns. We also specify that the column and row labels should be sorted in the final sparse representation."
   ]
  },
  {
   "cell_type": "code",
   "execution_count": 79,
   "id": "bf893189",
   "metadata": {},
   "outputs": [
    {
     "data": {
      "text/plain": [
       "<3x4 sparse matrix of type '<class 'numpy.float64'>'\n",
       "\twith 3 stored elements in COOrdinate format>"
      ]
     },
     "execution_count": 79,
     "metadata": {},
     "output_type": "execute_result"
    }
   ],
   "source": [
    "A, rows, columns = ss.sparse.to_coo(\n",
    "    row_levels=[\"A\", \"B\"], column_levels=[\"C\", \"D\"], sort_labels=True\n",
    ")\n",
    "\n",
    "\n",
    "A"
   ]
  },
  {
   "cell_type": "code",
   "execution_count": 80,
   "id": "3f6064ac",
   "metadata": {},
   "outputs": [
    {
     "data": {
      "text/plain": [
       "matrix([[0., 0., 1., 3.],\n",
       "        [3., 0., 0., 0.],\n",
       "        [0., 0., 0., 0.]])"
      ]
     },
     "execution_count": 80,
     "metadata": {},
     "output_type": "execute_result"
    }
   ],
   "source": [
    "A.todense()"
   ]
  },
  {
   "cell_type": "code",
   "execution_count": 81,
   "id": "20cd41d5",
   "metadata": {},
   "outputs": [
    {
     "data": {
      "text/plain": [
       "[(1, 1), (1, 2), (2, 1)]"
      ]
     },
     "execution_count": 81,
     "metadata": {},
     "output_type": "execute_result"
    }
   ],
   "source": [
    "rows"
   ]
  },
  {
   "cell_type": "code",
   "execution_count": 82,
   "id": "e5330c27",
   "metadata": {},
   "outputs": [
    {
     "data": {
      "text/plain": [
       "[('a', 0), ('a', 1), ('b', 0), ('b', 1)]"
      ]
     },
     "execution_count": 82,
     "metadata": {},
     "output_type": "execute_result"
    }
   ],
   "source": [
    "columns"
   ]
  },
  {
   "cell_type": "markdown",
   "id": "82f2ad75",
   "metadata": {},
   "source": [
    "Specifying different row and column labels (and not sorting them) yields a different sparse matrix:"
   ]
  },
  {
   "cell_type": "code",
   "execution_count": 83,
   "id": "1d44a714",
   "metadata": {},
   "outputs": [
    {
     "data": {
      "text/plain": [
       "<3x2 sparse matrix of type '<class 'numpy.float64'>'\n",
       "\twith 3 stored elements in COOrdinate format>"
      ]
     },
     "execution_count": 83,
     "metadata": {},
     "output_type": "execute_result"
    }
   ],
   "source": [
    "A, rows, columns = ss.sparse.to_coo(\n",
    "    row_levels=[\"A\", \"B\", \"C\"], column_levels=[\"D\"], sort_labels=False\n",
    ")\n",
    "\n",
    "\n",
    "A"
   ]
  },
  {
   "cell_type": "code",
   "execution_count": 84,
   "id": "96fbc1d2",
   "metadata": {},
   "outputs": [
    {
     "data": {
      "text/plain": [
       "matrix([[3., 0.],\n",
       "        [1., 3.],\n",
       "        [0., 0.]])"
      ]
     },
     "execution_count": 84,
     "metadata": {},
     "output_type": "execute_result"
    }
   ],
   "source": [
    "A.todense()"
   ]
  },
  {
   "cell_type": "code",
   "execution_count": 85,
   "id": "16e21f78",
   "metadata": {},
   "outputs": [
    {
     "data": {
      "text/plain": [
       "[(1, 2, 'a'), (1, 1, 'b'), (2, 1, 'b')]"
      ]
     },
     "execution_count": 85,
     "metadata": {},
     "output_type": "execute_result"
    }
   ],
   "source": [
    "rows"
   ]
  },
  {
   "cell_type": "code",
   "execution_count": 86,
   "id": "09cdcbd6",
   "metadata": {},
   "outputs": [
    {
     "data": {
      "text/plain": [
       "[0, 1]"
      ]
     },
     "execution_count": 86,
     "metadata": {},
     "output_type": "execute_result"
    }
   ],
   "source": [
    "columns"
   ]
  },
  {
   "cell_type": "markdown",
   "id": "4e198eff",
   "metadata": {},
   "source": [
    "A convenience method Series.sparse.from_coo() is implemented for creating a Series with sparse values from a scipy.sparse.coo_matrix."
   ]
  },
  {
   "cell_type": "code",
   "execution_count": 87,
   "id": "fab01646",
   "metadata": {},
   "outputs": [
    {
     "data": {
      "text/plain": [
       "<3x4 sparse matrix of type '<class 'numpy.float64'>'\n",
       "\twith 3 stored elements in COOrdinate format>"
      ]
     },
     "execution_count": 87,
     "metadata": {},
     "output_type": "execute_result"
    }
   ],
   "source": [
    "from scipy import sparse\n",
    "\n",
    "A = sparse.coo_matrix(([3.0, 1.0, 2.0], ([1, 0, 0], [0, 2, 3])), shape=(3, 4))\n",
    "\n",
    "A"
   ]
  },
  {
   "cell_type": "code",
   "execution_count": 88,
   "id": "21aaef5f",
   "metadata": {},
   "outputs": [
    {
     "data": {
      "text/plain": [
       "matrix([[0., 0., 1., 2.],\n",
       "        [3., 0., 0., 0.],\n",
       "        [0., 0., 0., 0.]])"
      ]
     },
     "execution_count": 88,
     "metadata": {},
     "output_type": "execute_result"
    }
   ],
   "source": [
    "A.todense()"
   ]
  },
  {
   "cell_type": "markdown",
   "id": "3c68333e",
   "metadata": {},
   "source": [
    "The default behaviour (with dense_index=False) simply returns a Series containing only the non-null entries."
   ]
  },
  {
   "cell_type": "code",
   "execution_count": 89,
   "id": "024598ff",
   "metadata": {},
   "outputs": [],
   "source": [
    "ss = pd.Series.sparse.from_coo(A)"
   ]
  },
  {
   "cell_type": "markdown",
   "id": "9b00db3c",
   "metadata": {},
   "source": [
    "Specifying dense_index=True will result in an index that is the Cartesian product of the row and columns coordinates of the matrix. Note that this will consume a significant amount of memory (relative to dense_index=False) if the sparse matrix is large (and sparse) enough."
   ]
  },
  {
   "cell_type": "code",
   "execution_count": 90,
   "id": "47e4e5b6",
   "metadata": {},
   "outputs": [
    {
     "data": {
      "text/plain": [
       "0  0    NaN\n",
       "   1    NaN\n",
       "   2    1.0\n",
       "   3    2.0\n",
       "1  0    3.0\n",
       "   1    NaN\n",
       "   2    NaN\n",
       "   3    NaN\n",
       "2  0    NaN\n",
       "   1    NaN\n",
       "   2    NaN\n",
       "   3    NaN\n",
       "dtype: Sparse[float64, nan]"
      ]
     },
     "execution_count": 90,
     "metadata": {},
     "output_type": "execute_result"
    }
   ],
   "source": [
    "ss_dense = pd.Series.sparse.from_coo(A, dense_index=True)\n",
    "ss_dense"
   ]
  },
  {
   "cell_type": "markdown",
   "id": "479272b0",
   "metadata": {},
   "source": [
    "### Reference: https://pandas.pydata.org/pandas-docs/stable/user_guide/sparse.html"
   ]
  }
 ],
 "metadata": {
  "kernelspec": {
   "display_name": "Python 3 (ipykernel)",
   "language": "python",
   "name": "python3"
  },
  "language_info": {
   "codemirror_mode": {
    "name": "ipython",
    "version": 3
   },
   "file_extension": ".py",
   "mimetype": "text/x-python",
   "name": "python",
   "nbconvert_exporter": "python",
   "pygments_lexer": "ipython3",
   "version": "3.9.7"
  }
 },
 "nbformat": 4,
 "nbformat_minor": 5
}
