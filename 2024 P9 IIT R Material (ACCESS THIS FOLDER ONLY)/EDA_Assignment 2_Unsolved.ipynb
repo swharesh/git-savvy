{
 "cells": [
  {
   "cell_type": "markdown",
   "id": "a059ce82",
   "metadata": {},
   "source": [
    "# What is Exploratory Data Analysis (EDA)?\n",
    "Exploratory Data Analysis (EDA) is an approach for summarizing, visualizing, and becoming intimately familiar with the important characteristics of a data set."
   ]
  },
  {
   "cell_type": "code",
   "execution_count": null,
   "id": "daf53328",
   "metadata": {},
   "outputs": [],
   "source": [
    "Data Set: Taken car dataset."
   ]
  },
  {
   "cell_type": "code",
   "execution_count": 1,
   "id": "89ab0013",
   "metadata": {},
   "outputs": [],
   "source": [
    "import pandas as pd\n",
    "import numpy as np\n",
    "import matplotlib as mpl\n",
    "import matplotlib.pyplot as plt\n",
    "%matplotlib inline\n",
    "import seaborn as sns\n",
    "import scipy.stats as st\n",
    "from sklearn import ensemble, tree, linear_model\n",
    "import missingno as msno\n",
    "import warnings\n"
   ]
  },
  {
   "cell_type": "code",
   "execution_count": 2,
   "id": "57be6a51",
   "metadata": {},
   "outputs": [],
   "source": [
    "df=pd.read_csv(\"cars.csv\")"
   ]
  },
  {
   "cell_type": "markdown",
   "id": "58e672ee",
   "metadata": {},
   "source": [
    "1. Get the basic info about the data (info, description, data types, shapes)"
   ]
  },
  {
   "cell_type": "markdown",
   "id": "67adfe87",
   "metadata": {},
   "source": [
    "2. Check for any duplicates values in the data."
   ]
  },
  {
   "cell_type": "markdown",
   "id": "e830ecaf",
   "metadata": {},
   "source": [
    "3. How many fuel_type are represented in this dataset?"
   ]
  },
  {
   "cell_type": "markdown",
   "id": "2f087aba",
   "metadata": {},
   "source": [
    "4. Mention the names of the car model in the Dataset ?"
   ]
  },
  {
   "cell_type": "markdown",
   "id": "dbd20089",
   "metadata": {},
   "source": [
    "5. How many Hyundai Grand i10 AT Asta car having Mumbai as the Native state are working ?"
   ]
  },
  {
   "cell_type": "markdown",
   "id": "44b5a5fc",
   "metadata": {},
   "source": [
    "6. Checking for Null Values and DataTypes of the variables"
   ]
  },
  {
   "cell_type": "code",
   "execution_count": null,
   "id": "86544383",
   "metadata": {},
   "outputs": [],
   "source": []
  }
 ],
 "metadata": {
  "kernelspec": {
   "display_name": "Python 3 (ipykernel)",
   "language": "python",
   "name": "python3"
  },
  "language_info": {
   "codemirror_mode": {
    "name": "ipython",
    "version": 3
   },
   "file_extension": ".py",
   "mimetype": "text/x-python",
   "name": "python",
   "nbconvert_exporter": "python",
   "pygments_lexer": "ipython3",
   "version": "3.9.7"
  }
 },
 "nbformat": 4,
 "nbformat_minor": 5
}
