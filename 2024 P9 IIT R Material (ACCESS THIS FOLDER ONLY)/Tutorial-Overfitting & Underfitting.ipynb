{
 "cells": [
  {
   "cell_type": "markdown",
   "metadata": {
    "id": "wFrLVlix2Dsd"
   },
   "source": [
    "# A Simple Artificial Neural Network (ANN)"
   ]
  },
  {
   "cell_type": "markdown",
   "metadata": {
    "id": "xZGzYjMH5raT"
   },
   "source": [
    "## Import Dataset"
   ]
  },
  {
   "cell_type": "code",
   "execution_count": 1,
   "metadata": {
    "id": "f3D1UiF-2Enk"
   },
   "outputs": [
    {
     "data": {
      "text/html": [
       "<div>\n",
       "<style scoped>\n",
       "    .dataframe tbody tr th:only-of-type {\n",
       "        vertical-align: middle;\n",
       "    }\n",
       "\n",
       "    .dataframe tbody tr th {\n",
       "        vertical-align: top;\n",
       "    }\n",
       "\n",
       "    .dataframe thead th {\n",
       "        text-align: right;\n",
       "    }\n",
       "</style>\n",
       "<table border=\"1\" class=\"dataframe\">\n",
       "  <thead>\n",
       "    <tr style=\"text-align: right;\">\n",
       "      <th></th>\n",
       "      <th>Pregnancies</th>\n",
       "      <th>Glucose</th>\n",
       "      <th>BloodPressure</th>\n",
       "      <th>SkinThickness</th>\n",
       "      <th>Insulin</th>\n",
       "      <th>BMI</th>\n",
       "      <th>DiabetesPedigreeFunction</th>\n",
       "      <th>Age</th>\n",
       "      <th>Outcome</th>\n",
       "    </tr>\n",
       "  </thead>\n",
       "  <tbody>\n",
       "    <tr>\n",
       "      <th>0</th>\n",
       "      <td>6</td>\n",
       "      <td>148</td>\n",
       "      <td>72</td>\n",
       "      <td>35</td>\n",
       "      <td>0</td>\n",
       "      <td>33.6</td>\n",
       "      <td>0.627</td>\n",
       "      <td>50</td>\n",
       "      <td>1</td>\n",
       "    </tr>\n",
       "    <tr>\n",
       "      <th>1</th>\n",
       "      <td>1</td>\n",
       "      <td>85</td>\n",
       "      <td>66</td>\n",
       "      <td>29</td>\n",
       "      <td>0</td>\n",
       "      <td>26.6</td>\n",
       "      <td>0.351</td>\n",
       "      <td>31</td>\n",
       "      <td>0</td>\n",
       "    </tr>\n",
       "    <tr>\n",
       "      <th>2</th>\n",
       "      <td>8</td>\n",
       "      <td>183</td>\n",
       "      <td>64</td>\n",
       "      <td>0</td>\n",
       "      <td>0</td>\n",
       "      <td>23.3</td>\n",
       "      <td>0.672</td>\n",
       "      <td>32</td>\n",
       "      <td>1</td>\n",
       "    </tr>\n",
       "    <tr>\n",
       "      <th>3</th>\n",
       "      <td>1</td>\n",
       "      <td>89</td>\n",
       "      <td>66</td>\n",
       "      <td>23</td>\n",
       "      <td>94</td>\n",
       "      <td>28.1</td>\n",
       "      <td>0.167</td>\n",
       "      <td>21</td>\n",
       "      <td>0</td>\n",
       "    </tr>\n",
       "    <tr>\n",
       "      <th>4</th>\n",
       "      <td>0</td>\n",
       "      <td>137</td>\n",
       "      <td>40</td>\n",
       "      <td>35</td>\n",
       "      <td>168</td>\n",
       "      <td>43.1</td>\n",
       "      <td>2.288</td>\n",
       "      <td>33</td>\n",
       "      <td>1</td>\n",
       "    </tr>\n",
       "  </tbody>\n",
       "</table>\n",
       "</div>"
      ],
      "text/plain": [
       "   Pregnancies  Glucose  BloodPressure  SkinThickness  Insulin   BMI  \\\n",
       "0            6      148             72             35        0  33.6   \n",
       "1            1       85             66             29        0  26.6   \n",
       "2            8      183             64              0        0  23.3   \n",
       "3            1       89             66             23       94  28.1   \n",
       "4            0      137             40             35      168  43.1   \n",
       "\n",
       "   DiabetesPedigreeFunction  Age  Outcome  \n",
       "0                     0.627   50        1  \n",
       "1                     0.351   31        0  \n",
       "2                     0.672   32        1  \n",
       "3                     0.167   21        0  \n",
       "4                     2.288   33        1  "
      ]
     },
     "execution_count": 1,
     "metadata": {},
     "output_type": "execute_result"
    }
   ],
   "source": [
    "import pandas as pd\n",
    "\n",
    "data = pd.read_csv('diabetes.csv')\n",
    "data.head()"
   ]
  },
  {
   "cell_type": "markdown",
   "metadata": {},
   "source": [
    "## Preprocess the data"
   ]
  },
  {
   "cell_type": "code",
   "execution_count": 2,
   "metadata": {},
   "outputs": [],
   "source": [
    "# x- Input data\n",
    "x = data.drop(\"Outcome\", axis=1)\n",
    "# y- output data\n",
    "y = data[\"Outcome\"]\n",
    "\n",
    "from sklearn.preprocessing import MinMaxScaler\n",
    "scaler = MinMaxScaler() \n",
    "x = scaler.fit_transform(x)\n",
    "\n",
    "from sklearn.model_selection import train_test_split\n",
    "X_train, X_test, Y_train, Y_test = train_test_split(x, y, test_size=0.20)"
   ]
  },
  {
   "cell_type": "markdown",
   "metadata": {
    "id": "bgC-5mr35htG"
   },
   "source": [
    "## Add Layers "
   ]
  },
  {
   "cell_type": "code",
   "execution_count": 3,
   "metadata": {
    "colab": {
     "base_uri": "https://localhost:8080/",
     "height": 422
    },
    "id": "q4-aveFWmVz1",
    "outputId": "b20ff31d-dfee-40f5-d3a8-3c8c9869b81b"
   },
   "outputs": [
    {
     "name": "stdout",
     "output_type": "stream",
     "text": [
      "Model: \"sequential\"\n",
      "_________________________________________________________________\n",
      " Layer (type)                Output Shape              Param #   \n",
      "=================================================================\n",
      " First_Hidden_layer (Dense)  (None, 16)                144       \n",
      "                                                                 \n",
      " Second_Hidden_layer (Dense)  (None, 8)                136       \n",
      "                                                                 \n",
      " Output_layer (Dense)        (None, 1)                 9         \n",
      "                                                                 \n",
      "=================================================================\n",
      "Total params: 289\n",
      "Trainable params: 289\n",
      "Non-trainable params: 0\n",
      "_________________________________________________________________\n"
     ]
    }
   ],
   "source": [
    "from tensorflow.keras.models import Sequential\n",
    "from tensorflow.keras.layers import Dense\n",
    "\n",
    "model = Sequential()\n",
    "# Input_dim = 8 for the 8 features of a single sample.\n",
    "# First dense layer has 8 input nodes and 16 output nodes\n",
    "\n",
    "model.add(Dense(16, name= 'First_Hidden_layer', input_dim=8, activation=\"relu\")) \n",
    "\n",
    "# Second dense has 16 input nodes and 8 output nodes\n",
    "model.add(Dense(8,name= 'Second_Hidden_layer', activation=\"relu\"))\n",
    "\n",
    "# Third dense layer has 8 input layer and 1 output node. This is the final output layer to show the result for binary classification. \n",
    "model.add(Dense(1,name= 'Output_layer', activation=\"sigmoid\"))\n",
    "\n",
    "model.summary()"
   ]
  },
  {
   "cell_type": "markdown",
   "metadata": {
    "id": "_XltkpzjA6FN"
   },
   "source": [
    "## Compile the model\n"
   ]
  },
  {
   "cell_type": "code",
   "execution_count": 4,
   "metadata": {
    "id": "mtxB0aG0oJDT"
   },
   "outputs": [],
   "source": [
    "model.compile(loss=\"binary_crossentropy\", optimizer=\"adam\", metrics=[\"accuracy\"])"
   ]
  },
  {
   "cell_type": "markdown",
   "metadata": {
    "id": "3P5kAvnaEUZb"
   },
   "source": [
    "## Fit Model"
   ]
  },
  {
   "cell_type": "code",
   "execution_count": 5,
   "metadata": {
    "colab": {
     "base_uri": "https://localhost:8080/",
     "height": 926
    },
    "id": "OFvJfYK8oV3a",
    "outputId": "6b4ff165-b13e-4be7-b3e0-75d35cbf3829",
    "scrolled": true
   },
   "outputs": [
    {
     "name": "stdout",
     "output_type": "stream",
     "text": [
      "Epoch 1/35\n",
      "62/62 [==============================] - 1s 3ms/step - loss: 0.6848 - accuracy: 0.5635 - val_loss: 0.6628 - val_accuracy: 0.6429\n",
      "Epoch 2/35\n",
      "62/62 [==============================] - 0s 1ms/step - loss: 0.6495 - accuracy: 0.6531 - val_loss: 0.6418 - val_accuracy: 0.6429\n",
      "Epoch 3/35\n",
      "62/62 [==============================] - 0s 1ms/step - loss: 0.6337 - accuracy: 0.6531 - val_loss: 0.6304 - val_accuracy: 0.6429\n",
      "Epoch 4/35\n",
      "62/62 [==============================] - 0s 1ms/step - loss: 0.6250 - accuracy: 0.6531 - val_loss: 0.6216 - val_accuracy: 0.6429\n",
      "Epoch 5/35\n",
      "62/62 [==============================] - 0s 1ms/step - loss: 0.6162 - accuracy: 0.6580 - val_loss: 0.6127 - val_accuracy: 0.6429\n",
      "Epoch 6/35\n",
      "62/62 [==============================] - 0s 2ms/step - loss: 0.6077 - accuracy: 0.6531 - val_loss: 0.6021 - val_accuracy: 0.6429\n",
      "Epoch 7/35\n",
      "62/62 [==============================] - 0s 2ms/step - loss: 0.5996 - accuracy: 0.6612 - val_loss: 0.5937 - val_accuracy: 0.6429\n",
      "Epoch 8/35\n",
      "62/62 [==============================] - 0s 1ms/step - loss: 0.5917 - accuracy: 0.6694 - val_loss: 0.5842 - val_accuracy: 0.6364\n",
      "Epoch 9/35\n",
      "62/62 [==============================] - 0s 1ms/step - loss: 0.5823 - accuracy: 0.6987 - val_loss: 0.5746 - val_accuracy: 0.6494\n",
      "Epoch 10/35\n",
      "62/62 [==============================] - 0s 1ms/step - loss: 0.5743 - accuracy: 0.7150 - val_loss: 0.5593 - val_accuracy: 0.6623\n",
      "Epoch 11/35\n",
      "62/62 [==============================] - 0s 1ms/step - loss: 0.5598 - accuracy: 0.7134 - val_loss: 0.5489 - val_accuracy: 0.6948\n",
      "Epoch 12/35\n",
      "62/62 [==============================] - 0s 1ms/step - loss: 0.5511 - accuracy: 0.7313 - val_loss: 0.5396 - val_accuracy: 0.7078\n",
      "Epoch 13/35\n",
      "62/62 [==============================] - 0s 1ms/step - loss: 0.5442 - accuracy: 0.7199 - val_loss: 0.5352 - val_accuracy: 0.7662\n",
      "Epoch 14/35\n",
      "62/62 [==============================] - 0s 1ms/step - loss: 0.5337 - accuracy: 0.7410 - val_loss: 0.5334 - val_accuracy: 0.6688\n",
      "Epoch 15/35\n",
      "62/62 [==============================] - 0s 1ms/step - loss: 0.5266 - accuracy: 0.7362 - val_loss: 0.5182 - val_accuracy: 0.7403\n",
      "Epoch 16/35\n",
      "62/62 [==============================] - 0s 1ms/step - loss: 0.5184 - accuracy: 0.7410 - val_loss: 0.5162 - val_accuracy: 0.7143\n",
      "Epoch 17/35\n",
      "62/62 [==============================] - 0s 1ms/step - loss: 0.5096 - accuracy: 0.7508 - val_loss: 0.5063 - val_accuracy: 0.7468\n",
      "Epoch 18/35\n",
      "62/62 [==============================] - 0s 1ms/step - loss: 0.5031 - accuracy: 0.7573 - val_loss: 0.5169 - val_accuracy: 0.6883\n",
      "Epoch 19/35\n",
      "62/62 [==============================] - 0s 1ms/step - loss: 0.4969 - accuracy: 0.7606 - val_loss: 0.4951 - val_accuracy: 0.7727\n",
      "Epoch 20/35\n",
      "62/62 [==============================] - 0s 1ms/step - loss: 0.4946 - accuracy: 0.7671 - val_loss: 0.4927 - val_accuracy: 0.7532\n",
      "Epoch 21/35\n",
      "62/62 [==============================] - 0s 1ms/step - loss: 0.4887 - accuracy: 0.7622 - val_loss: 0.4922 - val_accuracy: 0.7597\n",
      "Epoch 22/35\n",
      "62/62 [==============================] - 0s 1ms/step - loss: 0.4838 - accuracy: 0.7720 - val_loss: 0.4870 - val_accuracy: 0.7662\n",
      "Epoch 23/35\n",
      "62/62 [==============================] - 0s 2ms/step - loss: 0.4831 - accuracy: 0.7736 - val_loss: 0.4837 - val_accuracy: 0.7597\n",
      "Epoch 24/35\n",
      "62/62 [==============================] - 0s 1ms/step - loss: 0.4794 - accuracy: 0.7622 - val_loss: 0.4867 - val_accuracy: 0.7403\n",
      "Epoch 25/35\n",
      "62/62 [==============================] - 0s 1ms/step - loss: 0.4700 - accuracy: 0.7915 - val_loss: 0.4809 - val_accuracy: 0.7727\n",
      "Epoch 26/35\n",
      "62/62 [==============================] - 0s 1ms/step - loss: 0.4713 - accuracy: 0.7769 - val_loss: 0.4908 - val_accuracy: 0.7338\n",
      "Epoch 27/35\n",
      "62/62 [==============================] - 0s 1ms/step - loss: 0.4697 - accuracy: 0.7997 - val_loss: 0.4751 - val_accuracy: 0.7857\n",
      "Epoch 28/35\n",
      "62/62 [==============================] - 0s 1ms/step - loss: 0.4695 - accuracy: 0.7899 - val_loss: 0.4743 - val_accuracy: 0.7792\n",
      "Epoch 29/35\n",
      "62/62 [==============================] - 0s 1ms/step - loss: 0.4641 - accuracy: 0.7932 - val_loss: 0.4716 - val_accuracy: 0.7727\n",
      "Epoch 30/35\n",
      "62/62 [==============================] - 0s 1ms/step - loss: 0.4629 - accuracy: 0.7915 - val_loss: 0.4782 - val_accuracy: 0.7338\n",
      "Epoch 31/35\n",
      "62/62 [==============================] - 0s 1ms/step - loss: 0.4642 - accuracy: 0.7850 - val_loss: 0.4719 - val_accuracy: 0.7922\n",
      "Epoch 32/35\n",
      "62/62 [==============================] - 0s 2ms/step - loss: 0.4574 - accuracy: 0.7834 - val_loss: 0.4700 - val_accuracy: 0.7922\n",
      "Epoch 33/35\n",
      "62/62 [==============================] - 0s 1ms/step - loss: 0.4551 - accuracy: 0.7850 - val_loss: 0.4860 - val_accuracy: 0.7338\n",
      "Epoch 34/35\n",
      "62/62 [==============================] - 0s 2ms/step - loss: 0.4568 - accuracy: 0.7948 - val_loss: 0.4700 - val_accuracy: 0.7857\n",
      "Epoch 35/35\n",
      "62/62 [==============================] - 0s 1ms/step - loss: 0.4562 - accuracy: 0.7850 - val_loss: 0.4727 - val_accuracy: 0.7597\n"
     ]
    }
   ],
   "source": [
    "history = model.fit(x,y,validation_split=0.20,epochs=35, batch_size=10)"
   ]
  },
  {
   "cell_type": "markdown",
   "metadata": {},
   "source": [
    "## Visualizing the Results"
   ]
  },
  {
   "cell_type": "code",
   "execution_count": 6,
   "metadata": {},
   "outputs": [
    {
     "name": "stdout",
     "output_type": "stream",
     "text": [
      "dict_keys(['loss', 'accuracy', 'val_loss', 'val_accuracy'])\n"
     ]
    },
    {
     "data": {
      "image/png": "[encoded data removed]",
      "text/plain": [
       "<Figure size 432x288 with 1 Axes>"
      ]
     },
     "metadata": {
      "needs_background": "light"
     },
     "output_type": "display_data"
    },
    {
     "data": {
      "image/png": "[encoded data removed]",
      "text/plain": [
       "<Figure size 432x288 with 1 Axes>"
      ]
     },
     "metadata": {
      "needs_background": "light"
     },
     "output_type": "display_data"
    }
   ],
   "source": [
    "import matplotlib.pyplot as plt\n",
    "# list all data in history\n",
    "print(history.history.keys())\n",
    "# summarize history for accuracy\n",
    "plt.plot(history.history['accuracy'])\n",
    "plt.plot(history.history['val_accuracy'])\n",
    "plt.title('model accuracy')\n",
    "plt.ylabel('accuracy')\n",
    "plt.xlabel('epoch')\n",
    "plt.legend(['train', 'test'], loc='upper left')\n",
    "plt.show()\n",
    "# summarize history for loss\n",
    "plt.plot(history.history['loss'])\n",
    "plt.plot(history.history['val_loss'])\n",
    "plt.title('model loss')\n",
    "plt.ylabel('loss')\n",
    "plt.xlabel('epoch')\n",
    "plt.legend(['train', 'test'], loc='upper left')\n",
    "plt.show()"
   ]
  },
  {
   "cell_type": "markdown",
   "metadata": {
    "id": "pVD8AzjQFk37"
   },
   "source": [
    "## Evaluate Model"
   ]
  },
  {
   "cell_type": "code",
   "execution_count": 7,
   "metadata": {
    "colab": {
     "base_uri": "https://localhost:8080/"
    },
    "id": "eK6z5OOWoWj5",
    "outputId": "da8af144-0590-4e48-f690-a6bbf94ae42e"
   },
   "outputs": [
    {
     "name": "stdout",
     "output_type": "stream",
     "text": [
      "24/24 [==============================] - 0s 2ms/step - loss: 0.4550 - accuracy: 0.7852\n",
      "Model loss: 45.50\n",
      "Model accuracy: 78.52\n"
     ]
    }
   ],
   "source": [
    "loss, accuracy = model.evaluate(x, y)\n",
    "print(\"Model loss: %.2f\"% (loss*100))\n",
    "print(\"Model accuracy: %.2f\"% (accuracy*100))"
   ]
  },
  {
   "cell_type": "markdown",
   "metadata": {
    "id": "mg_KwwK3FpTr"
   },
   "source": [
    "## Make Predictions"
   ]
  },
  {
   "cell_type": "code",
   "execution_count": 8,
   "metadata": {
    "colab": {
     "base_uri": "https://localhost:8080/"
    },
    "id": "-YyzMywbpajW",
    "outputId": "abb6eddf-71d5-411c-a920-fdefd4c07fbc"
   },
   "outputs": [
    {
     "name": "stdout",
     "output_type": "stream",
     "text": [
      "[[1. 1.]\n",
      " [0. 0.]\n",
      " [1. 1.]\n",
      " [0. 0.]\n",
      " [1. 1.]]\n"
     ]
    }
   ],
   "source": [
    "import numpy as np\n",
    "predictions = np.round(model.predict(x))\n",
    "\n",
    "# Display results for first 5 predictions\n",
    "res = np.column_stack((predictions[0:5], y[0:5]))\n",
    "print(res)"
   ]
  },
  {
   "cell_type": "code",
   "execution_count": 9,
   "metadata": {
    "id": "Rpu32zOWGLPi"
   },
   "outputs": [
    {
     "name": "stdout",
     "output_type": "stream",
     "text": [
      "[[0. 0.]\n",
      " [0. 0.]\n",
      " [0. 0.]\n",
      " [0. 1.]\n",
      " [0. 0.]]\n"
     ]
    }
   ],
   "source": [
    "# Display results for last 5 predictions\n",
    "n = predictions.shape[0]\n",
    "res = np.column_stack((predictions[n-5:n], y[n-5:n]))\n",
    "print(res)"
   ]
  },
  {
   "cell_type": "markdown",
   "metadata": {},
   "source": [
    "# Overfitting and Underfitting\n"
   ]
  },
  {
   "cell_type": "markdown",
   "metadata": {},
   "source": [
    "## 1. Early Stopping\n",
    "\n",
    "We mentioned that when a model is too eagerly learning noise, the validation loss may start to increase during training. To prevent this, we can simply stop the training whenever it seems the validation loss isn't decreasing anymore. Interrupting the training this way is called early stopping.\n",
    "\n",
    "Once we detect that the validation loss is starting to rise again, we can reset the weights back to where the minimum occured. This ensures that the model won't continue to learn noise and overfit the data.\n",
    "\n",
    "Training with early stopping also means we're in less danger of stopping the training too early, before the network has finished learning signal. **So besides preventing overfitting from training too long, early stopping can also prevent underfitting from not training long enough. Just set your training epochs to some large number (more than you'll need), and early stopping will take care of the rest.**\n",
    "\n",
    "In Keras, we include early stopping in our training through a callback. A callback is just a function you want run every so often while the network trains. The early stopping callback will run after every epoch. "
   ]
  },
  {
   "cell_type": "code",
   "execution_count": 10,
   "metadata": {},
   "outputs": [],
   "source": [
    "from tensorflow.keras import layers, callbacks\n",
    "\n",
    "early_stopping = callbacks.EarlyStopping(\n",
    "    min_delta=0.001, # minimium amount of change to count as an improvement\n",
    "    patience=20, # how many epochs to wait before stopping\n",
    "    restore_best_weights=True,\n",
    ")"
   ]
  },
  {
   "cell_type": "code",
   "execution_count": 21,
   "metadata": {},
   "outputs": [
    {
     "name": "stdout",
     "output_type": "stream",
     "text": [
      "Model: \"sequential_2\"\n",
      "_________________________________________________________________\n",
      " Layer (type)                Output Shape              Param #   \n",
      "=================================================================\n",
      " First_Hidden_layer (Dense)  (None, 16)                144       \n",
      "                                                                 \n",
      " Second_Hidden_layer (Dense)  (None, 8)                136       \n",
      "                                                                 \n",
      " Output_layer (Dense)        (None, 1)                 9         \n",
      "                                                                 \n",
      "=================================================================\n",
      "Total params: 289\n",
      "Trainable params: 289\n",
      "Non-trainable params: 0\n",
      "_________________________________________________________________\n"
     ]
    }
   ],
   "source": [
    "from tensorflow.keras.models import Sequential\n",
    "from tensorflow.keras.layers import Dense\n",
    "\n",
    "model1 = Sequential()\n",
    "# Input_dim = 8 for the 8 features of a single sample.\n",
    "# First dense layer has 8 input nodes and 16 output nodes\n",
    "\n",
    "model1.add(Dense(16, name= 'First_Hidden_layer', input_dim=8, activation=\"relu\")) \n",
    "\n",
    "# Second dense has 16 input nodes and 8 output nodes\n",
    "model1.add(Dense(8,name= 'Second_Hidden_layer', activation=\"relu\"))\n",
    "\n",
    "# Third dense layer has 8 input layer and 1 output node. This is the final output layer to show the result for binary classification. \n",
    "model1.add(Dense(1,name= 'Output_layer', activation=\"sigmoid\"))\n",
    "\n",
    "model1.summary()"
   ]
  },
  {
   "cell_type": "code",
   "execution_count": 22,
   "metadata": {},
   "outputs": [],
   "source": [
    "model1.compile(loss=\"binary_crossentropy\", optimizer=\"adam\", metrics=[\"accuracy\"])"
   ]
  },
  {
   "cell_type": "code",
   "execution_count": 23,
   "metadata": {},
   "outputs": [
    {
     "name": "stdout",
     "output_type": "stream",
     "text": [
      "Minimum validation loss: 0.45127129554748535\n"
     ]
    },
    {
     "data": {
      "image/png": "[encoded data removed]",
      "text/plain": [
       "<Figure size 432x288 with 1 Axes>"
      ]
     },
     "metadata": {
      "needs_background": "light"
     },
     "output_type": "display_data"
    }
   ],
   "source": [
    "history = model1.fit(\n",
    "    x, y,\n",
    "    validation_split=0.20,\n",
    "    batch_size=10,\n",
    "    epochs=100,\n",
    "    callbacks=[early_stopping], # put your callbacks in a list\n",
    "    verbose=0,  # turn off training log\n",
    ")\n",
    "\n",
    "history_df = pd.DataFrame(history.history)\n",
    "history_df.loc[:, ['loss', 'val_loss']].plot();\n",
    "print(\"Minimum validation loss: {}\".format(history_df['val_loss'].min()))"
   ]
  },
  {
   "cell_type": "code",
   "execution_count": 25,
   "metadata": {},
   "outputs": [
    {
     "name": "stdout",
     "output_type": "stream",
     "text": [
      "dict_keys(['loss', 'accuracy', 'val_loss', 'val_accuracy'])\n"
     ]
    },
    {
     "data": {
      "image/png": "[encoded data removed]",
      "text/plain": [
       "<Figure size 432x288 with 1 Axes>"
      ]
     },
     "metadata": {
      "needs_background": "light"
     },
     "output_type": "display_data"
    }
   ],
   "source": [
    "import matplotlib.pyplot as plt\n",
    "# list all data in history\n",
    "print(history.history.keys())\n",
    "# summarize history for accuracy\n",
    "plt.plot(history.history['accuracy'])\n",
    "plt.plot(history.history['val_accuracy'])\n",
    "plt.title('model accuracy')\n",
    "plt.ylabel('accuracy')\n",
    "plt.xlabel('epoch')\n",
    "plt.legend(['train', 'test'], loc='upper left')\n",
    "plt.show()"
   ]
  },
  {
   "cell_type": "code",
   "execution_count": 26,
   "metadata": {},
   "outputs": [
    {
     "name": "stdout",
     "output_type": "stream",
     "text": [
      "24/24 [==============================] - 0s 2ms/step - loss: 0.4480 - accuracy: 0.7878\n",
      "Model loss: 44.80\n",
      "Model accuracy: 78.78\n"
     ]
    }
   ],
   "source": [
    "loss, accuracy = model1.evaluate(x, y)\n",
    "print(\"Model loss: %.2f\"% (loss*100))\n",
    "print(\"Model accuracy: %.2f\"% (accuracy*100))"
   ]
  },
  {
   "cell_type": "markdown",
   "metadata": {},
   "source": [
    "## 2. Adding Dropout layers"
   ]
  },
  {
   "cell_type": "markdown",
   "metadata": {},
   "source": [
    "Dropout Regularization is a computationally cheap way to regularize a deep neural network.\n",
    "\n",
    "Dropout works by probabilistically removing, or “dropping out,” inputs to a layer, which may be input variables in the data sample or activations from a previous layer. It has the effect of simulating a large number of networks with very different network structure and, in turn, making nodes in the network generally more robust to the inputs."
   ]
  },
  {
   "cell_type": "code",
   "execution_count": 27,
   "metadata": {},
   "outputs": [],
   "source": [
    "from tensorflow.keras import layers"
   ]
  },
  {
   "cell_type": "code",
   "execution_count": 28,
   "metadata": {},
   "outputs": [
    {
     "name": "stdout",
     "output_type": "stream",
     "text": [
      "Model: \"sequential_3\"\n",
      "_________________________________________________________________\n",
      " Layer (type)                Output Shape              Param #   \n",
      "=================================================================\n",
      " First_Hidden_layer (Dense)  (None, 16)                144       \n",
      "                                                                 \n",
      " dropout (Dropout)           (None, 16)                0         \n",
      "                                                                 \n",
      " Second_Hidden_layer (Dense)  (None, 8)                136       \n",
      "                                                                 \n",
      " dropout_1 (Dropout)         (None, 8)                 0         \n",
      "                                                                 \n",
      " Output_layer (Dense)        (None, 1)                 9         \n",
      "                                                                 \n",
      "=================================================================\n",
      "Total params: 289\n",
      "Trainable params: 289\n",
      "Non-trainable params: 0\n",
      "_________________________________________________________________\n"
     ]
    }
   ],
   "source": [
    "from tensorflow.keras.models import Sequential\n",
    "from tensorflow.keras.layers import Dense\n",
    "\n",
    "dropout_model = Sequential([\n",
    "    layers.Dense(16, activation='relu', name= 'First_Hidden_layer', input_dim=8),\n",
    "    layers.Dropout(0.2),\n",
    "    layers.Dense(8,name= 'Second_Hidden_layer', activation='relu'),\n",
    "    layers.Dropout(0.2),\n",
    "    layers.Dense(1, name= 'Output_layer', activation='sigmoid')\n",
    "])\n",
    "dropout_model.summary()"
   ]
  },
  {
   "cell_type": "code",
   "execution_count": 29,
   "metadata": {},
   "outputs": [],
   "source": [
    "dropout_model.compile(loss=\"binary_crossentropy\", optimizer=\"adam\", metrics=[\"accuracy\"])"
   ]
  },
  {
   "cell_type": "code",
   "execution_count": 34,
   "metadata": {},
   "outputs": [
    {
     "name": "stdout",
     "output_type": "stream",
     "text": [
      "Epoch 1/35\n",
      "62/62 [==============================] - 0s 4ms/step - loss: 0.4846 - accuracy: 0.7655 - val_loss: 0.4842 - val_accuracy: 0.7468\n",
      "Epoch 2/35\n",
      "62/62 [==============================] - 0s 3ms/step - loss: 0.4778 - accuracy: 0.7736 - val_loss: 0.4785 - val_accuracy: 0.7468\n",
      "Epoch 3/35\n",
      "62/62 [==============================] - 0s 3ms/step - loss: 0.4745 - accuracy: 0.7801 - val_loss: 0.4767 - val_accuracy: 0.7532\n",
      "Epoch 4/35\n",
      "62/62 [==============================] - 0s 3ms/step - loss: 0.4742 - accuracy: 0.7736 - val_loss: 0.4764 - val_accuracy: 0.7532\n",
      "Epoch 5/35\n",
      "62/62 [==============================] - 0s 3ms/step - loss: 0.4727 - accuracy: 0.7834 - val_loss: 0.4748 - val_accuracy: 0.7532\n",
      "Epoch 6/35\n",
      "62/62 [==============================] - 0s 4ms/step - loss: 0.4734 - accuracy: 0.7769 - val_loss: 0.4735 - val_accuracy: 0.7532\n",
      "Epoch 7/35\n",
      "62/62 [==============================] - 0s 5ms/step - loss: 0.4706 - accuracy: 0.7818 - val_loss: 0.4742 - val_accuracy: 0.7597\n",
      "Epoch 8/35\n",
      "62/62 [==============================] - 0s 6ms/step - loss: 0.4671 - accuracy: 0.7801 - val_loss: 0.4781 - val_accuracy: 0.7597\n",
      "Epoch 9/35\n",
      "62/62 [==============================] - 0s 3ms/step - loss: 0.4692 - accuracy: 0.7866 - val_loss: 0.4752 - val_accuracy: 0.7597\n",
      "Epoch 10/35\n",
      "62/62 [==============================] - 0s 5ms/step - loss: 0.4674 - accuracy: 0.7834 - val_loss: 0.4714 - val_accuracy: 0.7662\n",
      "Epoch 11/35\n",
      "62/62 [==============================] - 0s 4ms/step - loss: 0.4684 - accuracy: 0.7866 - val_loss: 0.4757 - val_accuracy: 0.7662\n",
      "Epoch 12/35\n",
      "62/62 [==============================] - 0s 3ms/step - loss: 0.4640 - accuracy: 0.7964 - val_loss: 0.4737 - val_accuracy: 0.7857\n",
      "Epoch 13/35\n",
      "62/62 [==============================] - 0s 3ms/step - loss: 0.4680 - accuracy: 0.7752 - val_loss: 0.4743 - val_accuracy: 0.7727\n",
      "Epoch 14/35\n",
      "62/62 [==============================] - 0s 3ms/step - loss: 0.4644 - accuracy: 0.7899 - val_loss: 0.4677 - val_accuracy: 0.7468\n",
      "Epoch 15/35\n",
      "62/62 [==============================] - 0s 3ms/step - loss: 0.4647 - accuracy: 0.7899 - val_loss: 0.4673 - val_accuracy: 0.7532\n",
      "Epoch 16/35\n",
      "62/62 [==============================] - 0s 3ms/step - loss: 0.4621 - accuracy: 0.7899 - val_loss: 0.4687 - val_accuracy: 0.7597\n",
      "Epoch 17/35\n",
      "62/62 [==============================] - 0s 3ms/step - loss: 0.4618 - accuracy: 0.7883 - val_loss: 0.4695 - val_accuracy: 0.7662\n",
      "Epoch 18/35\n",
      "62/62 [==============================] - 0s 3ms/step - loss: 0.4597 - accuracy: 0.7915 - val_loss: 0.4675 - val_accuracy: 0.7597\n",
      "Epoch 19/35\n",
      "62/62 [==============================] - 0s 3ms/step - loss: 0.4600 - accuracy: 0.7899 - val_loss: 0.4715 - val_accuracy: 0.7727\n",
      "Epoch 20/35\n",
      "62/62 [==============================] - 0s 3ms/step - loss: 0.4604 - accuracy: 0.7932 - val_loss: 0.4675 - val_accuracy: 0.7597\n",
      "Epoch 21/35\n",
      "62/62 [==============================] - 0s 6ms/step - loss: 0.4612 - accuracy: 0.7850 - val_loss: 0.4655 - val_accuracy: 0.7532\n",
      "Epoch 22/35\n",
      "62/62 [==============================] - 0s 3ms/step - loss: 0.4554 - accuracy: 0.7850 - val_loss: 0.4857 - val_accuracy: 0.7597\n",
      "Epoch 23/35\n",
      "62/62 [==============================] - 0s 4ms/step - loss: 0.4633 - accuracy: 0.7752 - val_loss: 0.4701 - val_accuracy: 0.7727\n",
      "Epoch 24/35\n",
      "62/62 [==============================] - 0s 3ms/step - loss: 0.4585 - accuracy: 0.7834 - val_loss: 0.4685 - val_accuracy: 0.7662\n",
      "Epoch 25/35\n",
      "62/62 [==============================] - 0s 4ms/step - loss: 0.4570 - accuracy: 0.7932 - val_loss: 0.4656 - val_accuracy: 0.7532\n",
      "Epoch 26/35\n",
      "62/62 [==============================] - 0s 4ms/step - loss: 0.4593 - accuracy: 0.7883 - val_loss: 0.4681 - val_accuracy: 0.7662\n",
      "Epoch 27/35\n",
      "62/62 [==============================] - 0s 4ms/step - loss: 0.4565 - accuracy: 0.7899 - val_loss: 0.4639 - val_accuracy: 0.7597\n",
      "Epoch 28/35\n",
      "62/62 [==============================] - 0s 4ms/step - loss: 0.4568 - accuracy: 0.7899 - val_loss: 0.4662 - val_accuracy: 0.7532\n",
      "Epoch 29/35\n",
      "62/62 [==============================] - 0s 3ms/step - loss: 0.4536 - accuracy: 0.7866 - val_loss: 0.4758 - val_accuracy: 0.8117\n",
      "Epoch 30/35\n",
      "62/62 [==============================] - 0s 4ms/step - loss: 0.4529 - accuracy: 0.7932 - val_loss: 0.4699 - val_accuracy: 0.7662\n",
      "Epoch 31/35\n",
      "62/62 [==============================] - 0s 5ms/step - loss: 0.4539 - accuracy: 0.7801 - val_loss: 0.4641 - val_accuracy: 0.7597\n",
      "Epoch 32/35\n",
      "62/62 [==============================] - 0s 4ms/step - loss: 0.4554 - accuracy: 0.7818 - val_loss: 0.4689 - val_accuracy: 0.7662\n",
      "Epoch 33/35\n",
      "62/62 [==============================] - 0s 3ms/step - loss: 0.4554 - accuracy: 0.7866 - val_loss: 0.4633 - val_accuracy: 0.7597\n",
      "Epoch 34/35\n",
      "62/62 [==============================] - 0s 3ms/step - loss: 0.4524 - accuracy: 0.7883 - val_loss: 0.4655 - val_accuracy: 0.7532\n",
      "Epoch 35/35\n",
      "62/62 [==============================] - 0s 6ms/step - loss: 0.4485 - accuracy: 0.8029 - val_loss: 0.4843 - val_accuracy: 0.7468\n"
     ]
    }
   ],
   "source": [
    "history = model.fit(x,y,validation_split=0.20,epochs=35, batch_size=10)"
   ]
  },
  {
   "cell_type": "code",
   "execution_count": 30,
   "metadata": {},
   "outputs": [
    {
     "name": "stdout",
     "output_type": "stream",
     "text": [
      "dict_keys(['loss', 'accuracy', 'val_loss', 'val_accuracy'])\n"
     ]
    },
    {
     "data": {
      "image/png": "[encoded data removed]",
      "text/plain": [
       "<Figure size 432x288 with 1 Axes>"
      ]
     },
     "metadata": {
      "needs_background": "light"
     },
     "output_type": "display_data"
    },
    {
     "data": {
      "image/png": "[encoded data removed]",
      "text/plain": [
       "<Figure size 432x288 with 1 Axes>"
      ]
     },
     "metadata": {
      "needs_background": "light"
     },
     "output_type": "display_data"
    }
   ],
   "source": [
    "import matplotlib.pyplot as plt\n",
    "# list all data in history\n",
    "print(history.history.keys())\n",
    "# summarize history for accuracy\n",
    "plt.plot(history.history['accuracy'])\n",
    "plt.plot(history.history['val_accuracy'])\n",
    "plt.title('model accuracy')\n",
    "plt.ylabel('accuracy')\n",
    "plt.xlabel('epoch')\n",
    "plt.legend(['train', 'test'], loc='upper left')\n",
    "plt.show()\n",
    "# summarize history for loss\n",
    "plt.plot(history.history['loss'])\n",
    "plt.plot(history.history['val_loss'])\n",
    "plt.title('model loss')\n",
    "plt.ylabel('loss')\n",
    "plt.xlabel('epoch')\n",
    "plt.legend(['train', 'test'], loc='upper left')\n",
    "plt.show()"
   ]
  },
  {
   "cell_type": "code",
   "execution_count": 31,
   "metadata": {},
   "outputs": [
    {
     "name": "stdout",
     "output_type": "stream",
     "text": [
      "24/24 [==============================] - 0s 1ms/step - loss: 0.4550 - accuracy: 0.7852\n",
      "Model loss: 45.50\n",
      "Model accuracy: 78.52\n"
     ]
    }
   ],
   "source": [
    "loss, accuracy = model.evaluate(x, y)\n",
    "print(\"Model loss: %.2f\"% (loss*100))\n",
    "print(\"Model accuracy: %.2f\"% (accuracy*100))"
   ]
  },
  {
   "cell_type": "markdown",
   "metadata": {},
   "source": [
    "# 3. Regularization\n",
    "\n",
    "A common way to mitigate overfitting is to put constraints on the complexity of a network by forcing its weights only to take small values, which makes the distribution of weight values more \"regular\". This is called \"weight regularization\", and it is done by adding to the loss function of the network a cost associated with having large weights. This cost comes in two flavors:\n",
    "\n",
    "**L1 regularization**, where the cost added is proportional to the absolute value of the weights coefficients (i.e. to what is called the \"L1 norm\" of the weights).\n",
    "\n",
    "**L2 regularization**, where the cost added is proportional to the square of the value of the weights coefficients (i.e. to what is called the squared \"L2 norm\" of the weights). L2 regularization is also called weight decay in the context of neural networks. Don't let the different name confuse you: weight decay is mathematically the exact same as L2 regularization."
   ]
  },
  {
   "cell_type": "code",
   "execution_count": 32,
   "metadata": {},
   "outputs": [],
   "source": [
    "import tensorflow as tf\n",
    "from tensorflow.keras import layers, regularizers"
   ]
  },
  {
   "cell_type": "markdown",
   "metadata": {},
   "source": [
    "**L2 Regularization Model**"
   ]
  },
  {
   "cell_type": "code",
   "execution_count": 34,
   "metadata": {},
   "outputs": [
    {
     "name": "stdout",
     "output_type": "stream",
     "text": [
      "Model: \"sequential_5\"\n",
      "_________________________________________________________________\n",
      " Layer (type)                Output Shape              Param #   \n",
      "=================================================================\n",
      " First_Hidden_layer (Dense)  (None, 16)                144       \n",
      "                                                                 \n",
      " dropout_4 (Dropout)         (None, 16)                0         \n",
      "                                                                 \n",
      " Second_Hidden_layer (Dense)  (None, 8)                136       \n",
      "                                                                 \n",
      " dropout_5 (Dropout)         (None, 8)                 0         \n",
      "                                                                 \n",
      " Output_layer (Dense)        (None, 1)                 9         \n",
      "                                                                 \n",
      "=================================================================\n",
      "Total params: 289\n",
      "Trainable params: 289\n",
      "Non-trainable params: 0\n",
      "_________________________________________________________________\n"
     ]
    }
   ],
   "source": [
    "from tensorflow.keras.models import Sequential\n",
    "from tensorflow.keras.layers import Dense\n",
    "\n",
    "l2_model = tf.keras.Sequential([\n",
    "    layers.Dense(16, activation='relu', name= 'First_Hidden_layer',kernel_regularizer=regularizers.l2(0.001), input_dim=8),\n",
    "    layers.Dropout(0.2),\n",
    "    layers.Dense(8,name= 'Second_Hidden_layer',kernel_regularizer=regularizers.l2(0.001) , activation='relu'),\n",
    "    layers.Dropout(0.2),\n",
    "    layers.Dense(1, name= 'Output_layer', activation='sigmoid')\n",
    "])\n",
    "l2_model.summary()"
   ]
  },
  {
   "cell_type": "code",
   "execution_count": 35,
   "metadata": {},
   "outputs": [],
   "source": [
    "l2_model.compile(loss=\"binary_crossentropy\", optimizer=\"adam\", metrics=[\"accuracy\"])"
   ]
  },
  {
   "cell_type": "code",
   "execution_count": 36,
   "metadata": {},
   "outputs": [
    {
     "name": "stdout",
     "output_type": "stream",
     "text": [
      "Epoch 1/100\n",
      "62/62 [==============================] - 1s 3ms/step - loss: 0.7018 - accuracy: 0.6075 - val_loss: 0.6854 - val_accuracy: 0.6429\n",
      "Epoch 2/100\n",
      "62/62 [==============================] - 0s 1ms/step - loss: 0.6863 - accuracy: 0.6270 - val_loss: 0.6753 - val_accuracy: 0.6429\n",
      "Epoch 3/100\n",
      "62/62 [==============================] - 0s 1ms/step - loss: 0.6806 - accuracy: 0.6466 - val_loss: 0.6694 - val_accuracy: 0.6429\n",
      "Epoch 4/100\n",
      "62/62 [==============================] - 0s 1ms/step - loss: 0.6743 - accuracy: 0.6645 - val_loss: 0.6621 - val_accuracy: 0.6429\n",
      "Epoch 5/100\n",
      "62/62 [==============================] - 0s 2ms/step - loss: 0.6637 - accuracy: 0.6596 - val_loss: 0.6550 - val_accuracy: 0.6429\n",
      "Epoch 6/100\n",
      "62/62 [==============================] - 0s 1ms/step - loss: 0.6555 - accuracy: 0.6547 - val_loss: 0.6414 - val_accuracy: 0.6429\n",
      "Epoch 7/100\n",
      "62/62 [==============================] - 0s 1ms/step - loss: 0.6420 - accuracy: 0.6645 - val_loss: 0.6327 - val_accuracy: 0.6429\n",
      "Epoch 8/100\n",
      "62/62 [==============================] - 0s 1ms/step - loss: 0.6461 - accuracy: 0.6759 - val_loss: 0.6277 - val_accuracy: 0.6429\n",
      "Epoch 9/100\n",
      "62/62 [==============================] - 0s 1ms/step - loss: 0.6395 - accuracy: 0.6857 - val_loss: 0.6206 - val_accuracy: 0.6429\n",
      "Epoch 10/100\n",
      "62/62 [==============================] - 0s 1ms/step - loss: 0.6278 - accuracy: 0.6710 - val_loss: 0.6109 - val_accuracy: 0.6429\n",
      "Epoch 11/100\n",
      "62/62 [==============================] - 0s 1ms/step - loss: 0.6215 - accuracy: 0.6808 - val_loss: 0.6012 - val_accuracy: 0.6299\n",
      "Epoch 12/100\n",
      "62/62 [==============================] - 0s 1ms/step - loss: 0.6146 - accuracy: 0.7003 - val_loss: 0.5955 - val_accuracy: 0.6299\n",
      "Epoch 13/100\n",
      "62/62 [==============================] - 0s 1ms/step - loss: 0.6219 - accuracy: 0.6840 - val_loss: 0.5939 - val_accuracy: 0.6299\n",
      "Epoch 14/100\n",
      "62/62 [==============================] - 0s 1ms/step - loss: 0.6073 - accuracy: 0.6889 - val_loss: 0.5830 - val_accuracy: 0.6558\n",
      "Epoch 15/100\n",
      "62/62 [==============================] - 0s 1ms/step - loss: 0.6023 - accuracy: 0.6873 - val_loss: 0.5749 - val_accuracy: 0.6948\n",
      "Epoch 16/100\n",
      "62/62 [==============================] - 0s 2ms/step - loss: 0.5890 - accuracy: 0.7134 - val_loss: 0.5699 - val_accuracy: 0.6818\n",
      "Epoch 17/100\n",
      "62/62 [==============================] - 0s 1ms/step - loss: 0.5912 - accuracy: 0.7068 - val_loss: 0.5608 - val_accuracy: 0.7208\n",
      "Epoch 18/100\n",
      "62/62 [==============================] - 0s 1ms/step - loss: 0.5971 - accuracy: 0.6906 - val_loss: 0.5616 - val_accuracy: 0.6818\n",
      "Epoch 19/100\n",
      "62/62 [==============================] - 0s 1ms/step - loss: 0.5691 - accuracy: 0.7068 - val_loss: 0.5521 - val_accuracy: 0.7013\n",
      "Epoch 20/100\n",
      "62/62 [==============================] - 0s 1ms/step - loss: 0.5843 - accuracy: 0.7003 - val_loss: 0.5476 - val_accuracy: 0.7143\n",
      "Epoch 21/100\n",
      "62/62 [==============================] - 0s 1ms/step - loss: 0.5791 - accuracy: 0.7296 - val_loss: 0.5454 - val_accuracy: 0.7078\n",
      "Epoch 22/100\n",
      "62/62 [==============================] - 0s 1ms/step - loss: 0.5670 - accuracy: 0.7215 - val_loss: 0.5354 - val_accuracy: 0.7143\n",
      "Epoch 23/100\n",
      "62/62 [==============================] - 0s 1ms/step - loss: 0.5570 - accuracy: 0.7329 - val_loss: 0.5335 - val_accuracy: 0.7208\n",
      "Epoch 24/100\n",
      "62/62 [==============================] - 0s 1ms/step - loss: 0.5536 - accuracy: 0.7313 - val_loss: 0.5250 - val_accuracy: 0.7208\n",
      "Epoch 25/100\n",
      "62/62 [==============================] - 0s 1ms/step - loss: 0.5545 - accuracy: 0.7329 - val_loss: 0.5221 - val_accuracy: 0.7143\n",
      "Epoch 26/100\n",
      "62/62 [==============================] - 0s 2ms/step - loss: 0.5322 - accuracy: 0.7557 - val_loss: 0.5111 - val_accuracy: 0.7662\n",
      "Epoch 27/100\n",
      "62/62 [==============================] - 0s 1ms/step - loss: 0.5475 - accuracy: 0.7394 - val_loss: 0.5088 - val_accuracy: 0.7857\n",
      "Epoch 28/100\n",
      "62/62 [==============================] - 0s 1ms/step - loss: 0.5432 - accuracy: 0.7362 - val_loss: 0.5082 - val_accuracy: 0.7532\n",
      "Epoch 29/100\n",
      "62/62 [==============================] - 0s 2ms/step - loss: 0.5344 - accuracy: 0.7524 - val_loss: 0.5156 - val_accuracy: 0.7403\n",
      "Epoch 30/100\n",
      "62/62 [==============================] - 0s 1ms/step - loss: 0.5471 - accuracy: 0.7166 - val_loss: 0.5024 - val_accuracy: 0.7857\n",
      "Epoch 31/100\n",
      "62/62 [==============================] - 0s 1ms/step - loss: 0.5447 - accuracy: 0.7313 - val_loss: 0.5101 - val_accuracy: 0.7468\n",
      "Epoch 32/100\n",
      "62/62 [==============================] - 0s 2ms/step - loss: 0.5196 - accuracy: 0.7557 - val_loss: 0.4991 - val_accuracy: 0.7597\n",
      "Epoch 33/100\n",
      "62/62 [==============================] - 0s 1ms/step - loss: 0.5359 - accuracy: 0.7443 - val_loss: 0.4976 - val_accuracy: 0.7857\n",
      "Epoch 34/100\n",
      "62/62 [==============================] - 0s 1ms/step - loss: 0.5272 - accuracy: 0.7427 - val_loss: 0.4936 - val_accuracy: 0.7857\n",
      "Epoch 35/100\n",
      "62/62 [==============================] - 0s 1ms/step - loss: 0.5379 - accuracy: 0.7329 - val_loss: 0.4957 - val_accuracy: 0.7792\n",
      "Epoch 36/100\n",
      "62/62 [==============================] - 0s 2ms/step - loss: 0.5292 - accuracy: 0.7590 - val_loss: 0.4923 - val_accuracy: 0.7857\n",
      "Epoch 37/100\n",
      "62/62 [==============================] - 0s 3ms/step - loss: 0.5117 - accuracy: 0.7704 - val_loss: 0.4893 - val_accuracy: 0.7727\n",
      "Epoch 38/100\n",
      "62/62 [==============================] - 0s 2ms/step - loss: 0.5060 - accuracy: 0.7492 - val_loss: 0.4902 - val_accuracy: 0.7597\n",
      "Epoch 39/100\n",
      "62/62 [==============================] - 0s 2ms/step - loss: 0.5208 - accuracy: 0.7573 - val_loss: 0.4875 - val_accuracy: 0.7857\n",
      "Epoch 40/100\n",
      "62/62 [==============================] - 0s 2ms/step - loss: 0.5240 - accuracy: 0.7524 - val_loss: 0.4941 - val_accuracy: 0.7662\n",
      "Epoch 41/100\n",
      "62/62 [==============================] - 0s 2ms/step - loss: 0.5224 - accuracy: 0.7492 - val_loss: 0.5044 - val_accuracy: 0.7532\n",
      "Epoch 42/100\n",
      "62/62 [==============================] - 0s 2ms/step - loss: 0.5177 - accuracy: 0.7638 - val_loss: 0.4906 - val_accuracy: 0.7727\n",
      "Epoch 43/100\n",
      "62/62 [==============================] - 0s 2ms/step - loss: 0.5181 - accuracy: 0.7590 - val_loss: 0.4963 - val_accuracy: 0.7532\n",
      "Epoch 44/100\n",
      "62/62 [==============================] - 0s 2ms/step - loss: 0.5184 - accuracy: 0.7443 - val_loss: 0.4853 - val_accuracy: 0.7792\n",
      "Epoch 45/100\n",
      "62/62 [==============================] - 0s 2ms/step - loss: 0.5285 - accuracy: 0.7557 - val_loss: 0.4902 - val_accuracy: 0.7597\n",
      "Epoch 46/100\n",
      "62/62 [==============================] - 0s 2ms/step - loss: 0.5039 - accuracy: 0.7818 - val_loss: 0.4816 - val_accuracy: 0.7792\n",
      "Epoch 47/100\n",
      "62/62 [==============================] - 0s 2ms/step - loss: 0.5038 - accuracy: 0.7492 - val_loss: 0.4856 - val_accuracy: 0.7662\n",
      "Epoch 48/100\n",
      "62/62 [==============================] - 0s 2ms/step - loss: 0.5057 - accuracy: 0.7622 - val_loss: 0.4784 - val_accuracy: 0.7792\n",
      "Epoch 49/100\n",
      "62/62 [==============================] - 0s 1ms/step - loss: 0.5243 - accuracy: 0.7508 - val_loss: 0.4856 - val_accuracy: 0.7662\n",
      "Epoch 50/100\n",
      "62/62 [==============================] - 0s 2ms/step - loss: 0.5127 - accuracy: 0.7590 - val_loss: 0.4827 - val_accuracy: 0.7857\n",
      "Epoch 51/100\n",
      "62/62 [==============================] - 0s 2ms/step - loss: 0.5255 - accuracy: 0.7606 - val_loss: 0.4835 - val_accuracy: 0.7662\n",
      "Epoch 52/100\n",
      "62/62 [==============================] - 0s 1ms/step - loss: 0.5075 - accuracy: 0.7720 - val_loss: 0.4780 - val_accuracy: 0.7857\n",
      "Epoch 53/100\n",
      "62/62 [==============================] - 0s 1ms/step - loss: 0.4975 - accuracy: 0.7622 - val_loss: 0.4755 - val_accuracy: 0.7922\n",
      "Epoch 54/100\n",
      "62/62 [==============================] - 0s 2ms/step - loss: 0.5091 - accuracy: 0.7671 - val_loss: 0.4777 - val_accuracy: 0.7922\n",
      "Epoch 55/100\n",
      "62/62 [==============================] - 0s 1ms/step - loss: 0.4952 - accuracy: 0.7573 - val_loss: 0.4866 - val_accuracy: 0.7597\n",
      "Epoch 56/100\n",
      "62/62 [==============================] - 0s 1ms/step - loss: 0.4964 - accuracy: 0.7736 - val_loss: 0.4789 - val_accuracy: 0.7662\n",
      "Epoch 57/100\n",
      "62/62 [==============================] - 0s 1ms/step - loss: 0.5114 - accuracy: 0.7427 - val_loss: 0.4751 - val_accuracy: 0.7662\n",
      "Epoch 58/100\n",
      "62/62 [==============================] - 0s 2ms/step - loss: 0.4922 - accuracy: 0.7655 - val_loss: 0.4707 - val_accuracy: 0.7857\n"
     ]
    },
    {
     "name": "stdout",
     "output_type": "stream",
     "text": [
      "Epoch 59/100\n",
      "62/62 [==============================] - 0s 1ms/step - loss: 0.5258 - accuracy: 0.7557 - val_loss: 0.4796 - val_accuracy: 0.7727\n",
      "Epoch 60/100\n",
      "62/62 [==============================] - 0s 1ms/step - loss: 0.5062 - accuracy: 0.7541 - val_loss: 0.4832 - val_accuracy: 0.7857\n",
      "Epoch 61/100\n",
      "62/62 [==============================] - 0s 2ms/step - loss: 0.5083 - accuracy: 0.7720 - val_loss: 0.4772 - val_accuracy: 0.7727\n",
      "Epoch 62/100\n",
      "62/62 [==============================] - 0s 1ms/step - loss: 0.4838 - accuracy: 0.7964 - val_loss: 0.4759 - val_accuracy: 0.7857\n",
      "Epoch 63/100\n",
      "62/62 [==============================] - 0s 1ms/step - loss: 0.4852 - accuracy: 0.7720 - val_loss: 0.4811 - val_accuracy: 0.7597\n",
      "Epoch 64/100\n",
      "62/62 [==============================] - 0s 1ms/step - loss: 0.4956 - accuracy: 0.7573 - val_loss: 0.4848 - val_accuracy: 0.7662\n",
      "Epoch 65/100\n",
      "62/62 [==============================] - 0s 2ms/step - loss: 0.4937 - accuracy: 0.7818 - val_loss: 0.4758 - val_accuracy: 0.7662\n",
      "Epoch 66/100\n",
      "62/62 [==============================] - 0s 1ms/step - loss: 0.4957 - accuracy: 0.7866 - val_loss: 0.4728 - val_accuracy: 0.7857\n",
      "Epoch 67/100\n",
      "62/62 [==============================] - 0s 1ms/step - loss: 0.5068 - accuracy: 0.7704 - val_loss: 0.4797 - val_accuracy: 0.7597\n",
      "Epoch 68/100\n",
      "62/62 [==============================] - 0s 2ms/step - loss: 0.4769 - accuracy: 0.7720 - val_loss: 0.4772 - val_accuracy: 0.7597\n",
      "Epoch 69/100\n",
      "62/62 [==============================] - 0s 2ms/step - loss: 0.5109 - accuracy: 0.7443 - val_loss: 0.4704 - val_accuracy: 0.7792\n",
      "Epoch 70/100\n",
      "62/62 [==============================] - 0s 2ms/step - loss: 0.4953 - accuracy: 0.7850 - val_loss: 0.4748 - val_accuracy: 0.7662\n",
      "Epoch 71/100\n",
      "62/62 [==============================] - 0s 2ms/step - loss: 0.4869 - accuracy: 0.7785 - val_loss: 0.4737 - val_accuracy: 0.7727\n",
      "Epoch 72/100\n",
      "62/62 [==============================] - 0s 2ms/step - loss: 0.4876 - accuracy: 0.7671 - val_loss: 0.4688 - val_accuracy: 0.7792\n",
      "Epoch 73/100\n",
      "62/62 [==============================] - 0s 2ms/step - loss: 0.4955 - accuracy: 0.7638 - val_loss: 0.4747 - val_accuracy: 0.7662\n",
      "Epoch 74/100\n",
      "62/62 [==============================] - 0s 2ms/step - loss: 0.4933 - accuracy: 0.7818 - val_loss: 0.4735 - val_accuracy: 0.7662\n",
      "Epoch 75/100\n",
      "62/62 [==============================] - 0s 2ms/step - loss: 0.5014 - accuracy: 0.7752 - val_loss: 0.4771 - val_accuracy: 0.7662\n",
      "Epoch 76/100\n",
      "62/62 [==============================] - 0s 2ms/step - loss: 0.4990 - accuracy: 0.7899 - val_loss: 0.4785 - val_accuracy: 0.7792\n",
      "Epoch 77/100\n",
      "62/62 [==============================] - 0s 2ms/step - loss: 0.5101 - accuracy: 0.7622 - val_loss: 0.4754 - val_accuracy: 0.7597\n",
      "Epoch 78/100\n",
      "62/62 [==============================] - 0s 2ms/step - loss: 0.5013 - accuracy: 0.7655 - val_loss: 0.4792 - val_accuracy: 0.7662\n",
      "Epoch 79/100\n",
      "62/62 [==============================] - 0s 2ms/step - loss: 0.4951 - accuracy: 0.7655 - val_loss: 0.4740 - val_accuracy: 0.7727\n",
      "Epoch 80/100\n",
      "62/62 [==============================] - 0s 2ms/step - loss: 0.4971 - accuracy: 0.7671 - val_loss: 0.4771 - val_accuracy: 0.7662\n",
      "Epoch 81/100\n",
      "62/62 [==============================] - 0s 3ms/step - loss: 0.4959 - accuracy: 0.7769 - val_loss: 0.4802 - val_accuracy: 0.7662\n",
      "Epoch 82/100\n",
      "62/62 [==============================] - 0s 2ms/step - loss: 0.4934 - accuracy: 0.7655 - val_loss: 0.4768 - val_accuracy: 0.7857\n",
      "Epoch 83/100\n",
      "62/62 [==============================] - 0s 2ms/step - loss: 0.4982 - accuracy: 0.7720 - val_loss: 0.4751 - val_accuracy: 0.7597\n",
      "Epoch 84/100\n",
      "62/62 [==============================] - 0s 2ms/step - loss: 0.4985 - accuracy: 0.7557 - val_loss: 0.4850 - val_accuracy: 0.7662\n",
      "Epoch 85/100\n",
      "62/62 [==============================] - 0s 2ms/step - loss: 0.4841 - accuracy: 0.7769 - val_loss: 0.4704 - val_accuracy: 0.7662\n",
      "Epoch 86/100\n",
      "62/62 [==============================] - 0s 2ms/step - loss: 0.4919 - accuracy: 0.7818 - val_loss: 0.4710 - val_accuracy: 0.7597\n",
      "Epoch 87/100\n",
      "62/62 [==============================] - 0s 2ms/step - loss: 0.4904 - accuracy: 0.7785 - val_loss: 0.4756 - val_accuracy: 0.7597\n",
      "Epoch 88/100\n",
      "62/62 [==============================] - 0s 2ms/step - loss: 0.4841 - accuracy: 0.7769 - val_loss: 0.4692 - val_accuracy: 0.7662\n",
      "Epoch 89/100\n",
      "62/62 [==============================] - 0s 1ms/step - loss: 0.4846 - accuracy: 0.7899 - val_loss: 0.4655 - val_accuracy: 0.7662\n",
      "Epoch 90/100\n",
      "62/62 [==============================] - 0s 1ms/step - loss: 0.5020 - accuracy: 0.7769 - val_loss: 0.4800 - val_accuracy: 0.7662\n",
      "Epoch 91/100\n",
      "62/62 [==============================] - 0s 1ms/step - loss: 0.4853 - accuracy: 0.7655 - val_loss: 0.4802 - val_accuracy: 0.7662\n",
      "Epoch 92/100\n",
      "62/62 [==============================] - 0s 1ms/step - loss: 0.4925 - accuracy: 0.7818 - val_loss: 0.4712 - val_accuracy: 0.7727\n",
      "Epoch 93/100\n",
      "62/62 [==============================] - 0s 1ms/step - loss: 0.4873 - accuracy: 0.7704 - val_loss: 0.4734 - val_accuracy: 0.7727\n",
      "Epoch 94/100\n",
      "62/62 [==============================] - 0s 2ms/step - loss: 0.5068 - accuracy: 0.7655 - val_loss: 0.4747 - val_accuracy: 0.7857\n",
      "Epoch 95/100\n",
      "62/62 [==============================] - 0s 1ms/step - loss: 0.4840 - accuracy: 0.7948 - val_loss: 0.4755 - val_accuracy: 0.7662\n",
      "Epoch 96/100\n",
      "62/62 [==============================] - 0s 1ms/step - loss: 0.4987 - accuracy: 0.7622 - val_loss: 0.4748 - val_accuracy: 0.7727\n",
      "Epoch 97/100\n",
      "62/62 [==============================] - 0s 1ms/step - loss: 0.4848 - accuracy: 0.7655 - val_loss: 0.4850 - val_accuracy: 0.7597\n",
      "Epoch 98/100\n",
      "62/62 [==============================] - 0s 1ms/step - loss: 0.4992 - accuracy: 0.7720 - val_loss: 0.4723 - val_accuracy: 0.7468\n",
      "Epoch 99/100\n",
      "62/62 [==============================] - 0s 1ms/step - loss: 0.5041 - accuracy: 0.7622 - val_loss: 0.4814 - val_accuracy: 0.7662\n",
      "Epoch 100/100\n",
      "62/62 [==============================] - 0s 1ms/step - loss: 0.4909 - accuracy: 0.7704 - val_loss: 0.4797 - val_accuracy: 0.7662\n"
     ]
    }
   ],
   "source": [
    "history = l2_model.fit(x,y,validation_split=0.20,epochs=100, batch_size=10 , verbose =1)"
   ]
  },
  {
   "cell_type": "code",
   "execution_count": 37,
   "metadata": {},
   "outputs": [
    {
     "name": "stdout",
     "output_type": "stream",
     "text": [
      "Minimum validation loss: 0.4654988944530487\n"
     ]
    },
    {
     "data": {
      "image/png": "[encoded data removed]",
      "text/plain": [
       "<Figure size 432x288 with 1 Axes>"
      ]
     },
     "metadata": {
      "needs_background": "light"
     },
     "output_type": "display_data"
    }
   ],
   "source": [
    "history_df = pd.DataFrame(history.history)\n",
    "history_df.loc[:, ['loss', 'val_loss']].plot();\n",
    "print(\"Minimum validation loss: {}\".format(history_df['val_loss'].min()))"
   ]
  },
  {
   "cell_type": "code",
   "execution_count": 42,
   "metadata": {},
   "outputs": [
    {
     "name": "stdout",
     "output_type": "stream",
     "text": [
      "dict_keys(['loss', 'accuracy', 'val_loss', 'val_accuracy'])\n"
     ]
    },
    {
     "data": {
      "image/png": "[encoded data removed]",
      "text/plain": [
       "<Figure size 432x288 with 1 Axes>"
      ]
     },
     "metadata": {
      "needs_background": "light"
     },
     "output_type": "display_data"
    }
   ],
   "source": [
    "import matplotlib.pyplot as plt\n",
    "# list all data in history\n",
    "print(history.history.keys())\n",
    "# summarize history for accuracy\n",
    "plt.plot(history.history['accuracy'])\n",
    "plt.plot(history.history['val_accuracy'])\n",
    "plt.title('model accuracy')\n",
    "plt.ylabel('accuracy')\n",
    "plt.xlabel('epoch')\n",
    "plt.legend(['train', 'test'], loc='upper left')\n",
    "plt.show()"
   ]
  },
  {
   "cell_type": "code",
   "execution_count": null,
   "metadata": {},
   "outputs": [],
   "source": []
  }
 ],
 "metadata": {
  "colab": {
   "collapsed_sections": [],
   "name": "First_NN.ipynb",
   "provenance": []
  },
  "kernelspec": {
   "display_name": "Python 3 (ipykernel)",
   "language": "python",
   "name": "python3"
  },
  "language_info": {
   "codemirror_mode": {
    "name": "ipython",
    "version": 3
   },
   "file_extension": ".py",
   "mimetype": "text/x-python",
   "name": "python",
   "nbconvert_exporter": "python",
   "pygments_lexer": "ipython3",
   "version": "3.9.7"
  }
 },
 "nbformat": 4,
 "nbformat_minor": 1
}
