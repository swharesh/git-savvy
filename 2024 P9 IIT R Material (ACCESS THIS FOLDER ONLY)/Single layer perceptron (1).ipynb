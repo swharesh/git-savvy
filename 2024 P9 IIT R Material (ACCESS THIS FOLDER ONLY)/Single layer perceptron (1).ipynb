{
 "cells": [
  {
   "cell_type": "markdown",
   "id": "3baf8428",
   "metadata": {
    "id": "3baf8428"
   },
   "source": [
    "# SIngle layer Perceptron from Scratch using Python"
   ]
  },
  {
   "cell_type": "markdown",
   "id": "10a56a7e",
   "metadata": {
    "id": "10a56a7e"
   },
   "source": [
    "In this Tutorial, we will see how to implement the perceptron model using Python on sample data. We will further test our model using the Iris dataset and check its performance.\n",
    "\n",
    "The aim of this tutorial is to gain a fundamental understanding of various components and steps involved for a Perceptron while gaining hands-on experience for its implementation."
   ]
  },
  {
   "cell_type": "markdown",
   "id": "75e5bc07",
   "metadata": {
    "id": "75e5bc07"
   },
   "source": [
    "# What is a Perceptron?"
   ]
  },
  {
   "cell_type": "markdown",
   "id": "e1fe7281",
   "metadata": {
    "id": "e1fe7281"
   },
   "source": [
    "A perceptron is a fundamental unit of the neural network which takes weighted inputs, process it and capable of performing binary classifications.\n",
    "\n",
    "The Perceptron algorithm was inspired by the basic processing units in the brain, called neurons, and how they process signals. It was invented by Frank Rosenblatt, using the McCulloch-Pitts neuron and the findings of Hebb."
   ]
  },
  {
   "cell_type": "markdown",
   "id": "f966846b",
   "metadata": {
    "id": "f966846b"
   },
   "source": [
    "# Linearly Separable Data\n",
    "\n",
    "By definition, a perceptron can only solve __linearly separable problems__. What is a linearly separable problem ?\n",
    "\n",
    "In the first example, the two different classes are linearly separable by a hyperplane (a single line). A Perceptron can be used for classifying data of this kind."
   ]
  },
  {
   "cell_type": "markdown",
   "id": "3961df3c",
   "metadata": {
    "id": "3961df3c"
   },
   "source": [
    "![alternatvie text](https://jmchung.github.io/img/hl_classif_separation.png)"
   ]
  },
  {
   "cell_type": "markdown",
   "id": "83794b9d",
   "metadata": {
    "id": "83794b9d"
   },
   "source": [
    "# Elements of a Perceptron\n",
    "\n",
    "The following are the main elements of a Perceptron:\n",
    "1. Input Layer\n",
    "2. Output\n",
    "3. Weights\n",
    "4. Activation function\n",
    "5. Cost function"
   ]
  },
  {
   "cell_type": "markdown",
   "id": "ad9990c1",
   "metadata": {
    "id": "ad9990c1"
   },
   "source": [
    "![alternatvie text](https://www.nomidl.com/wp-content/uploads/2022/04/image-5.png)"
   ]
  },
  {
   "cell_type": "markdown",
   "id": "350c5626",
   "metadata": {
    "id": "350c5626"
   },
   "source": [
    "What we are essentially trying to do is to find out values for weights and bias in such a way that"
   ]
  },
  {
   "cell_type": "markdown",
   "id": "18e9df59",
   "metadata": {
    "id": "18e9df59"
   },
   "source": [
    "> $Activation(w_{1}x_{1} + w_{2}x_{2}) = Output$\n",
    "\n",
    "The prediction from the perceptron is denoted using either  0 or 1 to distinguish between the classes in our data\n",
    "\n",
    "The activation function in the case of a perceptron is a simple Step function."
   ]
  },
  {
   "cell_type": "markdown",
   "id": "d14d0aad",
   "metadata": {
    "id": "d14d0aad"
   },
   "source": [
    "![alternatvie text](https://miro.medium.com/max/762/1*K9QJmeG33SvQeJgPa52mmQ.png)"
   ]
  },
  {
   "cell_type": "markdown",
   "id": "1f8c9efe",
   "metadata": {
    "id": "1f8c9efe"
   },
   "source": [
    "A __cost function__ is an important parameter that determines how well a machine learning model performs for a given dataset.\n",
    "\n",
    "It calculates the difference between the expected value and predicted value and represents it as a single real number.\n",
    "\n",
    "We shall use the residual sum of squares (RSS) cost function for this example.\n",
    "\n",
    "> $Cost_{RSS} = \\sum\\limits_{i=1}^{n}{(y_{actual} - \\hat{y})^2}$\n",
    "\n",
    "where,\n",
    "\n",
    "> $\\hat{y} = w_{1}x_{1} + w_{2}x_{2} + b$"
   ]
  },
  {
   "cell_type": "markdown",
   "id": "b85d195c",
   "metadata": {
    "id": "b85d195c"
   },
   "source": [
    "***\n",
    "\n",
    "# Steps involved for Perceptron"
   ]
  },
  {
   "cell_type": "markdown",
   "id": "bded9c46",
   "metadata": {
    "id": "bded9c46"
   },
   "source": [
    "1. Import data\n",
    "\n",
    "\n",
    "2. Training:\n",
    "    1. Define number of epochs, learning rate\n",
    "    2. Initialize weights and bias\n",
    "    3. Forward Propogation - Get the output from the Perceptron\n",
    "    4. Backpropogation - Update the weights based on error\n",
    "    5. Training the model\n",
    "\n",
    "\n",
    "3. Testing:\n",
    "    1. Gain predictions on test data\n",
    "    2. Test performance of Perceptron\n",
    "    \n",
    "***"
   ]
  },
  {
   "cell_type": "markdown",
   "id": "1b23a47a",
   "metadata": {
    "id": "1b23a47a"
   },
   "source": [
    "## Importing the libraries"
   ]
  },
  {
   "cell_type": "code",
   "execution_count": 30,
   "id": "fa828cf9",
   "metadata": {
    "executionInfo": {
     "elapsed": 1503,
     "status": "ok",
     "timestamp": 1705394830678,
     "user": {
      "displayName": "Vivekanand Pandey",
      "userId": "15907573739864017869"
     },
     "user_tz": -330
    },
    "id": "fa828cf9"
   },
   "outputs": [],
   "source": [
    "import numpy as np\n",
    "import pandas as pd\n",
    "import matplotlib.pyplot as plt\n",
    "\n",
    "from sklearn import datasets"
   ]
  },
  {
   "cell_type": "markdown",
   "id": "960ac4cf",
   "metadata": {
    "id": "960ac4cf"
   },
   "source": [
    "## 1. Data\n",
    "\n",
    "Let us consider a simple dataset with x1 and x2 denoting the input variables, and y denoting the classes."
   ]
  },
  {
   "cell_type": "code",
   "execution_count": 31,
   "id": "1ae8f25a",
   "metadata": {
    "executionInfo": {
     "elapsed": 389,
     "status": "ok",
     "timestamp": 1705394834912,
     "user": {
      "displayName": "Vivekanand Pandey",
      "userId": "15907573739864017869"
     },
     "user_tz": -330
    },
    "id": "1ae8f25a"
   },
   "outputs": [],
   "source": [
    "df = pd.DataFrame({'x1': [0,0,1,1],\n",
    "                   'x2': [0,1,0,1],\n",
    "                   'y' : [0,1,1,1]})"
   ]
  },
  {
   "cell_type": "code",
   "execution_count": 32,
   "id": "1cdc2d94",
   "metadata": {
    "id": "1cdc2d94",
    "outputId": "b1ff7921-571b-4337-b4ae-d90b360c1ece"
   },
   "outputs": [
    {
     "data": {
      "text/html": [
       "<div>\n",
       "<style scoped>\n",
       "    .dataframe tbody tr th:only-of-type {\n",
       "        vertical-align: middle;\n",
       "    }\n",
       "\n",
       "    .dataframe tbody tr th {\n",
       "        vertical-align: top;\n",
       "    }\n",
       "\n",
       "    .dataframe thead th {\n",
       "        text-align: right;\n",
       "    }\n",
       "</style>\n",
       "<table border=\"1\" class=\"dataframe\">\n",
       "  <thead>\n",
       "    <tr style=\"text-align: right;\">\n",
       "      <th></th>\n",
       "      <th>x1</th>\n",
       "      <th>x2</th>\n",
       "      <th>y</th>\n",
       "    </tr>\n",
       "  </thead>\n",
       "  <tbody>\n",
       "    <tr>\n",
       "      <th>0</th>\n",
       "      <td>0</td>\n",
       "      <td>0</td>\n",
       "      <td>0</td>\n",
       "    </tr>\n",
       "    <tr>\n",
       "      <th>1</th>\n",
       "      <td>0</td>\n",
       "      <td>1</td>\n",
       "      <td>1</td>\n",
       "    </tr>\n",
       "    <tr>\n",
       "      <th>2</th>\n",
       "      <td>1</td>\n",
       "      <td>0</td>\n",
       "      <td>1</td>\n",
       "    </tr>\n",
       "    <tr>\n",
       "      <th>3</th>\n",
       "      <td>1</td>\n",
       "      <td>1</td>\n",
       "      <td>1</td>\n",
       "    </tr>\n",
       "  </tbody>\n",
       "</table>\n",
       "</div>"
      ],
      "text/plain": [
       "   x1  x2  y\n",
       "0   0   0  0\n",
       "1   0   1  1\n",
       "2   1   0  1\n",
       "3   1   1  1"
      ]
     },
     "execution_count": 32,
     "metadata": {},
     "output_type": "execute_result"
    }
   ],
   "source": [
    "df"
   ]
  },
  {
   "cell_type": "markdown",
   "id": "d39a3d09",
   "metadata": {
    "id": "d39a3d09"
   },
   "source": [
    "You can see that the above data resembles the output from an OR Gate, and is linearly separable"
   ]
  },
  {
   "cell_type": "code",
   "execution_count": 33,
   "id": "57b9ffc2",
   "metadata": {
    "colab": {
     "base_uri": "https://localhost:8080/",
     "height": 447
    },
    "executionInfo": {
     "elapsed": 560,
     "status": "ok",
     "timestamp": 1705394841795,
     "user": {
      "displayName": "Vivekanand Pandey",
      "userId": "15907573739864017869"
     },
     "user_tz": -330
    },
    "id": "57b9ffc2",
    "outputId": "fbfec39f-6be0-4440-d5f3-13dfdb672b37"
   },
   "outputs": [
    {
     "data": {
      "text/plain": [
       "<matplotlib.collections.PathCollection at 0x18604312460>"
      ]
     },
     "execution_count": 33,
     "metadata": {},
     "output_type": "execute_result"
    },
    {
     "data": {
      "image/png": "[encoded data removed]",
      "text/plain": [
       "<Figure size 640x480 with 1 Axes>"
      ]
     },
     "metadata": {},
     "output_type": "display_data"
    }
   ],
   "source": [
    "plt.scatter(df['x1'], df['x2'], c = df['y'])"
   ]
  },
  {
   "cell_type": "markdown",
   "id": "659e1a9f",
   "metadata": {
    "id": "659e1a9f"
   },
   "source": [
    "## 2.1 Training: Define number of epochs and learning rate"
   ]
  },
  {
   "cell_type": "code",
   "execution_count": 34,
   "id": "ccb63b74",
   "metadata": {
    "executionInfo": {
     "elapsed": 17,
     "status": "ok",
     "timestamp": 1705394845958,
     "user": {
      "displayName": "Vivekanand Pandey",
      "userId": "15907573739864017869"
     },
     "user_tz": -330
    },
    "id": "ccb63b74"
   },
   "outputs": [],
   "source": [
    "epochs = 100\n",
    "#Learning rate\n",
    "alpha = 0.01"
   ]
  },
  {
   "cell_type": "markdown",
   "id": "cfb8654a",
   "metadata": {
    "id": "cfb8654a"
   },
   "source": [
    "## 2.2 Training: Initialize weights and biases\n",
    "We start with the weights and biases being equal to zeros"
   ]
  },
  {
   "cell_type": "code",
   "execution_count": 35,
   "id": "4711c430",
   "metadata": {
    "id": "4711c430",
    "outputId": "10541625-663c-4496-ee1b-19348c247f14"
   },
   "outputs": [
    {
     "data": {
      "text/plain": [
       "array([0., 0.])"
      ]
     },
     "execution_count": 35,
     "metadata": {},
     "output_type": "execute_result"
    }
   ],
   "source": [
    "#Weights\n",
    "w = np.zeros(2)\n",
    "w"
   ]
  },
  {
   "cell_type": "code",
   "execution_count": 36,
   "id": "90faae6e",
   "metadata": {
    "id": "90faae6e",
    "outputId": "0ad08829-f669-4fa2-eadc-979ed64a8edc"
   },
   "outputs": [
    {
     "data": {
      "text/plain": [
       "array([0.])"
      ]
     },
     "execution_count": 36,
     "metadata": {},
     "output_type": "execute_result"
    }
   ],
   "source": [
    "#Bias\n",
    "b = np.zeros(1)\n",
    "b"
   ]
  },
  {
   "cell_type": "markdown",
   "id": "5e09700d",
   "metadata": {
    "id": "5e09700d"
   },
   "source": [
    "## 2.3 Training: Forward Propogation\n",
    "\n",
    "In forward propogation, we determine the output of our perceptron model .i.e. $\\hat{y}$\n",
    "\n",
    "We will use the following function to gain the output of forward propogation"
   ]
  },
  {
   "cell_type": "code",
   "execution_count": 37,
   "id": "0d995fe6",
   "metadata": {
    "id": "0d995fe6"
   },
   "outputs": [],
   "source": [
    "def forward_prop(row):\n",
    "    y_hat = np.dot(x[row], w) + b\n",
    "\n",
    "    if y_hat > 0:\n",
    "        return 1\n",
    "    else:\n",
    "        return 0"
   ]
  },
  {
   "cell_type": "markdown",
   "id": "74943a11",
   "metadata": {
    "id": "74943a11"
   },
   "source": [
    "## 2.4 Training: Backpropagation\n",
    "\n",
    "In this step, we will update the weights of our model using gradient descent.\n",
    "\n",
    "> $Cost_{RSS} = \\sum\\limits_{i=1}^{n}{(y_{actual} - \\hat{y})^2}$\n",
    "\n",
    "where _n_ : Number of rows in the dataset\n",
    "    \n",
    "> $\\hat{y} = w_{1}x_{1} + w_{2}x_{2} + b$\n",
    "\n",
    "__Partial Derivatives__\n",
    "\n",
    "Now, we want to see what the derivative of the cost function with respect to each of the variables (weights and bias).\n",
    "\n",
    "$$\n",
    "\\frac{\\partial Cost_{RSS}}{\\partial w_{1}} = ( y - x_{1}w_{1} + w_{2}x_{2} + b)x_{1} = (y - \\hat{y})x_{1}\n",
    "$$\n",
    "\n",
    "$$\\frac{\\partial Cost_{RSS}}{\\partial w_{2}} = (y - \\hat{y})x_{2}$$\n",
    "\n",
    "$$\\frac{\\partial Cost_{RSS}}{\\partial b} = (y - \\hat{y})$$"
   ]
  },
  {
   "cell_type": "markdown",
   "id": "0d3b8fcb",
   "metadata": {
    "id": "0d3b8fcb"
   },
   "source": [
    "#### Update rules"
   ]
  },
  {
   "cell_type": "markdown",
   "id": "ee75e986",
   "metadata": {
    "id": "ee75e986"
   },
   "source": [
    "> $w_{1new} = w_{1old} + \\alpha \\frac{\\partial Cost_{RSS}}{\\partial w_{1}} = w_{1old} + \\alpha (y - \\hat{y})x_{1} $\n",
    "\n",
    "> $w_{2new} = w_{2old} + \\alpha \\frac{\\partial Cost_{RSS}}{\\partial w_{2}} = w_{2old} + \\alpha (y - \\hat{y})x_{2} $\n",
    "\n",
    "> $b_{new} = b_{old} + \\alpha \\frac{\\partial Cost_{RSS}}{\\partial b} = b_{old} + \\alpha (y - \\hat{y}) $"
   ]
  },
  {
   "cell_type": "code",
   "execution_count": 38,
   "id": "c89ede20",
   "metadata": {
    "id": "c89ede20"
   },
   "outputs": [],
   "source": [
    "def backward_prop(y_hat, row, w, b):\n",
    "    w[0]  = w[0] + alpha * (y[row] - y_hat) * x[row][0]\n",
    "    w[1]  = w[1] + alpha * (y[row] - y_hat) * x[row][1]\n",
    "    b     = b + alpha * (y[row] - y_hat)\n",
    "\n",
    "    return w,b"
   ]
  },
  {
   "cell_type": "markdown",
   "id": "cfb8595f",
   "metadata": {
    "id": "cfb8595f"
   },
   "source": [
    "## 2.5: Training the model\n",
    "\n",
    "Finally, we put together all the steps discussed earlier\n",
    "\n"
   ]
  },
  {
   "cell_type": "code",
   "execution_count": 39,
   "id": "16b998e2",
   "metadata": {
    "id": "16b998e2",
    "outputId": "58f1484d-c6c6-4233-ed9e-d305d7aed158"
   },
   "outputs": [
    {
     "data": {
      "text/plain": [
       "array([[0, 0],\n",
       "       [0, 1],\n",
       "       [1, 0],\n",
       "       [1, 1]], dtype=int64)"
      ]
     },
     "execution_count": 39,
     "metadata": {},
     "output_type": "execute_result"
    }
   ],
   "source": [
    "#Input\n",
    "x = df[['x1', 'x2']].to_numpy()\n",
    "x"
   ]
  },
  {
   "cell_type": "code",
   "execution_count": 40,
   "id": "aacbba2b",
   "metadata": {
    "id": "aacbba2b",
    "outputId": "4146fc50-d80b-447f-cc70-aa6aa46de73c"
   },
   "outputs": [
    {
     "data": {
      "text/plain": [
       "array([0, 1, 1, 1], dtype=int64)"
      ]
     },
     "execution_count": 40,
     "metadata": {},
     "output_type": "execute_result"
    }
   ],
   "source": [
    "y = np.array(df['y'])\n",
    "y"
   ]
  },
  {
   "cell_type": "code",
   "execution_count": 41,
   "id": "834e6a45",
   "metadata": {
    "id": "834e6a45",
    "outputId": "a7fdec0a-4a63-4c7e-81d4-eafc377825cc"
   },
   "outputs": [
    {
     "name": "stdout",
     "output_type": "stream",
     "text": [
      "[0.01 0.01] [0.]\n"
     ]
    }
   ],
   "source": [
    "for epoch in range(epochs) :\n",
    "\n",
    "    # for each row in x (cycle through the dataset)\n",
    "    for row in range(x.shape[0]) :\n",
    "\n",
    "        # for each row in x, predict y_hat\n",
    "        y_hat = forward_prop(row)\n",
    "\n",
    "        # for each row calculate weights\n",
    "        backward_prop(y_hat,row, w, b)\n",
    "\n",
    "print (w, b)"
   ]
  },
  {
   "cell_type": "markdown",
   "id": "21b9104b",
   "metadata": {
    "id": "21b9104b"
   },
   "source": [
    "## 3.1 Gain predictions on test data\n",
    "\n",
    "We shall create a function that takes the test data as input, and returns an array of predictions from our trained Perceptron model as output"
   ]
  },
  {
   "cell_type": "code",
   "execution_count": 42,
   "id": "45a5aee2",
   "metadata": {
    "id": "45a5aee2"
   },
   "outputs": [],
   "source": [
    "def predict(x) :\n",
    "    y = []\n",
    "\n",
    "    #Compute predictions (y_hat).\n",
    "    for row in x :\n",
    "\n",
    "        # weighted sum\n",
    "        y_pred = np.dot(row,w) + b\n",
    "\n",
    "        #activation function.\n",
    "        if y_pred > 0 :\n",
    "            y_pred = 1\n",
    "        else :\n",
    "            y_pred = 0\n",
    "\n",
    "        # append the predicted y (y_hat)to an array\n",
    "        y.append(y_pred)\n",
    "\n",
    "    # return the predicted array of y_hat for test data\n",
    "    return y"
   ]
  },
  {
   "cell_type": "markdown",
   "id": "4d7b2e65",
   "metadata": {
    "id": "4d7b2e65"
   },
   "source": [
    "Let us test our model by providing the array x defined earlier as input. If the model runs correctly, the y_hat values will be the same as the array y defined earlier"
   ]
  },
  {
   "cell_type": "code",
   "execution_count": 43,
   "id": "3a6122a4",
   "metadata": {
    "id": "3a6122a4",
    "outputId": "87a109f2-a600-4825-c866-9f52ba552aca"
   },
   "outputs": [
    {
     "data": {
      "text/plain": [
       "array([[0, 0],\n",
       "       [0, 1],\n",
       "       [1, 0],\n",
       "       [1, 1]], dtype=int64)"
      ]
     },
     "execution_count": 43,
     "metadata": {},
     "output_type": "execute_result"
    }
   ],
   "source": [
    "x = df[['x1','x2']].to_numpy()\n",
    "x"
   ]
  },
  {
   "cell_type": "code",
   "execution_count": 44,
   "id": "363ea0b4",
   "metadata": {
    "id": "363ea0b4",
    "outputId": "95308cb9-280b-4018-8f05-574bfa358233"
   },
   "outputs": [
    {
     "data": {
      "text/plain": [
       "array([0, 1, 1, 1], dtype=int64)"
      ]
     },
     "execution_count": 44,
     "metadata": {},
     "output_type": "execute_result"
    }
   ],
   "source": [
    "#Actual y\n",
    "y = np.array(df['y'])\n",
    "y"
   ]
  },
  {
   "cell_type": "code",
   "execution_count": 45,
   "id": "60037e99",
   "metadata": {
    "id": "60037e99",
    "outputId": "cc6df2fd-f1db-47eb-cce0-123656ab0b7a"
   },
   "outputs": [
    {
     "data": {
      "text/plain": [
       "[0, 1, 1, 1]"
      ]
     },
     "execution_count": 45,
     "metadata": {},
     "output_type": "execute_result"
    }
   ],
   "source": [
    "# Y_hat\n",
    "predict(x)"
   ]
  },
  {
   "cell_type": "markdown",
   "id": "7f171bc7",
   "metadata": {
    "id": "7f171bc7"
   },
   "source": [
    "The y_hat values are the same as the actual values, so our model has been trained correctly"
   ]
  },
  {
   "cell_type": "markdown",
   "id": "566b60d8",
   "metadata": {
    "id": "566b60d8"
   },
   "source": [
    "***\n",
    "# Example Using Iris Dataset\n",
    "\n",
    "We shall test the accuracy of Perceptron model for a subset of the Iris dataset."
   ]
  },
  {
   "cell_type": "code",
   "execution_count": 46,
   "id": "da79fec4",
   "metadata": {
    "id": "da79fec4"
   },
   "outputs": [],
   "source": [
    "from sklearn import datasets\n",
    "\n",
    "iris = datasets.load_iris()\n",
    "\n",
    "df = pd.DataFrame(data=iris.data, columns=iris.feature_names)"
   ]
  },
  {
   "cell_type": "code",
   "execution_count": 47,
   "id": "9d39ea90",
   "metadata": {
    "id": "9d39ea90",
    "outputId": "a847c5af-0491-4d79-bdfb-0a3045b4353d"
   },
   "outputs": [
    {
     "data": {
      "text/html": [
       "<div>\n",
       "<style scoped>\n",
       "    .dataframe tbody tr th:only-of-type {\n",
       "        vertical-align: middle;\n",
       "    }\n",
       "\n",
       "    .dataframe tbody tr th {\n",
       "        vertical-align: top;\n",
       "    }\n",
       "\n",
       "    .dataframe thead th {\n",
       "        text-align: right;\n",
       "    }\n",
       "</style>\n",
       "<table border=\"1\" class=\"dataframe\">\n",
       "  <thead>\n",
       "    <tr style=\"text-align: right;\">\n",
       "      <th></th>\n",
       "      <th>sepal length (cm)</th>\n",
       "      <th>sepal width (cm)</th>\n",
       "      <th>petal length (cm)</th>\n",
       "      <th>petal width (cm)</th>\n",
       "    </tr>\n",
       "  </thead>\n",
       "  <tbody>\n",
       "    <tr>\n",
       "      <th>0</th>\n",
       "      <td>5.1</td>\n",
       "      <td>3.5</td>\n",
       "      <td>1.4</td>\n",
       "      <td>0.2</td>\n",
       "    </tr>\n",
       "    <tr>\n",
       "      <th>1</th>\n",
       "      <td>4.9</td>\n",
       "      <td>3.0</td>\n",
       "      <td>1.4</td>\n",
       "      <td>0.2</td>\n",
       "    </tr>\n",
       "    <tr>\n",
       "      <th>2</th>\n",
       "      <td>4.7</td>\n",
       "      <td>3.2</td>\n",
       "      <td>1.3</td>\n",
       "      <td>0.2</td>\n",
       "    </tr>\n",
       "    <tr>\n",
       "      <th>3</th>\n",
       "      <td>4.6</td>\n",
       "      <td>3.1</td>\n",
       "      <td>1.5</td>\n",
       "      <td>0.2</td>\n",
       "    </tr>\n",
       "    <tr>\n",
       "      <th>4</th>\n",
       "      <td>5.0</td>\n",
       "      <td>3.6</td>\n",
       "      <td>1.4</td>\n",
       "      <td>0.2</td>\n",
       "    </tr>\n",
       "    <tr>\n",
       "      <th>...</th>\n",
       "      <td>...</td>\n",
       "      <td>...</td>\n",
       "      <td>...</td>\n",
       "      <td>...</td>\n",
       "    </tr>\n",
       "    <tr>\n",
       "      <th>145</th>\n",
       "      <td>6.7</td>\n",
       "      <td>3.0</td>\n",
       "      <td>5.2</td>\n",
       "      <td>2.3</td>\n",
       "    </tr>\n",
       "    <tr>\n",
       "      <th>146</th>\n",
       "      <td>6.3</td>\n",
       "      <td>2.5</td>\n",
       "      <td>5.0</td>\n",
       "      <td>1.9</td>\n",
       "    </tr>\n",
       "    <tr>\n",
       "      <th>147</th>\n",
       "      <td>6.5</td>\n",
       "      <td>3.0</td>\n",
       "      <td>5.2</td>\n",
       "      <td>2.0</td>\n",
       "    </tr>\n",
       "    <tr>\n",
       "      <th>148</th>\n",
       "      <td>6.2</td>\n",
       "      <td>3.4</td>\n",
       "      <td>5.4</td>\n",
       "      <td>2.3</td>\n",
       "    </tr>\n",
       "    <tr>\n",
       "      <th>149</th>\n",
       "      <td>5.9</td>\n",
       "      <td>3.0</td>\n",
       "      <td>5.1</td>\n",
       "      <td>1.8</td>\n",
       "    </tr>\n",
       "  </tbody>\n",
       "</table>\n",
       "<p>150 rows × 4 columns</p>\n",
       "</div>"
      ],
      "text/plain": [
       "     sepal length (cm)  sepal width (cm)  petal length (cm)  petal width (cm)\n",
       "0                  5.1               3.5                1.4               0.2\n",
       "1                  4.9               3.0                1.4               0.2\n",
       "2                  4.7               3.2                1.3               0.2\n",
       "3                  4.6               3.1                1.5               0.2\n",
       "4                  5.0               3.6                1.4               0.2\n",
       "..                 ...               ...                ...               ...\n",
       "145                6.7               3.0                5.2               2.3\n",
       "146                6.3               2.5                5.0               1.9\n",
       "147                6.5               3.0                5.2               2.0\n",
       "148                6.2               3.4                5.4               2.3\n",
       "149                5.9               3.0                5.1               1.8\n",
       "\n",
       "[150 rows x 4 columns]"
      ]
     },
     "execution_count": 47,
     "metadata": {},
     "output_type": "execute_result"
    }
   ],
   "source": [
    "df"
   ]
  },
  {
   "cell_type": "markdown",
   "id": "72225a50",
   "metadata": {
    "id": "72225a50"
   },
   "source": [
    "Store the first 100 values of sepal length and sepal width in x"
   ]
  },
  {
   "cell_type": "code",
   "execution_count": 48,
   "id": "99e8ed4b",
   "metadata": {
    "id": "99e8ed4b",
    "outputId": "5997df1c-ca19-460d-cc74-fbe939ef4e5e"
   },
   "outputs": [
    {
     "data": {
      "text/plain": [
       "array([[5.1, 3.5],\n",
       "       [4.9, 3. ],\n",
       "       [4.7, 3.2],\n",
       "       [4.6, 3.1],\n",
       "       [5. , 3.6],\n",
       "       [5.4, 3.9],\n",
       "       [4.6, 3.4],\n",
       "       [5. , 3.4],\n",
       "       [4.4, 2.9],\n",
       "       [4.9, 3.1],\n",
       "       [5.4, 3.7],\n",
       "       [4.8, 3.4],\n",
       "       [4.8, 3. ],\n",
       "       [4.3, 3. ],\n",
       "       [5.8, 4. ],\n",
       "       [5.7, 4.4],\n",
       "       [5.4, 3.9],\n",
       "       [5.1, 3.5],\n",
       "       [5.7, 3.8],\n",
       "       [5.1, 3.8],\n",
       "       [5.4, 3.4],\n",
       "       [5.1, 3.7],\n",
       "       [4.6, 3.6],\n",
       "       [5.1, 3.3],\n",
       "       [4.8, 3.4],\n",
       "       [5. , 3. ],\n",
       "       [5. , 3.4],\n",
       "       [5.2, 3.5],\n",
       "       [5.2, 3.4],\n",
       "       [4.7, 3.2],\n",
       "       [4.8, 3.1],\n",
       "       [5.4, 3.4],\n",
       "       [5.2, 4.1],\n",
       "       [5.5, 4.2],\n",
       "       [4.9, 3.1],\n",
       "       [5. , 3.2],\n",
       "       [5.5, 3.5],\n",
       "       [4.9, 3.6],\n",
       "       [4.4, 3. ],\n",
       "       [5.1, 3.4],\n",
       "       [5. , 3.5],\n",
       "       [4.5, 2.3],\n",
       "       [4.4, 3.2],\n",
       "       [5. , 3.5],\n",
       "       [5.1, 3.8],\n",
       "       [4.8, 3. ],\n",
       "       [5.1, 3.8],\n",
       "       [4.6, 3.2],\n",
       "       [5.3, 3.7],\n",
       "       [5. , 3.3],\n",
       "       [7. , 3.2],\n",
       "       [6.4, 3.2],\n",
       "       [6.9, 3.1],\n",
       "       [5.5, 2.3],\n",
       "       [6.5, 2.8],\n",
       "       [5.7, 2.8],\n",
       "       [6.3, 3.3],\n",
       "       [4.9, 2.4],\n",
       "       [6.6, 2.9],\n",
       "       [5.2, 2.7],\n",
       "       [5. , 2. ],\n",
       "       [5.9, 3. ],\n",
       "       [6. , 2.2],\n",
       "       [6.1, 2.9],\n",
       "       [5.6, 2.9],\n",
       "       [6.7, 3.1],\n",
       "       [5.6, 3. ],\n",
       "       [5.8, 2.7],\n",
       "       [6.2, 2.2],\n",
       "       [5.6, 2.5],\n",
       "       [5.9, 3.2],\n",
       "       [6.1, 2.8],\n",
       "       [6.3, 2.5],\n",
       "       [6.1, 2.8],\n",
       "       [6.4, 2.9],\n",
       "       [6.6, 3. ],\n",
       "       [6.8, 2.8],\n",
       "       [6.7, 3. ],\n",
       "       [6. , 2.9],\n",
       "       [5.7, 2.6],\n",
       "       [5.5, 2.4],\n",
       "       [5.5, 2.4],\n",
       "       [5.8, 2.7],\n",
       "       [6. , 2.7],\n",
       "       [5.4, 3. ],\n",
       "       [6. , 3.4],\n",
       "       [6.7, 3.1],\n",
       "       [6.3, 2.3],\n",
       "       [5.6, 3. ],\n",
       "       [5.5, 2.5],\n",
       "       [5.5, 2.6],\n",
       "       [6.1, 3. ],\n",
       "       [5.8, 2.6],\n",
       "       [5. , 2.3],\n",
       "       [5.6, 2.7],\n",
       "       [5.7, 3. ],\n",
       "       [5.7, 2.9],\n",
       "       [6.2, 2.9],\n",
       "       [5.1, 2.5],\n",
       "       [5.7, 2.8]])"
      ]
     },
     "execution_count": 48,
     "metadata": {},
     "output_type": "execute_result"
    }
   ],
   "source": [
    "# ( sepal length and width )\n",
    "x = iris.data[0:100,0:2]\n",
    "x"
   ]
  },
  {
   "cell_type": "markdown",
   "id": "5064af28",
   "metadata": {
    "id": "5064af28"
   },
   "source": [
    "Store the first 100 values of the target column in y\n",
    "\n",
    "\n",
    "> 0 implies species is Setosa\n",
    "\n",
    "> 1 implies species is Versicolor"
   ]
  },
  {
   "cell_type": "code",
   "execution_count": 49,
   "id": "399b6ff5",
   "metadata": {
    "id": "399b6ff5",
    "outputId": "1c5808c6-8318-4bb2-ef75-b7a8d9fca7d6"
   },
   "outputs": [
    {
     "data": {
      "text/plain": [
       "array([0, 0, 0, 0, 0, 0, 0, 0, 0, 0, 0, 0, 0, 0, 0, 0, 0, 0, 0, 0, 0, 0,\n",
       "       0, 0, 0, 0, 0, 0, 0, 0, 0, 0, 0, 0, 0, 0, 0, 0, 0, 0, 0, 0, 0, 0,\n",
       "       0, 0, 0, 0, 0, 0, 1, 1, 1, 1, 1, 1, 1, 1, 1, 1, 1, 1, 1, 1, 1, 1,\n",
       "       1, 1, 1, 1, 1, 1, 1, 1, 1, 1, 1, 1, 1, 1, 1, 1, 1, 1, 1, 1, 1, 1,\n",
       "       1, 1, 1, 1, 1, 1, 1, 1, 1, 1, 1, 1])"
      ]
     },
     "execution_count": 49,
     "metadata": {},
     "output_type": "execute_result"
    }
   ],
   "source": [
    "# iris species data\n",
    "y = iris.target[0:100]\n",
    "y"
   ]
  },
  {
   "cell_type": "code",
   "execution_count": 50,
   "id": "4330d36a",
   "metadata": {
    "id": "4330d36a",
    "outputId": "04cd96bc-dcd3-43a8-e5a0-96ccceac1f25"
   },
   "outputs": [
    {
     "data": {
      "text/plain": [
       "Text(0.5, 1.0, 'Iris species - Setosa, Versicolor')"
      ]
     },
     "execution_count": 50,
     "metadata": {},
     "output_type": "execute_result"
    },
    {
     "data": {
      "image/png": "[encoded data removed]",
      "text/plain": [
       "<Figure size 640x480 with 1 Axes>"
      ]
     },
     "metadata": {},
     "output_type": "display_data"
    }
   ],
   "source": [
    "plt.scatter(x[:,0],x[:,1], c = y)\n",
    "\n",
    "plt.xlabel(\"sepal length\")\n",
    "plt.ylabel(\"sepal width\")\n",
    "plt.title(\"Iris species - Setosa, Versicolor\")"
   ]
  },
  {
   "cell_type": "markdown",
   "id": "aa60f6c1",
   "metadata": {
    "id": "aa60f6c1"
   },
   "source": [
    "## Training the Perceptron for iris data"
   ]
  },
  {
   "cell_type": "code",
   "execution_count": 51,
   "id": "ee8459a8",
   "metadata": {
    "id": "ee8459a8",
    "outputId": "a7be3c7c-da47-4cbf-affd-178bbafdd49b"
   },
   "outputs": [
    {
     "name": "stdout",
     "output_type": "stream",
     "text": [
      "[ 0.6613848  -0.87865222] -0.740525615603811\n"
     ]
    }
   ],
   "source": [
    "#Initialize weights\n",
    "w = np.random.normal(size=2)\n",
    "b = np.random.normal()\n",
    "\n",
    "# learning rate\n",
    "alpha = 0.01\n",
    "\n",
    "# number of epochs\n",
    "for epoch in range(1000) :\n",
    "\n",
    "    # for each row in x\n",
    "    for row in range(x.shape[0]) :\n",
    "\n",
    "        # for each row in x, predict y_hat\n",
    "        y_hat = forward_prop(row)\n",
    "        # for each row calculate weights\n",
    "        backward_prop(y_hat,row, w, b)\n",
    "\n",
    "print ( w, b)"
   ]
  },
  {
   "cell_type": "code",
   "execution_count": 52,
   "id": "e66ad70b",
   "metadata": {
    "id": "e66ad70b"
   },
   "outputs": [],
   "source": [
    "y_pred = predict(x)"
   ]
  },
  {
   "cell_type": "code",
   "execution_count": 53,
   "id": "7d1204e4",
   "metadata": {
    "id": "7d1204e4",
    "outputId": "04f5e3d8-0047-4bcc-bdf4-48d7539019d5"
   },
   "outputs": [
    {
     "data": {
      "text/plain": [
       "0.99"
      ]
     },
     "execution_count": 53,
     "metadata": {},
     "output_type": "execute_result"
    }
   ],
   "source": [
    "from sklearn.metrics import accuracy_score\n",
    "\n",
    "accuracy_score(y,y_pred)"
   ]
  },
  {
   "cell_type": "code",
   "execution_count": null,
   "id": "53087535",
   "metadata": {
    "id": "53087535"
   },
   "outputs": [],
   "source": []
  },
  {
   "cell_type": "code",
   "execution_count": null,
   "id": "9a8b07e0",
   "metadata": {},
   "outputs": [],
   "source": []
  }
 ],
 "metadata": {
  "colab": {
   "provenance": [],
   "toc_visible": true
  },
  "kernelspec": {
   "display_name": "Python 3 (ipykernel)",
   "language": "python",
   "name": "python3"
  },
  "language_info": {
   "codemirror_mode": {
    "name": "ipython",
    "version": 3
   },
   "file_extension": ".py",
   "mimetype": "text/x-python",
   "name": "python",
   "nbconvert_exporter": "python",
   "pygments_lexer": "ipython3",
   "version": "3.9.13"
  }
 },
 "nbformat": 4,
 "nbformat_minor": 5
}
