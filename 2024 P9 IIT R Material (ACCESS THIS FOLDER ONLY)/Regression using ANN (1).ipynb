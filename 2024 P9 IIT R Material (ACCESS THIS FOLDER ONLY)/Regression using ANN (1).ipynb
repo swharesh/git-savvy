{
 "cells": [
  {
   "cell_type": "markdown",
   "id": "c85f5015",
   "metadata": {},
   "source": [
    "# Regression\n",
    "Classification is the task of predicting a discrete class label, whereas **regression** is the task of predicting a continuous quantity. Some algorithms can be used for both classification and **regression**, if we apply small modifications: Decision trees and artificial neural networks.\n",
    "\n",
    "This tutorial of our regression tutorial will deal with the **MLPRegressor** model from **sklearn.neural network**. It is a Neural Network model for regression problems. The name is an acronym for multi-layer perceptron regression system. MLP or multi-layer perceptron is an artificial neural network (ANN), which consistsof a minimum of three layers:\n",
    "* an input layer\n",
    "* one or more hidden layers\n",
    "* an output layer"
   ]
  },
  {
   "cell_type": "markdown",
   "id": "bda87c1e",
   "metadata": {},
   "source": [
    "# Problem Statement\n",
    "The aim of this tutorial is to build a regression model to predict old car prices. We will be using the **car price** dataset which contains 1435 observations and 8 variables, as descibed below:\n",
    "1. **Price**: The price of the car in dollars.\n",
    "2. **Age**: The age of the car in months.\n",
    "3. **KM**: How many KMS did the car was used.\n",
    "4. **HP**: Horsepower of the car.\n",
    "5. **MetColor**: Whether the car has metallic color or not.\n",
    "6. **CC**: The engine size of the car.\n",
    "7. **Doors**: The number of doors in the car.\n",
    "8. **Weight**: The weight of the car."
   ]
  },
  {
   "cell_type": "markdown",
   "id": "b2988252",
   "metadata": {},
   "source": [
    "# Loading the data for regression\n",
    "We will load the preprocessed data 'Car Prices Data.pkl'."
   ]
  },
  {
   "cell_type": "code",
   "execution_count": 1,
   "id": "7b92fad0",
   "metadata": {},
   "outputs": [
    {
     "data": {
      "text/html": [
       "<div>\n",
       "<style scoped>\n",
       "    .dataframe tbody tr th:only-of-type {\n",
       "        vertical-align: middle;\n",
       "    }\n",
       "\n",
       "    .dataframe tbody tr th {\n",
       "        vertical-align: top;\n",
       "    }\n",
       "\n",
       "    .dataframe thead th {\n",
       "        text-align: right;\n",
       "    }\n",
       "</style>\n",
       "<table border=\"1\" class=\"dataframe\">\n",
       "  <thead>\n",
       "    <tr style=\"text-align: right;\">\n",
       "      <th></th>\n",
       "      <th>Age</th>\n",
       "      <th>KM</th>\n",
       "      <th>Weight</th>\n",
       "      <th>HP</th>\n",
       "      <th>MetColor</th>\n",
       "      <th>CC</th>\n",
       "      <th>Doors</th>\n",
       "      <th>Price</th>\n",
       "    </tr>\n",
       "  </thead>\n",
       "  <tbody>\n",
       "    <tr>\n",
       "      <th>0</th>\n",
       "      <td>23.0</td>\n",
       "      <td>46986</td>\n",
       "      <td>1165.0</td>\n",
       "      <td>90</td>\n",
       "      <td>1</td>\n",
       "      <td>2000.0</td>\n",
       "      <td>3</td>\n",
       "      <td>13500</td>\n",
       "    </tr>\n",
       "    <tr>\n",
       "      <th>1</th>\n",
       "      <td>23.0</td>\n",
       "      <td>72937</td>\n",
       "      <td>1165.0</td>\n",
       "      <td>90</td>\n",
       "      <td>1</td>\n",
       "      <td>2000.0</td>\n",
       "      <td>3</td>\n",
       "      <td>13750</td>\n",
       "    </tr>\n",
       "    <tr>\n",
       "      <th>2</th>\n",
       "      <td>24.0</td>\n",
       "      <td>41711</td>\n",
       "      <td>1165.0</td>\n",
       "      <td>90</td>\n",
       "      <td>1</td>\n",
       "      <td>2000.0</td>\n",
       "      <td>3</td>\n",
       "      <td>13950</td>\n",
       "    </tr>\n",
       "    <tr>\n",
       "      <th>3</th>\n",
       "      <td>26.0</td>\n",
       "      <td>48000</td>\n",
       "      <td>1165.0</td>\n",
       "      <td>90</td>\n",
       "      <td>0</td>\n",
       "      <td>2000.0</td>\n",
       "      <td>3</td>\n",
       "      <td>14950</td>\n",
       "    </tr>\n",
       "    <tr>\n",
       "      <th>4</th>\n",
       "      <td>30.0</td>\n",
       "      <td>38500</td>\n",
       "      <td>1170.0</td>\n",
       "      <td>90</td>\n",
       "      <td>0</td>\n",
       "      <td>2000.0</td>\n",
       "      <td>3</td>\n",
       "      <td>13750</td>\n",
       "    </tr>\n",
       "  </tbody>\n",
       "</table>\n",
       "</div>"
      ],
      "text/plain": [
       "    Age     KM  Weight  HP  MetColor      CC  Doors  Price\n",
       "0  23.0  46986  1165.0  90         1  2000.0      3  13500\n",
       "1  23.0  72937  1165.0  90         1  2000.0      3  13750\n",
       "2  24.0  41711  1165.0  90         1  2000.0      3  13950\n",
       "3  26.0  48000  1165.0  90         0  2000.0      3  14950\n",
       "4  30.0  38500  1170.0  90         0  2000.0      3  13750"
      ]
     },
     "execution_count": 1,
     "metadata": {},
     "output_type": "execute_result"
    }
   ],
   "source": [
    "# Reading the cleaned numeric car prices data\n",
    "import pandas as pd\n",
    "import numpy as np\n",
    "\n",
    "# To remove the scientific notation from numpy arrays\n",
    "np.set_printoptions(suppress=True)\n",
    "\n",
    "df = pd.read_pickle('CarPricesData.pkl')\n",
    "df.head()"
   ]
  },
  {
   "cell_type": "markdown",
   "id": "5e389e63",
   "metadata": {},
   "source": [
    "# Splitting the Data into Training and Testing\n",
    "We don’t use the full data for creating the model. Some data is randomly selected and kept aside for checking how good the model is. This is known as **Testing Data** and the remaining data is called **Training data** on which the model is built. Typically $70\\%$ of data is used as Training data and the rest $30\\%$ is used as Testing data."
   ]
  },
  {
   "cell_type": "code",
   "execution_count": 2,
   "id": "63574f56",
   "metadata": {},
   "outputs": [],
   "source": [
    "# Separate Target Variable and Predictor Variables\n",
    "X = df.drop('Price', axis = 1)\n",
    "y = df['Price']\n",
    "#print(X)\n",
    "#print(y)"
   ]
  },
  {
   "cell_type": "code",
   "execution_count": 3,
   "id": "31f46558",
   "metadata": {},
   "outputs": [],
   "source": [
    "# Split the data into training and testing set\n",
    "from sklearn.model_selection import train_test_split\n",
    "X_train, X_test, y_train, y_test = train_test_split(X, y, test_size=0.3, random_state=42)"
   ]
  },
  {
   "cell_type": "code",
   "execution_count": 4,
   "id": "410392aa",
   "metadata": {},
   "outputs": [
    {
     "name": "stdout",
     "output_type": "stream",
     "text": [
      "(1004, 7)\n",
      "(1004,)\n",
      "(431, 7)\n",
      "(431,)\n"
     ]
    }
   ],
   "source": [
    "# Quick sanity check with the shapes of Training and testing datasets\n",
    "print(X_train.shape)\n",
    "print(y_train.shape)\n",
    "print(X_test.shape)\n",
    "print(y_test.shape)"
   ]
  },
  {
   "cell_type": "code",
   "execution_count": 5,
   "id": "a04d04f2",
   "metadata": {},
   "outputs": [],
   "source": [
    "### Sandardization of data ###\n",
    "from sklearn.preprocessing import StandardScaler\n",
    "sc = StandardScaler()\n",
    "\n",
    "# Storing the fit object for later reference\n",
    "scaler = sc.fit(X_train)\n",
    "\n",
    "# Generating the standardized values of X_train and X_test.\n",
    "X_train = scaler.transform(X_train)\n",
    "X_test = scaler.transform(X_test)\n",
    "\n",
    "\n",
    "#print(X_train_fit)\n",
    "#print(X_test_fit)\n",
    "#print(y_train_fit)\n",
    "#print(y_test_fit)"
   ]
  },
  {
   "cell_type": "markdown",
   "id": "7e217d56",
   "metadata": {},
   "source": [
    "# MLPRegressor"
   ]
  },
  {
   "cell_type": "code",
   "execution_count": 6,
   "id": "11bcd548",
   "metadata": {},
   "outputs": [],
   "source": [
    "from sklearn.neural_network import MLPRegressor"
   ]
  },
  {
   "cell_type": "code",
   "execution_count": 7,
   "id": "47179ddc",
   "metadata": {},
   "outputs": [
    {
     "data": {
      "text/plain": [
       "MLPRegressor(hidden_layer_sizes=(150, 100, 50), max_iter=300)"
      ]
     },
     "execution_count": 7,
     "metadata": {},
     "output_type": "execute_result"
    }
   ],
   "source": [
    "mlp_reg = MLPRegressor(hidden_layer_sizes=(150,100,50),\n",
    "                       max_iter = 300,activation = 'relu',\n",
    "                       solver = 'adam')\n",
    "\n",
    "mlp_reg.fit(X_train, y_train)"
   ]
  },
  {
   "cell_type": "markdown",
   "id": "3256fb1c",
   "metadata": {},
   "source": [
    "# Model Evaluation"
   ]
  },
  {
   "cell_type": "code",
   "execution_count": 8,
   "id": "5fb9b912",
   "metadata": {},
   "outputs": [],
   "source": [
    "y_pred = mlp_reg.predict(X_test)"
   ]
  },
  {
   "cell_type": "code",
   "execution_count": 9,
   "id": "d81ea894",
   "metadata": {},
   "outputs": [
    {
     "data": {
      "text/html": [
       "<div>\n",
       "<style scoped>\n",
       "    .dataframe tbody tr th:only-of-type {\n",
       "        vertical-align: middle;\n",
       "    }\n",
       "\n",
       "    .dataframe tbody tr th {\n",
       "        vertical-align: top;\n",
       "    }\n",
       "\n",
       "    .dataframe thead th {\n",
       "        text-align: right;\n",
       "    }\n",
       "</style>\n",
       "<table border=\"1\" class=\"dataframe\">\n",
       "  <thead>\n",
       "    <tr style=\"text-align: right;\">\n",
       "      <th></th>\n",
       "      <th>Actual</th>\n",
       "      <th>Predicted</th>\n",
       "    </tr>\n",
       "  </thead>\n",
       "  <tbody>\n",
       "    <tr>\n",
       "      <th>753</th>\n",
       "      <td>9950</td>\n",
       "      <td>9696.043823</td>\n",
       "    </tr>\n",
       "    <tr>\n",
       "      <th>858</th>\n",
       "      <td>7995</td>\n",
       "      <td>9822.063674</td>\n",
       "    </tr>\n",
       "    <tr>\n",
       "      <th>630</th>\n",
       "      <td>7500</td>\n",
       "      <td>8491.509404</td>\n",
       "    </tr>\n",
       "    <tr>\n",
       "      <th>1412</th>\n",
       "      <td>9950</td>\n",
       "      <td>9201.052857</td>\n",
       "    </tr>\n",
       "    <tr>\n",
       "      <th>975</th>\n",
       "      <td>8950</td>\n",
       "      <td>8721.870222</td>\n",
       "    </tr>\n",
       "  </tbody>\n",
       "</table>\n",
       "</div>"
      ],
      "text/plain": [
       "      Actual    Predicted\n",
       "753     9950  9696.043823\n",
       "858     7995  9822.063674\n",
       "630     7500  8491.509404\n",
       "1412    9950  9201.052857\n",
       "975     8950  8721.870222"
      ]
     },
     "execution_count": 9,
     "metadata": {},
     "output_type": "execute_result"
    }
   ],
   "source": [
    "df_temp = pd.DataFrame({'Actual': y_test, 'Predicted': y_pred})\n",
    "df_temp.head()"
   ]
  },
  {
   "cell_type": "code",
   "execution_count": 10,
   "id": "6107c6a2",
   "metadata": {},
   "outputs": [],
   "source": [
    "import matplotlib.pyplot as plt\n",
    "import seaborn as sns"
   ]
  },
  {
   "cell_type": "code",
   "execution_count": 11,
   "id": "92f88399",
   "metadata": {},
   "outputs": [
    {
     "data": {
      "image/png": "[encoded data removed]",
      "text/plain": [
       "<Figure size 720x432 with 1 Axes>"
      ]
     },
     "metadata": {
      "needs_background": "light"
     },
     "output_type": "display_data"
    }
   ],
   "source": [
    "df_temp = df_temp.head(30)\n",
    "df_temp.plot(kind='bar',figsize=(10,6))\n",
    "plt.grid(which='major', linestyle='-', linewidth='0.5', color='green')\n",
    "plt.grid(which='minor', linestyle=':', linewidth='0.5', color='black')\n",
    "plt.show()"
   ]
  },
  {
   "cell_type": "code",
   "execution_count": 12,
   "id": "57d77721",
   "metadata": {},
   "outputs": [],
   "source": [
    "from sklearn import metrics"
   ]
  },
  {
   "cell_type": "code",
   "execution_count": 13,
   "id": "8bda0008",
   "metadata": {},
   "outputs": [
    {
     "name": "stdout",
     "output_type": "stream",
     "text": [
      "Mean Absolute Error: 936.6198609795703\n",
      "Mean Squared Error: 1557126.0465879678\n",
      "Root Mean Squared Error: 1247.8485671698982\n"
     ]
    }
   ],
   "source": [
    "print('Mean Absolute Error:', metrics.mean_absolute_error(y_test, y_pred))  \n",
    "print('Mean Squared Error:', metrics.mean_squared_error(y_test, y_pred))  \n",
    "print('Root Mean Squared Error:', np.sqrt(metrics.mean_squared_error(y_test, y_pred)))"
   ]
  },
  {
   "cell_type": "code",
   "execution_count": 14,
   "id": "351a8bdd",
   "metadata": {},
   "outputs": [
    {
     "data": {
      "image/png": "[encoded data removed]",
      "text/plain": [
       "<Figure size 432x288 with 1 Axes>"
      ]
     },
     "metadata": {
      "needs_background": "light"
     },
     "output_type": "display_data"
    }
   ],
   "source": [
    "plt.plot(mlp_reg.loss_curve_)\n",
    "plt.title(\"Loss Curve\", fontsize=14)\n",
    "plt.xlabel('Iterations')\n",
    "plt.ylabel('Cost')\n",
    "plt.show()"
   ]
  },
  {
   "cell_type": "markdown",
   "id": "5c74ddd5",
   "metadata": {},
   "source": [
    "# Hyper Parameter Tuning"
   ]
  },
  {
   "cell_type": "code",
   "execution_count": 15,
   "id": "6d6f1a7e",
   "metadata": {},
   "outputs": [],
   "source": [
    "from sklearn.model_selection import GridSearchCV"
   ]
  },
  {
   "cell_type": "code",
   "execution_count": 16,
   "id": "cb682cfa",
   "metadata": {},
   "outputs": [],
   "source": [
    "param_grid = {\n",
    "    'hidden_layer_sizes': [(150,100,50), (120,80,40), (100,50,30)],\n",
    "    'max_iter': [50, 100],\n",
    "    'activation': ['tanh', 'relu'],\n",
    "    'solver': ['sgd', 'adam'],\n",
    "    'alpha': [0.0001, 0.05],\n",
    "    'learning_rate': ['constant','adaptive'],\n",
    "}"
   ]
  },
  {
   "cell_type": "code",
   "execution_count": 24,
   "id": "1115a427",
   "metadata": {},
   "outputs": [
    {
     "name": "stderr",
     "output_type": "stream",
     "text": [
      "C:\\Users\\USER\\anaconda3\\lib\\site-packages\\sklearn\\model_selection\\_validation.py:378: FitFailedWarning: \n",
      "100 fits failed out of a total of 480.\n",
      "The score on these train-test partitions for these parameters will be set to nan.\n",
      "If these failures are not expected, you can try to debug them by setting error_score='raise'.\n",
      "\n",
      "Below are more details about the failures:\n",
      "--------------------------------------------------------------------------------\n",
      "100 fits failed with the following error:\n",
      "Traceback (most recent call last):\n",
      "  File \"C:\\Users\\USER\\anaconda3\\lib\\site-packages\\sklearn\\model_selection\\_validation.py\", line 686, in _fit_and_score\n",
      "    estimator.fit(X_train, y_train, **fit_params)\n",
      "  File \"C:\\Users\\USER\\anaconda3\\lib\\site-packages\\sklearn\\neural_network\\_multilayer_perceptron.py\", line 762, in fit\n",
      "    return self._fit(X, y, incremental=False)\n",
      "  File \"C:\\Users\\USER\\anaconda3\\lib\\site-packages\\sklearn\\neural_network\\_multilayer_perceptron.py\", line 448, in _fit\n",
      "    raise ValueError(\n",
      "ValueError: Solver produced non-finite parameter weights. The input data may contain large values and need to be preprocessed.\n",
      "\n",
      "  warnings.warn(some_fits_failed_message, FitFailedWarning)\n",
      "C:\\Users\\USER\\anaconda3\\lib\\site-packages\\sklearn\\model_selection\\_search.py:953: UserWarning: One or more of the test scores are non-finite: [ 0.01571801 -9.10855096  0.21380313 -9.08696657 -0.02871661 -9.10860275\n",
      "  0.27773763 -9.08624285 -0.29826381 -9.1138765  -0.37375382 -9.09833926\n",
      " -0.01895573 -9.11425171 -0.02755769 -9.09605404 -0.12644274 -9.1203395\n",
      " -0.11080624 -9.10620799 -0.01141932 -9.12039489 -0.33937783 -9.10840165\n",
      " -0.16926888 -9.10906125 -0.09336356 -9.08733067  0.1161453  -9.10933481\n",
      "  0.19314543 -9.08662    -0.04115129 -9.11604827  0.06470078 -9.09671115\n",
      "  0.07035761 -9.11415536 -0.08466298 -9.09634499 -0.79763054 -9.12117623\n",
      " -0.32945261 -9.10755637 -0.04472542 -9.1204246  -0.28294269 -9.10665185\n",
      "         nan  0.59083519         nan  0.80372681         nan  0.58620364\n",
      "         nan  0.79459258         nan  0.39946006         nan  0.77446546\n",
      "         nan  0.38266834         nan  0.78235027         nan -1.73042094\n",
      "         nan  0.71386858         nan -2.12756174         nan  0.72757662\n",
      "         nan  0.59707908         nan  0.79164016         nan  0.6293597\n",
      "         nan  0.80496589         nan  0.38160195         nan  0.78340935\n",
      "         nan  0.37157608         nan  0.78036125         nan -1.72004282\n",
      "         nan  0.69969247         nan -1.32793582         nan  0.72600495]\n",
      "  warnings.warn(\n"
     ]
    },
    {
     "name": "stdout",
     "output_type": "stream",
     "text": [
      "{'activation': 'relu', 'alpha': 0.05, 'hidden_layer_sizes': (150, 100, 50), 'learning_rate': 'adaptive', 'max_iter': 100, 'solver': 'adam'}\n"
     ]
    },
    {
     "name": "stderr",
     "output_type": "stream",
     "text": [
      "C:\\Users\\USER\\anaconda3\\lib\\site-packages\\sklearn\\neural_network\\_multilayer_perceptron.py:702: ConvergenceWarning: Stochastic Optimizer: Maximum iterations (100) reached and the optimization hasn't converged yet.\n",
      "  warnings.warn(\n"
     ]
    }
   ],
   "source": [
    "grid = GridSearchCV(mlp_reg, param_grid, n_jobs= -1, cv=5)\n",
    "grid.fit(X_train, y_train)\n",
    "\n",
    "print(grid.best_params_) "
   ]
  },
  {
   "cell_type": "code",
   "execution_count": 23,
   "id": "febf0179",
   "metadata": {},
   "outputs": [],
   "source": [
    "grid_predictions = grid.predict(X_test) "
   ]
  },
  {
   "cell_type": "code",
   "execution_count": 19,
   "id": "c6d3ec6e",
   "metadata": {},
   "outputs": [
    {
     "data": {
      "text/html": [
       "<div>\n",
       "<style scoped>\n",
       "    .dataframe tbody tr th:only-of-type {\n",
       "        vertical-align: middle;\n",
       "    }\n",
       "\n",
       "    .dataframe tbody tr th {\n",
       "        vertical-align: top;\n",
       "    }\n",
       "\n",
       "    .dataframe thead th {\n",
       "        text-align: right;\n",
       "    }\n",
       "</style>\n",
       "<table border=\"1\" class=\"dataframe\">\n",
       "  <thead>\n",
       "    <tr style=\"text-align: right;\">\n",
       "      <th></th>\n",
       "      <th>Actual</th>\n",
       "      <th>Predicted</th>\n",
       "    </tr>\n",
       "  </thead>\n",
       "  <tbody>\n",
       "    <tr>\n",
       "      <th>753</th>\n",
       "      <td>9950</td>\n",
       "      <td>8962.959264</td>\n",
       "    </tr>\n",
       "    <tr>\n",
       "      <th>858</th>\n",
       "      <td>7995</td>\n",
       "      <td>9625.894876</td>\n",
       "    </tr>\n",
       "    <tr>\n",
       "      <th>630</th>\n",
       "      <td>7500</td>\n",
       "      <td>8782.057018</td>\n",
       "    </tr>\n",
       "    <tr>\n",
       "      <th>1412</th>\n",
       "      <td>9950</td>\n",
       "      <td>9370.420176</td>\n",
       "    </tr>\n",
       "    <tr>\n",
       "      <th>975</th>\n",
       "      <td>8950</td>\n",
       "      <td>9265.184221</td>\n",
       "    </tr>\n",
       "  </tbody>\n",
       "</table>\n",
       "</div>"
      ],
      "text/plain": [
       "      Actual    Predicted\n",
       "753     9950  8962.959264\n",
       "858     7995  9625.894876\n",
       "630     7500  8782.057018\n",
       "1412    9950  9370.420176\n",
       "975     8950  9265.184221"
      ]
     },
     "execution_count": 19,
     "metadata": {},
     "output_type": "execute_result"
    }
   ],
   "source": [
    "df_temp2 = pd.DataFrame({'Actual': y_test, 'Predicted': grid_predictions})\n",
    "df_temp2.head()"
   ]
  },
  {
   "cell_type": "code",
   "execution_count": 20,
   "id": "bd1a89e1",
   "metadata": {},
   "outputs": [
    {
     "data": {
      "image/png": "[encoded data removed]",
      "text/plain": [
       "<Figure size 720x432 with 1 Axes>"
      ]
     },
     "metadata": {
      "needs_background": "light"
     },
     "output_type": "display_data"
    }
   ],
   "source": [
    "df_temp2 = df_temp2.head(30)\n",
    "df_temp2.plot(kind='bar',figsize=(10,6))\n",
    "plt.grid(which='major', linestyle='-', linewidth='0.5', color='green')\n",
    "plt.grid(which='minor', linestyle=':', linewidth='0.5', color='black')\n",
    "plt.show()"
   ]
  },
  {
   "cell_type": "code",
   "execution_count": 21,
   "id": "f3a84972",
   "metadata": {},
   "outputs": [
    {
     "name": "stdout",
     "output_type": "stream",
     "text": [
      "Mean Absolute Error: 1079.975741602179\n",
      "Mean Squared Error: 1991597.6823883173\n",
      "Root Mean Squared Error: 1411.2397678595644\n"
     ]
    }
   ],
   "source": [
    "print('Mean Absolute Error:', metrics.mean_absolute_error(y_test, grid_predictions))  \n",
    "print('Mean Squared Error:', metrics.mean_squared_error(y_test, grid_predictions))  \n",
    "print('Root Mean Squared Error:', np.sqrt(metrics.mean_squared_error(y_test, grid_predictions)))"
   ]
  },
  {
   "cell_type": "code",
   "execution_count": null,
   "id": "52110e77",
   "metadata": {},
   "outputs": [],
   "source": []
  }
 ],
 "metadata": {
  "kernelspec": {
   "display_name": "Python 3 (ipykernel)",
   "language": "python",
   "name": "python3"
  },
  "language_info": {
   "codemirror_mode": {
    "name": "ipython",
    "version": 3
   },
   "file_extension": ".py",
   "mimetype": "text/x-python",
   "name": "python",
   "nbconvert_exporter": "python",
   "pygments_lexer": "ipython3",
   "version": "3.9.7"
  }
 },
 "nbformat": 4,
 "nbformat_minor": 5
}
