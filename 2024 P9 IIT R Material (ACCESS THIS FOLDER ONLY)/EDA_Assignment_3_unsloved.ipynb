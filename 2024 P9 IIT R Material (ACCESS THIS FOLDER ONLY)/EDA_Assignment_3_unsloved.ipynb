{
 "cells": [
  {
   "cell_type": "code",
   "execution_count": 1,
   "id": "2ed2eb07",
   "metadata": {},
   "outputs": [],
   "source": [
    "import pandas as pd\n",
    "import numpy as np\n",
    "import matplotlib as mpl\n",
    "import matplotlib.pyplot as plt\n",
    "%matplotlib inline\n",
    "import seaborn as sns\n",
    "import scipy.stats as st\n",
    "from sklearn import ensemble, tree, linear_model\n",
    "import missingno as msno\n",
    "import warnings"
   ]
  },
  {
   "cell_type": "code",
   "execution_count": 2,
   "id": "a75854fc",
   "metadata": {},
   "outputs": [],
   "source": [
    "df=pd.read_csv(\"tested.csv\")"
   ]
  },
  {
   "cell_type": "markdown",
   "id": "152b1b8d",
   "metadata": {},
   "source": [
    "1. Get the basic info about the data (info, description, data types, shapes)"
   ]
  },
  {
   "cell_type": "markdown",
   "id": "99520586",
   "metadata": {},
   "source": [
    "2. Check for any duplicates values in the data."
   ]
  },
  {
   "cell_type": "markdown",
   "id": "94c40f73",
   "metadata": {},
   "source": [
    "3. Check the null value in the dataset."
   ]
  },
  {
   "cell_type": "markdown",
   "id": "1f5a6319",
   "metadata": {},
   "source": [
    "4.  Are there any Null values in Dataset. If so, impute the missing values using mode."
   ]
  },
  {
   "cell_type": "markdown",
   "id": "130afa87",
   "metadata": {},
   "source": [
    "5. Compute mean and standard deviation of data"
   ]
  },
  {
   "cell_type": "markdown",
   "id": "b2f302c0",
   "metadata": {},
   "source": [
    "6. Visualize the relationship between the variables using correlation, heatmap."
   ]
  },
  {
   "cell_type": "markdown",
   "id": "7e498977",
   "metadata": {},
   "source": [
    "7. Visualise the histogram, scatterplot."
   ]
  },
  {
   "cell_type": "markdown",
   "id": "7d24705a",
   "metadata": {},
   "source": [
    "8. Check for outliers in the Age feature."
   ]
  }
 ],
 "metadata": {
  "kernelspec": {
   "display_name": "Python 3 (ipykernel)",
   "language": "python",
   "name": "python3"
  },
  "language_info": {
   "codemirror_mode": {
    "name": "ipython",
    "version": 3
   },
   "file_extension": ".py",
   "mimetype": "text/x-python",
   "name": "python",
   "nbconvert_exporter": "python",
   "pygments_lexer": "ipython3",
   "version": "3.9.7"
  }
 },
 "nbformat": 4,
 "nbformat_minor": 5
}
