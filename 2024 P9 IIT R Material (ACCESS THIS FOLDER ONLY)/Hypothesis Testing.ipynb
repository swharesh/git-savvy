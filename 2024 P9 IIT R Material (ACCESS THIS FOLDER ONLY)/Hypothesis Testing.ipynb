{
 "cells": [
  {
   "cell_type": "code",
   "execution_count": 1,
   "id": "d70c7cdf",
   "metadata": {},
   "outputs": [
    {
     "name": "stdout",
     "output_type": "stream",
     "text": [
      "Collecting bioinfokit\n",
      "  Downloading bioinfokit-2.1.3.tar.gz (87 kB)\n",
      "     ---------------------------------------- 0.0/87.7 kB ? eta -:--:--\n",
      "     ------------------------------------- -- 81.9/87.7 kB 1.5 MB/s eta 0:00:01\n",
      "     ---------------------------------------- 87.7/87.7 kB 1.6 MB/s eta 0:00:00\n",
      "  Preparing metadata (setup.py): started\n",
      "  Preparing metadata (setup.py): finished with status 'done'\n",
      "Requirement already satisfied: pandas in c:\\users\\katul\\anaconda3\\lib\\site-packages (from bioinfokit) (2.0.3)\n",
      "Requirement already satisfied: numpy in c:\\users\\katul\\anaconda3\\lib\\site-packages (from bioinfokit) (1.24.3)\n",
      "Requirement already satisfied: matplotlib in c:\\users\\katul\\anaconda3\\lib\\site-packages (from bioinfokit) (3.7.2)\n",
      "Requirement already satisfied: scipy in c:\\users\\katul\\anaconda3\\lib\\site-packages (from bioinfokit) (1.11.1)\n",
      "Requirement already satisfied: scikit-learn in c:\\users\\katul\\anaconda3\\lib\\site-packages (from bioinfokit) (1.3.0)\n",
      "Requirement already satisfied: seaborn in c:\\users\\katul\\anaconda3\\lib\\site-packages (from bioinfokit) (0.12.2)\n",
      "Collecting matplotlib-venn (from bioinfokit)\n",
      "  Obtaining dependency information for matplotlib-venn from https://files.pythonhosted.org/packages/b1/f4/12ea88962cd17acb58bfcce1b93ce256f591698f9adb247de3eea630f590/matplotlib_venn-0.11.10-py3-none-any.whl.metadata\n",
      "  Downloading matplotlib_venn-0.11.10-py3-none-any.whl.metadata (6.4 kB)\n",
      "Requirement already satisfied: tabulate in c:\\users\\katul\\anaconda3\\lib\\site-packages (from bioinfokit) (0.8.10)\n",
      "Requirement already satisfied: statsmodels in c:\\users\\katul\\anaconda3\\lib\\site-packages (from bioinfokit) (0.14.0)\n",
      "Collecting textwrap3 (from bioinfokit)\n",
      "  Obtaining dependency information for textwrap3 from https://files.pythonhosted.org/packages/77/9c/a53e561d496ee5866bbeea4d3a850b3b545ed854f8a21007c1e0d872e94d/textwrap3-0.9.2-py2.py3-none-any.whl.metadata\n",
      "  Downloading textwrap3-0.9.2-py2.py3-none-any.whl.metadata (4.6 kB)\n",
      "Collecting adjustText (from bioinfokit)\n",
      "  Obtaining dependency information for adjustText from https://files.pythonhosted.org/packages/86/68/2514c33e8afcdfb41eef05580e3c8ddb0f7d1fde7fbc84c9d3bb43286d53/adjustText-1.0.4-py3-none-any.whl.metadata\n",
      "  Downloading adjustText-1.0.4-py3-none-any.whl.metadata (3.0 kB)\n",
      "Requirement already satisfied: contourpy>=1.0.1 in c:\\users\\katul\\anaconda3\\lib\\site-packages (from matplotlib->bioinfokit) (1.0.5)\n",
      "Requirement already satisfied: cycler>=0.10 in c:\\users\\katul\\anaconda3\\lib\\site-packages (from matplotlib->bioinfokit) (0.11.0)\n",
      "Requirement already satisfied: fonttools>=4.22.0 in c:\\users\\katul\\anaconda3\\lib\\site-packages (from matplotlib->bioinfokit) (4.25.0)\n",
      "Requirement already satisfied: kiwisolver>=1.0.1 in c:\\users\\katul\\anaconda3\\lib\\site-packages (from matplotlib->bioinfokit) (1.4.4)\n",
      "Requirement already satisfied: packaging>=20.0 in c:\\users\\katul\\anaconda3\\lib\\site-packages (from matplotlib->bioinfokit) (23.1)\n",
      "Requirement already satisfied: pillow>=6.2.0 in c:\\users\\katul\\anaconda3\\lib\\site-packages (from matplotlib->bioinfokit) (9.4.0)\n",
      "Requirement already satisfied: pyparsing<3.1,>=2.3.1 in c:\\users\\katul\\anaconda3\\lib\\site-packages (from matplotlib->bioinfokit) (3.0.9)\n",
      "Requirement already satisfied: python-dateutil>=2.7 in c:\\users\\katul\\anaconda3\\lib\\site-packages (from matplotlib->bioinfokit) (2.8.2)\n",
      "Requirement already satisfied: pytz>=2020.1 in c:\\users\\katul\\anaconda3\\lib\\site-packages (from pandas->bioinfokit) (2023.3.post1)\n",
      "Requirement already satisfied: tzdata>=2022.1 in c:\\users\\katul\\anaconda3\\lib\\site-packages (from pandas->bioinfokit) (2023.3)\n",
      "Requirement already satisfied: joblib>=1.1.1 in c:\\users\\katul\\anaconda3\\lib\\site-packages (from scikit-learn->bioinfokit) (1.2.0)\n",
      "Requirement already satisfied: threadpoolctl>=2.0.0 in c:\\users\\katul\\anaconda3\\lib\\site-packages (from scikit-learn->bioinfokit) (2.2.0)\n",
      "Requirement already satisfied: patsy>=0.5.2 in c:\\users\\katul\\anaconda3\\lib\\site-packages (from statsmodels->bioinfokit) (0.5.3)\n",
      "Requirement already satisfied: six in c:\\users\\katul\\anaconda3\\lib\\site-packages (from patsy>=0.5.2->statsmodels->bioinfokit) (1.16.0)\n",
      "Downloading adjustText-1.0.4-py3-none-any.whl (11 kB)\n",
      "Downloading matplotlib_venn-0.11.10-py3-none-any.whl (33 kB)\n",
      "Downloading textwrap3-0.9.2-py2.py3-none-any.whl (12 kB)\n",
      "Building wheels for collected packages: bioinfokit\n",
      "  Building wheel for bioinfokit (setup.py): started\n",
      "  Building wheel for bioinfokit (setup.py): finished with status 'done'\n",
      "  Created wheel for bioinfokit: filename=bioinfokit-2.1.3-py3-none-any.whl size=59178 sha256=6b55c6a24fa2b86b8bfff7715a2978ee978f3c60708854d06c66581a8c86574e\n",
      "  Stored in directory: c:\\users\\katul\\appdata\\local\\pip\\cache\\wheels\\17\\b1\\27\\a08cd47cae31d28f2dd8951e3e2fe78e9ce3f8ee93afe01906\n",
      "Successfully built bioinfokit\n",
      "Installing collected packages: textwrap3, matplotlib-venn, adjustText, bioinfokit\n",
      "Successfully installed adjustText-1.0.4 bioinfokit-2.1.3 matplotlib-venn-0.11.10 textwrap3-0.9.2\n",
      "Note: you may need to restart the kernel to use updated packages.\n"
     ]
    }
   ],
   "source": [
    "pip install bioinfokit"
   ]
  },
  {
   "cell_type": "code",
   "execution_count": 2,
   "id": "25152a7a",
   "metadata": {
    "colab": {
     "base_uri": "https://localhost:8080/",
     "height": 339
    },
    "executionInfo": {
     "elapsed": 799,
     "status": "error",
     "timestamp": 1671770757687,
     "user": {
      "displayName": "MEENU SINGH",
      "userId": "08824988348004969626"
     },
     "user_tz": -330
    },
    "id": "25152a7a",
    "outputId": "e537c764-f193-4adf-942e-8067d7bd37ad"
   },
   "outputs": [],
   "source": [
    "import numpy as np \n",
    "from numpy.random import seed, randn \n",
    "import pandas as pd \n",
    "import matplotlib.pyplot as plt \n",
    "import seaborn as sns \n",
    "import scipy.stats as stats \n",
    "from bioinfokit.analys import stat "
   ]
  },
  {
   "cell_type": "markdown",
   "id": "fa22625e",
   "metadata": {},
   "source": [
    "# Central Limit Theorem\n",
    "\n",
    "The central limit theorem establishes in probability theory that when independent random variables are added, their properly normalized sum tends toward a normal distribution even if the original variables themselves are not normally distributed.\n",
    "<br>\n",
    "<br>\n",
    "In simpler terms, it states that if we have a sample $S$, with a probability distribution which is NOT normally distributed, and we take sample $S_i$ multiple number of times, then the probability distribution for an independent random variable which is calculated from $S_i$ (like the sample mean), will tend to be normally distributed if we take a sufficiently large number of samples."
   ]
  },
  {
   "cell_type": "markdown",
   "id": "2b5763a5",
   "metadata": {},
   "source": [
    "## Sampling distribution of Sample Means"
   ]
  },
  {
   "cell_type": "code",
   "execution_count": 3,
   "id": "14045c81",
   "metadata": {},
   "outputs": [],
   "source": [
    "#create a list to store sample means\n",
    "means = []\n",
    "#repeat experiment 100 times\n",
    "for i in range(100):\n",
    "    #generate a random array of 10 values, with values between 0 and 1\n",
    "    arr = np.random.rand(10)\n",
    "    #calculate mean of random sample\n",
    "    s_mean = np.mean(arr)\n",
    "    #add s_mean to list \n",
    "    means.append(s_mean)"
   ]
  },
  {
   "cell_type": "code",
   "execution_count": 4,
   "id": "16a23782",
   "metadata": {},
   "outputs": [
    {
     "name": "stderr",
     "output_type": "stream",
     "text": [
      "C:\\Users\\KATUL\\AppData\\Local\\Temp\\ipykernel_1612\\3517421145.py:2: UserWarning: \n",
      "\n",
      "`distplot` is a deprecated function and will be removed in seaborn v0.14.0.\n",
      "\n",
      "Please adapt your code to use either `displot` (a figure-level function with\n",
      "similar flexibility) or `histplot` (an axes-level function for histograms).\n",
      "\n",
      "For a guide to updating your code to use the new functions, please see\n",
      "https://gist.github.com/mwaskom/de44147ed2974457ad6372750bbe5751\n",
      "\n",
      "  sns.distplot(means, hist=True, kde=True,\n"
     ]
    },
    {
     "data": {
      "image/png": "[encoded data removed]",
      "text/plain": [
       "<Figure size 640x480 with 1 Axes>"
      ]
     },
     "metadata": {},
     "output_type": "display_data"
    }
   ],
   "source": [
    "#Plot it along with the mean of the distribution\n",
    "sns.distplot(means, hist=True, kde=True, \n",
    "             bins=100, color = 'darkblue', \n",
    "             hist_kws={'edgecolor':'black'},\n",
    "             kde_kws={'linewidth': 3})\n",
    "\n",
    "#Calculate the mean\n",
    "mean = sum(means)/ len(means)\n",
    "\n",
    "#Plot the mean over the distribution to get a sense of the central tendency\n",
    "plt.axvline(mean, color='k', linestyle='dashed', linewidth=1)\n",
    "min_ylim, max_ylim = plt.ylim()\n",
    "plt.text(mean*1.1, max_ylim*0.9, 'Mean: {:.2f}'.format(mean))\n",
    "\n",
    "plt.title(\"Sampling distribution of sample means of randomly generated samples (no of samples = 100)\")\n",
    "plt.xlabel(\"Sample mean\")\n",
    "plt.ylabel(\"Frequency\")\n",
    "\n",
    "plt.show()"
   ]
  },
  {
   "cell_type": "code",
   "execution_count": 5,
   "id": "b4692370",
   "metadata": {},
   "outputs": [
    {
     "name": "stderr",
     "output_type": "stream",
     "text": [
      "C:\\Users\\KATUL\\AppData\\Local\\Temp\\ipykernel_1612\\793226624.py:9: UserWarning: \n",
      "\n",
      "`distplot` is a deprecated function and will be removed in seaborn v0.14.0.\n",
      "\n",
      "Please adapt your code to use either `displot` (a figure-level function with\n",
      "similar flexibility) or `histplot` (an axes-level function for histograms).\n",
      "\n",
      "For a guide to updating your code to use the new functions, please see\n",
      "https://gist.github.com/mwaskom/de44147ed2974457ad6372750bbe5751\n",
      "\n",
      "  sns.distplot(means, hist=True, kde=True,\n"
     ]
    },
    {
     "data": {
      "image/png": "[encoded data removed]",
      "text/plain": [
       "<Figure size 640x480 with 1 Axes>"
      ]
     },
     "metadata": {},
     "output_type": "display_data"
    }
   ],
   "source": [
    "#Lets repeat this with 1000 and 10000 samples\n",
    "#for 1000 times\n",
    "means = []\n",
    "for i in range(1000):\n",
    "    arr = np.random.rand(10)\n",
    "    s_mean = np.mean(arr)\n",
    "    means.append(s_mean)\n",
    "\n",
    "sns.distplot(means, hist=True, kde=True, \n",
    "             bins=100, color = 'yellow', \n",
    "             hist_kws={'edgecolor':'black'},\n",
    "             kde_kws={'linewidth': 3})\n",
    "\n",
    "mean = sum(means)/ len(means)\n",
    "\n",
    "plt.axvline(mean, color='k', linestyle='dashed', linewidth=1)\n",
    "min_ylim, max_ylim = plt.ylim()\n",
    "plt.text(mean*1.1, max_ylim*0.9, 'Mean: {:.2f}'.format(mean))\n",
    "\n",
    "plt.title(\"Sampling distribution of sample means of randomly generated samples (no of samples = 1000)\")\n",
    "plt.xlabel(\"Sample mean\")\n",
    "plt.ylabel(\"Frequency\")\n",
    "\n",
    "plt.show()"
   ]
  },
  {
   "cell_type": "code",
   "execution_count": 6,
   "id": "e6e52414",
   "metadata": {},
   "outputs": [
    {
     "name": "stderr",
     "output_type": "stream",
     "text": [
      "C:\\Users\\KATUL\\AppData\\Local\\Temp\\ipykernel_1612\\1832806877.py:8: UserWarning: \n",
      "\n",
      "`distplot` is a deprecated function and will be removed in seaborn v0.14.0.\n",
      "\n",
      "Please adapt your code to use either `displot` (a figure-level function with\n",
      "similar flexibility) or `histplot` (an axes-level function for histograms).\n",
      "\n",
      "For a guide to updating your code to use the new functions, please see\n",
      "https://gist.github.com/mwaskom/de44147ed2974457ad6372750bbe5751\n",
      "\n",
      "  sns.distplot(means, hist=True, kde=True,\n"
     ]
    },
    {
     "data": {
      "image/png": "[encoded data removed]",
      "text/plain": [
       "<Figure size 640x480 with 1 Axes>"
      ]
     },
     "metadata": {},
     "output_type": "display_data"
    }
   ],
   "source": [
    "#for 10000 times\n",
    "means = []\n",
    "for i in range(10000):\n",
    "    arr = np.random.rand(10)\n",
    "    s_mean = np.mean(arr)\n",
    "    means.append(s_mean)\n",
    "\n",
    "sns.distplot(means, hist=True, kde=True, \n",
    "             bins=100, color = 'green', \n",
    "             hist_kws={'edgecolor':'black'},\n",
    "             kde_kws={'linewidth': 3})\n",
    "\n",
    "mean = sum(means)/ len(means)\n",
    "\n",
    "plt.axvline(mean, color='k', linestyle='dashed', linewidth=1)  \n",
    "min_ylim, max_ylim = plt.ylim() \n",
    "plt.text(mean*1.1, max_ylim*0.9, 'Mean: {:.2f}'.format(mean)) \n",
    "\n",
    "plt.title(\"Sampling distribution of sample means of randomly generated samples (no of samples = 10000)\")   \n",
    "plt.xlabel(\"Sample mean\")   \n",
    "plt.ylabel(\"Frequency\")   \n",
    "\n",
    "plt.show()    "
   ]
  },
  {
   "cell_type": "code",
   "execution_count": 7,
   "id": "5d6f60cf",
   "metadata": {},
   "outputs": [
    {
     "name": "stdout",
     "output_type": "stream",
     "text": [
      "Collecting pydataset\n",
      "  Downloading pydataset-0.2.0.tar.gz (15.9 MB)\n",
      "     ---------------------------------------- 0.0/15.9 MB ? eta -:--:--\n",
      "     ---------------------------------------- 0.1/15.9 MB 1.7 MB/s eta 0:00:10\n",
      "     ---------------------------------------- 0.1/15.9 MB 1.1 MB/s eta 0:00:16\n",
      "     ---------------------------------------- 0.1/15.9 MB 1.0 MB/s eta 0:00:16\n",
      "     ---------------------------------------- 0.2/15.9 MB 1.0 MB/s eta 0:00:16\n",
      "      --------------------------------------- 0.2/15.9 MB 1.1 MB/s eta 0:00:15\n",
      "      --------------------------------------- 0.3/15.9 MB 1.2 MB/s eta 0:00:14\n",
      "      --------------------------------------- 0.3/15.9 MB 1.2 MB/s eta 0:00:13\n",
      "     - -------------------------------------- 0.4/15.9 MB 1.2 MB/s eta 0:00:13\n",
      "     - -------------------------------------- 0.5/15.9 MB 1.3 MB/s eta 0:00:13\n",
      "     - -------------------------------------- 0.5/15.9 MB 1.3 MB/s eta 0:00:13\n",
      "     - -------------------------------------- 0.6/15.9 MB 1.3 MB/s eta 0:00:12\n",
      "     - -------------------------------------- 0.7/15.9 MB 1.3 MB/s eta 0:00:12\n",
      "     - -------------------------------------- 0.7/15.9 MB 1.3 MB/s eta 0:00:12\n",
      "     - -------------------------------------- 0.8/15.9 MB 1.3 MB/s eta 0:00:12\n",
      "     -- ------------------------------------- 0.8/15.9 MB 1.3 MB/s eta 0:00:12\n",
      "     -- ------------------------------------- 0.9/15.9 MB 1.3 MB/s eta 0:00:12\n",
      "     -- ------------------------------------- 0.9/15.9 MB 1.4 MB/s eta 0:00:12\n",
      "     -- ------------------------------------- 1.0/15.9 MB 1.4 MB/s eta 0:00:12\n",
      "     -- ------------------------------------- 1.1/15.9 MB 1.4 MB/s eta 0:00:11\n",
      "     -- ------------------------------------- 1.1/15.9 MB 1.4 MB/s eta 0:00:11\n",
      "     --- ------------------------------------ 1.2/15.9 MB 1.4 MB/s eta 0:00:11\n",
      "     --- ------------------------------------ 1.3/15.9 MB 1.4 MB/s eta 0:00:11\n",
      "     --- ------------------------------------ 1.3/15.9 MB 1.4 MB/s eta 0:00:11\n",
      "     --- ------------------------------------ 1.4/15.9 MB 1.4 MB/s eta 0:00:11\n",
      "     --- ------------------------------------ 1.4/15.9 MB 1.4 MB/s eta 0:00:11\n",
      "     --- ------------------------------------ 1.5/15.9 MB 1.4 MB/s eta 0:00:11\n",
      "     --- ------------------------------------ 1.6/15.9 MB 1.4 MB/s eta 0:00:11\n",
      "     ---- ----------------------------------- 1.6/15.9 MB 1.4 MB/s eta 0:00:11\n",
      "     ---- ----------------------------------- 1.7/15.9 MB 1.4 MB/s eta 0:00:11\n",
      "     ---- ----------------------------------- 1.8/15.9 MB 1.4 MB/s eta 0:00:10\n",
      "     ---- ----------------------------------- 1.8/15.9 MB 1.4 MB/s eta 0:00:10\n",
      "     ---- ----------------------------------- 1.9/15.9 MB 1.4 MB/s eta 0:00:10\n",
      "     ---- ----------------------------------- 1.9/15.9 MB 1.4 MB/s eta 0:00:10\n",
      "     ----- ---------------------------------- 2.0/15.9 MB 1.4 MB/s eta 0:00:10\n",
      "     ----- ---------------------------------- 2.1/15.9 MB 1.4 MB/s eta 0:00:10\n",
      "     ----- ---------------------------------- 2.1/15.9 MB 1.5 MB/s eta 0:00:10\n",
      "     ----- ---------------------------------- 2.2/15.9 MB 1.4 MB/s eta 0:00:10\n",
      "     ----- ---------------------------------- 2.3/15.9 MB 1.4 MB/s eta 0:00:10\n",
      "     ----- ---------------------------------- 2.3/15.9 MB 1.5 MB/s eta 0:00:10\n",
      "     ----- ---------------------------------- 2.4/15.9 MB 1.5 MB/s eta 0:00:10\n",
      "     ------ --------------------------------- 2.4/15.9 MB 1.5 MB/s eta 0:00:10\n",
      "     ------ --------------------------------- 2.5/15.9 MB 1.5 MB/s eta 0:00:10\n",
      "     ------ --------------------------------- 2.6/15.9 MB 1.5 MB/s eta 0:00:10\n",
      "     ------ --------------------------------- 2.6/15.9 MB 1.5 MB/s eta 0:00:10\n",
      "     ------ --------------------------------- 2.7/15.9 MB 1.5 MB/s eta 0:00:10\n",
      "     ------ --------------------------------- 2.8/15.9 MB 1.5 MB/s eta 0:00:10\n",
      "     ------- -------------------------------- 2.8/15.9 MB 1.5 MB/s eta 0:00:09\n",
      "     ------- -------------------------------- 2.9/15.9 MB 1.5 MB/s eta 0:00:09\n",
      "     ------- -------------------------------- 2.9/15.9 MB 1.5 MB/s eta 0:00:09\n",
      "     ------- -------------------------------- 3.0/15.9 MB 1.4 MB/s eta 0:00:09\n",
      "     ------- -------------------------------- 3.0/15.9 MB 1.4 MB/s eta 0:00:09\n",
      "     ------- -------------------------------- 3.1/15.9 MB 1.4 MB/s eta 0:00:09\n",
      "     ------- -------------------------------- 3.1/15.9 MB 1.4 MB/s eta 0:00:09\n",
      "     -------- ------------------------------- 3.2/15.9 MB 1.4 MB/s eta 0:00:09\n",
      "     -------- ------------------------------- 3.2/15.9 MB 1.4 MB/s eta 0:00:09\n",
      "     -------- ------------------------------- 3.3/15.9 MB 1.4 MB/s eta 0:00:09\n",
      "     -------- ------------------------------- 3.4/15.9 MB 1.4 MB/s eta 0:00:09\n",
      "     -------- ------------------------------- 3.4/15.9 MB 1.4 MB/s eta 0:00:09\n",
      "     -------- ------------------------------- 3.5/15.9 MB 1.4 MB/s eta 0:00:09\n",
      "     -------- ------------------------------- 3.6/15.9 MB 1.5 MB/s eta 0:00:09\n",
      "     --------- ------------------------------ 3.6/15.9 MB 1.5 MB/s eta 0:00:09\n",
      "     --------- ------------------------------ 3.7/15.9 MB 1.4 MB/s eta 0:00:09\n",
      "     --------- ------------------------------ 3.8/15.9 MB 1.5 MB/s eta 0:00:09\n",
      "     --------- ------------------------------ 3.8/15.9 MB 1.5 MB/s eta 0:00:09\n",
      "     --------- ------------------------------ 3.9/15.9 MB 1.4 MB/s eta 0:00:09\n",
      "     --------- ------------------------------ 3.9/15.9 MB 1.5 MB/s eta 0:00:09\n",
      "     --------- ------------------------------ 4.0/15.9 MB 1.5 MB/s eta 0:00:09\n",
      "     ---------- ----------------------------- 4.0/15.9 MB 1.4 MB/s eta 0:00:09\n",
      "     ---------- ----------------------------- 4.1/15.9 MB 1.4 MB/s eta 0:00:09\n",
      "     ---------- ----------------------------- 4.2/15.9 MB 1.4 MB/s eta 0:00:09\n",
      "     ---------- ----------------------------- 4.2/15.9 MB 1.5 MB/s eta 0:00:09\n",
      "     ---------- ----------------------------- 4.3/15.9 MB 1.4 MB/s eta 0:00:09\n",
      "     ---------- ----------------------------- 4.4/15.9 MB 1.4 MB/s eta 0:00:09\n",
      "     ----------- ---------------------------- 4.4/15.9 MB 1.5 MB/s eta 0:00:08\n",
      "     ----------- ---------------------------- 4.5/15.9 MB 1.5 MB/s eta 0:00:08\n",
      "     ----------- ---------------------------- 4.5/15.9 MB 1.4 MB/s eta 0:00:08\n",
      "     ----------- ---------------------------- 4.6/15.9 MB 1.5 MB/s eta 0:00:08\n",
      "     ----------- ---------------------------- 4.7/15.9 MB 1.5 MB/s eta 0:00:08\n",
      "     ----------- ---------------------------- 4.7/15.9 MB 1.5 MB/s eta 0:00:08\n",
      "     ----------- ---------------------------- 4.8/15.9 MB 1.5 MB/s eta 0:00:08\n",
      "     ------------ --------------------------- 4.9/15.9 MB 1.5 MB/s eta 0:00:08\n",
      "     ------------ --------------------------- 4.9/15.9 MB 1.5 MB/s eta 0:00:08\n",
      "     ------------ --------------------------- 5.0/15.9 MB 1.5 MB/s eta 0:00:08\n",
      "     ------------ --------------------------- 5.1/15.9 MB 1.5 MB/s eta 0:00:08\n",
      "     ------------ --------------------------- 5.1/15.9 MB 1.5 MB/s eta 0:00:08\n",
      "     ------------ --------------------------- 5.2/15.9 MB 1.5 MB/s eta 0:00:08\n",
      "     ------------- -------------------------- 5.2/15.9 MB 1.5 MB/s eta 0:00:08\n",
      "     ------------- -------------------------- 5.3/15.9 MB 1.5 MB/s eta 0:00:08\n",
      "     ------------- -------------------------- 5.3/15.9 MB 1.5 MB/s eta 0:00:08\n",
      "     ------------- -------------------------- 5.4/15.9 MB 1.5 MB/s eta 0:00:08\n",
      "     ------------- -------------------------- 5.5/15.9 MB 1.5 MB/s eta 0:00:08\n",
      "     ------------- -------------------------- 5.5/15.9 MB 1.5 MB/s eta 0:00:08\n",
      "     -------------- ------------------------- 5.6/15.9 MB 1.5 MB/s eta 0:00:08\n",
      "     -------------- ------------------------- 5.7/15.9 MB 1.5 MB/s eta 0:00:08\n",
      "     -------------- ------------------------- 5.7/15.9 MB 1.5 MB/s eta 0:00:07\n",
      "     -------------- ------------------------- 5.8/15.9 MB 1.5 MB/s eta 0:00:07\n",
      "     -------------- ------------------------- 5.9/15.9 MB 1.5 MB/s eta 0:00:07\n",
      "     -------------- ------------------------- 5.9/15.9 MB 1.5 MB/s eta 0:00:07\n",
      "     --------------- ------------------------ 6.0/15.9 MB 1.5 MB/s eta 0:00:07\n",
      "     --------------- ------------------------ 6.1/15.9 MB 1.5 MB/s eta 0:00:07\n",
      "     --------------- ------------------------ 6.1/15.9 MB 1.5 MB/s eta 0:00:07\n",
      "     --------------- ------------------------ 6.2/15.9 MB 1.5 MB/s eta 0:00:07\n",
      "     --------------- ------------------------ 6.3/15.9 MB 1.5 MB/s eta 0:00:07\n",
      "     --------------- ------------------------ 6.3/15.9 MB 1.5 MB/s eta 0:00:07\n",
      "     --------------- ------------------------ 6.4/15.9 MB 1.5 MB/s eta 0:00:07\n",
      "     ---------------- ----------------------- 6.4/15.9 MB 1.5 MB/s eta 0:00:07\n",
      "     ---------------- ----------------------- 6.5/15.9 MB 1.5 MB/s eta 0:00:07\n",
      "     ---------------- ----------------------- 6.6/15.9 MB 1.5 MB/s eta 0:00:07\n",
      "     ---------------- ----------------------- 6.6/15.9 MB 1.5 MB/s eta 0:00:07\n",
      "     ---------------- ----------------------- 6.7/15.9 MB 1.5 MB/s eta 0:00:07\n",
      "     ---------------- ----------------------- 6.7/15.9 MB 1.5 MB/s eta 0:00:07\n",
      "     ---------------- ----------------------- 6.8/15.9 MB 1.5 MB/s eta 0:00:07\n",
      "     ----------------- ---------------------- 6.8/15.9 MB 1.5 MB/s eta 0:00:07\n",
      "     ----------------- ---------------------- 6.9/15.9 MB 1.5 MB/s eta 0:00:07\n",
      "     ----------------- ---------------------- 6.9/15.9 MB 1.5 MB/s eta 0:00:07\n",
      "     ----------------- ---------------------- 7.0/15.9 MB 1.5 MB/s eta 0:00:07\n",
      "     ----------------- ---------------------- 7.0/15.9 MB 1.5 MB/s eta 0:00:07\n",
      "     ----------------- ---------------------- 7.0/15.9 MB 1.5 MB/s eta 0:00:07\n",
      "     ----------------- ---------------------- 7.1/15.9 MB 1.4 MB/s eta 0:00:07\n",
      "     ----------------- ---------------------- 7.1/15.9 MB 1.4 MB/s eta 0:00:07\n",
      "     ------------------ --------------------- 7.2/15.9 MB 1.4 MB/s eta 0:00:07\n",
      "     ------------------ --------------------- 7.2/15.9 MB 1.4 MB/s eta 0:00:07\n",
      "     ------------------ --------------------- 7.3/15.9 MB 1.4 MB/s eta 0:00:06\n",
      "     ------------------ --------------------- 7.4/15.9 MB 1.4 MB/s eta 0:00:06\n",
      "     ------------------ --------------------- 7.4/15.9 MB 1.4 MB/s eta 0:00:06\n",
      "     ------------------ --------------------- 7.5/15.9 MB 1.4 MB/s eta 0:00:06\n",
      "     ------------------ --------------------- 7.6/15.9 MB 1.4 MB/s eta 0:00:06\n",
      "     ------------------- -------------------- 7.6/15.9 MB 1.4 MB/s eta 0:00:06\n",
      "     ------------------- -------------------- 7.7/15.9 MB 1.4 MB/s eta 0:00:06\n",
      "     ------------------- -------------------- 7.7/15.9 MB 1.4 MB/s eta 0:00:06\n",
      "     ------------------- -------------------- 7.8/15.9 MB 1.4 MB/s eta 0:00:06\n",
      "     ------------------- -------------------- 7.8/15.9 MB 1.4 MB/s eta 0:00:06\n",
      "     ------------------- -------------------- 7.9/15.9 MB 1.4 MB/s eta 0:00:06\n",
      "     ------------------- -------------------- 7.9/15.9 MB 1.4 MB/s eta 0:00:06\n",
      "     -------------------- ------------------- 8.0/15.9 MB 1.4 MB/s eta 0:00:06\n",
      "     -------------------- ------------------- 8.0/15.9 MB 1.4 MB/s eta 0:00:06\n",
      "     -------------------- ------------------- 8.1/15.9 MB 1.4 MB/s eta 0:00:06\n",
      "     -------------------- ------------------- 8.1/15.9 MB 1.4 MB/s eta 0:00:06\n",
      "     -------------------- ------------------- 8.2/15.9 MB 1.4 MB/s eta 0:00:06\n",
      "     -------------------- ------------------- 8.2/15.9 MB 1.4 MB/s eta 0:00:06\n",
      "     -------------------- ------------------- 8.3/15.9 MB 1.4 MB/s eta 0:00:06\n",
      "     -------------------- ------------------- 8.3/15.9 MB 1.4 MB/s eta 0:00:06\n",
      "     -------------------- ------------------- 8.3/15.9 MB 1.4 MB/s eta 0:00:06\n",
      "     -------------------- ------------------- 8.3/15.9 MB 1.4 MB/s eta 0:00:06\n",
      "     -------------------- ------------------- 8.4/15.9 MB 1.4 MB/s eta 0:00:06\n",
      "     --------------------- ------------------ 8.4/15.9 MB 1.4 MB/s eta 0:00:06\n",
      "     --------------------- ------------------ 8.4/15.9 MB 1.4 MB/s eta 0:00:06\n",
      "     --------------------- ------------------ 8.5/15.9 MB 1.4 MB/s eta 0:00:06\n",
      "     --------------------- ------------------ 8.5/15.9 MB 1.4 MB/s eta 0:00:06\n",
      "     --------------------- ------------------ 8.6/15.9 MB 1.4 MB/s eta 0:00:06\n",
      "     --------------------- ------------------ 8.6/15.9 MB 1.4 MB/s eta 0:00:06\n",
      "     --------------------- ------------------ 8.7/15.9 MB 1.4 MB/s eta 0:00:06\n",
      "     --------------------- ------------------ 8.7/15.9 MB 1.4 MB/s eta 0:00:06\n",
      "     ---------------------- ----------------- 8.8/15.9 MB 1.4 MB/s eta 0:00:06\n",
      "     ---------------------- ----------------- 8.9/15.9 MB 1.4 MB/s eta 0:00:06\n",
      "     ---------------------- ----------------- 8.9/15.9 MB 1.4 MB/s eta 0:00:06\n",
      "     ---------------------- ----------------- 9.0/15.9 MB 1.4 MB/s eta 0:00:06\n",
      "     ---------------------- ----------------- 9.1/15.9 MB 1.4 MB/s eta 0:00:05\n",
      "     ---------------------- ----------------- 9.1/15.9 MB 1.4 MB/s eta 0:00:05\n",
      "     ----------------------- ---------------- 9.2/15.9 MB 1.4 MB/s eta 0:00:05\n",
      "     ----------------------- ---------------- 9.2/15.9 MB 1.4 MB/s eta 0:00:05\n",
      "     ----------------------- ---------------- 9.3/15.9 MB 1.4 MB/s eta 0:00:05\n",
      "     ----------------------- ---------------- 9.4/15.9 MB 1.4 MB/s eta 0:00:05\n",
      "     ----------------------- ---------------- 9.4/15.9 MB 1.4 MB/s eta 0:00:05\n",
      "     ----------------------- ---------------- 9.5/15.9 MB 1.4 MB/s eta 0:00:05\n",
      "     ----------------------- ---------------- 9.6/15.9 MB 1.4 MB/s eta 0:00:05\n",
      "     ------------------------ --------------- 9.6/15.9 MB 1.4 MB/s eta 0:00:05\n",
      "     ------------------------ --------------- 9.7/15.9 MB 1.4 MB/s eta 0:00:05\n",
      "     ------------------------ --------------- 9.7/15.9 MB 1.4 MB/s eta 0:00:05\n",
      "     ------------------------ --------------- 9.8/15.9 MB 1.4 MB/s eta 0:00:05\n",
      "     ------------------------ --------------- 9.9/15.9 MB 1.4 MB/s eta 0:00:05\n",
      "     ------------------------ --------------- 9.9/15.9 MB 1.4 MB/s eta 0:00:05\n",
      "     ------------------------- -------------- 10.0/15.9 MB 1.4 MB/s eta 0:00:05\n",
      "     ------------------------- -------------- 10.1/15.9 MB 1.4 MB/s eta 0:00:05\n",
      "     ------------------------- -------------- 10.1/15.9 MB 1.4 MB/s eta 0:00:05\n",
      "     ------------------------- -------------- 10.2/15.9 MB 1.4 MB/s eta 0:00:05\n",
      "     ------------------------- -------------- 10.3/15.9 MB 1.4 MB/s eta 0:00:05\n",
      "     ------------------------- -------------- 10.3/15.9 MB 1.4 MB/s eta 0:00:04\n",
      "     -------------------------- ------------- 10.4/15.9 MB 1.4 MB/s eta 0:00:04\n",
      "     -------------------------- ------------- 10.4/15.9 MB 1.4 MB/s eta 0:00:04\n",
      "     -------------------------- ------------- 10.5/15.9 MB 1.4 MB/s eta 0:00:04\n",
      "     -------------------------- ------------- 10.6/15.9 MB 1.4 MB/s eta 0:00:04\n",
      "     -------------------------- ------------- 10.6/15.9 MB 1.4 MB/s eta 0:00:04\n",
      "     -------------------------- ------------- 10.7/15.9 MB 1.4 MB/s eta 0:00:04\n",
      "     -------------------------- ------------- 10.7/15.9 MB 1.4 MB/s eta 0:00:04\n",
      "     --------------------------- ------------ 10.8/15.9 MB 1.4 MB/s eta 0:00:04\n",
      "     --------------------------- ------------ 10.9/15.9 MB 1.4 MB/s eta 0:00:04\n",
      "     --------------------------- ------------ 10.9/15.9 MB 1.4 MB/s eta 0:00:04\n",
      "     --------------------------- ------------ 10.9/15.9 MB 1.4 MB/s eta 0:00:04\n",
      "     --------------------------- ------------ 11.0/15.9 MB 1.4 MB/s eta 0:00:04\n",
      "     --------------------------- ------------ 11.0/15.9 MB 1.4 MB/s eta 0:00:04\n",
      "     --------------------------- ------------ 11.1/15.9 MB 1.4 MB/s eta 0:00:04\n",
      "     ---------------------------- ----------- 11.2/15.9 MB 1.4 MB/s eta 0:00:04\n",
      "     ---------------------------- ----------- 11.2/15.9 MB 1.4 MB/s eta 0:00:04\n",
      "     ---------------------------- ----------- 11.3/15.9 MB 1.4 MB/s eta 0:00:04\n",
      "     ---------------------------- ----------- 11.3/15.9 MB 1.4 MB/s eta 0:00:04\n",
      "     ---------------------------- ----------- 11.4/15.9 MB 1.4 MB/s eta 0:00:04\n",
      "     ---------------------------- ----------- 11.5/15.9 MB 1.4 MB/s eta 0:00:04\n",
      "     ---------------------------- ----------- 11.6/15.9 MB 1.4 MB/s eta 0:00:04\n",
      "     ----------------------------- ---------- 11.6/15.9 MB 1.4 MB/s eta 0:00:04\n",
      "     ----------------------------- ---------- 11.7/15.9 MB 1.4 MB/s eta 0:00:04\n",
      "     ----------------------------- ---------- 11.7/15.9 MB 1.4 MB/s eta 0:00:03\n",
      "     ----------------------------- ---------- 11.8/15.9 MB 1.4 MB/s eta 0:00:03\n",
      "     ----------------------------- ---------- 11.9/15.9 MB 1.4 MB/s eta 0:00:03\n",
      "     ----------------------------- ---------- 11.9/15.9 MB 1.4 MB/s eta 0:00:03\n",
      "     ------------------------------ --------- 12.0/15.9 MB 1.4 MB/s eta 0:00:03\n",
      "     ------------------------------ --------- 12.1/15.9 MB 1.4 MB/s eta 0:00:03\n",
      "     ------------------------------ --------- 12.1/15.9 MB 1.4 MB/s eta 0:00:03\n",
      "     ------------------------------ --------- 12.2/15.9 MB 1.4 MB/s eta 0:00:03\n",
      "     ------------------------------ --------- 12.3/15.9 MB 1.4 MB/s eta 0:00:03\n",
      "     ------------------------------ --------- 12.3/15.9 MB 1.4 MB/s eta 0:00:03\n",
      "     ------------------------------- -------- 12.4/15.9 MB 1.4 MB/s eta 0:00:03\n",
      "     ------------------------------- -------- 12.5/15.9 MB 1.4 MB/s eta 0:00:03\n",
      "     ------------------------------- -------- 12.5/15.9 MB 1.4 MB/s eta 0:00:03\n",
      "     ------------------------------- -------- 12.6/15.9 MB 1.4 MB/s eta 0:00:03\n",
      "     ------------------------------- -------- 12.6/15.9 MB 1.4 MB/s eta 0:00:03\n",
      "     ------------------------------- -------- 12.7/15.9 MB 1.4 MB/s eta 0:00:03\n",
      "     -------------------------------- ------- 12.8/15.9 MB 1.4 MB/s eta 0:00:03\n",
      "     -------------------------------- ------- 12.8/15.9 MB 1.4 MB/s eta 0:00:03\n",
      "     -------------------------------- ------- 12.9/15.9 MB 1.4 MB/s eta 0:00:03\n",
      "     -------------------------------- ------- 12.9/15.9 MB 1.4 MB/s eta 0:00:03\n",
      "     -------------------------------- ------- 13.0/15.9 MB 1.4 MB/s eta 0:00:03\n",
      "     -------------------------------- ------- 13.1/15.9 MB 1.4 MB/s eta 0:00:03\n",
      "     -------------------------------- ------- 13.1/15.9 MB 1.4 MB/s eta 0:00:03\n",
      "     --------------------------------- ------ 13.2/15.9 MB 1.4 MB/s eta 0:00:02\n",
      "     --------------------------------- ------ 13.2/15.9 MB 1.4 MB/s eta 0:00:02\n",
      "     --------------------------------- ------ 13.3/15.9 MB 1.4 MB/s eta 0:00:02\n",
      "     --------------------------------- ------ 13.4/15.9 MB 1.4 MB/s eta 0:00:02\n",
      "     --------------------------------- ------ 13.4/15.9 MB 1.4 MB/s eta 0:00:02\n",
      "     --------------------------------- ------ 13.5/15.9 MB 1.4 MB/s eta 0:00:02\n",
      "     ---------------------------------- ----- 13.6/15.9 MB 1.4 MB/s eta 0:00:02\n",
      "     ---------------------------------- ----- 13.6/15.9 MB 1.4 MB/s eta 0:00:02\n",
      "     ---------------------------------- ----- 13.7/15.9 MB 1.4 MB/s eta 0:00:02\n",
      "     ---------------------------------- ----- 13.8/15.9 MB 1.4 MB/s eta 0:00:02\n",
      "     ---------------------------------- ----- 13.8/15.9 MB 1.4 MB/s eta 0:00:02\n",
      "     ---------------------------------- ----- 13.9/15.9 MB 1.4 MB/s eta 0:00:02\n",
      "     ---------------------------------- ----- 13.9/15.9 MB 1.4 MB/s eta 0:00:02\n",
      "     ----------------------------------- ---- 14.0/15.9 MB 1.4 MB/s eta 0:00:02\n",
      "     ----------------------------------- ---- 14.0/15.9 MB 1.4 MB/s eta 0:00:02\n",
      "     ----------------------------------- ---- 14.1/15.9 MB 1.4 MB/s eta 0:00:02\n",
      "     ----------------------------------- ---- 14.2/15.9 MB 1.4 MB/s eta 0:00:02\n",
      "     ----------------------------------- ---- 14.2/15.9 MB 1.4 MB/s eta 0:00:02\n",
      "     ----------------------------------- ---- 14.3/15.9 MB 1.4 MB/s eta 0:00:02\n",
      "     ------------------------------------ --- 14.4/15.9 MB 1.4 MB/s eta 0:00:02\n",
      "     ------------------------------------ --- 14.4/15.9 MB 1.4 MB/s eta 0:00:02\n",
      "     ------------------------------------ --- 14.5/15.9 MB 1.4 MB/s eta 0:00:02\n",
      "     ------------------------------------ --- 14.6/15.9 MB 1.4 MB/s eta 0:00:01\n",
      "     ------------------------------------ --- 14.6/15.9 MB 1.4 MB/s eta 0:00:01\n",
      "     ------------------------------------ --- 14.7/15.9 MB 1.4 MB/s eta 0:00:01\n",
      "     ------------------------------------- -- 14.7/15.9 MB 1.4 MB/s eta 0:00:01\n",
      "     ------------------------------------- -- 14.8/15.9 MB 1.4 MB/s eta 0:00:01\n",
      "     ------------------------------------- -- 14.9/15.9 MB 1.4 MB/s eta 0:00:01\n",
      "     ------------------------------------- -- 14.9/15.9 MB 1.4 MB/s eta 0:00:01\n",
      "     ------------------------------------- -- 15.0/15.9 MB 1.4 MB/s eta 0:00:01\n",
      "     ------------------------------------- -- 15.0/15.9 MB 1.4 MB/s eta 0:00:01\n",
      "     ------------------------------------- -- 15.1/15.9 MB 1.4 MB/s eta 0:00:01\n",
      "     ------------------------------------- -- 15.1/15.9 MB 1.4 MB/s eta 0:00:01\n",
      "     -------------------------------------- - 15.2/15.9 MB 1.4 MB/s eta 0:00:01\n",
      "     -------------------------------------- - 15.2/15.9 MB 1.4 MB/s eta 0:00:01\n",
      "     -------------------------------------- - 15.3/15.9 MB 1.4 MB/s eta 0:00:01\n",
      "     -------------------------------------- - 15.4/15.9 MB 1.4 MB/s eta 0:00:01\n",
      "     -------------------------------------- - 15.4/15.9 MB 1.4 MB/s eta 0:00:01\n",
      "     -------------------------------------- - 15.5/15.9 MB 1.4 MB/s eta 0:00:01\n",
      "     ---------------------------------------  15.6/15.9 MB 1.4 MB/s eta 0:00:01\n",
      "     ---------------------------------------  15.6/15.9 MB 1.4 MB/s eta 0:00:01\n",
      "     ---------------------------------------  15.7/15.9 MB 1.4 MB/s eta 0:00:01\n",
      "     ---------------------------------------  15.8/15.9 MB 1.4 MB/s eta 0:00:01\n",
      "     ---------------------------------------  15.8/15.9 MB 1.4 MB/s eta 0:00:01\n",
      "     ---------------------------------------  15.9/15.9 MB 1.4 MB/s eta 0:00:01\n",
      "     ---------------------------------------- 15.9/15.9 MB 1.4 MB/s eta 0:00:00\n",
      "  Preparing metadata (setup.py): started\n",
      "  Preparing metadata (setup.py): finished with status 'done'\n",
      "Requirement already satisfied: pandas in c:\\users\\katul\\anaconda3\\lib\\site-packages (from pydataset) (2.0.3)\n",
      "Requirement already satisfied: python-dateutil>=2.8.2 in c:\\users\\katul\\anaconda3\\lib\\site-packages (from pandas->pydataset) (2.8.2)\n",
      "Requirement already satisfied: pytz>=2020.1 in c:\\users\\katul\\anaconda3\\lib\\site-packages (from pandas->pydataset) (2023.3.post1)\n",
      "Requirement already satisfied: tzdata>=2022.1 in c:\\users\\katul\\anaconda3\\lib\\site-packages (from pandas->pydataset) (2023.3)\n",
      "Requirement already satisfied: numpy>=1.21.0 in c:\\users\\katul\\anaconda3\\lib\\site-packages (from pandas->pydataset) (1.24.3)\n",
      "Requirement already satisfied: six>=1.5 in c:\\users\\katul\\anaconda3\\lib\\site-packages (from python-dateutil>=2.8.2->pandas->pydataset) (1.16.0)\n",
      "Building wheels for collected packages: pydataset\n",
      "  Building wheel for pydataset (setup.py): started\n",
      "  Building wheel for pydataset (setup.py): finished with status 'done'\n",
      "  Created wheel for pydataset: filename=pydataset-0.2.0-py3-none-any.whl size=15939425 sha256=4a7d9c87819195872434a25ba23120954864a1f653b9bb075d4c9e7560c7db5c\n",
      "  Stored in directory: c:\\users\\katul\\appdata\\local\\pip\\cache\\wheels\\29\\93\\3f\\af54c413cecaac292940342c61882d2a8848674175d0bb0889\n",
      "Successfully built pydataset\n",
      "Installing collected packages: pydataset\n",
      "Successfully installed pydataset-0.2.0\n",
      "Note: you may need to restart the kernel to use updated packages.\n"
     ]
    }
   ],
   "source": [
    "pip install pydataset"
   ]
  },
  {
   "cell_type": "markdown",
   "id": "c6f7db54",
   "metadata": {},
   "source": [
    "Great! Doesn't this look similar to a normal distribution?"
   ]
  },
  {
   "cell_type": "markdown",
   "id": "155101a2",
   "metadata": {
    "id": "155101a2"
   },
   "source": [
    "# Hypothesis Testing\n",
    "Statistical hypothesis tests are predicated on a statement known as the **null hypothesis**, which asserts that nothing noteworthy is happening between the variables being tested. The null hypothesis differs depending on the type of test: if you are testing whether groups vary, the null hypothesis states that the groups are the same. For example, if you wanted to see if the average age of voters in your state differed from the national average, the null hypothesis would be that there is no difference.\n",
    "\n",
    "A hypothesis test is used to examine if the null hypothesis is likely to be true given the sample data. Given the data, you accept the null hypothesis if there is minimal evidence against it. If the null hypothesis is unlikely based on the facts, you may reject it in favour of the **alternative hypothesis**: that something interesting is happening. The precise form of the alternative hypothesis will be determined by the specific test you are performing. Continuing with the previous example, the alternative hypothesis is that the average age of voters in your state differs from the national average.\n",
    "\n",
    "You select a significance level (typically symbolised by the Greek letter $alpha$) once you have the null and alternative hypothesis in hand. The significance level is a probability threshold that decides when the null hypothesis is rejected. After performing a test, you reject the null hypothesis in favour of the alternative if the probability of generating a result as extreme as the one you observed by chance is less than the significance threshold. The **p-value** is the likelihood of seeing a result that is as extreme or more extreme than the one observed.\n",
    "\n",
    "* $p \\leq \\alpha:$ reject **null hypothesis**.\n",
    "* $p > \\alpha:$ fail to reject **null hypothesis**."
   ]
  },
  {
   "cell_type": "markdown",
   "id": "ad81b2f4",
   "metadata": {
    "id": "ad81b2f4"
   },
   "source": [
    "This tutorial is divided into 4 parts; they are:\n",
    "* Normality Tests\n",
    "    * Shapiro-Wilk Test\n",
    "    * D'Agostino's K^2 Test\n",
    "    * Anderson-Darling Test\n",
    "* Correlation Tests\n",
    "    * Pearson's Correlation Coefficient\n",
    "    * Spearman's Rank Correlation\n",
    "    * Kendall's Rank Correlation\n",
    "    * Chi-Squared Test\n",
    "* Parametric Statistical Hypothesis Tests\n",
    "    * T-test\n",
    "        * one sample t-test\n",
    "        * two sample t-test\n",
    "        * Paired sample t-test\n",
    "    * Z-test\n",
    "        * one sampled z-test\n",
    "        * two sampled z-test\n",
    "    * F-test\n",
    "* Nonparametric Statistical Hypothesis Tests\n",
    "    * Mann-Whitney U test\n",
    "    * Wilcoxon Signed-Rank test "
   ]
  },
  {
   "cell_type": "markdown",
   "id": "0b36ebb1",
   "metadata": {
    "id": "0b36ebb1"
   },
   "source": [
    "# Normality Tests\n",
    "An important decision point when working with a sample of data is whether to use parametric or nonparametric statistical methods.\n",
    "\n",
    "Parametric statistical methods assume that the data has a known and specific distribution, often a Gaussian distribution. If a data sample is not Gaussian, then the assumptions of parametric statistical tests are violated and nonparametric statistical methods must be used.\n",
    "\n",
    "There are a range of techniques that you can use to check if your data sample deviates from a Gaussian distribution, called normality tests."
   ]
  },
  {
   "cell_type": "markdown",
   "id": "13ccffe4",
   "metadata": {
    "id": "13ccffe4"
   },
   "source": [
    "## Visual Normality Checks\n",
    "We can create plots of the data to check whether it is Gaussian. These checks are qualitative, so less accurate than the statistical methods."
   ]
  },
  {
   "cell_type": "markdown",
   "id": "59082ba5",
   "metadata": {
    "id": "59082ba5"
   },
   "source": [
    "### Histogram Plot\n",
    "A simple and commonly used plot to quickly check the distribution of a sample of data is the histogram.\n",
    "\n",
    "In the histogram, the data is divided into a pre-specified number of groups called bins. The data is then sorted into each bin and the count of the number of observations in each bin is retained."
   ]
  },
  {
   "cell_type": "code",
   "execution_count": 8,
   "id": "430b2e35",
   "metadata": {
    "id": "430b2e35",
    "outputId": "09eef3b8-0557-4035-a38f-eea422d23823"
   },
   "outputs": [
    {
     "data": {
      "image/png": "[encoded data removed]",
      "text/plain": [
       "<Figure size 640x480 with 1 Axes>"
      ]
     },
     "metadata": {},
     "output_type": "display_data"
    }
   ],
   "source": [
    "# seed the random number generator\n",
    "seed(40)\n",
    "\n",
    "# generate univariate observations\n",
    "data = 5*randn(100)+5\n",
    "\n",
    "# histogram plot\n",
    "plt.hist(data)\n",
    "plt.show()"
   ]
  },
  {
   "cell_type": "code",
   "execution_count": 9,
   "id": "b33cb099",
   "metadata": {
    "id": "b33cb099",
    "outputId": "df4b0772-6ade-4489-c183-160c5b1f5b5b"
   },
   "outputs": [
    {
     "name": "stdout",
     "output_type": "stream",
     "text": [
      "initiated datasets repo at: C:\\Users\\KATUL\\.pydataset/\n"
     ]
    },
    {
     "data": {
      "text/html": [
       "<div>\n",
       "<style scoped>\n",
       "    .dataframe tbody tr th:only-of-type {\n",
       "        vertical-align: middle;\n",
       "    }\n",
       "\n",
       "    .dataframe tbody tr th {\n",
       "        vertical-align: top;\n",
       "    }\n",
       "\n",
       "    .dataframe thead th {\n",
       "        text-align: right;\n",
       "    }\n",
       "</style>\n",
       "<table border=\"1\" class=\"dataframe\">\n",
       "  <thead>\n",
       "    <tr style=\"text-align: right;\">\n",
       "      <th></th>\n",
       "      <th>total_bill</th>\n",
       "      <th>tip</th>\n",
       "      <th>sex</th>\n",
       "      <th>smoker</th>\n",
       "      <th>day</th>\n",
       "      <th>time</th>\n",
       "      <th>size</th>\n",
       "    </tr>\n",
       "  </thead>\n",
       "  <tbody>\n",
       "    <tr>\n",
       "      <th>1</th>\n",
       "      <td>16.99</td>\n",
       "      <td>1.01</td>\n",
       "      <td>Female</td>\n",
       "      <td>No</td>\n",
       "      <td>Sun</td>\n",
       "      <td>Dinner</td>\n",
       "      <td>2</td>\n",
       "    </tr>\n",
       "    <tr>\n",
       "      <th>2</th>\n",
       "      <td>10.34</td>\n",
       "      <td>1.66</td>\n",
       "      <td>Male</td>\n",
       "      <td>No</td>\n",
       "      <td>Sun</td>\n",
       "      <td>Dinner</td>\n",
       "      <td>3</td>\n",
       "    </tr>\n",
       "    <tr>\n",
       "      <th>3</th>\n",
       "      <td>21.01</td>\n",
       "      <td>3.50</td>\n",
       "      <td>Male</td>\n",
       "      <td>No</td>\n",
       "      <td>Sun</td>\n",
       "      <td>Dinner</td>\n",
       "      <td>3</td>\n",
       "    </tr>\n",
       "    <tr>\n",
       "      <th>4</th>\n",
       "      <td>23.68</td>\n",
       "      <td>3.31</td>\n",
       "      <td>Male</td>\n",
       "      <td>No</td>\n",
       "      <td>Sun</td>\n",
       "      <td>Dinner</td>\n",
       "      <td>2</td>\n",
       "    </tr>\n",
       "    <tr>\n",
       "      <th>5</th>\n",
       "      <td>24.59</td>\n",
       "      <td>3.61</td>\n",
       "      <td>Female</td>\n",
       "      <td>No</td>\n",
       "      <td>Sun</td>\n",
       "      <td>Dinner</td>\n",
       "      <td>4</td>\n",
       "    </tr>\n",
       "  </tbody>\n",
       "</table>\n",
       "</div>"
      ],
      "text/plain": [
       "   total_bill   tip     sex smoker  day    time  size\n",
       "1       16.99  1.01  Female     No  Sun  Dinner     2\n",
       "2       10.34  1.66    Male     No  Sun  Dinner     3\n",
       "3       21.01  3.50    Male     No  Sun  Dinner     3\n",
       "4       23.68  3.31    Male     No  Sun  Dinner     2\n",
       "5       24.59  3.61  Female     No  Sun  Dinner     4"
      ]
     },
     "execution_count": 9,
     "metadata": {},
     "output_type": "execute_result"
    }
   ],
   "source": [
    "from pydataset import data\n",
    "\n",
    "# Load as a dataframe\n",
    "df = data('tips')\n",
    "df.head() "
   ]
  },
  {
   "cell_type": "markdown",
   "id": "48a2455c",
   "metadata": {
    "id": "48a2455c"
   },
   "source": [
    "We can see a Gaussian-like shape to the data, that although is not strongly the familiar bell-shape, is a rough approximation."
   ]
  },
  {
   "cell_type": "code",
   "execution_count": 10,
   "id": "207d8dd6",
   "metadata": {
    "id": "207d8dd6",
    "outputId": "1a12f5cb-0909-430f-c285-012b3847b18b"
   },
   "outputs": [
    {
     "data": {
      "image/png": "[encoded data removed]",
      "text/plain": [
       "<Figure size 640x480 with 1 Axes>"
      ]
     },
     "metadata": {},
     "output_type": "display_data"
    }
   ],
   "source": [
    "# histogram plot\n",
    "plt.hist(df['total_bill'])\n",
    "plt.show() "
   ]
  },
  {
   "cell_type": "markdown",
   "id": "f98dddd7",
   "metadata": {
    "id": "f98dddd7"
   },
   "source": [
    "We can see a non-Gaussian like shape of data."
   ]
  },
  {
   "cell_type": "markdown",
   "id": "7334b713",
   "metadata": {
    "id": "7334b713"
   },
   "source": [
    "### Quantile-Quantile Plot\n",
    "Another popular plot for checking the distribution of a data sample is the quantile-quantile plot, Q-Q plot, or QQ plot for short."
   ]
  },
  {
   "cell_type": "code",
   "execution_count": 11,
   "id": "122b64fb",
   "metadata": {
    "id": "122b64fb",
    "outputId": "bd414517-c4eb-47d1-e690-aa442a4f9292"
   },
   "outputs": [
    {
     "data": {
      "image/png": "[encoded data removed]",
      "text/plain": [
       "<Figure size 640x480 with 1 Axes>"
      ]
     },
     "metadata": {},
     "output_type": "display_data"
    }
   ],
   "source": [
    "from statsmodels.graphics.gofplots import qqplot\n",
    "\n",
    "# seed the random number generator\n",
    "seed(40)\n",
    "\n",
    "# generate univariate observations\n",
    "data = 5 * randn(100) + 50\n",
    "\n",
    "# QQ plot\n",
    "qqplot(data, line='s')\n",
    "plt.show() "
   ]
  },
  {
   "cell_type": "markdown",
   "id": "aacdc493",
   "metadata": {
    "id": "aacdc493"
   },
   "source": [
    "Running the example creates the QQ plot showing the scatter plot of points in a diagonal line, closely fitting the expected diagonal pattern for a sample from a Gaussian distribution.\n",
    "\n",
    "There are a few small deviations, especially at the bottom of the plot, which is to be expected given the small data sample."
   ]
  },
  {
   "cell_type": "code",
   "execution_count": 12,
   "id": "3c786c63",
   "metadata": {
    "id": "3c786c63",
    "outputId": "b30ac7f4-5867-4835-9780-fbb1a3c8eb3a"
   },
   "outputs": [
    {
     "data": {
      "image/png": "[encoded data removed]",
      "text/plain": [
       "<Figure size 640x480 with 1 Axes>"
      ]
     },
     "metadata": {},
     "output_type": "display_data"
    }
   ],
   "source": [
    "# QQ plot\n",
    "qqplot(df['total_bill'], line='s')\n",
    "plt.show()  "
   ]
  },
  {
   "cell_type": "markdown",
   "id": "6d9185e5",
   "metadata": {
    "id": "6d9185e5"
   },
   "source": [
    "There are deviations, at the top and the bottom of the plot."
   ]
  },
  {
   "cell_type": "markdown",
   "id": "76010aea",
   "metadata": {
    "id": "76010aea"
   },
   "source": [
    "## Statistical Normality Tests\n",
    "There are many statistical tests that we can use to quantify whether a sample of data looks as though it was drawn from a Gaussian distribution.\n",
    "\n",
    "Each test makes different assumptions and considers different aspects of the data.\n",
    "\n",
    "We will look at 3 commonly used tests in this section that you can apply to your own data samples.\n",
    "1. Shapiro-Wilk Test\n",
    "2. D'Agostino's K^2 Test\n",
    "3. Anderson-Darling Test\n",
    "\n",
    "\n",
    "**Null Hypothesis:** Data follow Gaussian distribution.\n",
    "\n",
    "**Alternative Hypothesis:** Data doesn't follow Gaussian distribution."
   ]
  },
  {
   "cell_type": "markdown",
   "id": "717eae5a",
   "metadata": {
    "id": "717eae5a"
   },
   "source": [
    "### Shapiro-Wilk Test\n",
    "The Shapiro-Wilk test evaluates a data sample and quantifies how likely it is that the data was drawn from a Gaussian distribution, named for Samuel Shapiro and Martin Wilk."
   ]
  },
  {
   "cell_type": "code",
   "execution_count": 13,
   "id": "1d579fbe",
   "metadata": {
    "colab": {
     "base_uri": "https://localhost:8080/",
     "height": 235
    },
    "executionInfo": {
     "elapsed": 21,
     "status": "error",
     "timestamp": 1671770695092,
     "user": {
      "displayName": "MEENU SINGH",
      "userId": "08824988348004969626"
     },
     "user_tz": -330
    },
    "id": "1d579fbe",
    "outputId": "ae53c07f-7b8b-4632-9b01-e7bd64daf363"
   },
   "outputs": [
    {
     "name": "stdout",
     "output_type": "stream",
     "text": [
      "Statistics = 0.92, p-value = 0.000\n",
      "Data do not follow Normal distribution\n"
     ]
    }
   ],
   "source": [
    "from scipy.stats import shapiro\n",
    "\n",
    "data = df['total_bill']\n",
    "\n",
    "alpha = 0.05\n",
    "\n",
    "stat, p = shapiro(data)\n",
    "\n",
    "print('Statistics = %0.2f, p-value = %0.3f' %(stat, p))\n",
    "\n",
    "if p > alpha:\n",
    "    print('Data follow Normal distribution')\n",
    "else:\n",
    "    print('Data do not follow Normal distribution')"
   ]
  },
  {
   "cell_type": "markdown",
   "id": "70baba93",
   "metadata": {
    "id": "70baba93"
   },
   "source": [
    "### D’Agostino’s K^2 Test\n",
    "The D’Agostino’s K^2 test calculates summary statistics from the data, namely kurtosis and skewness, to determine if the data distribution departs from the normal distribution, named for Ralph D’Agostino."
   ]
  },
  {
   "cell_type": "code",
   "execution_count": 14,
   "id": "7bd6a536",
   "metadata": {
    "id": "7bd6a536",
    "outputId": "289bf61c-1a50-429f-ed1b-27b76a89d758"
   },
   "outputs": [
    {
     "name": "stdout",
     "output_type": "stream",
     "text": [
      "Statistics = 45.12, p-value = 0.000\n",
      "Data do not follow Normal distribution\n"
     ]
    }
   ],
   "source": [
    "from scipy.stats import normaltest\n",
    "\n",
    "data = df['total_bill']\n",
    "\n",
    "alpha = 0.05\n",
    "\n",
    "stat, p = normaltest(data)\n",
    "\n",
    "print('Statistics = %0.2f, p-value = %0.3f' %(stat, p))\n",
    "\n",
    "if p > alpha:\n",
    "    print('Data follow Normal distribution')\n",
    "else:\n",
    "    print('Data do not follow Normal distribution')"
   ]
  },
  {
   "cell_type": "markdown",
   "id": "3a8bca76",
   "metadata": {
    "id": "3a8bca76"
   },
   "source": [
    "### Anderson-Darling Test\n",
    "Anderson-Darling Test is a statistical test that can be used to evaluate whether a data sample comes from one of among many known data samples, named for Theodore Anderson and Donald Darling."
   ]
  },
  {
   "cell_type": "code",
   "execution_count": 15,
   "id": "e48cfa9a",
   "metadata": {
    "id": "e48cfa9a",
    "outputId": "d72f0bb6-d7f3-4f9d-ffe2-973822a0aaa6"
   },
   "outputs": [
    {
     "name": "stdout",
     "output_type": "stream",
     "text": [
      "AndersonResult(statistic=5.520705531383527, critical_values=array([0.567, 0.646, 0.775, 0.904, 1.075]), significance_level=array([15. , 10. ,  5. ,  2.5,  1. ]), fit_result=  params: FitParams(loc=19.78594262295082, scale=8.902411954856856)\n",
      " success: True\n",
      " message: '`anderson` successfully fit the distribution to the data.')\n",
      "Statistic: 5.521\n",
      "15.000: 0.567, data does not look normal\n",
      "10.000: 0.646, data does not look normal\n",
      "5.000: 0.775, data does not look normal\n",
      "2.500: 0.904, data does not look normal\n",
      "1.000: 1.075, data looks normal\n"
     ]
    }
   ],
   "source": [
    "from scipy.stats import anderson\n",
    "\n",
    "data = df['total_bill']\n",
    "\n",
    "alpha = 0.05\n",
    "\n",
    "result = anderson(data)\n",
    "print(result)\n",
    "print('Statistic: %0.3f' %result.statistic)\n",
    "\n",
    "for i in range(len(result.critical_values)):\n",
    "    sl, cv = result.significance_level[i], result.critical_values[i]\n",
    "    if result.significance_level[i] < result.critical_values[i]:\n",
    "        print('%.3f: %.3f, data looks normal' % (sl, cv))\n",
    "    else:\n",
    "        print('%.3f: %.3f, data does not look normal' % (sl, cv))"
   ]
  },
  {
   "cell_type": "markdown",
   "id": "b21c970f",
   "metadata": {
    "id": "b21c970f"
   },
   "source": [
    "# Correlation Tests\n",
    "There may be complex and unknown relationships between the variables in your dataset.\n",
    "\n",
    "It is important to discover and quantify the degree to which variables in your dataset are dependent upon each other. This knowledge can help you better prepare your data to meet the expectations of machine learning algorithms, such as linear regression, whose performance will degrade with the presence of these interdependencies."
   ]
  },
  {
   "cell_type": "markdown",
   "id": "50c32ce7",
   "metadata": {
    "id": "50c32ce7"
   },
   "source": [
    "## Pearson’s Correlation Coefficient\n",
    "Tests whether two samples have a linear relationship.\n",
    "\n",
    "**Assumptions**\n",
    "\n",
    "* Observations in each sample are independent and identically distributed (iid).\n",
    "* Observations in each sample are normally distributed.\n",
    "* Observations in each sample have the same variance.\n",
    "\n",
    "**Interpretation**\n",
    "\n",
    "* **Null Hypothesis:** the two samples are independent.\n",
    "* **Alternative Hypothesis:** there is a dependency between the samples."
   ]
  },
  {
   "cell_type": "markdown",
   "id": "ada41f02",
   "metadata": {
    "id": "ada41f02"
   },
   "source": [
    "#### Problem\n",
    "To find the relationship between total bill and tip."
   ]
  },
  {
   "cell_type": "code",
   "execution_count": 16,
   "id": "658442b5",
   "metadata": {
    "id": "658442b5",
    "outputId": "adf0ff14-7f54-41ae-dc6a-bc681de637b2"
   },
   "outputs": [
    {
     "name": "stdout",
     "output_type": "stream",
     "text": [
      "statistics=0.676, p-value=0.000\n",
      "Probably dependent\n"
     ]
    }
   ],
   "source": [
    "from scipy.stats import pearsonr\n",
    "bill = df['total_bill']\n",
    "tip = df['tip']\n",
    "\n",
    "alpha = 0.05\n",
    "\n",
    "stat, p = pearsonr(bill, tip)\n",
    "print('statistics=%.3f, p-value=%.3f' % (stat, p))\n",
    "\n",
    "if p > alpha:\n",
    "    print('Probably independent')\n",
    "else:\n",
    "    print('Probably dependent')"
   ]
  },
  {
   "cell_type": "markdown",
   "id": "44703bd9",
   "metadata": {
    "id": "44703bd9"
   },
   "source": [
    "## Spearman’s Rank Correlation\n",
    "Tests whether two samples have a monotonic relationship.\n",
    "\n",
    "**Assumptions**\n",
    "\n",
    "* Observations in each sample are independent and identically distributed (iid).\n",
    "* Observations in each sample can be ranked.\n",
    "\n",
    "**Interpretation**\n",
    "\n",
    "* **Null Hypothesis:** the two samples are independent.\n",
    "* **Alternative Hypothesis:** there is a dependency between the samples."
   ]
  },
  {
   "cell_type": "markdown",
   "id": "7929e255",
   "metadata": {
    "id": "7929e255"
   },
   "source": [
    "#### Problem\n",
    "To find the relationship between total bill and tip."
   ]
  },
  {
   "cell_type": "code",
   "execution_count": 17,
   "id": "163b7fd6",
   "metadata": {
    "id": "163b7fd6",
    "outputId": "0e5250ab-160a-4446-c114-e46b755838e1"
   },
   "outputs": [
    {
     "name": "stdout",
     "output_type": "stream",
     "text": [
      "statistics=0.679, p-value=0.000\n",
      "Probably dependent\n"
     ]
    }
   ],
   "source": [
    "from scipy.stats import spearmanr\n",
    "bill = df['total_bill']\n",
    "tip = df['tip']\n",
    "\n",
    "alpha = 0.05\n",
    "\n",
    "stat, p = spearmanr(bill, tip)\n",
    "print('statistics=%.3f, p-value=%.3f' % (stat, p))\n",
    "\n",
    "if p > alpha:\n",
    "    print('Probably independent')\n",
    "else:\n",
    "    print('Probably dependent')"
   ]
  },
  {
   "cell_type": "markdown",
   "id": "9d5bf06e",
   "metadata": {
    "id": "9d5bf06e"
   },
   "source": [
    "## Kendall’s Rank Correlation\n",
    "Tests whether two samples have a monotonic relationship.\n",
    "\n",
    "**Assumptions**\n",
    "\n",
    "* Observations in each sample are independent and identically distributed (iid).\n",
    "* Observations in each sample can be ranked.\n",
    "\n",
    "**Interpretation**\n",
    "\n",
    "* **Null Hypothesis:** the two samples are independent.\n",
    "* **Alternative Hypothesis:** there is a dependency between the samples."
   ]
  },
  {
   "cell_type": "markdown",
   "id": "dd4bcd19",
   "metadata": {
    "id": "dd4bcd19"
   },
   "source": [
    "#### Problem\n",
    "To find the relationship between total bill and tip."
   ]
  },
  {
   "cell_type": "code",
   "execution_count": 18,
   "id": "56a660f8",
   "metadata": {
    "id": "56a660f8",
    "outputId": "754f9f85-92be-4f19-b501-fba8eb81cd3b"
   },
   "outputs": [
    {
     "name": "stdout",
     "output_type": "stream",
     "text": [
      "statistics=0.517, p-value=0.000\n",
      "Probably dependent\n"
     ]
    }
   ],
   "source": [
    "from scipy.stats import kendalltau\n",
    "bill = df['total_bill']\n",
    "tip = df['tip']\n",
    "\n",
    "alpha = 0.05\n",
    "\n",
    "stat, p = kendalltau(bill, tip)\n",
    "print('statistics=%.3f, p-value=%.3f' % (stat, p))\n",
    "\n",
    "if p > alpha:\n",
    "    print('Probably independent')\n",
    "else:\n",
    "    print('Probably dependent')"
   ]
  },
  {
   "cell_type": "markdown",
   "id": "8311d3c5",
   "metadata": {
    "id": "8311d3c5"
   },
   "source": [
    "## Chi-Squared Test\n",
    "The chi-squared test of independence tests whether two categorical variables are independent. The test of independence is commonly used to determine whether variables like education, political views and other preferences vary based on demographic factors like gender, race and religion. Let's generate some fake voter polling data and perform a test of independence:\n",
    "\n",
    "**Assumptions**\n",
    "* Observations used in the calculation of the contigency table are independent.\n",
    "\n",
    "**Interpretation**\n",
    "* **Null Hypothesis:** the two samples are independent.\n",
    "* **Alternative Hypothesis:** there is a dependency between the samples."
   ]
  },
  {
   "cell_type": "markdown",
   "id": "69913b93",
   "metadata": {
    "id": "69913b93"
   },
   "source": [
    "#### Problem\n",
    "Here, we take a table that shows the number of men and women buying different types of pets.\n",
    "\n",
    "| | Dog | Cat | Bird | Total |\n",
    "| --- | --- | --- | --- | --- |\n",
    "| Men | 207 | 282 | 241 | 730 |\n",
    "| Women | 234 | 242 | 232 | 708 |\n",
    "| Total | 441 | 524 | 473 | 1438 |\n",
    "\n",
    "The aim of the test is to conclude whether the two variables( gender and choice of pet ) are related to each other."
   ]
  },
  {
   "cell_type": "code",
   "execution_count": 19,
   "id": "32668769",
   "metadata": {
    "id": "32668769",
    "outputId": "fb67ae4d-bad6-43b0-c85e-06dd01c0f967"
   },
   "outputs": [
    {
     "name": "stdout",
     "output_type": "stream",
     "text": [
      "p-value is 0.1031971404730939\n",
      "Independent (null hypothesis holds true)\n"
     ]
    }
   ],
   "source": [
    "from scipy.stats import chi2_contingency\n",
    "\n",
    "# defining the table\n",
    "data = [[207, 282, 241], [234, 242, 232]]\n",
    "stat, p, dof, expected = chi2_contingency(data)\n",
    "\n",
    "# interpret p-value\n",
    "alpha = 0.05\n",
    "print(\"p-value is \" + str(p))\n",
    "if p <= alpha:\n",
    "    print('Dependent (reject null hypothesis)')\n",
    "else:\n",
    "    print('Independent (null hypothesis holds true)')"
   ]
  },
  {
   "cell_type": "markdown",
   "id": "ae9a02b5",
   "metadata": {
    "id": "ae9a02b5"
   },
   "source": [
    "Therefore, we can conclude that is, the variables do not have significant relation."
   ]
  },
  {
   "cell_type": "markdown",
   "id": "af2533de",
   "metadata": {
    "id": "af2533de"
   },
   "source": [
    "# Parametric Statistical Hypothesis Tests\n",
    "Parametric statistical methods often mean those methods that assume the data samples have a Gaussian distribution.\n",
    "\n",
    "In applied machine learning, we need to compare data samples, specifically the mean of the samples. Perhaps to see if one technique performs better than another on one or more datasets. To quantify this question and interpret the results, we can use parametric hypothesis testing methods such as the Student’s t-test, z-test, f-test and ANOVA."
   ]
  },
  {
   "cell_type": "markdown",
   "id": "50506b68",
   "metadata": {
    "id": "50506b68"
   },
   "source": [
    "## T-test\n",
    "A t-test is a type of inferential statistic which is used to determine if there is a significant difference between the means of two groups which may be related in certain features.\n",
    "<br>\n",
    "<br>\n",
    "t-test has 2 types : \n",
    "1. one sample t-test\n",
    "2. two-sample t-test."
   ]
  },
  {
   "cell_type": "markdown",
   "id": "00eb3dae",
   "metadata": {
    "id": "00eb3dae"
   },
   "source": [
    "### One sample t-test\n",
    "The One Sample t Test determines whether the sample mean is statistically different from a known or hypothesised population mean. The One Sample t Test is a parametric test.\n",
    "\n",
    "* **Left Tailed Test:**\n",
    "    * **Null Hypothesis:** $\\mu = \\mu_0$\n",
    "    * **Alternative Hypothesis:** $\\mu < \\mu_0$\n",
    "    * **Decision Criteria:** If the $t-statistics < t-critical value$ then reject **null hypothesis**.\n",
    "    \n",
    "* **Right Tailed Test:**\n",
    "    * **Null Hypothesis:** $\\mu = \\mu_0$\n",
    "    * **Alternative Hypothesis:** $\\mu > \\mu_0$\n",
    "    * **Decision Criteria:** If the $t-statistics > t-critical value$ then reject **null hypothesis**.\n",
    "    \n",
    "* **Two Tailed Test:**\n",
    "    * **Null Hypothesis:** $\\mu = \\mu_0$\n",
    "    * **Alternative Hypothesis:** $\\mu \\neq \\mu_0$\n",
    "    * **Decision Criteria:** If the $t-statistics > t-critical value$ then reject **null hypothesis**."
   ]
  },
  {
   "cell_type": "markdown",
   "id": "9e4d1166",
   "metadata": {
    "id": "9e4d1166"
   },
   "source": [
    "#### Problem\n",
    "we want to determine if on average girls score more than $600$ in the exam. We do not have the information related to variance (or standard deviation) for girls’ scores. To a perform t-test, we randomly collect the data of $10$ girls with their marks and choose our $\\alpha$ value (significance level) to be $0.05$ for Hypothesis Testing.\n",
    "\n",
    "|Marks(Girls)|\n",
    "| --- |\n",
    "| 587 |\n",
    "| 602 |\n",
    "| 627 |\n",
    "| 610 |\n",
    "| 619 |\n",
    "| 622 |\n",
    "| 605 |\n",
    "| 608 |\n",
    "| 596 |\n",
    "| 592 |\n",
    "\n",
    "**Null Hypothesis:** $\\mu \\leq 600 $\n",
    "\n",
    "**Alternative Hypothesis:** $\\mu > 600 $"
   ]
  },
  {
   "cell_type": "code",
   "execution_count": 20,
   "id": "1547ad1f",
   "metadata": {
    "id": "1547ad1f"
   },
   "outputs": [],
   "source": [
    "marks = [587, 602, 627, 610, 619, 622, 605, 608, 596, 592]"
   ]
  },
  {
   "cell_type": "code",
   "execution_count": 21,
   "id": "398e6cde",
   "metadata": {
    "id": "398e6cde",
    "outputId": "6ccaae67-47db-4229-b566-589ddf0c7127"
   },
   "outputs": [
    {
     "name": "stdout",
     "output_type": "stream",
     "text": [
      "\n",
      " The average marks of 10 girls: 606.8\n",
      "\n",
      " test statistics is 1.6366678867044733\n",
      "\n",
      " p-values 0.1361270069204197\n"
     ]
    }
   ],
   "source": [
    "from scipy.stats import ttest_1samp\n",
    "\n",
    "marks_mean = np.mean(marks)\n",
    "print(\"\\n The average marks of 10 girls:\", marks_mean)\n",
    "\n",
    "t_value, p_value = ttest_1samp(marks, 600)\n",
    "one_tailed_p_value=float(\"{:.6f}\".format(p_value/2)) \n",
    "\n",
    "print('\\n test statistics is',t_value)\n",
    "print(\"\\n p-values\",p_value)"
   ]
  },
  {
   "cell_type": "code",
   "execution_count": 22,
   "id": "80284711",
   "metadata": {
    "id": "80284711",
    "outputId": "d929c2f9-463e-4e44-bf87-acda35ad234f"
   },
   "outputs": [
    {
     "name": "stdout",
     "output_type": "stream",
     "text": [
      "Conclusion \n",
      " Since p-value(=0.136127) > alpha(=0.05) We do not reject the null hypothesis H0.\n"
     ]
    }
   ],
   "source": [
    "alpha = 0.05\n",
    "\n",
    "if one_tailed_p_value<=alpha:\n",
    "\n",
    "    print('Conclusion','\\n','Since p-value(=%f)'%p_value,'<','alpha(=%.2f)'%alpha,'''We reject the null hypothesis H0.''')\n",
    "\n",
    "else:\n",
    "\n",
    "    print('Conclusion','\\n','Since p-value(=%f)'%p_value,'>','alpha(=%.2f)'%alpha,\"We do not reject the null hypothesis H0.\")"
   ]
  },
  {
   "cell_type": "markdown",
   "id": "c1a65433",
   "metadata": {
    "id": "c1a65433"
   },
   "source": [
    "We fail to reject the null hypothesis and don't have enough evidence to support the hypothesis that on average, girls score more than $600$ in the exam."
   ]
  },
  {
   "cell_type": "markdown",
   "id": "8db4948b",
   "metadata": {
    "id": "8db4948b"
   },
   "source": [
    "### Two sample t-test\n",
    "The Independent Samples t test or 2-sample t-test compares the means of two independent groups in order to determine whether there is statistical evidence that the associated population means are significantly different. The Independent Samples t Test is a **parametric test**. This test is also known as **Independent t test**."
   ]
  },
  {
   "cell_type": "markdown",
   "id": "ae437381",
   "metadata": {
    "id": "ae437381"
   },
   "source": [
    "#### Problem\n",
    "we want to determine if on average, boys marks and girls marks in the exam is equal. We do not have the information related to variance (or standard deviation) for girls’ scores or boys’ scores. To perform a t-test. we randomly collect the data of $10$ girls and boys with their marks. We choose our $\\alpha$ value (significance level) to be $0.05$ as the criteria for Hypothesis Testing.\n",
    "\n",
    "| Marks(Girls) | Marks(Boys) |\n",
    "| --- | --- |\n",
    "| 587 | 626 |\n",
    "| 602 | 643 |\n",
    "| 627 | 647 |\n",
    "| 610 | 634 |\n",
    "| 619 | 630 |\n",
    "| 622 | 649 |\n",
    "| 605 | 625 |\n",
    "| 608 | 623 |\n",
    "| 596 | 617 |\n",
    "| 592 | 607 |\n",
    "\n",
    "**Null Hypothesis:** $\\mu_1 = \\mu_2$\n",
    "\n",
    "**Alternative Hypothesis:** $\\mu_1 \\neq \\mu_2$"
   ]
  },
  {
   "cell_type": "code",
   "execution_count": 23,
   "id": "4a13f951",
   "metadata": {
    "id": "4a13f951"
   },
   "outputs": [],
   "source": [
    "girls = [587, 602, 627, 610, 619, 622, 605, 608, 596, 592]\n",
    "boys = [626, 643, 647, 634, 630, 649, 625, 623, 617, 607]"
   ]
  },
  {
   "cell_type": "code",
   "execution_count": 24,
   "id": "a116d5a5",
   "metadata": {
    "id": "a116d5a5",
    "outputId": "a066af96-2517-4299-923c-2740703445b5"
   },
   "outputs": [
    {
     "name": "stdout",
     "output_type": "stream",
     "text": [
      "Test statistic is -3.921956\n",
      "p-value for two tailed test is 0.000999\n"
     ]
    }
   ],
   "source": [
    "from scipy.stats import ttest_ind\n",
    "\n",
    "t_value,p_value = ttest_ind(girls,boys)\n",
    "\n",
    "print('Test statistic is %f'%float(\"{:.6f}\".format(t_value)))\n",
    "\n",
    "print('p-value for two tailed test is %f'%p_value)"
   ]
  },
  {
   "cell_type": "code",
   "execution_count": 25,
   "id": "12f86068",
   "metadata": {
    "id": "12f86068",
    "outputId": "b104e8b6-d28c-45cd-dc11-ccadcea191fc"
   },
   "outputs": [
    {
     "name": "stdout",
     "output_type": "stream",
     "text": [
      "Conclusion \n",
      " Since p-value(=0.000999) < alpha(=0.05) We reject the null hypothesis H0.\n"
     ]
    }
   ],
   "source": [
    "alpha = 0.05\n",
    "\n",
    "if p_value<=alpha:\n",
    "\n",
    "    print('Conclusion','\\n','Since p-value(=%f)'%p_value,'<','alpha(=%.2f)'%alpha,'''We reject the null hypothesis H0.''')\n",
    "\n",
    "else:\n",
    "\n",
    "    print('Conclusion','\\n','Since p-value(=%f)'%p_value,'>','alpha(=%.2f)'%alpha,\"We do not reject the null hypothesis H0.\")"
   ]
  },
  {
   "cell_type": "markdown",
   "id": "e7e60a74",
   "metadata": {
    "id": "e7e60a74"
   },
   "source": [
    "We can conclude that average marks scored by boys and girls have significant difference."
   ]
  },
  {
   "cell_type": "markdown",
   "id": "6164a963",
   "metadata": {
    "id": "6164a963"
   },
   "source": [
    "### Paired sample t-test\n",
    "The paired sample t-test is also called dependent sample t-test. It is an univariate test that tests for a significant difference between 2 related variables."
   ]
  },
  {
   "cell_type": "markdown",
   "id": "478e59ff",
   "metadata": {
    "id": "478e59ff"
   },
   "source": [
    "#### Problem\n",
    "Eleven schoolboys were given a test in Statistics. They were given a Month’s tuition and a second test were held at the end of it. Do the marks give evidence that the students have benefited from the exam coaching?\n",
    "\n",
    "|Marks ($1^{st}$ test)| Marks ($2^{nd}$ test) |\n",
    "| --- | --- |\n",
    "| 23 | 24 |\n",
    "| 20 | 19 |\n",
    "| 19 | 22 |\n",
    "| 21 | 18 |\n",
    "| 18 | 20 |\n",
    "| 20 | 22 |\n",
    "| 18 | 20 |\n",
    "| 17 | 20 |\n",
    "| 23 | 23 |\n",
    "| 16 | 20 |\n",
    "| 19 | 18 |\n",
    "\n",
    "**Null Hypothesis $H_0$**: The students have not benefited from the tution class i.e., $d = 0$\n",
    "<br>\n",
    "**Alternative Hypothesis $H_1$**: The students have benefited from the tuition class. i.e., $d < 0$\n",
    "<br>\n",
    "Where, $d = x-y$; $d$ is the difference between marks in the first test (say $x$) and marks in the second test (say $y$)"
   ]
  },
  {
   "cell_type": "code",
   "execution_count": 26,
   "id": "6e55717b",
   "metadata": {
    "id": "6e55717b"
   },
   "outputs": [],
   "source": [
    "first_test =[23, 20, 19, 21, 18, 20, 18, 17, 23, 16, 19]\n",
    "second_test=[24, 19, 22, 18, 20, 22, 20, 20, 23, 20, 18]"
   ]
  },
  {
   "cell_type": "code",
   "execution_count": 27,
   "id": "393b250a",
   "metadata": {
    "id": "393b250a",
    "outputId": "d559f1b3-a802-47c1-b00d-d64ccddfe806"
   },
   "outputs": [
    {
     "name": "stdout",
     "output_type": "stream",
     "text": [
      "Test statistic is -1.707331\n",
      "p-value for one_tailed_test is 0.059282\n"
     ]
    }
   ],
   "source": [
    "from scipy.stats import ttest_rel\n",
    "\n",
    "t_value,p_value = ttest_rel(first_test,second_test)\n",
    "\n",
    "one_tailed_p_value=float(\"{:.6f}\".format(p_value/2)) \n",
    "\n",
    "print('Test statistic is %f'%float(\"{:.6f}\".format(t_value)))\n",
    "\n",
    "print('p-value for one_tailed_test is %f'%one_tailed_p_value)"
   ]
  },
  {
   "cell_type": "code",
   "execution_count": 28,
   "id": "0ef6c20a",
   "metadata": {
    "id": "0ef6c20a",
    "outputId": "214db003-01f8-419d-90b2-28d85e9bdbd3"
   },
   "outputs": [
    {
     "name": "stdout",
     "output_type": "stream",
     "text": [
      "Conclusion \n",
      " Since p-value(=0.059282) > alpha(=0.05) We do not reject the null hypothesis H0. \n",
      "\n",
      "So we conclude that the students have not benefited by the tuition class. i.e., d = 0 at 0.05 level of significance.\n"
     ]
    }
   ],
   "source": [
    "if one_tailed_p_value<=alpha:\n",
    "\n",
    "    print('Conclusion','\\n','Since p-value(=%f)'%one_tailed_p_value,'<','alpha(=%.2f)'%alpha,'''We reject the null hypothesis H0. \n",
    "\n",
    "So we conclude that the students have benefited by the tuition class. i.e., d = 0 at %.2f level of significance.'''%alpha)\n",
    "\n",
    "else:\n",
    "\n",
    "    print('Conclusion','\\n','Since p-value(=%f)'%one_tailed_p_value,'>','alpha(=%.2f)'%alpha,'''We do not reject the null hypothesis H0. \n",
    "\n",
    "So we conclude that the students have not benefited by the tuition class. i.e., d = 0 at %.2f level of significance.'''%alpha)"
   ]
  },
  {
   "cell_type": "markdown",
   "id": "3b09d46d",
   "metadata": {
    "id": "3b09d46d"
   },
   "source": [
    "## Z-test\n",
    "A z-test is a statistical test to determine whether two population means are different when the variances are known and the sample size is large.\n",
    "<br>\n",
    "<br>\n",
    "z-test has 2 types :\n",
    "1. one sampled z-test\n",
    "2. two sampled z-test.\n",
    "\n",
    "**Note**: Your sample size is greater than $30$. Otherwise, use a t test."
   ]
  },
  {
   "cell_type": "markdown",
   "id": "70eacda3",
   "metadata": {
    "id": "70eacda3"
   },
   "source": [
    "### One sample z-test\n",
    "A one-sample z test is used to check if there is a difference between the sample mean and the population mean when the population standard deviation is known.\n",
    "\n",
    "* **Left Tailed Test:**\n",
    "    * **Null Hypothesis:** $\\mu = \\mu_0$\n",
    "    * **Alternative Hypothesis:** $\\mu < \\mu_0$\n",
    "    * **Decision Criteria:** If the $z-statistics < z-critical value$ then reject **null hypothesis**.\n",
    "    \n",
    "* **Right Tailed Test:**\n",
    "    * **Null Hypothesis:** $\\mu = \\mu_0$\n",
    "    * **Alternative Hypothesis:** $\\mu > \\mu_0$\n",
    "    * **Decision Criteria:** If the $z-statistics > z-critical value$ then reject **null hypothesis**.\n",
    "    \n",
    "* **Two Tailed Test:**\n",
    "    * **Null Hypothesis:** $\\mu = \\mu_0$\n",
    "    * **Alternative Hypothesis:** $\\mu \\neq \\mu_0$\n",
    "    * **Decision Criteria:** If the $z-statistics > z-critical value$ then reject **null hypothesis**."
   ]
  },
  {
   "cell_type": "markdown",
   "id": "57421480",
   "metadata": {
    "id": "57421480"
   },
   "source": [
    "#### Problem\n",
    "Let’s say we need to determine if girls on average ($\\mu$) score higher than $600$ in the exam. We have the information that the standard deviation ($\\sigma$) for girls’ scores is $100$. So, we collect the data of $20$ girls by using random samples and record their marks. Finally, we also set our $\\alpha$ value (significance level) to be $0.05$.\n",
    "\n",
    "marks = $[650, 730, 510, 670, 480, 800, 690, 530, 590, 620, 710, 670, 640, 780, 650, 490, 800, 600, 510, 700]$\n",
    "\n",
    "**Null Hypothesis:** $\\mu \\leq 600$\n",
    "\n",
    "**Alternative Hypothesis:** $\\mu > 600$"
   ]
  },
  {
   "cell_type": "code",
   "execution_count": 29,
   "id": "6ec2a49f",
   "metadata": {
    "id": "6ec2a49f"
   },
   "outputs": [],
   "source": [
    "marks = [650, 730, 510, 670, 480, 800, 690, 530, 590, 620, 710,\n",
    "         670, 640, 780, 650, 490, 800, 600, 510, 700]"
   ]
  },
  {
   "cell_type": "code",
   "execution_count": 30,
   "id": "0b9f1f62",
   "metadata": {
    "id": "0b9f1f62",
    "outputId": "a61dc293-88ab-4df1-affe-9b9945657f2e"
   },
   "outputs": [
    {
     "name": "stdout",
     "output_type": "stream",
     "text": [
      "Test statistic is 1.831745\n",
      "p-value is 0.066989\n"
     ]
    }
   ],
   "source": [
    "from statsmodels.stats.weightstats import ztest\n",
    "\n",
    "z_value, p_value = ztest(marks, value=600)\n",
    "\n",
    "one_tailed_p_value=float(\"{:.6f}\".format(p_value/2)) \n",
    "\n",
    "print('Test statistic is %f'%float(\"{:.6f}\".format(z_value)))\n",
    "\n",
    "print('p-value is %f'%p_value)"
   ]
  },
  {
   "cell_type": "code",
   "execution_count": 31,
   "id": "a908b15c",
   "metadata": {
    "id": "a908b15c",
    "outputId": "480c9a7b-b7c8-4044-ec01-65088967ec1d"
   },
   "outputs": [
    {
     "name": "stdout",
     "output_type": "stream",
     "text": [
      "Conclusion \n",
      " Since p-value(=0.066989) < alpha(=0.05) We reject the null hypothesis H0\n"
     ]
    }
   ],
   "source": [
    "alpha = 0.05\n",
    "\n",
    "if one_tailed_p_value<=alpha:\n",
    "\n",
    "    print('Conclusion','\\n','Since p-value(=%f)'%p_value,'<','alpha(=%.2f)'%alpha,'''We reject the null hypothesis H0''')\n",
    "\n",
    "else:\n",
    "\n",
    "    print('Conclusion','\\n','Since p-value(=%f)'%p_value,'>','alpha(=%.2f)'%alpha,\"We do not reject the null hypothesis H0.\")"
   ]
  },
  {
   "cell_type": "markdown",
   "id": "9b567e3d",
   "metadata": {
    "id": "9b567e3d"
   },
   "source": [
    "We can conclude that Girls on average scored higher than $600$."
   ]
  },
  {
   "cell_type": "markdown",
   "id": "8f9f7a76",
   "metadata": {
    "id": "8f9f7a76"
   },
   "source": [
    "### Two sample z-test\n",
    "We perform a Two Sample Z test when we want to compare the mean of two samples."
   ]
  },
  {
   "cell_type": "markdown",
   "id": "3161d740",
   "metadata": {
    "id": "3161d740"
   },
   "source": [
    "#### Problem\n",
    "we want to know if Girls on average score $10$ marks more than the boys. We have the information that the standard deviation for girls’ Score is $100$ and for boys’ score is $90$. Then we collect the data of $20$ girls and $20$ boys by using random samples and record their marks. Finally, we also set our $\\alpha$ value (significance level) to be $0.05$.\n",
    "\n",
    "|Marks (Girls)| Marks (Boys)|\n",
    "| --- | --- |\n",
    "| 650 | 630 |\n",
    "| 730 | 720 |\n",
    "| 510 | 462 |\n",
    "| 670 | 631 |\n",
    "| 480 | 440 |\n",
    "| 800 | 783 |\n",
    "| 690 | 673 |\n",
    "| 530 | 519 |\n",
    "| 590 | 543 |\n",
    "| 620 | 579 |\n",
    "| 710 | 677 |\n",
    "| 670 | 649 |\n",
    "| 640 | 632 |\n",
    "| 780 | 768 |\n",
    "| 650 | 615 |\n",
    "| 490 | 463 |\n",
    "| 800 | 781 |\n",
    "| 600 | 563 |\n",
    "| 510 | 488 |\n",
    "| 700 | 650 |\n",
    "\n",
    "**Null Hypothesis:** $\\mu_1 - \\mu_2 \\leq 10$\n",
    "\n",
    "**Alternative Hypothesis:** $\\mu_1 - \\mu_2 > 10$"
   ]
  },
  {
   "cell_type": "code",
   "execution_count": 32,
   "id": "d5d0ce4c",
   "metadata": {
    "id": "d5d0ce4c"
   },
   "outputs": [],
   "source": [
    "girls = [650, 730, 510, 670, 480, 800, 690, 530, 590, 620, 710, 670,\n",
    "        640, 780, 650, 490, 800, 600, 510, 700]\n",
    "boys = [630, 720, 462, 631, 440, 783, 673, 519, 543, 579, 677, 649, 632,\n",
    "       768, 615, 463, 781, 563, 488, 650]"
   ]
  },
  {
   "cell_type": "code",
   "execution_count": 33,
   "id": "1aa01979",
   "metadata": {
    "id": "1aa01979",
    "outputId": "7485bcb7-3a00-490b-a018-2345776ee210"
   },
   "outputs": [
    {
     "name": "stdout",
     "output_type": "stream",
     "text": [
      "Test statistic is 0.543812\n",
      "p-value is 0.586571\n"
     ]
    }
   ],
   "source": [
    "z_value, p_value = ztest(girls, boys, value=10)\n",
    "\n",
    "print('Test statistic is %f'%float(\"{:.6f}\".format(z_value)))\n",
    "\n",
    "print('p-value is %f'%p_value)"
   ]
  },
  {
   "cell_type": "code",
   "execution_count": 34,
   "id": "2159c261",
   "metadata": {
    "id": "2159c261",
    "outputId": "15961e17-a267-4610-9ea6-d6b563b69486"
   },
   "outputs": [
    {
     "name": "stdout",
     "output_type": "stream",
     "text": [
      "Conclusion \n",
      " Since p-value(=0.586571) > alpha(=0.05) We do not reject the null hypothesis H0.\n"
     ]
    }
   ],
   "source": [
    "alpha = 0.05\n",
    "\n",
    "if p_value<=alpha:\n",
    "\n",
    "    print('Conclusion','\\n','Since p-value(=%f)'%p_value,'<','alpha(=%.2f)'%alpha,'''We reject the null hypothesis H0.\n",
    "    \n",
    "So we conclude that mean IQ level of two cities are different at %.2f level of significance.'''%alpha)\n",
    "\n",
    "else:\n",
    "\n",
    "    print('Conclusion','\\n','Since p-value(=%f)'%p_value,'>','alpha(=%.2f)'%alpha,\"We do not reject the null hypothesis H0.\")"
   ]
  },
  {
   "cell_type": "markdown",
   "id": "7c520f10",
   "metadata": {
    "id": "7c520f10"
   },
   "source": [
    "Thus, we can conclude based on **p-value** that we fail to reject the **Null Hypothesis**. We don’t have enough evidence to conclude that girls on average score of 10 marks more than the boys. "
   ]
  },
  {
   "cell_type": "markdown",
   "id": "a81f9ae3",
   "metadata": {
    "id": "a81f9ae3"
   },
   "source": [
    "## F-test\n",
    "An F-test is used to test whether two population variances are equal.\n",
    "$$F value = \\frac{\\sigma_1^2}{\\sigma_2^2}$$\n",
    "where $\\sigma_1^2 > \\sigma_2^2$\n",
    "\n",
    "### Hypothesis\n",
    "**Null Hypothesis $H_0$**: two population variance are equal i.e., $\\sigma_1^2 = \\sigma_2^2$\n",
    "<br>\n",
    "**Alternative Hypothesis $H_1$**: two population variance are not equal i.e., $\\sigma_1^2 \\neq \\sigma_2^2$"
   ]
  },
  {
   "cell_type": "markdown",
   "id": "ba4c84aa",
   "metadata": {
    "id": "ba4c84aa"
   },
   "source": [
    "### Problem\n",
    "Lin Xiang, a young banker, has moved from Saskatoon, Saskatchewan, to Winnipeg, Manitoba, where she has recently been promoted and made the manager of City Bank, a newly established bank in Winnipeg with branches across the Prairies. After a few weeks, she has discovered that maintaining the correct number of tellers seems to be more difficult than it was when she was a branch assistant manager in Saskatoon. Some days, the lines are very long, but on other days, the tellers seem to have little to do. She wonders if the number of customers at her new branch is simply more variable than the number of customers at the branch where she used to work. Because tellers work for a whole day or half a day (morning or afternoon), she collects the following data on the number of transactions in a half day from her branch and the branch where she used to work:\n",
    "\n",
    "Winnipeg branch: $156, 278, 134, 202, 236, 198, 187, 199, 143, 165, 223$\n",
    "\n",
    "Saskatoon branch: $345, 332, 309, 367, 388, 312, 355, 363, 381$"
   ]
  },
  {
   "cell_type": "code",
   "execution_count": 35,
   "id": "a150f5c5",
   "metadata": {
    "id": "a150f5c5"
   },
   "outputs": [],
   "source": [
    "x = [156, 278, 134, 202, 236, 198, 187, 199, 143, 165, 223]\n",
    "y = [345, 332, 309, 367, 388, 312, 355, 363, 381]"
   ]
  },
  {
   "cell_type": "code",
   "execution_count": 36,
   "id": "7a1df390",
   "metadata": {
    "id": "7a1df390"
   },
   "outputs": [],
   "source": [
    "import scipy\n",
    "def f_test(x,y):\n",
    "    x = np.array(x)\n",
    "    y = np.array(y)\n",
    "    \n",
    "    # calculate F test statistics\n",
    "    if np.var(x, ddof=1) > np.var(y,ddof=1):\n",
    "        f = np.var(x, ddof = 1)/np.var(y, ddof = 1)\n",
    "    else:\n",
    "        f = np.var(y, ddof = 1)/np.var(x, ddof = 1)\n",
    "        \n",
    "    # define degree of freedom numerator\n",
    "    dfn = x.size-1\n",
    "    # define degree of freedom denominator\n",
    "    dfd = y.size-1\n",
    "    \n",
    "    #find p-value of f test statistics\n",
    "    p = 1 - scipy.stats.f.cdf(f,dfn,dfd)\n",
    "    \n",
    "    return f,p"
   ]
  },
  {
   "cell_type": "code",
   "execution_count": 37,
   "id": "1434edbe",
   "metadata": {
    "id": "1434edbe",
    "outputId": "0351e233-523f-460b-8241-75f784065ec4"
   },
   "outputs": [
    {
     "name": "stdout",
     "output_type": "stream",
     "text": [
      "Test statistic is 2.299518\n",
      "p-value is 0.125336\n"
     ]
    }
   ],
   "source": [
    "f_value, p_value = f_test(x,y)\n",
    "\n",
    "print('Test statistic is %f'%float(\"{:.6f}\".format(f_value)))\n",
    "\n",
    "print('p-value is %f'%p_value)"
   ]
  },
  {
   "cell_type": "code",
   "execution_count": 38,
   "id": "11ae6d1d",
   "metadata": {
    "id": "11ae6d1d",
    "outputId": "ac21cd85-9cd7-45be-9b52-ea3f99ecec78"
   },
   "outputs": [
    {
     "name": "stdout",
     "output_type": "stream",
     "text": [
      "Conclusion \n",
      " Since p-value(=0.125336) > alpha(=0.05) We do not reject the null hypothesis H0.\n"
     ]
    }
   ],
   "source": [
    "alpha = 0.05\n",
    "\n",
    "if p_value<=alpha:\n",
    "\n",
    "    print('Conclusion','\\n','Since p-value(=%f)'%p_value,'<','alpha(=%.2f)'%alpha,'''We reject the null hypothesis H0.\n",
    "    \n",
    "So we conclude that two population variance are not equal at %.2f level of significance.'''%alpha)\n",
    "\n",
    "else:\n",
    "\n",
    "    print('Conclusion','\\n','Since p-value(=%f)'%p_value,'>','alpha(=%.2f)'%alpha,\"We do not reject the null hypothesis H0.\")"
   ]
  },
  {
   "cell_type": "markdown",
   "id": "a90eb5f2",
   "metadata": {
    "id": "a90eb5f2"
   },
   "source": [
    "She concludes that the variance of customers in her office is the same as it was in the old office."
   ]
  },
  {
   "cell_type": "markdown",
   "id": "6f075f62",
   "metadata": {
    "id": "6f075f62"
   },
   "source": [
    "# Nonparametric Statistical Hypothesis Tests\n",
    "If the data does not have the familiar Gaussian distribution, we must resort to nonparametric version of the significance tests. These tests operate in a similar manner, but are distribution free, requiring that real valued data be first transformed into rank data before the test can be performed.\n",
    "\n",
    "The null hypothesis of these tests is often the assumption that both samples were drawn from a population with the same distribution, and therefore the same population parameters, such as mean or median.\n",
    "\n",
    "If after calculating the significance test on two or more samples the null hypothesis is rejected, it indicates that there is evidence to suggest that samples were drawn from different populations, and in turn the difference between sample estimates of population parameters, such as means or medians may be significant."
   ]
  },
  {
   "cell_type": "markdown",
   "id": "f2ce3e66",
   "metadata": {
    "id": "f2ce3e66"
   },
   "source": [
    "## Mann-Whitney U Test\n",
    "The Mann-Whitney U test is a nonparametric statistical significance test for determining whether two independent samples were drawn from a population with the same distribution.\n",
    "\n",
    "The test was named for Henry Mann and Donald Whitney, although it is sometimes called the Wilcoxon-Mann-Whitney test, also named for Frank Wilcoxon, who also developed a variation of the test.\n",
    "\n",
    "**Null Hypothesis:** There is no difference between the distribution of the data samples.\n",
    "\n",
    "**Alternative Hypothesis:** There is likely some difference between the samples."
   ]
  },
  {
   "cell_type": "markdown",
   "id": "44b9f7bb",
   "metadata": {
    "id": "44b9f7bb"
   },
   "source": [
    "### Problem\n",
    "Suppose patients are suffering from cancer. They are divided into three groups and different drugs were administered. The platelet count for the patients is given in the table below. It needs to be checked if the population medians are equal. The significance level is $0.05$.\n",
    "\n",
    "| Drug 1 | Drug 2 |\n",
    "| --- | --- |\n",
    "| 42000 | 78000 |\n",
    "| 48000 | 89000 |\n",
    "| 57000 | 67000 |\n",
    "| 69000 | 80000 |\n",
    "| 45000 | |"
   ]
  },
  {
   "cell_type": "code",
   "execution_count": 39,
   "id": "af5372ec",
   "metadata": {
    "id": "af5372ec",
    "outputId": "f283094e-dd57-4fb2-9f23-5cf55769edb5"
   },
   "outputs": [
    {
     "name": "stdout",
     "output_type": "stream",
     "text": [
      "Statistics=1.00, p=0.03\n",
      "Reject Null Hypothesis (Significant difference between two samples)\n"
     ]
    }
   ],
   "source": [
    "# code for Mann-Whitney U test\n",
    "from scipy.stats import mannwhitneyu\n",
    "# Take Drug 1 and Drug 2 data as per above example\n",
    "Drug_1 =[42000, 48000, 57000, 69000, 45000]\n",
    "Drug_2 = [78000, 89000, 67000, 80000]\n",
    "\n",
    "# perform mann whitney test\n",
    "stat, p_value = mannwhitneyu(Drug_1, Drug_2)\n",
    "print('Statistics=%.2f, p=%.2f' % (stat, p_value))\n",
    "\n",
    "# Level of significance\n",
    "alpha = 0.05\n",
    "# conclusion\n",
    "if p_value < alpha:\n",
    "    print('Reject Null Hypothesis (Significant difference between two samples)')\n",
    "else:\n",
    "    print('Do not Reject Null Hypothesis (No significant difference between two samples)')"
   ]
  },
  {
   "cell_type": "markdown",
   "id": "fa8e700b",
   "metadata": {
    "id": "fa8e700b"
   },
   "source": [
    "## Wilcoxon Signed-Rank Test\n",
    "The Wilcoxon signed ranks test is a nonparametric statistical procedure for comparing two samples that are paired, or related.\n",
    "\n",
    "**Null Hypothesis:** The two samples have the same distribution\n",
    "\n",
    "**Alternative Hypothesis:** The two samples haven't same distribution"
   ]
  },
  {
   "cell_type": "markdown",
   "id": "ad23682f",
   "metadata": {
    "id": "ad23682f"
   },
   "source": [
    "### Problem\n",
    "The table below shows the hours of relief provided by two analgesic drugs in 12 patients suffering from arthritis. Is there any evidence that one drug provides longer relief than the other?\n",
    "\n",
    "| Patient | Drug A | Drug B |\n",
    "| --- | --- | --- |\n",
    "| 1 | 2.0 | 3.5 |\n",
    "| 2 | 3.6 | 5.7 |\n",
    "| 3 | 2.6 | 2.9 |\n",
    "| 4 | 2.6 | 2.4 |\n",
    "| 5 | 7.3 | 9.9 |\n",
    "| 6 | 3.4 | 3.3 |\n",
    "| 7 | 14.9 | 16.7 |\n",
    "| 8 | 6.6 | 6.0 |\n",
    "| 9 | 2.3 | 3.8 |\n",
    "| 10 | 2.0 | 4.0 |\n",
    "| 11 | 6.8 | 9.1 |\n",
    "| 12 | 8.5 | 20.9 |"
   ]
  },
  {
   "cell_type": "code",
   "execution_count": 40,
   "id": "3dc76a42",
   "metadata": {
    "id": "3dc76a42",
    "outputId": "c1fdcebc-7d4b-42e8-c85c-070142b8fda5"
   },
   "outputs": [
    {
     "name": "stdout",
     "output_type": "stream",
     "text": [
      "Statistics=7.00, p=0.01\n",
      "Reject Null Hypothesis (Significant difference between two samples)\n"
     ]
    }
   ],
   "source": [
    "# code for Wilcoxon Signed-Rank test\n",
    "from scipy.stats import wilcoxon\n",
    "Drug_A = [2.0, 3.6, 2.6, 2.6, 7.3, 3.4, 14.9, 6.6, 2.3, 2.0, 6.8, 8.5]\n",
    "Drug_B = [3.5, 5.7, 2.9, 2.4, 9.9, 3.3, 16.7, 6.0, 3.8, 4.0, 9.1, 20.9]\n",
    "\n",
    "# perform wilcoxon signed-rank test\n",
    "stat, p_value = wilcoxon(Drug_A, Drug_B)\n",
    "print('Statistics=%.2f, p=%.2f' % (stat, p_value))\n",
    "\n",
    "# Level of significance\n",
    "alpha = 0.05\n",
    "# conclusion\n",
    "if p_value < alpha:\n",
    "    print('Reject Null Hypothesis (Significant difference between two samples)')\n",
    "else:\n",
    "    print('Do not Reject Null Hypothesis (No significant difference between two samples)')"
   ]
  },
  {
   "cell_type": "code",
   "execution_count": null,
   "id": "74aabfc4",
   "metadata": {},
   "outputs": [],
   "source": []
  }
 ],
 "metadata": {
  "colab": {
   "provenance": []
  },
  "kernelspec": {
   "display_name": "Python 3 (ipykernel)",
   "language": "python",
   "name": "python3"
  },
  "language_info": {
   "codemirror_mode": {
    "name": "ipython",
    "version": 3
   },
   "file_extension": ".py",
   "mimetype": "text/x-python",
   "name": "python",
   "nbconvert_exporter": "python",
   "pygments_lexer": "ipython3",
   "version": "3.11.5"
  }
 },
 "nbformat": 4,
 "nbformat_minor": 5
}
