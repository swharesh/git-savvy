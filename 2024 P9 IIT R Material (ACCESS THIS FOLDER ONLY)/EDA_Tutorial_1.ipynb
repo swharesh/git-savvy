{
 "cells": [
  {
   "cell_type": "markdown",
   "id": "ec006a81",
   "metadata": {
    "id": "ec006a81"
   },
   "source": [
    "# Exploratory Data Analysis(EDA)"
   ]
  },
  {
   "cell_type": "markdown",
   "id": "fa2c1f33",
   "metadata": {
    "id": "fa2c1f33"
   },
   "source": [
    "# Introduction "
   ]
  },
  {
   "cell_type": "markdown",
   "id": "827a5927",
   "metadata": {
    "id": "827a5927"
   },
   "source": [
    "Exploratory data analysis is one of the best practices used in data science today. While starting a career in Data Science, people generally don’t know the difference between Data analysis and exploratory data analysis. There is not a very big difference between the two, but both have different purposes."
   ]
  },
  {
   "cell_type": "markdown",
   "id": "e9216f9d",
   "metadata": {
    "id": "e9216f9d"
   },
   "source": [
    "**Exploratory Data Analysis(EDA):** Exploratory data analysis is a complement to inferential statistics, which tends to be fairly rigid with rules and formulas. At an advanced level, EDA involves looking at and describing the data set from different angles and then summarizing it."
   ]
  },
  {
   "cell_type": "markdown",
   "id": "cd0924ba",
   "metadata": {
    "id": "cd0924ba"
   },
   "source": [
    "**Data Analysis:** Data Analysis is the statistics and probability to figure out trends in the data set. It is used to show historical data by using some analytics tools. It helps in drilling down the information, to transform metrics, facts, and figures into initiatives for improvement."
   ]
  },
  {
   "cell_type": "markdown",
   "id": "a6cecb45",
   "metadata": {},
   "source": [
    "What is exploratory analysis, how it is structured and how to apply it in Python with the help of Pandas and other data analysis and visualization libraries"
   ]
  },
  {
   "cell_type": "markdown",
   "id": "1164e3f9",
   "metadata": {},
   "source": [
    "Exploratory data analysis (EDA) is an especially important activity in the routine of a data analyst or scientist.\n",
    "\n",
    "It enables an in depth understanding of the dataset, define or discard hypotheses and create predictive models on a solid basis.\n",
    "\n",
    "It uses data manipulation techniques and several statistical tools to describe and understand the relationship between variables and how these can impact business."
   ]
  },
  {
   "cell_type": "markdown",
   "id": "9d13d6b8",
   "metadata": {},
   "source": [
    "## Useful Pandas Functions for Everyday Data Analysis Tasks\n",
    "#### Introduction\n",
    "Python is one of the most widely used language for Data Analysis and Data Science. Python is easy to learn, has a great online community of learners and instructors, and has some really powerful data-centric libraries. Pandas is one of the most important libraries in Python for Data Analysis, and Data Science."
   ]
  },
  {
   "cell_type": "markdown",
   "id": "7765c05c",
   "metadata": {},
   "source": [
    "This is implemented through the use of the Pandas library — an essential tool for any analyst working with Python."
   ]
  },
  {
   "cell_type": "markdown",
   "id": "7032bc23",
   "metadata": {
    "id": "7032bc23"
   },
   "source": [
    "### Required libraries for EDA\n",
    "Before starting, let’s see what are the fundamental libraries required to carry out the EDA."
   ]
  },
  {
   "cell_type": "markdown",
   "id": "6401f128",
   "metadata": {
    "id": "6401f128"
   },
   "source": [
    "# Importing Libraries"
   ]
  },
  {
   "cell_type": "code",
   "execution_count": 1,
   "id": "a0c33aca",
   "metadata": {
    "id": "a0c33aca"
   },
   "outputs": [],
   "source": [
    "import pandas as pd\n",
    "import numpy as np\n",
    "import matplotlib as mpl\n",
    "import matplotlib.pyplot as plt\n",
    "%matplotlib inline\n",
    "import seaborn as sns\n",
    "import scipy.stats as st\n",
    "from sklearn import ensemble, tree, linear_model\n",
    "import missingno as msno\n",
    "import warnings"
   ]
  },
  {
   "cell_type": "markdown",
   "id": "13a9c034",
   "metadata": {
    "id": "13a9c034"
   },
   "source": [
    "# Loading the data set"
   ]
  },
  {
   "cell_type": "markdown",
   "id": "f5d17e3d",
   "metadata": {
    "id": "f5d17e3d"
   },
   "source": [
    "We will be loading the EDA employees excel file using pandas. For this, we will be using read_csv file."
   ]
  },
  {
   "cell_type": "code",
   "execution_count": 2,
   "id": "0a28a68c",
   "metadata": {
    "id": "0a28a68c",
    "outputId": "d8d3f0c7-5761-4a8a-b2d0-91f52362cf5a"
   },
   "outputs": [
    {
     "data": {
      "text/html": [
       "<div>\n",
       "<style scoped>\n",
       "    .dataframe tbody tr th:only-of-type {\n",
       "        vertical-align: middle;\n",
       "    }\n",
       "\n",
       "    .dataframe tbody tr th {\n",
       "        vertical-align: top;\n",
       "    }\n",
       "\n",
       "    .dataframe thead th {\n",
       "        text-align: right;\n",
       "    }\n",
       "</style>\n",
       "<table border=\"1\" class=\"dataframe\">\n",
       "  <thead>\n",
       "    <tr style=\"text-align: right;\">\n",
       "      <th></th>\n",
       "      <th>First Name</th>\n",
       "      <th>Gender</th>\n",
       "      <th>Start Date</th>\n",
       "      <th>Last Login Time</th>\n",
       "      <th>Salary</th>\n",
       "      <th>Bonus_percentage</th>\n",
       "      <th>Senior Management</th>\n",
       "      <th>Team</th>\n",
       "    </tr>\n",
       "  </thead>\n",
       "  <tbody>\n",
       "    <tr>\n",
       "      <th>0</th>\n",
       "      <td>Douglas</td>\n",
       "      <td>Male</td>\n",
       "      <td>08-06-1993</td>\n",
       "      <td>12:42 PM</td>\n",
       "      <td>97308</td>\n",
       "      <td>6.945</td>\n",
       "      <td>True</td>\n",
       "      <td>Marketing</td>\n",
       "    </tr>\n",
       "    <tr>\n",
       "      <th>1</th>\n",
       "      <td>Thomas</td>\n",
       "      <td>Male</td>\n",
       "      <td>3/31/1996</td>\n",
       "      <td>6:53 AM</td>\n",
       "      <td>61933</td>\n",
       "      <td>4.170</td>\n",
       "      <td>True</td>\n",
       "      <td>NaN</td>\n",
       "    </tr>\n",
       "    <tr>\n",
       "      <th>2</th>\n",
       "      <td>Maria</td>\n",
       "      <td>Female</td>\n",
       "      <td>4/23/1993</td>\n",
       "      <td>11:17 AM</td>\n",
       "      <td>130590</td>\n",
       "      <td>11.858</td>\n",
       "      <td>False</td>\n",
       "      <td>Finance</td>\n",
       "    </tr>\n",
       "    <tr>\n",
       "      <th>3</th>\n",
       "      <td>Jerry</td>\n",
       "      <td>Male</td>\n",
       "      <td>03-04-2005</td>\n",
       "      <td>1:00 PM</td>\n",
       "      <td>138705</td>\n",
       "      <td>9.340</td>\n",
       "      <td>True</td>\n",
       "      <td>Finance</td>\n",
       "    </tr>\n",
       "    <tr>\n",
       "      <th>4</th>\n",
       "      <td>Larry</td>\n",
       "      <td>Male</td>\n",
       "      <td>1/24/1998</td>\n",
       "      <td>4:47 PM</td>\n",
       "      <td>101004</td>\n",
       "      <td>1.389</td>\n",
       "      <td>True</td>\n",
       "      <td>Client Services</td>\n",
       "    </tr>\n",
       "    <tr>\n",
       "      <th>...</th>\n",
       "      <td>...</td>\n",
       "      <td>...</td>\n",
       "      <td>...</td>\n",
       "      <td>...</td>\n",
       "      <td>...</td>\n",
       "      <td>...</td>\n",
       "      <td>...</td>\n",
       "      <td>...</td>\n",
       "    </tr>\n",
       "    <tr>\n",
       "      <th>995</th>\n",
       "      <td>Henry</td>\n",
       "      <td>NaN</td>\n",
       "      <td>11/23/2014</td>\n",
       "      <td>6:09 AM</td>\n",
       "      <td>132483</td>\n",
       "      <td>16.655</td>\n",
       "      <td>False</td>\n",
       "      <td>Distribution</td>\n",
       "    </tr>\n",
       "    <tr>\n",
       "      <th>996</th>\n",
       "      <td>Phillip</td>\n",
       "      <td>Male</td>\n",
       "      <td>1/31/1984</td>\n",
       "      <td>6:30 AM</td>\n",
       "      <td>42392</td>\n",
       "      <td>19.675</td>\n",
       "      <td>False</td>\n",
       "      <td>Finance</td>\n",
       "    </tr>\n",
       "    <tr>\n",
       "      <th>997</th>\n",
       "      <td>Russell</td>\n",
       "      <td>Male</td>\n",
       "      <td>5/20/2013</td>\n",
       "      <td>12:39 PM</td>\n",
       "      <td>96914</td>\n",
       "      <td>1.421</td>\n",
       "      <td>False</td>\n",
       "      <td>Product</td>\n",
       "    </tr>\n",
       "    <tr>\n",
       "      <th>998</th>\n",
       "      <td>Larry</td>\n",
       "      <td>Male</td>\n",
       "      <td>4/20/2013</td>\n",
       "      <td>4:45 PM</td>\n",
       "      <td>60500</td>\n",
       "      <td>11.985</td>\n",
       "      <td>False</td>\n",
       "      <td>Business Development</td>\n",
       "    </tr>\n",
       "    <tr>\n",
       "      <th>999</th>\n",
       "      <td>Albert</td>\n",
       "      <td>Male</td>\n",
       "      <td>5/15/2012</td>\n",
       "      <td>6:24 PM</td>\n",
       "      <td>129949</td>\n",
       "      <td>10.169</td>\n",
       "      <td>True</td>\n",
       "      <td>Sales</td>\n",
       "    </tr>\n",
       "  </tbody>\n",
       "</table>\n",
       "<p>1000 rows × 8 columns</p>\n",
       "</div>"
      ],
      "text/plain": [
       "    First Name  Gender  Start Date Last Login Time  Salary  Bonus_percentage  \\\n",
       "0      Douglas    Male  08-06-1993        12:42 PM   97308             6.945   \n",
       "1       Thomas    Male   3/31/1996         6:53 AM   61933             4.170   \n",
       "2        Maria  Female   4/23/1993        11:17 AM  130590            11.858   \n",
       "3        Jerry    Male  03-04-2005         1:00 PM  138705             9.340   \n",
       "4        Larry    Male   1/24/1998         4:47 PM  101004             1.389   \n",
       "..         ...     ...         ...             ...     ...               ...   \n",
       "995      Henry     NaN  11/23/2014         6:09 AM  132483            16.655   \n",
       "996    Phillip    Male   1/31/1984         6:30 AM   42392            19.675   \n",
       "997    Russell    Male   5/20/2013        12:39 PM   96914             1.421   \n",
       "998      Larry    Male   4/20/2013         4:45 PM   60500            11.985   \n",
       "999     Albert    Male   5/15/2012         6:24 PM  129949            10.169   \n",
       "\n",
       "    Senior Management                  Team  \n",
       "0                True             Marketing  \n",
       "1                True                   NaN  \n",
       "2               False               Finance  \n",
       "3                True               Finance  \n",
       "4                True       Client Services  \n",
       "..                ...                   ...  \n",
       "995             False          Distribution  \n",
       "996             False               Finance  \n",
       "997             False               Product  \n",
       "998             False  Business Development  \n",
       "999              True                 Sales  \n",
       "\n",
       "[1000 rows x 8 columns]"
      ]
     },
     "execution_count": 2,
     "metadata": {},
     "output_type": "execute_result"
    }
   ],
   "source": [
    "#Importing csv files\n",
    "df = pd.read_csv(\"employees .csv\")\n",
    "df"
   ]
  },
  {
   "cell_type": "markdown",
   "id": "bee79142",
   "metadata": {
    "id": "bee79142"
   },
   "source": [
    "# Basic Data Exploration"
   ]
  },
  {
   "cell_type": "markdown",
   "id": "38c16632",
   "metadata": {
    "id": "38c16632"
   },
   "source": [
    "In this step, we will perform the below operations to check what the data set comprises of. We will check the below things:"
   ]
  },
  {
   "cell_type": "markdown",
   "id": "779e2b48",
   "metadata": {
    "id": "779e2b48"
   },
   "source": [
    "- head of the dataset \n",
    "- the shape of the dataset\n",
    "- info of the dataset\n",
    "- summary of the dataset, etc."
   ]
  },
  {
   "cell_type": "markdown",
   "id": "e11c016c",
   "metadata": {
    "id": "e11c016c"
   },
   "source": [
    "1. The head function will tell you the top records in the data set. By default, python shows you only the top 5 records.\n",
    "2. The shape attribute tells us a number of observations and variables we have in the data set. It is used to check the dimension of data. "
   ]
  },
  {
   "cell_type": "markdown",
   "id": "f0aef892",
   "metadata": {
    "id": "f0aef892"
   },
   "source": [
    "**df.head():** it shows the first 5 rows of the DataFrame. "
   ]
  },
  {
   "cell_type": "code",
   "execution_count": 3,
   "id": "02c3ddec",
   "metadata": {
    "id": "02c3ddec",
    "outputId": "df5660f5-7438-4d2f-8079-3f590fb70b56"
   },
   "outputs": [
    {
     "data": {
      "text/html": [
       "<div>\n",
       "<style scoped>\n",
       "    .dataframe tbody tr th:only-of-type {\n",
       "        vertical-align: middle;\n",
       "    }\n",
       "\n",
       "    .dataframe tbody tr th {\n",
       "        vertical-align: top;\n",
       "    }\n",
       "\n",
       "    .dataframe thead th {\n",
       "        text-align: right;\n",
       "    }\n",
       "</style>\n",
       "<table border=\"1\" class=\"dataframe\">\n",
       "  <thead>\n",
       "    <tr style=\"text-align: right;\">\n",
       "      <th></th>\n",
       "      <th>First Name</th>\n",
       "      <th>Gender</th>\n",
       "      <th>Start Date</th>\n",
       "      <th>Last Login Time</th>\n",
       "      <th>Salary</th>\n",
       "      <th>Bonus_percentage</th>\n",
       "      <th>Senior Management</th>\n",
       "      <th>Team</th>\n",
       "    </tr>\n",
       "  </thead>\n",
       "  <tbody>\n",
       "    <tr>\n",
       "      <th>0</th>\n",
       "      <td>Douglas</td>\n",
       "      <td>Male</td>\n",
       "      <td>08-06-1993</td>\n",
       "      <td>12:42 PM</td>\n",
       "      <td>97308</td>\n",
       "      <td>6.945</td>\n",
       "      <td>True</td>\n",
       "      <td>Marketing</td>\n",
       "    </tr>\n",
       "    <tr>\n",
       "      <th>1</th>\n",
       "      <td>Thomas</td>\n",
       "      <td>Male</td>\n",
       "      <td>3/31/1996</td>\n",
       "      <td>6:53 AM</td>\n",
       "      <td>61933</td>\n",
       "      <td>4.170</td>\n",
       "      <td>True</td>\n",
       "      <td>NaN</td>\n",
       "    </tr>\n",
       "    <tr>\n",
       "      <th>2</th>\n",
       "      <td>Maria</td>\n",
       "      <td>Female</td>\n",
       "      <td>4/23/1993</td>\n",
       "      <td>11:17 AM</td>\n",
       "      <td>130590</td>\n",
       "      <td>11.858</td>\n",
       "      <td>False</td>\n",
       "      <td>Finance</td>\n",
       "    </tr>\n",
       "    <tr>\n",
       "      <th>3</th>\n",
       "      <td>Jerry</td>\n",
       "      <td>Male</td>\n",
       "      <td>03-04-2005</td>\n",
       "      <td>1:00 PM</td>\n",
       "      <td>138705</td>\n",
       "      <td>9.340</td>\n",
       "      <td>True</td>\n",
       "      <td>Finance</td>\n",
       "    </tr>\n",
       "    <tr>\n",
       "      <th>4</th>\n",
       "      <td>Larry</td>\n",
       "      <td>Male</td>\n",
       "      <td>1/24/1998</td>\n",
       "      <td>4:47 PM</td>\n",
       "      <td>101004</td>\n",
       "      <td>1.389</td>\n",
       "      <td>True</td>\n",
       "      <td>Client Services</td>\n",
       "    </tr>\n",
       "  </tbody>\n",
       "</table>\n",
       "</div>"
      ],
      "text/plain": [
       "  First Name  Gender  Start Date Last Login Time  Salary  Bonus_percentage  \\\n",
       "0    Douglas    Male  08-06-1993        12:42 PM   97308             6.945   \n",
       "1     Thomas    Male   3/31/1996         6:53 AM   61933             4.170   \n",
       "2      Maria  Female   4/23/1993        11:17 AM  130590            11.858   \n",
       "3      Jerry    Male  03-04-2005         1:00 PM  138705             9.340   \n",
       "4      Larry    Male   1/24/1998         4:47 PM  101004             1.389   \n",
       "\n",
       "  Senior Management             Team  \n",
       "0              True        Marketing  \n",
       "1              True              NaN  \n",
       "2             False          Finance  \n",
       "3              True          Finance  \n",
       "4              True  Client Services  "
      ]
     },
     "execution_count": 3,
     "metadata": {},
     "output_type": "execute_result"
    }
   ],
   "source": [
    "df.head()"
   ]
  },
  {
   "cell_type": "markdown",
   "id": "6f84ce5f",
   "metadata": {
    "id": "6f84ce5f"
   },
   "source": [
    "**df.tail()**: it shows last 5 rows of the dataframe."
   ]
  },
  {
   "cell_type": "code",
   "execution_count": 4,
   "id": "0754d036",
   "metadata": {
    "id": "0754d036",
    "outputId": "c24a7d73-d472-4e3a-c9f4-cc1fb74c7702"
   },
   "outputs": [
    {
     "data": {
      "text/html": [
       "<div>\n",
       "<style scoped>\n",
       "    .dataframe tbody tr th:only-of-type {\n",
       "        vertical-align: middle;\n",
       "    }\n",
       "\n",
       "    .dataframe tbody tr th {\n",
       "        vertical-align: top;\n",
       "    }\n",
       "\n",
       "    .dataframe thead th {\n",
       "        text-align: right;\n",
       "    }\n",
       "</style>\n",
       "<table border=\"1\" class=\"dataframe\">\n",
       "  <thead>\n",
       "    <tr style=\"text-align: right;\">\n",
       "      <th></th>\n",
       "      <th>First Name</th>\n",
       "      <th>Gender</th>\n",
       "      <th>Start Date</th>\n",
       "      <th>Last Login Time</th>\n",
       "      <th>Salary</th>\n",
       "      <th>Bonus_percentage</th>\n",
       "      <th>Senior Management</th>\n",
       "      <th>Team</th>\n",
       "    </tr>\n",
       "  </thead>\n",
       "  <tbody>\n",
       "    <tr>\n",
       "      <th>995</th>\n",
       "      <td>Henry</td>\n",
       "      <td>NaN</td>\n",
       "      <td>11/23/2014</td>\n",
       "      <td>6:09 AM</td>\n",
       "      <td>132483</td>\n",
       "      <td>16.655</td>\n",
       "      <td>False</td>\n",
       "      <td>Distribution</td>\n",
       "    </tr>\n",
       "    <tr>\n",
       "      <th>996</th>\n",
       "      <td>Phillip</td>\n",
       "      <td>Male</td>\n",
       "      <td>1/31/1984</td>\n",
       "      <td>6:30 AM</td>\n",
       "      <td>42392</td>\n",
       "      <td>19.675</td>\n",
       "      <td>False</td>\n",
       "      <td>Finance</td>\n",
       "    </tr>\n",
       "    <tr>\n",
       "      <th>997</th>\n",
       "      <td>Russell</td>\n",
       "      <td>Male</td>\n",
       "      <td>5/20/2013</td>\n",
       "      <td>12:39 PM</td>\n",
       "      <td>96914</td>\n",
       "      <td>1.421</td>\n",
       "      <td>False</td>\n",
       "      <td>Product</td>\n",
       "    </tr>\n",
       "    <tr>\n",
       "      <th>998</th>\n",
       "      <td>Larry</td>\n",
       "      <td>Male</td>\n",
       "      <td>4/20/2013</td>\n",
       "      <td>4:45 PM</td>\n",
       "      <td>60500</td>\n",
       "      <td>11.985</td>\n",
       "      <td>False</td>\n",
       "      <td>Business Development</td>\n",
       "    </tr>\n",
       "    <tr>\n",
       "      <th>999</th>\n",
       "      <td>Albert</td>\n",
       "      <td>Male</td>\n",
       "      <td>5/15/2012</td>\n",
       "      <td>6:24 PM</td>\n",
       "      <td>129949</td>\n",
       "      <td>10.169</td>\n",
       "      <td>True</td>\n",
       "      <td>Sales</td>\n",
       "    </tr>\n",
       "  </tbody>\n",
       "</table>\n",
       "</div>"
      ],
      "text/plain": [
       "    First Name Gender  Start Date Last Login Time  Salary  Bonus_percentage  \\\n",
       "995      Henry    NaN  11/23/2014         6:09 AM  132483            16.655   \n",
       "996    Phillip   Male   1/31/1984         6:30 AM   42392            19.675   \n",
       "997    Russell   Male   5/20/2013        12:39 PM   96914             1.421   \n",
       "998      Larry   Male   4/20/2013         4:45 PM   60500            11.985   \n",
       "999     Albert   Male   5/15/2012         6:24 PM  129949            10.169   \n",
       "\n",
       "    Senior Management                  Team  \n",
       "995             False          Distribution  \n",
       "996             False               Finance  \n",
       "997             False               Product  \n",
       "998             False  Business Development  \n",
       "999              True                 Sales  "
      ]
     },
     "execution_count": 4,
     "metadata": {},
     "output_type": "execute_result"
    }
   ],
   "source": [
    "df.tail()"
   ]
  },
  {
   "cell_type": "markdown",
   "id": "65e3c736",
   "metadata": {},
   "source": [
    "### Checking the types of data:\n",
    "Here we check for the datatypes"
   ]
  },
  {
   "cell_type": "code",
   "execution_count": 5,
   "id": "2576205c",
   "metadata": {},
   "outputs": [
    {
     "data": {
      "text/plain": [
       "First Name            object\n",
       "Gender                object\n",
       "Start Date            object\n",
       "Last Login Time       object\n",
       "Salary                 int64\n",
       "Bonus_percentage     float64\n",
       "Senior Management     object\n",
       "Team                  object\n",
       "dtype: object"
      ]
     },
     "execution_count": 5,
     "metadata": {},
     "output_type": "execute_result"
    }
   ],
   "source": [
    "df.dtypes"
   ]
  },
  {
   "cell_type": "markdown",
   "id": "ea87d3c2",
   "metadata": {
    "id": "ea87d3c2"
   },
   "source": [
    "**df.columns:**  it can be hard to see all the columns. "
   ]
  },
  {
   "cell_type": "code",
   "execution_count": 6,
   "id": "8e9af9e9",
   "metadata": {
    "id": "8e9af9e9",
    "outputId": "77b79d35-53ee-4180-b284-9f17042ebc95"
   },
   "outputs": [
    {
     "data": {
      "text/plain": [
       "Index(['First Name', 'Gender', 'Start Date', 'Last Login Time', 'Salary',\n",
       "       'Bonus_percentage', 'Senior Management', 'Team'],\n",
       "      dtype='object')"
      ]
     },
     "execution_count": 6,
     "metadata": {},
     "output_type": "execute_result"
    }
   ],
   "source": [
    "df.columns"
   ]
  },
  {
   "cell_type": "markdown",
   "id": "0b974e38",
   "metadata": {
    "id": "0b974e38"
   },
   "source": [
    "**df.drop():** This is often a handy thing to do because a huge data set as in this case contains more than 10, 000 rows often have some duplicate data which might be disturbing, so here I remove all the duplicate value from the data-set. . Drop some unnecessary columns using df.drop(). "
   ]
  },
  {
   "cell_type": "code",
   "execution_count": 7,
   "id": "c8635f33",
   "metadata": {
    "id": "c8635f33",
    "outputId": "28fd2b07-0e84-4d3d-a213-13ba7119da38"
   },
   "outputs": [
    {
     "name": "stdout",
     "output_type": "stream",
     "text": [
      "None\n"
     ]
    }
   ],
   "source": [
    "n= df.drop_duplicates(inplace=True)\n",
    "print(n)"
   ]
  },
  {
   "cell_type": "code",
   "execution_count": 8,
   "id": "e982d41e",
   "metadata": {
    "id": "e982d41e",
    "outputId": "2eb0467a-e8cf-48ea-d7b5-a30b4ff62e01"
   },
   "outputs": [
    {
     "data": {
      "text/plain": [
       "(1000, 8)"
      ]
     },
     "execution_count": 8,
     "metadata": {},
     "output_type": "execute_result"
    }
   ],
   "source": [
    "df.shape"
   ]
  },
  {
   "cell_type": "markdown",
   "id": "c1657f58",
   "metadata": {
    "id": "c1657f58"
   },
   "source": [
    "**.info() is used to check the Information about the data and the datatypes of each respective attribute.**"
   ]
  },
  {
   "cell_type": "code",
   "execution_count": 9,
   "id": "6d6e0e52",
   "metadata": {
    "id": "6d6e0e52",
    "outputId": "9fd584bb-32cd-474d-b575-4cb904a7de63"
   },
   "outputs": [
    {
     "name": "stdout",
     "output_type": "stream",
     "text": [
      "<class 'pandas.core.frame.DataFrame'>\n",
      "Int64Index: 1000 entries, 0 to 999\n",
      "Data columns (total 8 columns):\n",
      " #   Column             Non-Null Count  Dtype  \n",
      "---  ------             --------------  -----  \n",
      " 0   First Name         933 non-null    object \n",
      " 1   Gender             855 non-null    object \n",
      " 2   Start Date         1000 non-null   object \n",
      " 3   Last Login Time    1000 non-null   object \n",
      " 4   Salary             1000 non-null   int64  \n",
      " 5   Bonus_percentage   1000 non-null   float64\n",
      " 6   Senior Management  933 non-null    object \n",
      " 7   Team               957 non-null    object \n",
      "dtypes: float64(1), int64(1), object(6)\n",
      "memory usage: 70.3+ KB\n"
     ]
    }
   ],
   "source": [
    "df.info()"
   ]
  },
  {
   "cell_type": "markdown",
   "id": "ebefd7e7",
   "metadata": {
    "id": "ebefd7e7"
   },
   "source": [
    "**len():**Provides with the length of the DataFrame."
   ]
  },
  {
   "cell_type": "code",
   "execution_count": 10,
   "id": "dc86a73d",
   "metadata": {
    "id": "dc86a73d",
    "outputId": "acdcdb59-d401-4169-e50a-c8aaa858cd41"
   },
   "outputs": [
    {
     "data": {
      "text/plain": [
       "1000"
      ]
     },
     "execution_count": 10,
     "metadata": {},
     "output_type": "execute_result"
    }
   ],
   "source": [
    "len(df)"
   ]
  },
  {
   "cell_type": "markdown",
   "id": "47ee51b3",
   "metadata": {
    "id": "47ee51b3"
   },
   "source": [
    "##### This DataFrame has 1000 rows of data."
   ]
  },
  {
   "cell_type": "markdown",
   "id": "47be61d2",
   "metadata": {
    "id": "47be61d2"
   },
   "source": [
    "**df.iloc():** This function takes as a parameter the rows and column indices and gives you the subset of the DataFrame accordingly. Here I am taking the first 8 rows of data and index 4th to index 8th columns:"
   ]
  },
  {
   "cell_type": "code",
   "execution_count": 11,
   "id": "382cf77b",
   "metadata": {
    "id": "382cf77b",
    "outputId": "51583ae4-8dea-423a-eb6c-119b169a67ec"
   },
   "outputs": [
    {
     "data": {
      "text/html": [
       "<div>\n",
       "<style scoped>\n",
       "    .dataframe tbody tr th:only-of-type {\n",
       "        vertical-align: middle;\n",
       "    }\n",
       "\n",
       "    .dataframe tbody tr th {\n",
       "        vertical-align: top;\n",
       "    }\n",
       "\n",
       "    .dataframe thead th {\n",
       "        text-align: right;\n",
       "    }\n",
       "</style>\n",
       "<table border=\"1\" class=\"dataframe\">\n",
       "  <thead>\n",
       "    <tr style=\"text-align: right;\">\n",
       "      <th></th>\n",
       "      <th>Salary</th>\n",
       "      <th>Bonus_percentage</th>\n",
       "      <th>Senior Management</th>\n",
       "      <th>Team</th>\n",
       "    </tr>\n",
       "  </thead>\n",
       "  <tbody>\n",
       "    <tr>\n",
       "      <th>0</th>\n",
       "      <td>97308</td>\n",
       "      <td>6.945</td>\n",
       "      <td>True</td>\n",
       "      <td>Marketing</td>\n",
       "    </tr>\n",
       "    <tr>\n",
       "      <th>1</th>\n",
       "      <td>61933</td>\n",
       "      <td>4.170</td>\n",
       "      <td>True</td>\n",
       "      <td>NaN</td>\n",
       "    </tr>\n",
       "    <tr>\n",
       "      <th>2</th>\n",
       "      <td>130590</td>\n",
       "      <td>11.858</td>\n",
       "      <td>False</td>\n",
       "      <td>Finance</td>\n",
       "    </tr>\n",
       "    <tr>\n",
       "      <th>3</th>\n",
       "      <td>138705</td>\n",
       "      <td>9.340</td>\n",
       "      <td>True</td>\n",
       "      <td>Finance</td>\n",
       "    </tr>\n",
       "    <tr>\n",
       "      <th>4</th>\n",
       "      <td>101004</td>\n",
       "      <td>1.389</td>\n",
       "      <td>True</td>\n",
       "      <td>Client Services</td>\n",
       "    </tr>\n",
       "    <tr>\n",
       "      <th>5</th>\n",
       "      <td>115163</td>\n",
       "      <td>10.125</td>\n",
       "      <td>False</td>\n",
       "      <td>Legal</td>\n",
       "    </tr>\n",
       "    <tr>\n",
       "      <th>6</th>\n",
       "      <td>65476</td>\n",
       "      <td>10.012</td>\n",
       "      <td>True</td>\n",
       "      <td>Product</td>\n",
       "    </tr>\n",
       "    <tr>\n",
       "      <th>7</th>\n",
       "      <td>45906</td>\n",
       "      <td>11.598</td>\n",
       "      <td>NaN</td>\n",
       "      <td>Finance</td>\n",
       "    </tr>\n",
       "  </tbody>\n",
       "</table>\n",
       "</div>"
      ],
      "text/plain": [
       "   Salary  Bonus_percentage Senior Management             Team\n",
       "0   97308             6.945              True        Marketing\n",
       "1   61933             4.170              True              NaN\n",
       "2  130590            11.858             False          Finance\n",
       "3  138705             9.340              True          Finance\n",
       "4  101004             1.389              True  Client Services\n",
       "5  115163            10.125             False            Legal\n",
       "6   65476            10.012              True          Product\n",
       "7   45906            11.598               NaN          Finance"
      ]
     },
     "execution_count": 11,
     "metadata": {},
     "output_type": "execute_result"
    }
   ],
   "source": [
    "df.iloc[:8, 4:8]"
   ]
  },
  {
   "cell_type": "markdown",
   "id": "b086e558",
   "metadata": {
    "id": "b086e558"
   },
   "source": [
    "**df.loc():** This function does almost the similar operation as .iloc() function. But here we can specify exactly which row index we want and also the name of the columns we want in our subset. Here is an example:"
   ]
  },
  {
   "cell_type": "code",
   "execution_count": 12,
   "id": "3b4ff893",
   "metadata": {
    "id": "3b4ff893",
    "outputId": "c6bc3493-91d1-4f5f-977d-7f35f4d8da3e"
   },
   "outputs": [
    {
     "data": {
      "text/html": [
       "<div>\n",
       "<style scoped>\n",
       "    .dataframe tbody tr th:only-of-type {\n",
       "        vertical-align: middle;\n",
       "    }\n",
       "\n",
       "    .dataframe tbody tr th {\n",
       "        vertical-align: top;\n",
       "    }\n",
       "\n",
       "    .dataframe thead th {\n",
       "        text-align: right;\n",
       "    }\n",
       "</style>\n",
       "<table border=\"1\" class=\"dataframe\">\n",
       "  <thead>\n",
       "    <tr style=\"text-align: right;\">\n",
       "      <th></th>\n",
       "      <th>Team</th>\n",
       "      <th>Salary</th>\n",
       "      <th>Senior Management</th>\n",
       "    </tr>\n",
       "  </thead>\n",
       "  <tbody>\n",
       "    <tr>\n",
       "      <th>3</th>\n",
       "      <td>Finance</td>\n",
       "      <td>138705</td>\n",
       "      <td>True</td>\n",
       "    </tr>\n",
       "    <tr>\n",
       "      <th>4</th>\n",
       "      <td>Client Services</td>\n",
       "      <td>101004</td>\n",
       "      <td>True</td>\n",
       "    </tr>\n",
       "    <tr>\n",
       "      <th>8</th>\n",
       "      <td>Engineering</td>\n",
       "      <td>95570</td>\n",
       "      <td>True</td>\n",
       "    </tr>\n",
       "    <tr>\n",
       "      <th>6</th>\n",
       "      <td>Product</td>\n",
       "      <td>65476</td>\n",
       "      <td>True</td>\n",
       "    </tr>\n",
       "  </tbody>\n",
       "</table>\n",
       "</div>"
      ],
      "text/plain": [
       "              Team  Salary Senior Management\n",
       "3          Finance  138705              True\n",
       "4  Client Services  101004              True\n",
       "8      Engineering   95570              True\n",
       "6          Product   65476              True"
      ]
     },
     "execution_count": 12,
     "metadata": {},
     "output_type": "execute_result"
    }
   ],
   "source": [
    "df.loc[[3, 4, 8, 6], ['Team', 'Salary', \"Senior Management\"]]"
   ]
  },
  {
   "cell_type": "markdown",
   "id": "b16ec153",
   "metadata": {
    "id": "b16ec153"
   },
   "source": [
    "Look at the row indices. We only have the 3rd, 4th, 8th, and 6rd rows. On the other hand, for columns, we only have the specified columns."
   ]
  },
  {
   "cell_type": "markdown",
   "id": "ee5c4487",
   "metadata": {
    "id": "ee5c4487"
   },
   "source": [
    "**memory_usage():** memory_usage() returns a Pandas Series having the memory usage of each column (in bytes) in a Pandas DataFrame. By specifying the deep attribute as True, we can get to know the actual space being taken by each column."
   ]
  },
  {
   "cell_type": "code",
   "execution_count": 13,
   "id": "29218813",
   "metadata": {
    "id": "29218813",
    "outputId": "9d1067d6-d32e-4eb5-b2ea-829ff09a3ca2"
   },
   "outputs": [
    {
     "data": {
      "text/plain": [
       "Index                41064\n",
       "First Name           60716\n",
       "Gender               57657\n",
       "Start Date           66538\n",
       "Last Login Time      64239\n",
       "Salary                8000\n",
       "Bonus_percentage      8000\n",
       "Senior Management    33872\n",
       "Team                 66163\n",
       "dtype: int64"
      ]
     },
     "execution_count": 13,
     "metadata": {},
     "output_type": "execute_result"
    }
   ],
   "source": [
    "df.memory_usage(deep=True)"
   ]
  },
  {
   "cell_type": "markdown",
   "id": "3a746c73",
   "metadata": {
    "id": "3a746c73"
   },
   "source": [
    "The memory usage of each column has been given as output in a Pandas Series. It is important to know the memory usage of a DataFrame, so that you can tackle errors like MemoryError in Python."
   ]
  },
  {
   "cell_type": "markdown",
   "id": "a700379b",
   "metadata": {
    "id": "a700379b"
   },
   "source": [
    "**astype:** astype() is used to cast a Python object to a particular data type. It can be a very helpful function in case your data is not stored in the correct format (data type). "
   ]
  },
  {
   "cell_type": "code",
   "execution_count": 50,
   "id": "f003669a",
   "metadata": {
    "id": "f003669a"
   },
   "outputs": [
    {
     "name": "stderr",
     "output_type": "stream",
     "text": [
      "C:\\Users\\USER\\AppData\\Local\\Temp/ipykernel_17344/2938697414.py:1: SettingWithCopyWarning: \n",
      "A value is trying to be set on a copy of a slice from a DataFrame.\n",
      "Try using .loc[row_indexer,col_indexer] = value instead\n",
      "\n",
      "See the caveats in the documentation: https://pandas.pydata.org/pandas-docs/stable/user_guide/indexing.html#returning-a-view-versus-a-copy\n",
      "  df['Gender'] = df.Gender.astype('category')\n"
     ]
    },
    {
     "data": {
      "text/plain": [
       "0           Male\n",
       "2         Female\n",
       "3           Male\n",
       "4           Male\n",
       "5           Male\n",
       "         ...    \n",
       "995    No Gender\n",
       "996         Male\n",
       "997         Male\n",
       "998         Male\n",
       "999         Male\n",
       "Name: Gender, Length: 899, dtype: category\n",
       "Categories (3, object): ['Female', 'Male', 'No Gender']"
      ]
     },
     "execution_count": 50,
     "metadata": {},
     "output_type": "execute_result"
    }
   ],
   "source": [
    "df['Gender'] = df.Gender.astype('category')\n",
    "df['Gender']"
   ]
  },
  {
   "cell_type": "markdown",
   "id": "53b8ad95",
   "metadata": {
    "id": "53b8ad95"
   },
   "source": [
    "**value_counts():** value_counts() returns a Pandas Series containing the counts of unique values. "
   ]
  },
  {
   "cell_type": "code",
   "execution_count": 15,
   "id": "c9bb5d9a",
   "metadata": {
    "id": "c9bb5d9a",
    "outputId": "9adbc939-717c-485a-936b-6c447d6281e9"
   },
   "outputs": [
    {
     "data": {
      "text/plain": [
       "Client Services         106\n",
       "Finance                 102\n",
       "Business Development    101\n",
       "Marketing                98\n",
       "Product                  95\n",
       "Sales                    94\n",
       "Engineering              92\n",
       "Human Resources          91\n",
       "Distribution             90\n",
       "Legal                    88\n",
       "Name: Team, dtype: int64"
      ]
     },
     "execution_count": 15,
     "metadata": {},
     "output_type": "execute_result"
    }
   ],
   "source": [
    "df['Team'].value_counts()"
   ]
  },
  {
   "cell_type": "markdown",
   "id": "3ff50bad",
   "metadata": {
    "id": "3ff50bad"
   },
   "source": [
    "**groupby():** groupby() is used to group a Pandas DataFrame by 1 or more columns, and perform some mathematical operation on it. groupby() can be used to summarize data in a simple manner."
   ]
  },
  {
   "cell_type": "code",
   "execution_count": 16,
   "id": "b3fc411d",
   "metadata": {
    "id": "b3fc411d",
    "outputId": "25466b6c-cc13-444a-b468-9de747494c7e"
   },
   "outputs": [
    {
     "data": {
      "text/plain": [
       "Team\n",
       "Business Development    91866.316832\n",
       "Client Services         88224.424528\n",
       "Distribution            88500.466667\n",
       "Engineering             94269.195652\n",
       "Finance                 92219.480392\n",
       "Human Resources         90944.527473\n",
       "Legal                   89303.613636\n",
       "Marketing               90435.591837\n",
       "Product                 88665.505263\n",
       "Sales                   92173.436170\n",
       "Name: Salary, dtype: float64"
      ]
     },
     "execution_count": 16,
     "metadata": {},
     "output_type": "execute_result"
    }
   ],
   "source": [
    "df.groupby(by='Team').Salary.mean()"
   ]
  },
  {
   "cell_type": "markdown",
   "id": "fafb1bd8",
   "metadata": {
    "id": "fafb1bd8"
   },
   "source": [
    "**Unique():** This is very useful where we have categorical variables. It is used to find out the unique values of a categorical column."
   ]
  },
  {
   "cell_type": "code",
   "execution_count": 17,
   "id": "064ea4c0",
   "metadata": {
    "id": "064ea4c0",
    "outputId": "de2ab0bc-3ef2-4fe7-ca06-c48cc186bd0e"
   },
   "outputs": [
    {
     "data": {
      "text/plain": [
       "array(['Marketing', nan, 'Finance', 'Client Services', 'Legal', 'Product',\n",
       "       'Engineering', 'Business Development', 'Human Resources', 'Sales',\n",
       "       'Distribution'], dtype=object)"
      ]
     },
     "execution_count": 17,
     "metadata": {},
     "output_type": "execute_result"
    }
   ],
   "source": [
    "df.Team.unique()"
   ]
  },
  {
   "cell_type": "markdown",
   "id": "7c0b252b",
   "metadata": {
    "id": "7c0b252b"
   },
   "source": [
    "**nunique():** This function lets you know how many unique values do you have in a column. "
   ]
  },
  {
   "cell_type": "code",
   "execution_count": 18,
   "id": "47738983",
   "metadata": {
    "id": "47738983",
    "outputId": "2e9e7b6f-29f7-4f7b-fbbd-94a04f62de7f"
   },
   "outputs": [
    {
     "data": {
      "text/plain": [
       "10"
      ]
     },
     "execution_count": 18,
     "metadata": {},
     "output_type": "execute_result"
    }
   ],
   "source": [
    "df.Team.nunique()"
   ]
  },
  {
   "cell_type": "markdown",
   "id": "4eb96b33",
   "metadata": {
    "id": "4eb96b33"
   },
   "source": [
    "**The great thing is, this function can be used on the total dataset as well to know the number of unique values in each column:**"
   ]
  },
  {
   "cell_type": "code",
   "execution_count": 19,
   "id": "f34fb4c2",
   "metadata": {
    "id": "f34fb4c2",
    "outputId": "fabe7a67-eabd-45cc-f703-52de1d30b6d1"
   },
   "outputs": [
    {
     "data": {
      "text/plain": [
       "First Name           200\n",
       "Gender                 2\n",
       "Start Date           972\n",
       "Last Login Time      720\n",
       "Salary               995\n",
       "Bonus_percentage     971\n",
       "Senior Management      2\n",
       "Team                  10\n",
       "dtype: int64"
      ]
     },
     "execution_count": 19,
     "metadata": {},
     "output_type": "execute_result"
    }
   ],
   "source": [
    "df.nunique()"
   ]
  },
  {
   "cell_type": "markdown",
   "id": "83f71c76",
   "metadata": {
    "id": "83f71c76"
   },
   "source": [
    "**pd.qcut():** This function bins the data or segments the data based on the distribution of the data. So, we get the range for each player."
   ]
  },
  {
   "cell_type": "code",
   "execution_count": 20,
   "id": "aa49c704",
   "metadata": {
    "id": "aa49c704",
    "outputId": "537e118e-d499-4837-8d2e-bd05534b704a"
   },
   "outputs": [
    {
     "data": {
      "text/plain": [
       "0       (79710.4, 100971.0]\n",
       "1        (57298.4, 79710.4]\n",
       "2      (123972.0, 149908.0]\n",
       "3      (123972.0, 149908.0]\n",
       "4      (100971.0, 123972.0]\n",
       "               ...         \n",
       "995    (123972.0, 149908.0]\n",
       "996    (35012.999, 57298.4]\n",
       "997     (79710.4, 100971.0]\n",
       "998      (57298.4, 79710.4]\n",
       "999    (123972.0, 149908.0]\n",
       "Name: Salary, Length: 1000, dtype: category\n",
       "Categories (5, interval[float64, right]): [(35012.999, 57298.4] < (57298.4, 79710.4] < (79710.4, 100971.0] < (100971.0, 123972.0] < (123972.0, 149908.0]]"
      ]
     },
     "execution_count": 20,
     "metadata": {},
     "output_type": "execute_result"
    }
   ],
   "source": [
    "pd.qcut(df['Salary'], q = 5)"
   ]
  },
  {
   "cell_type": "markdown",
   "id": "0a386a0a",
   "metadata": {
    "id": "0a386a0a"
   },
   "source": [
    "Use the value_counts on the above line of code:"
   ]
  },
  {
   "cell_type": "code",
   "execution_count": 21,
   "id": "7561d999",
   "metadata": {
    "id": "7561d999",
    "outputId": "6dfd1fcf-0f8b-46b4-dca3-b486d6cca7f4"
   },
   "outputs": [
    {
     "data": {
      "text/plain": [
       "(35012.999, 57298.4]    200\n",
       "(57298.4, 79710.4]      200\n",
       "(79710.4, 100971.0]     200\n",
       "(100971.0, 123972.0]    200\n",
       "(123972.0, 149908.0]    200\n",
       "Name: Salary, dtype: int64"
      ]
     },
     "execution_count": 21,
     "metadata": {},
     "output_type": "execute_result"
    }
   ],
   "source": [
    "pd.qcut(df['Salary'], q = 5).value_counts()"
   ]
  },
  {
   "cell_type": "markdown",
   "id": "e4acf92b",
   "metadata": {
    "id": "e4acf92b"
   },
   "source": [
    "**pd.cut():**  If we want to make 5 bins using cut, it will divide the entire 'Salary' range into equal five portions and the population in each bin will follow accordingly."
   ]
  },
  {
   "cell_type": "code",
   "execution_count": 22,
   "id": "66e9c3c6",
   "metadata": {
    "id": "66e9c3c6",
    "outputId": "3c816d29-7586-4bc0-bb0e-1c4cb4ef8132"
   },
   "outputs": [
    {
     "data": {
      "text/plain": [
       "(80971.0, 103950.0]     220\n",
       "(34898.105, 57992.0]    207\n",
       "(57992.0, 80971.0]      201\n",
       "(103950.0, 126929.0]    197\n",
       "(126929.0, 149908.0]    175\n",
       "Name: Salary, dtype: int64"
      ]
     },
     "execution_count": 22,
     "metadata": {},
     "output_type": "execute_result"
    }
   ],
   "source": [
    "pd.cut(df['Salary'], bins = 5).value_counts()"
   ]
  },
  {
   "cell_type": "markdown",
   "id": "f2793e14",
   "metadata": {
    "id": "f2793e14"
   },
   "source": [
    "**to_datetime():** converts a Python object to datetime format. It can take an integer, floating point number, list, Pandas Series, or Pandas DataFrame as argument."
   ]
  },
  {
   "cell_type": "code",
   "execution_count": 23,
   "id": "441ab5f9",
   "metadata": {
    "id": "441ab5f9",
    "outputId": "50dd8c6d-542a-40ae-87c8-6357e4598f36"
   },
   "outputs": [
    {
     "data": {
      "text/plain": [
       "0     1993-08-06\n",
       "1     1996-03-31\n",
       "2     1993-04-23\n",
       "3     2005-03-04\n",
       "4     1998-01-24\n",
       "         ...    \n",
       "995   2014-11-23\n",
       "996   1984-01-31\n",
       "997   2013-05-20\n",
       "998   2013-04-20\n",
       "999   2012-05-15\n",
       "Name: Start Date, Length: 1000, dtype: datetime64[ns]"
      ]
     },
     "execution_count": 23,
     "metadata": {},
     "output_type": "execute_result"
    }
   ],
   "source": [
    "df['Start Date'] = pd.to_datetime(df['Start Date'])\n",
    "df['Start Date'] "
   ]
  },
  {
   "cell_type": "markdown",
   "id": "d4d0249d",
   "metadata": {
    "id": "d4d0249d"
   },
   "source": [
    "**df.rename():** Is used to rename the columns in the dataset"
   ]
  },
  {
   "cell_type": "code",
   "execution_count": 24,
   "id": "48ead4aa",
   "metadata": {
    "id": "48ead4aa"
   },
   "outputs": [],
   "source": [
    "df=df.rename(columns = {\"Bonus %\": \"Bonus_percentage\", \"Senior Management\":\"Senior_management\"})"
   ]
  },
  {
   "cell_type": "markdown",
   "id": "ce1235a2",
   "metadata": {
    "id": "ce1235a2"
   },
   "source": [
    "**df.query():**  Filter or query using a boolean expression."
   ]
  },
  {
   "cell_type": "markdown",
   "id": "cf9293b1",
   "metadata": {
    "id": "cf9293b1"
   },
   "source": [
    "**Single Query** "
   ]
  },
  {
   "cell_type": "code",
   "execution_count": 25,
   "id": "9da5b28f",
   "metadata": {
    "id": "9da5b28f",
    "outputId": "4141952b-a270-467d-df7c-1a3c3c431615"
   },
   "outputs": [
    {
     "data": {
      "text/html": [
       "<div>\n",
       "<style scoped>\n",
       "    .dataframe tbody tr th:only-of-type {\n",
       "        vertical-align: middle;\n",
       "    }\n",
       "\n",
       "    .dataframe tbody tr th {\n",
       "        vertical-align: top;\n",
       "    }\n",
       "\n",
       "    .dataframe thead th {\n",
       "        text-align: right;\n",
       "    }\n",
       "</style>\n",
       "<table border=\"1\" class=\"dataframe\">\n",
       "  <thead>\n",
       "    <tr style=\"text-align: right;\">\n",
       "      <th></th>\n",
       "      <th>First Name</th>\n",
       "      <th>Gender</th>\n",
       "      <th>Start Date</th>\n",
       "      <th>Last Login Time</th>\n",
       "      <th>Salary</th>\n",
       "      <th>Bonus_percentage</th>\n",
       "      <th>Senior_management</th>\n",
       "      <th>Team</th>\n",
       "    </tr>\n",
       "  </thead>\n",
       "  <tbody>\n",
       "    <tr>\n",
       "      <th>0</th>\n",
       "      <td>Douglas</td>\n",
       "      <td>Male</td>\n",
       "      <td>1993-08-06</td>\n",
       "      <td>12:42 PM</td>\n",
       "      <td>97308</td>\n",
       "      <td>6.945</td>\n",
       "      <td>True</td>\n",
       "      <td>Marketing</td>\n",
       "    </tr>\n",
       "    <tr>\n",
       "      <th>1</th>\n",
       "      <td>Thomas</td>\n",
       "      <td>Male</td>\n",
       "      <td>1996-03-31</td>\n",
       "      <td>6:53 AM</td>\n",
       "      <td>61933</td>\n",
       "      <td>4.170</td>\n",
       "      <td>True</td>\n",
       "      <td>NaN</td>\n",
       "    </tr>\n",
       "    <tr>\n",
       "      <th>2</th>\n",
       "      <td>Maria</td>\n",
       "      <td>Female</td>\n",
       "      <td>1993-04-23</td>\n",
       "      <td>11:17 AM</td>\n",
       "      <td>130590</td>\n",
       "      <td>11.858</td>\n",
       "      <td>False</td>\n",
       "      <td>Finance</td>\n",
       "    </tr>\n",
       "    <tr>\n",
       "      <th>3</th>\n",
       "      <td>Jerry</td>\n",
       "      <td>Male</td>\n",
       "      <td>2005-03-04</td>\n",
       "      <td>1:00 PM</td>\n",
       "      <td>138705</td>\n",
       "      <td>9.340</td>\n",
       "      <td>True</td>\n",
       "      <td>Finance</td>\n",
       "    </tr>\n",
       "    <tr>\n",
       "      <th>4</th>\n",
       "      <td>Larry</td>\n",
       "      <td>Male</td>\n",
       "      <td>1998-01-24</td>\n",
       "      <td>4:47 PM</td>\n",
       "      <td>101004</td>\n",
       "      <td>1.389</td>\n",
       "      <td>True</td>\n",
       "      <td>Client Services</td>\n",
       "    </tr>\n",
       "    <tr>\n",
       "      <th>...</th>\n",
       "      <td>...</td>\n",
       "      <td>...</td>\n",
       "      <td>...</td>\n",
       "      <td>...</td>\n",
       "      <td>...</td>\n",
       "      <td>...</td>\n",
       "      <td>...</td>\n",
       "      <td>...</td>\n",
       "    </tr>\n",
       "    <tr>\n",
       "      <th>995</th>\n",
       "      <td>Henry</td>\n",
       "      <td>NaN</td>\n",
       "      <td>2014-11-23</td>\n",
       "      <td>6:09 AM</td>\n",
       "      <td>132483</td>\n",
       "      <td>16.655</td>\n",
       "      <td>False</td>\n",
       "      <td>Distribution</td>\n",
       "    </tr>\n",
       "    <tr>\n",
       "      <th>996</th>\n",
       "      <td>Phillip</td>\n",
       "      <td>Male</td>\n",
       "      <td>1984-01-31</td>\n",
       "      <td>6:30 AM</td>\n",
       "      <td>42392</td>\n",
       "      <td>19.675</td>\n",
       "      <td>False</td>\n",
       "      <td>Finance</td>\n",
       "    </tr>\n",
       "    <tr>\n",
       "      <th>997</th>\n",
       "      <td>Russell</td>\n",
       "      <td>Male</td>\n",
       "      <td>2013-05-20</td>\n",
       "      <td>12:39 PM</td>\n",
       "      <td>96914</td>\n",
       "      <td>1.421</td>\n",
       "      <td>False</td>\n",
       "      <td>Product</td>\n",
       "    </tr>\n",
       "    <tr>\n",
       "      <th>998</th>\n",
       "      <td>Larry</td>\n",
       "      <td>Male</td>\n",
       "      <td>2013-04-20</td>\n",
       "      <td>4:45 PM</td>\n",
       "      <td>60500</td>\n",
       "      <td>11.985</td>\n",
       "      <td>False</td>\n",
       "      <td>Business Development</td>\n",
       "    </tr>\n",
       "    <tr>\n",
       "      <th>999</th>\n",
       "      <td>Albert</td>\n",
       "      <td>Male</td>\n",
       "      <td>2012-05-15</td>\n",
       "      <td>6:24 PM</td>\n",
       "      <td>129949</td>\n",
       "      <td>10.169</td>\n",
       "      <td>True</td>\n",
       "      <td>Sales</td>\n",
       "    </tr>\n",
       "  </tbody>\n",
       "</table>\n",
       "<p>1000 rows × 8 columns</p>\n",
       "</div>"
      ],
      "text/plain": [
       "    First Name  Gender Start Date Last Login Time  Salary  Bonus_percentage  \\\n",
       "0      Douglas    Male 1993-08-06        12:42 PM   97308             6.945   \n",
       "1       Thomas    Male 1996-03-31         6:53 AM   61933             4.170   \n",
       "2        Maria  Female 1993-04-23        11:17 AM  130590            11.858   \n",
       "3        Jerry    Male 2005-03-04         1:00 PM  138705             9.340   \n",
       "4        Larry    Male 1998-01-24         4:47 PM  101004             1.389   \n",
       "..         ...     ...        ...             ...     ...               ...   \n",
       "995      Henry     NaN 2014-11-23         6:09 AM  132483            16.655   \n",
       "996    Phillip    Male 1984-01-31         6:30 AM   42392            19.675   \n",
       "997    Russell    Male 2013-05-20        12:39 PM   96914             1.421   \n",
       "998      Larry    Male 2013-04-20         4:45 PM   60500            11.985   \n",
       "999     Albert    Male 2012-05-15         6:24 PM  129949            10.169   \n",
       "\n",
       "    Senior_management                  Team  \n",
       "0                True             Marketing  \n",
       "1                True                   NaN  \n",
       "2               False               Finance  \n",
       "3                True               Finance  \n",
       "4                True       Client Services  \n",
       "..                ...                   ...  \n",
       "995             False          Distribution  \n",
       "996             False               Finance  \n",
       "997             False               Product  \n",
       "998             False  Business Development  \n",
       "999              True                 Sales  \n",
       "\n",
       "[1000 rows x 8 columns]"
      ]
     },
     "execution_count": 25,
     "metadata": {},
     "output_type": "execute_result"
    }
   ],
   "source": [
    "df.query(\"Salary > 6000\")"
   ]
  },
  {
   "cell_type": "markdown",
   "id": "3dfea93c",
   "metadata": {
    "id": "3dfea93c"
   },
   "source": [
    "The above table displays the information of the employees whose salary is greater than 6000"
   ]
  },
  {
   "cell_type": "markdown",
   "id": "03eee21c",
   "metadata": {
    "id": "03eee21c"
   },
   "source": [
    "**Conditional Query**"
   ]
  },
  {
   "cell_type": "code",
   "execution_count": 26,
   "id": "860542fd",
   "metadata": {
    "id": "860542fd",
    "outputId": "c632ba05-03bd-4dcd-afc7-f7e09f69851e"
   },
   "outputs": [
    {
     "data": {
      "text/html": [
       "<div>\n",
       "<style scoped>\n",
       "    .dataframe tbody tr th:only-of-type {\n",
       "        vertical-align: middle;\n",
       "    }\n",
       "\n",
       "    .dataframe tbody tr th {\n",
       "        vertical-align: top;\n",
       "    }\n",
       "\n",
       "    .dataframe thead th {\n",
       "        text-align: right;\n",
       "    }\n",
       "</style>\n",
       "<table border=\"1\" class=\"dataframe\">\n",
       "  <thead>\n",
       "    <tr style=\"text-align: right;\">\n",
       "      <th></th>\n",
       "      <th>First Name</th>\n",
       "      <th>Gender</th>\n",
       "      <th>Start Date</th>\n",
       "      <th>Last Login Time</th>\n",
       "      <th>Salary</th>\n",
       "      <th>Bonus_percentage</th>\n",
       "      <th>Senior_management</th>\n",
       "      <th>Team</th>\n",
       "    </tr>\n",
       "  </thead>\n",
       "  <tbody>\n",
       "    <tr>\n",
       "      <th>0</th>\n",
       "      <td>Douglas</td>\n",
       "      <td>Male</td>\n",
       "      <td>1993-08-06</td>\n",
       "      <td>12:42 PM</td>\n",
       "      <td>97308</td>\n",
       "      <td>6.945</td>\n",
       "      <td>True</td>\n",
       "      <td>Marketing</td>\n",
       "    </tr>\n",
       "    <tr>\n",
       "      <th>1</th>\n",
       "      <td>Thomas</td>\n",
       "      <td>Male</td>\n",
       "      <td>1996-03-31</td>\n",
       "      <td>6:53 AM</td>\n",
       "      <td>61933</td>\n",
       "      <td>4.170</td>\n",
       "      <td>True</td>\n",
       "      <td>NaN</td>\n",
       "    </tr>\n",
       "    <tr>\n",
       "      <th>2</th>\n",
       "      <td>Maria</td>\n",
       "      <td>Female</td>\n",
       "      <td>1993-04-23</td>\n",
       "      <td>11:17 AM</td>\n",
       "      <td>130590</td>\n",
       "      <td>11.858</td>\n",
       "      <td>False</td>\n",
       "      <td>Finance</td>\n",
       "    </tr>\n",
       "    <tr>\n",
       "      <th>3</th>\n",
       "      <td>Jerry</td>\n",
       "      <td>Male</td>\n",
       "      <td>2005-03-04</td>\n",
       "      <td>1:00 PM</td>\n",
       "      <td>138705</td>\n",
       "      <td>9.340</td>\n",
       "      <td>True</td>\n",
       "      <td>Finance</td>\n",
       "    </tr>\n",
       "    <tr>\n",
       "      <th>5</th>\n",
       "      <td>Dennis</td>\n",
       "      <td>Male</td>\n",
       "      <td>1987-04-18</td>\n",
       "      <td>1:35 AM</td>\n",
       "      <td>115163</td>\n",
       "      <td>10.125</td>\n",
       "      <td>False</td>\n",
       "      <td>Legal</td>\n",
       "    </tr>\n",
       "    <tr>\n",
       "      <th>...</th>\n",
       "      <td>...</td>\n",
       "      <td>...</td>\n",
       "      <td>...</td>\n",
       "      <td>...</td>\n",
       "      <td>...</td>\n",
       "      <td>...</td>\n",
       "      <td>...</td>\n",
       "      <td>...</td>\n",
       "    </tr>\n",
       "    <tr>\n",
       "      <th>994</th>\n",
       "      <td>George</td>\n",
       "      <td>Male</td>\n",
       "      <td>2013-06-21</td>\n",
       "      <td>5:47 PM</td>\n",
       "      <td>98874</td>\n",
       "      <td>4.479</td>\n",
       "      <td>True</td>\n",
       "      <td>Marketing</td>\n",
       "    </tr>\n",
       "    <tr>\n",
       "      <th>995</th>\n",
       "      <td>Henry</td>\n",
       "      <td>NaN</td>\n",
       "      <td>2014-11-23</td>\n",
       "      <td>6:09 AM</td>\n",
       "      <td>132483</td>\n",
       "      <td>16.655</td>\n",
       "      <td>False</td>\n",
       "      <td>Distribution</td>\n",
       "    </tr>\n",
       "    <tr>\n",
       "      <th>996</th>\n",
       "      <td>Phillip</td>\n",
       "      <td>Male</td>\n",
       "      <td>1984-01-31</td>\n",
       "      <td>6:30 AM</td>\n",
       "      <td>42392</td>\n",
       "      <td>19.675</td>\n",
       "      <td>False</td>\n",
       "      <td>Finance</td>\n",
       "    </tr>\n",
       "    <tr>\n",
       "      <th>998</th>\n",
       "      <td>Larry</td>\n",
       "      <td>Male</td>\n",
       "      <td>2013-04-20</td>\n",
       "      <td>4:45 PM</td>\n",
       "      <td>60500</td>\n",
       "      <td>11.985</td>\n",
       "      <td>False</td>\n",
       "      <td>Business Development</td>\n",
       "    </tr>\n",
       "    <tr>\n",
       "      <th>999</th>\n",
       "      <td>Albert</td>\n",
       "      <td>Male</td>\n",
       "      <td>2012-05-15</td>\n",
       "      <td>6:24 PM</td>\n",
       "      <td>129949</td>\n",
       "      <td>10.169</td>\n",
       "      <td>True</td>\n",
       "      <td>Sales</td>\n",
       "    </tr>\n",
       "  </tbody>\n",
       "</table>\n",
       "<p>823 rows × 8 columns</p>\n",
       "</div>"
      ],
      "text/plain": [
       "    First Name  Gender Start Date Last Login Time  Salary  Bonus_percentage  \\\n",
       "0      Douglas    Male 1993-08-06        12:42 PM   97308             6.945   \n",
       "1       Thomas    Male 1996-03-31         6:53 AM   61933             4.170   \n",
       "2        Maria  Female 1993-04-23        11:17 AM  130590            11.858   \n",
       "3        Jerry    Male 2005-03-04         1:00 PM  138705             9.340   \n",
       "5       Dennis    Male 1987-04-18         1:35 AM  115163            10.125   \n",
       "..         ...     ...        ...             ...     ...               ...   \n",
       "994     George    Male 2013-06-21         5:47 PM   98874             4.479   \n",
       "995      Henry     NaN 2014-11-23         6:09 AM  132483            16.655   \n",
       "996    Phillip    Male 1984-01-31         6:30 AM   42392            19.675   \n",
       "998      Larry    Male 2013-04-20         4:45 PM   60500            11.985   \n",
       "999     Albert    Male 2012-05-15         6:24 PM  129949            10.169   \n",
       "\n",
       "    Senior_management                  Team  \n",
       "0                True             Marketing  \n",
       "1                True                   NaN  \n",
       "2               False               Finance  \n",
       "3                True               Finance  \n",
       "5               False                 Legal  \n",
       "..                ...                   ...  \n",
       "994              True             Marketing  \n",
       "995             False          Distribution  \n",
       "996             False               Finance  \n",
       "998             False  Business Development  \n",
       "999              True                 Sales  \n",
       "\n",
       "[823 rows x 8 columns]"
      ]
     },
     "execution_count": 26,
     "metadata": {},
     "output_type": "execute_result"
    }
   ],
   "source": [
    "df.query(\"Salary > 6000 & Bonus_percentage > 4\")\n"
   ]
  },
  {
   "cell_type": "markdown",
   "id": "76a4458c",
   "metadata": {
    "id": "76a4458c"
   },
   "source": [
    "The above table displays the information of the employees whose salary is greater than 6000 with a bonus percentage above 4."
   ]
  },
  {
   "cell_type": "markdown",
   "id": "e0920375",
   "metadata": {
    "id": "e0920375"
   },
   "source": [
    "**sort_values():** sort_values() is used to sort column in a Pandas DataFrame (or a Pandas Series) by values in ascending or descending order. "
   ]
  },
  {
   "cell_type": "code",
   "execution_count": 27,
   "id": "8579395f",
   "metadata": {
    "id": "8579395f"
   },
   "outputs": [],
   "source": [
    "a= df.sort_values(by='Senior_management', inplace=True)"
   ]
  },
  {
   "cell_type": "code",
   "execution_count": 28,
   "id": "43cdb002",
   "metadata": {
    "id": "43cdb002",
    "outputId": "a532a46b-5f46-4e6d-f986-8296f39f1f00"
   },
   "outputs": [
    {
     "data": {
      "text/plain": [
       "array(['First Name', 'Gender', 'Start Date', 'Last Login Time', 'Salary',\n",
       "       'Bonus_percentage', 'Senior_management', 'Team'], dtype=object)"
      ]
     },
     "execution_count": 28,
     "metadata": {},
     "output_type": "execute_result"
    }
   ],
   "source": [
    "headers = np.array(df.columns)\n",
    "headers"
   ]
  },
  {
   "cell_type": "markdown",
   "id": "d72bc68d",
   "metadata": {
    "id": "d72bc68d"
   },
   "source": [
    "***Check for any duplicates values in the data.***"
   ]
  },
  {
   "cell_type": "code",
   "execution_count": 29,
   "id": "12042021",
   "metadata": {
    "id": "12042021",
    "outputId": "11d68c8e-3173-4d36-98ca-38771b8b4cf7"
   },
   "outputs": [
    {
     "data": {
      "text/plain": [
       "0"
      ]
     },
     "execution_count": 29,
     "metadata": {},
     "output_type": "execute_result"
    }
   ],
   "source": [
    "df.duplicated().sum()"
   ]
  },
  {
   "cell_type": "markdown",
   "id": "c8cdb37d",
   "metadata": {
    "id": "c8cdb37d"
   },
   "source": [
    "**How many men and women are represented in this dataset?**"
   ]
  },
  {
   "cell_type": "code",
   "execution_count": 30,
   "id": "aeb5bb50",
   "metadata": {
    "id": "aeb5bb50",
    "outputId": "92d6fee7-0c07-4735-acd0-58b8babf5733"
   },
   "outputs": [
    {
     "data": {
      "text/plain": [
       "Female    431\n",
       "Male      424\n",
       "Name: Gender, dtype: int64"
      ]
     },
     "execution_count": 30,
     "metadata": {},
     "output_type": "execute_result"
    }
   ],
   "source": [
    "df['Gender'].value_counts()"
   ]
  },
  {
   "cell_type": "markdown",
   "id": "3cb6475e",
   "metadata": {
    "id": "3cb6475e"
   },
   "source": [
    "**What is the average Salary of women and men ?**"
   ]
  },
  {
   "cell_type": "code",
   "execution_count": 31,
   "id": "5c1caa69",
   "metadata": {
    "id": "5c1caa69",
    "outputId": "4e5349a3-89b8-486c-d7fb-dcf0cc8dd5ca"
   },
   "outputs": [
    {
     "name": "stdout",
     "output_type": "stream",
     "text": [
      "The average Salary of women in the dataset is 90023.9234338747\n",
      "The average Salary of men in the dataset is 91180.66981132075\n"
     ]
    }
   ],
   "source": [
    "w_mean=df[df['Gender'] == 'Female']['Salary'].mean()\n",
    "\n",
    "print(\"The average Salary of women in the dataset is\",w_mean )\n",
    "\n",
    "m_mean=df[df['Gender'] == 'Male']['Salary'].mean()\n",
    "\n",
    "print(\"The average Salary of men in the dataset is\", m_mean )"
   ]
  },
  {
   "cell_type": "markdown",
   "id": "8fae5b28",
   "metadata": {
    "id": "8fae5b28"
   },
   "source": [
    "**Mention the names of the First Name in the Dataset ?**"
   ]
  },
  {
   "cell_type": "code",
   "execution_count": 32,
   "id": "f237cd56",
   "metadata": {
    "id": "f237cd56",
    "outputId": "f6252b8e-06b3-4000-e5d9-6d6d4bc16c73"
   },
   "outputs": [
    {
     "data": {
      "text/plain": [
       "array(['Roy', 'Judy', 'Andrea', 'Jerry', 'Cynthia', 'Thomas', 'Phyllis',\n",
       "       'Philip', 'Lori', 'Scott', 'Maria', 'Marie', 'Kelly', 'Russell',\n",
       "       'Ruby', 'Richard', 'Ernest', 'Harry', 'Robert', 'Todd', 'Shirley',\n",
       "       'Craig', 'Julia', 'Randy', 'Diane', 'Jesse', 'George', 'Clarence',\n",
       "       'Jane', 'Debra', 'Jack', 'Carlos', 'Lois', 'Pamela', 'Shawn',\n",
       "       'Brandon', 'Ralph', 'Michael', 'Kathryn', 'Larry', 'Linda', 'Mary',\n",
       "       'Marilyn', 'Julie', 'Gloria', 'Juan', 'Justin', 'Joshua',\n",
       "       'Margaret', 'Kenneth', 'Raymond', 'Walter', 'Nicole', 'Barbara',\n",
       "       'Brenda', 'Carl', 'Charles', 'Kevin', 'Betty', 'Stephen',\n",
       "       'Christine', 'Fred', 'Louis', 'Bonnie', 'Kathleen', 'Alice',\n",
       "       'Sean', 'Robin', 'Rachel', 'Douglas', 'Louise', 'Jacqueline',\n",
       "       'Kathy', 'Bobby', 'Rose', 'Keith', 'Gerald', 'Benjamin', 'Carolyn',\n",
       "       'Joan', 'James', 'Billy', 'Joyce', 'Sarah', 'Sandra', 'Virginia',\n",
       "       'Catherine', 'Jonathan', 'Judith', 'Martin', 'Cheryl', 'Howard',\n",
       "       'Joe', 'Beverly', 'Amy', 'Eugene', 'Albert', 'Ann', 'Sharon',\n",
       "       'Ryan', 'Evelyn', 'Helen', 'Lawrence', 'Diana', 'Christopher',\n",
       "       'John', 'Adam', 'Steven', 'Terry', 'Jason', 'Jimmy', 'Wanda',\n",
       "       'Frank', 'Anna', 'Joseph', 'Henry', 'Jose', 'Jeremy', 'Deborah',\n",
       "       'Kimberly', 'Antonio', 'Matthew', 'Stephanie', 'Michelle', 'Lisa',\n",
       "       'Anne', 'Susan', 'Ashley', 'Tina', 'Janet', 'Patricia', 'Sara',\n",
       "       'Willie', 'Karen', 'Wayne', 'Denise', 'Chris', 'Ruth', 'Amanda',\n",
       "       'Jessica', 'Phillip', 'Earl', 'Rebecca', 'Heather', 'Janice',\n",
       "       'Paula', 'Doris', 'Frances', 'Harold', 'Melissa', 'William',\n",
       "       'Peter', 'Paul', 'Aaron', 'Mark', 'Jean', 'Donna', 'Lillian',\n",
       "       'Gary', 'Timothy', 'Dennis', 'Theresa', 'Katherine', 'Irene',\n",
       "       'Elizabeth', 'Donald', 'Laura', 'Bruce', 'Emily', 'Gregory',\n",
       "       'Anthony', 'David', 'Mildred', 'Edward', 'Victor', 'Teresa',\n",
       "       'Carol', 'Christina', 'Roger', 'Alan', 'Eric', 'Steve', 'Annie',\n",
       "       'Samuel', 'Martha', 'Brian', 'Nancy', 'Jeffrey', 'Arthur',\n",
       "       'Andrew', 'Patrick', 'Ronald', 'Jennifer', 'Dorothy', 'Daniel',\n",
       "       'Johnny', 'Norma', 'Tammy', 'Nicholas', 'Angela', nan],\n",
       "      dtype=object)"
      ]
     },
     "execution_count": 32,
     "metadata": {},
     "output_type": "execute_result"
    }
   ],
   "source": [
    "df['First Name'].unique()"
   ]
  },
  {
   "cell_type": "markdown",
   "id": "05823062",
   "metadata": {
    "id": "05823062"
   },
   "source": [
    "#### Checking for Null Values and DataTypes of the variables"
   ]
  },
  {
   "cell_type": "code",
   "execution_count": 33,
   "id": "bf9582c9",
   "metadata": {
    "id": "bf9582c9",
    "outputId": "74db16a4-8ecb-4791-bb93-488f4c90aa6f"
   },
   "outputs": [
    {
     "name": "stdout",
     "output_type": "stream",
     "text": [
      "<class 'pandas.core.frame.DataFrame'>\n",
      "Int64Index: 1000 entries, 265 to 951\n",
      "Data columns (total 8 columns):\n",
      " #   Column             Non-Null Count  Dtype         \n",
      "---  ------             --------------  -----         \n",
      " 0   First Name         933 non-null    object        \n",
      " 1   Gender             855 non-null    category      \n",
      " 2   Start Date         1000 non-null   datetime64[ns]\n",
      " 3   Last Login Time    1000 non-null   object        \n",
      " 4   Salary             1000 non-null   int64         \n",
      " 5   Bonus_percentage   1000 non-null   float64       \n",
      " 6   Senior_management  933 non-null    object        \n",
      " 7   Team               957 non-null    object        \n",
      "dtypes: category(1), datetime64[ns](1), float64(1), int64(1), object(4)\n",
      "memory usage: 63.6+ KB\n",
      "None\n"
     ]
    }
   ],
   "source": [
    "print(df.info())"
   ]
  },
  {
   "cell_type": "markdown",
   "id": "8732f240",
   "metadata": {
    "id": "8732f240"
   },
   "source": [
    "**Dependent and Independent Variables**: Profit is dependent variable whereas other all are independent variables.\n",
    "\n",
    "We can see that there are no null values in the dataset."
   ]
  },
  {
   "cell_type": "markdown",
   "id": "e077b08c",
   "metadata": {
    "id": "e077b08c"
   },
   "source": [
    "###  Adding Column to the dataframe"
   ]
  },
  {
   "cell_type": "code",
   "execution_count": 35,
   "id": "4b5d3fd8",
   "metadata": {
    "id": "4b5d3fd8",
    "outputId": "f98137a8-dc87-4b1e-dec1-d99aac123614"
   },
   "outputs": [
    {
     "name": "stdout",
     "output_type": "stream",
     "text": [
      "    First Name  Gender Start Date Last Login Time  Salary  Bonus_percentage  \\\n",
      "265        Roy    Male 2004-09-23         1:31 PM  101941             3.450   \n",
      "356       Judy  Female 1990-02-01         3:32 PM   38092             5.668   \n",
      "355     Andrea  Female 2003-09-14        10:30 PM  115913            12.121   \n",
      "577      Jerry    Male 2003-05-04         4:29 AM   98393            11.393   \n",
      "351    Cynthia  Female 2012-12-03        11:03 PM   74287            10.751   \n",
      "\n",
      "    Senior_management             Team  Salarychange  \n",
      "265             False  Client Services      0.101941  \n",
      "356             False     Distribution      0.038092  \n",
      "355             False            Legal      0.115913  \n",
      "577             False  Client Services      0.098393  \n",
      "351             False            Sales      0.074287  \n"
     ]
    }
   ],
   "source": [
    "\n",
    "# Adding a new column with derived data \n",
    "  \n",
    "df['Salarychange'] = df['Salary']/1000000\n",
    "  \n",
    "# Changed data\n",
    "print (df.head(5))"
   ]
  },
  {
   "cell_type": "markdown",
   "id": "16ef71cd",
   "metadata": {
    "id": "16ef71cd"
   },
   "source": [
    "### Generation of Heat Map for correlation analysis\n",
    "We will be employing the seaborn library for this."
   ]
  },
  {
   "cell_type": "code",
   "execution_count": 36,
   "id": "2809857a",
   "metadata": {
    "id": "2809857a",
    "outputId": "54fcf5f3-a9a5-4194-f0cf-6bc6e5d54057"
   },
   "outputs": [
    {
     "data": {
      "text/html": [
       "<div>\n",
       "<style scoped>\n",
       "    .dataframe tbody tr th:only-of-type {\n",
       "        vertical-align: middle;\n",
       "    }\n",
       "\n",
       "    .dataframe tbody tr th {\n",
       "        vertical-align: top;\n",
       "    }\n",
       "\n",
       "    .dataframe thead th {\n",
       "        text-align: right;\n",
       "    }\n",
       "</style>\n",
       "<table border=\"1\" class=\"dataframe\">\n",
       "  <thead>\n",
       "    <tr style=\"text-align: right;\">\n",
       "      <th></th>\n",
       "      <th>Salary</th>\n",
       "      <th>Bonus_percentage</th>\n",
       "      <th>Salarychange</th>\n",
       "    </tr>\n",
       "  </thead>\n",
       "  <tbody>\n",
       "    <tr>\n",
       "      <th>Salary</th>\n",
       "      <td>1.000000</td>\n",
       "      <td>-0.036381</td>\n",
       "      <td>1.000000</td>\n",
       "    </tr>\n",
       "    <tr>\n",
       "      <th>Bonus_percentage</th>\n",
       "      <td>-0.036381</td>\n",
       "      <td>1.000000</td>\n",
       "      <td>-0.036381</td>\n",
       "    </tr>\n",
       "    <tr>\n",
       "      <th>Salarychange</th>\n",
       "      <td>1.000000</td>\n",
       "      <td>-0.036381</td>\n",
       "      <td>1.000000</td>\n",
       "    </tr>\n",
       "  </tbody>\n",
       "</table>\n",
       "</div>"
      ],
      "text/plain": [
       "                    Salary  Bonus_percentage  Salarychange\n",
       "Salary            1.000000         -0.036381      1.000000\n",
       "Bonus_percentage -0.036381          1.000000     -0.036381\n",
       "Salarychange      1.000000         -0.036381      1.000000"
      ]
     },
     "execution_count": 36,
     "metadata": {},
     "output_type": "execute_result"
    }
   ],
   "source": [
    "df.corr()"
   ]
  },
  {
   "cell_type": "code",
   "execution_count": 37,
   "id": "fbd742b2",
   "metadata": {
    "id": "fbd742b2",
    "outputId": "5a1a8965-200a-4f83-8c43-aaeced032de3"
   },
   "outputs": [
    {
     "data": {
      "text/plain": [
       "<AxesSubplot:>"
      ]
     },
     "execution_count": 37,
     "metadata": {},
     "output_type": "execute_result"
    },
    {
     "data": {
      "image/png": "[encoded data removed]",
      "text/plain": [
       "<Figure size 432x288 with 2 Axes>"
      ]
     },
     "metadata": {
      "needs_background": "light"
     },
     "output_type": "display_data"
    }
   ],
   "source": [
    "# Visualise the correlation between independent and dependent variables using Heat Map\n",
    "sns.heatmap(df.corr())"
   ]
  },
  {
   "cell_type": "markdown",
   "id": "b1bb92ea",
   "metadata": {
    "id": "b1bb92ea"
   },
   "source": [
    "# Visualizing Histograms"
   ]
  },
  {
   "cell_type": "code",
   "execution_count": 38,
   "id": "1c8fe38d",
   "metadata": {
    "id": "1c8fe38d",
    "outputId": "893a3285-5596-434f-d29d-e8a9ac542665"
   },
   "outputs": [
    {
     "data": {
      "image/png": "[encoded data removed]",
      "text/plain": [
       "<Figure size 432x288 with 1 Axes>"
      ]
     },
     "metadata": {
      "needs_background": "light"
     },
     "output_type": "display_data"
    }
   ],
   "source": [
    "# Visualise the distribution of independent and dependent variables\n",
    "'''Create subplots in 2 row and 2 columns'''\n",
    "# importing packages\n",
    "import seaborn as sns\n",
    "import matplotlib.pyplot as plt\n",
    "  \n",
    "  \n",
    "sns.histplot(x='Salary', data=df, )\n",
    "plt.show()"
   ]
  },
  {
   "cell_type": "markdown",
   "id": "35f03c32",
   "metadata": {
    "id": "35f03c32"
   },
   "source": [
    "## Boxplot"
   ]
  },
  {
   "cell_type": "code",
   "execution_count": 39,
   "id": "57a2e177",
   "metadata": {
    "id": "57a2e177",
    "outputId": "439ece9f-38d3-4e66-9d59-e3abd016107e"
   },
   "outputs": [
    {
     "data": {
      "image/png": "[encoded data removed]",
      "text/plain": [
       "<Figure size 432x288 with 1 Axes>"
      ]
     },
     "metadata": {
      "needs_background": "light"
     },
     "output_type": "display_data"
    }
   ],
   "source": [
    "# importing packages\n",
    "import seaborn as sns\n",
    "import matplotlib.pyplot as plt\n",
    "  \n",
    "sns.boxplot( x=\"Salary\", y='Team', data=df, )\n",
    "plt.show()"
   ]
  },
  {
   "cell_type": "markdown",
   "id": "37361a0c",
   "metadata": {
    "id": "37361a0c"
   },
   "source": [
    "## Scatter Plot"
   ]
  },
  {
   "cell_type": "code",
   "execution_count": 40,
   "id": "144076e0",
   "metadata": {
    "id": "144076e0",
    "outputId": "e6fb129b-2b2e-4832-c995-177eb2f97a6e"
   },
   "outputs": [
    {
     "data": {
      "image/png": "[encoded data removed]",
      "text/plain": [
       "<Figure size 432x288 with 1 Axes>"
      ]
     },
     "metadata": {
      "needs_background": "light"
     },
     "output_type": "display_data"
    }
   ],
   "source": [
    "# importing packages\n",
    "import seaborn as sns\n",
    "import matplotlib.pyplot as plt\n",
    "  \n",
    "  \n",
    "sns.scatterplot( x=\"Salary\", y='Team', data=df,\n",
    "                hue='Gender', size='Bonus_percentage')\n",
    "  \n",
    "# Placing Legend outside the Figure\n",
    "plt.legend(bbox_to_anchor=(1, 1), loc=2)\n",
    "  \n",
    "plt.show()"
   ]
  },
  {
   "cell_type": "markdown",
   "id": "0dd8f2e8",
   "metadata": {
    "id": "0dd8f2e8"
   },
   "source": [
    "## Handling Missing Values"
   ]
  },
  {
   "cell_type": "code",
   "execution_count": 41,
   "id": "e5e09c1e",
   "metadata": {
    "id": "e5e09c1e",
    "outputId": "04c3ad63-a411-4d58-fbe8-0fb7e13c290e"
   },
   "outputs": [
    {
     "data": {
      "text/html": [
       "<div>\n",
       "<style scoped>\n",
       "    .dataframe tbody tr th:only-of-type {\n",
       "        vertical-align: middle;\n",
       "    }\n",
       "\n",
       "    .dataframe tbody tr th {\n",
       "        vertical-align: top;\n",
       "    }\n",
       "\n",
       "    .dataframe thead th {\n",
       "        text-align: right;\n",
       "    }\n",
       "</style>\n",
       "<table border=\"1\" class=\"dataframe\">\n",
       "  <thead>\n",
       "    <tr style=\"text-align: right;\">\n",
       "      <th></th>\n",
       "      <th>First Name</th>\n",
       "      <th>Gender</th>\n",
       "      <th>Start Date</th>\n",
       "      <th>Last Login Time</th>\n",
       "      <th>Salary</th>\n",
       "      <th>Bonus_percentage</th>\n",
       "      <th>Senior Management</th>\n",
       "      <th>Team</th>\n",
       "    </tr>\n",
       "  </thead>\n",
       "  <tbody>\n",
       "    <tr>\n",
       "      <th>0</th>\n",
       "      <td>Douglas</td>\n",
       "      <td>Male</td>\n",
       "      <td>08-06-1993</td>\n",
       "      <td>12:42 PM</td>\n",
       "      <td>97308</td>\n",
       "      <td>6.945</td>\n",
       "      <td>True</td>\n",
       "      <td>Marketing</td>\n",
       "    </tr>\n",
       "    <tr>\n",
       "      <th>1</th>\n",
       "      <td>Thomas</td>\n",
       "      <td>Male</td>\n",
       "      <td>3/31/1996</td>\n",
       "      <td>6:53 AM</td>\n",
       "      <td>61933</td>\n",
       "      <td>4.170</td>\n",
       "      <td>True</td>\n",
       "      <td>NaN</td>\n",
       "    </tr>\n",
       "    <tr>\n",
       "      <th>2</th>\n",
       "      <td>Maria</td>\n",
       "      <td>Female</td>\n",
       "      <td>4/23/1993</td>\n",
       "      <td>11:17 AM</td>\n",
       "      <td>130590</td>\n",
       "      <td>11.858</td>\n",
       "      <td>False</td>\n",
       "      <td>Finance</td>\n",
       "    </tr>\n",
       "    <tr>\n",
       "      <th>3</th>\n",
       "      <td>Jerry</td>\n",
       "      <td>Male</td>\n",
       "      <td>03-04-2005</td>\n",
       "      <td>1:00 PM</td>\n",
       "      <td>138705</td>\n",
       "      <td>9.340</td>\n",
       "      <td>True</td>\n",
       "      <td>Finance</td>\n",
       "    </tr>\n",
       "    <tr>\n",
       "      <th>4</th>\n",
       "      <td>Larry</td>\n",
       "      <td>Male</td>\n",
       "      <td>1/24/1998</td>\n",
       "      <td>4:47 PM</td>\n",
       "      <td>101004</td>\n",
       "      <td>1.389</td>\n",
       "      <td>True</td>\n",
       "      <td>Client Services</td>\n",
       "    </tr>\n",
       "    <tr>\n",
       "      <th>...</th>\n",
       "      <td>...</td>\n",
       "      <td>...</td>\n",
       "      <td>...</td>\n",
       "      <td>...</td>\n",
       "      <td>...</td>\n",
       "      <td>...</td>\n",
       "      <td>...</td>\n",
       "      <td>...</td>\n",
       "    </tr>\n",
       "    <tr>\n",
       "      <th>995</th>\n",
       "      <td>Henry</td>\n",
       "      <td>NaN</td>\n",
       "      <td>11/23/2014</td>\n",
       "      <td>6:09 AM</td>\n",
       "      <td>132483</td>\n",
       "      <td>16.655</td>\n",
       "      <td>False</td>\n",
       "      <td>Distribution</td>\n",
       "    </tr>\n",
       "    <tr>\n",
       "      <th>996</th>\n",
       "      <td>Phillip</td>\n",
       "      <td>Male</td>\n",
       "      <td>1/31/1984</td>\n",
       "      <td>6:30 AM</td>\n",
       "      <td>42392</td>\n",
       "      <td>19.675</td>\n",
       "      <td>False</td>\n",
       "      <td>Finance</td>\n",
       "    </tr>\n",
       "    <tr>\n",
       "      <th>997</th>\n",
       "      <td>Russell</td>\n",
       "      <td>Male</td>\n",
       "      <td>5/20/2013</td>\n",
       "      <td>12:39 PM</td>\n",
       "      <td>96914</td>\n",
       "      <td>1.421</td>\n",
       "      <td>False</td>\n",
       "      <td>Product</td>\n",
       "    </tr>\n",
       "    <tr>\n",
       "      <th>998</th>\n",
       "      <td>Larry</td>\n",
       "      <td>Male</td>\n",
       "      <td>4/20/2013</td>\n",
       "      <td>4:45 PM</td>\n",
       "      <td>60500</td>\n",
       "      <td>11.985</td>\n",
       "      <td>False</td>\n",
       "      <td>Business Development</td>\n",
       "    </tr>\n",
       "    <tr>\n",
       "      <th>999</th>\n",
       "      <td>Albert</td>\n",
       "      <td>Male</td>\n",
       "      <td>5/15/2012</td>\n",
       "      <td>6:24 PM</td>\n",
       "      <td>129949</td>\n",
       "      <td>10.169</td>\n",
       "      <td>True</td>\n",
       "      <td>Sales</td>\n",
       "    </tr>\n",
       "  </tbody>\n",
       "</table>\n",
       "<p>1000 rows × 8 columns</p>\n",
       "</div>"
      ],
      "text/plain": [
       "    First Name  Gender  Start Date Last Login Time  Salary  Bonus_percentage  \\\n",
       "0      Douglas    Male  08-06-1993        12:42 PM   97308             6.945   \n",
       "1       Thomas    Male   3/31/1996         6:53 AM   61933             4.170   \n",
       "2        Maria  Female   4/23/1993        11:17 AM  130590            11.858   \n",
       "3        Jerry    Male  03-04-2005         1:00 PM  138705             9.340   \n",
       "4        Larry    Male   1/24/1998         4:47 PM  101004             1.389   \n",
       "..         ...     ...         ...             ...     ...               ...   \n",
       "995      Henry     NaN  11/23/2014         6:09 AM  132483            16.655   \n",
       "996    Phillip    Male   1/31/1984         6:30 AM   42392            19.675   \n",
       "997    Russell    Male   5/20/2013        12:39 PM   96914             1.421   \n",
       "998      Larry    Male   4/20/2013         4:45 PM   60500            11.985   \n",
       "999     Albert    Male   5/15/2012         6:24 PM  129949            10.169   \n",
       "\n",
       "    Senior Management                  Team  \n",
       "0                True             Marketing  \n",
       "1                True                   NaN  \n",
       "2               False               Finance  \n",
       "3                True               Finance  \n",
       "4                True       Client Services  \n",
       "..                ...                   ...  \n",
       "995             False          Distribution  \n",
       "996             False               Finance  \n",
       "997             False               Product  \n",
       "998             False  Business Development  \n",
       "999              True                 Sales  \n",
       "\n",
       "[1000 rows x 8 columns]"
      ]
     },
     "execution_count": 41,
     "metadata": {},
     "output_type": "execute_result"
    }
   ],
   "source": [
    "#Importing csv files\n",
    "df = pd.read_csv(\"employees .csv\")\n",
    "df"
   ]
  },
  {
   "cell_type": "markdown",
   "id": "18c5f619",
   "metadata": {
    "id": "18c5f619"
   },
   "source": [
    "#### Are there any Null values in Dataset. If so, impute the missing values using mean."
   ]
  },
  {
   "cell_type": "code",
   "execution_count": 42,
   "id": "82c849c5",
   "metadata": {
    "id": "82c849c5",
    "outputId": "b27299cd-a54a-4962-9c62-457476222171"
   },
   "outputs": [
    {
     "data": {
      "text/plain": [
       "First Name            67\n",
       "Gender               145\n",
       "Start Date             0\n",
       "Last Login Time        0\n",
       "Salary                 0\n",
       "Bonus_percentage       0\n",
       "Senior Management     67\n",
       "Team                  43\n",
       "dtype: int64"
      ]
     },
     "execution_count": 42,
     "metadata": {},
     "output_type": "execute_result"
    }
   ],
   "source": [
    "df.isnull().sum()"
   ]
  },
  {
   "cell_type": "markdown",
   "id": "5c765396",
   "metadata": {
    "id": "5c765396"
   },
   "source": [
    "We can see that every column has a different amount of missing values. Like Gender as 145 missing values and salary has 0. Now for handling these missing values there can be several cases like dropping the rows containing NaN or replacing NaN with either mean, median, mode, or some other value.\n",
    "\n",
    "Now, let’s try to fill the missing values of gender with the string “No Gender”."
   ]
  },
  {
   "cell_type": "code",
   "execution_count": 43,
   "id": "5f71f844",
   "metadata": {
    "id": "5f71f844",
    "outputId": "bb6e300e-2923-4dac-e980-5265b27e2016"
   },
   "outputs": [
    {
     "data": {
      "text/plain": [
       "First Name           67\n",
       "Gender                0\n",
       "Start Date            0\n",
       "Last Login Time       0\n",
       "Salary                0\n",
       "Bonus_percentage      0\n",
       "Senior Management    67\n",
       "Team                 43\n",
       "dtype: int64"
      ]
     },
     "execution_count": 43,
     "metadata": {},
     "output_type": "execute_result"
    }
   ],
   "source": [
    "df[\"Gender\"].fillna(\"No Gender\", inplace = True) \n",
    "    \n",
    "df.isnull().sum()"
   ]
  },
  {
   "cell_type": "markdown",
   "id": "fe6e451d",
   "metadata": {
    "id": "fe6e451d"
   },
   "source": [
    "We can see that now there is no null value for the gender column. Now, Let’s fill the senior management with the mode value."
   ]
  },
  {
   "cell_type": "code",
   "execution_count": 44,
   "id": "86ef108a",
   "metadata": {
    "id": "86ef108a",
    "outputId": "cc80de09-ab47-4f96-c5ea-254a7f892e79"
   },
   "outputs": [
    {
     "data": {
      "text/plain": [
       "First Name           67\n",
       "Gender                0\n",
       "Start Date            0\n",
       "Last Login Time       0\n",
       "Salary                0\n",
       "Bonus_percentage      0\n",
       "Senior Management     0\n",
       "Team                 43\n",
       "dtype: int64"
      ]
     },
     "execution_count": 44,
     "metadata": {},
     "output_type": "execute_result"
    }
   ],
   "source": [
    "mode = df['Senior Management'].mode().values[0]\n",
    "df['Senior Management']= df['Senior Management'].replace(np.nan, mode)\n",
    "  \n",
    "df.isnull().sum()"
   ]
  },
  {
   "cell_type": "markdown",
   "id": "664040c6",
   "metadata": {
    "id": "664040c6"
   },
   "source": [
    "Now for the first name and team, we cannot fill the missing values with arbitrary data, so, let’s drop all the rows containing these missing values."
   ]
  },
  {
   "cell_type": "code",
   "execution_count": 45,
   "id": "b4453378",
   "metadata": {
    "id": "b4453378",
    "outputId": "d38fd6de-7717-494d-b11d-85add1f29f42"
   },
   "outputs": [
    {
     "name": "stdout",
     "output_type": "stream",
     "text": [
      "First Name           0\n",
      "Gender               0\n",
      "Start Date           0\n",
      "Last Login Time      0\n",
      "Salary               0\n",
      "Bonus_percentage     0\n",
      "Senior Management    0\n",
      "Team                 0\n",
      "dtype: int64\n"
     ]
    },
    {
     "data": {
      "text/plain": [
       "(899, 8)"
      ]
     },
     "execution_count": 45,
     "metadata": {},
     "output_type": "execute_result"
    }
   ],
   "source": [
    "\n",
    "df = df.dropna(axis = 0, how ='any')\n",
    "  \n",
    "print(df.isnull().sum())\n",
    "df.shape"
   ]
  },
  {
   "cell_type": "markdown",
   "id": "e704ff82",
   "metadata": {
    "id": "e704ff82"
   },
   "source": [
    "We can see that our dataset is now free of all the missing values and after dropping the data the number of also reduced from 1000 to 899."
   ]
  }
 ],
 "metadata": {
  "colab": {
   "provenance": []
  },
  "kernelspec": {
   "display_name": "Python 3 (ipykernel)",
   "language": "python",
   "name": "python3"
  },
  "language_info": {
   "codemirror_mode": {
    "name": "ipython",
    "version": 3
   },
   "file_extension": ".py",
   "mimetype": "text/x-python",
   "name": "python",
   "nbconvert_exporter": "python",
   "pygments_lexer": "ipython3",
   "version": "3.9.7"
  }
 },
 "nbformat": 4,
 "nbformat_minor": 5
}
