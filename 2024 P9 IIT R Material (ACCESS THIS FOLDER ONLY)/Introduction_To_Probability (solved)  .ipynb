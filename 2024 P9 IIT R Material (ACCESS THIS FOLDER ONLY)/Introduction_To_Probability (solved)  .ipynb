{
 "cells": [
  {
   "cell_type": "markdown",
   "id": "a56f95f5",
   "metadata": {
    "id": "a56f95f5"
   },
   "source": [
    "**Question 1** In a simultaneous throw of a two dice, what is the probability of getting a doublet?"
   ]
  },
  {
   "cell_type": "code",
   "execution_count": 1,
   "id": "d99cb88f",
   "metadata": {
    "colab": {
     "base_uri": "https://localhost:8080/"
    },
    "executionInfo": {
     "elapsed": 14,
     "status": "ok",
     "timestamp": 1678093986046,
     "user": {
      "displayName": "MEENU SINGH",
      "userId": "08824988348004969626"
     },
     "user_tz": -60
    },
    "id": "d99cb88f",
    "outputId": "58d99573-92bf-477c-b283-4591a134b91e"
   },
   "outputs": [
    {
     "name": "stdout",
     "output_type": "stream",
     "text": [
      "total outcomes: 36\n",
      "favourable outcomes: 6\n",
      "the probability of getting a doublet: 0.16666666666666666\n"
     ]
    }
   ],
   "source": [
    "## In a simultaneous throw of two dice\n",
    "l_1 = [1,2,3,4,5,6]\n",
    "l_2 = [1,2,3,4,5,6]\n",
    "\n",
    "# Total outcomes        \n",
    "total_outcome = len(l_1)*len(l_2)\n",
    "print(\"total outcomes:\", total_outcome)\n",
    "\n",
    "## Let E = event of getting a doublet = {(1, 1), (2, 2), (3, 3), (4, 4), (5,5), (6,6)}\n",
    "# No Favourable Outcomes\n",
    "\n",
    "l_3 = [(1, 1), (2, 2), (3, 3), (4, 4), (5,5), (6,6)]\n",
    "fav_outcome = len(l_3)\n",
    "print(\"favourable outcomes:\", fav_outcome)\n",
    "\n",
    "# Probability\n",
    "probability = fav_outcome/total_outcome\n",
    "print(\"the probability of getting a doublet:\", probability)"
   ]
  },
  {
   "cell_type": "markdown",
   "id": "273b749a",
   "metadata": {
    "id": "273b749a"
   },
   "source": [
    "**Question 2** The probability of 3 students solving a question are $\\frac{1}{3}$, $\\frac{1}{5}$, and $\\frac{1}{7}$ respectively. Find the probability that at least one of them solve the problem."
   ]
  },
  {
   "cell_type": "code",
   "execution_count": 2,
   "id": "880da140",
   "metadata": {
    "colab": {
     "base_uri": "https://localhost:8080/"
    },
    "executionInfo": {
     "elapsed": 11,
     "status": "ok",
     "timestamp": 1678093986047,
     "user": {
      "displayName": "MEENU SINGH",
      "userId": "08824988348004969626"
     },
     "user_tz": -60
    },
    "id": "880da140",
    "outputId": "264d9f3d-91a2-4f0d-aac6-4d66fe0d65e3"
   },
   "outputs": [
    {
     "name": "stdout",
     "output_type": "stream",
     "text": [
      "probability that problem will be solved: 0.5428571428571427\n"
     ]
    }
   ],
   "source": [
    "# probability that students A,B and C solve the problem\n",
    "\n",
    "prob_A = 1/3     \n",
    "prob_B = 1/5\n",
    "prob_C = 1/7\n",
    "\n",
    "# Probability of none of student solve the problem\n",
    "prob_not_ABC = (1-prob_A)*(1-prob_B)*(1-prob_C)\n",
    "\n",
    "# Probability of atleast one score a goal\n",
    "prob_A_B_C = 1 - prob_not_ABC\n",
    " \n",
    "\n",
    "print(\"probability that problem will be solved:\", prob_A_B_C)"
   ]
  },
  {
   "cell_type": "markdown",
   "id": "90534bc4",
   "metadata": {
    "id": "90534bc4"
   },
   "source": [
    "**Question 3**. Find the probability of drawing a card that is a Heart, a face card (such as Jacks, Queens, or Kings), or a combination of both, such as a Queen of Hearts."
   ]
  },
  {
   "cell_type": "code",
   "execution_count": 3,
   "id": "52729387",
   "metadata": {
    "colab": {
     "base_uri": "https://localhost:8080/"
    },
    "executionInfo": {
     "elapsed": 271,
     "status": "ok",
     "timestamp": 1678093986310,
     "user": {
      "displayName": "MEENU SINGH",
      "userId": "08824988348004969626"
     },
     "user_tz": -60
    },
    "id": "52729387",
    "outputId": "34e37829-642b-4c28-851a-a7e8ab257e0a"
   },
   "outputs": [
    {
     "name": "stdout",
     "output_type": "stream",
     "text": [
      "Probability of Heart :-  0.2\n",
      "Probability of Face Card :-  0.2\n",
      "Probability of Queen of Hearts :-  0.0\n"
     ]
    }
   ],
   "source": [
    "# Create function that returns probability \n",
    "def event_probability(event_outcomes, sample_space):\n",
    "    probability = (event_outcomes / sample_space) \n",
    "    return round(probability, 1)\n",
    "\n",
    "# Sample Space\n",
    "cards = 52\n",
    "\n",
    "# Determine the probability of drawing a heart\n",
    "hearts = 13\n",
    "heart_probability = event_probability(hearts, cards)\n",
    "\n",
    "# Determine the probability of drawing a face card\n",
    "face_cards = 12\n",
    "face_card_probability = event_probability(face_cards, cards)\n",
    "\n",
    "# Determine the probability of drawing the queen of hearts\n",
    "queen_of_hearts = 1\n",
    "queen_of_hearts_probability = event_probability(queen_of_hearts, cards)\n",
    "\n",
    "# Print each probability\n",
    "print(\"Probability of Heart :- \", heart_probability)\n",
    "print(\"Probability of Face Card :- \", face_card_probability)\n",
    "print(\"Probability of Queen of Hearts :- \", queen_of_hearts_probability)"
   ]
  },
  {
   "cell_type": "markdown",
   "id": "kGnTjFtYsuAu",
   "metadata": {
    "id": "kGnTjFtYsuAu"
   },
   "source": [
    "**Question 4**. 10% of the bulbs produced in a factory are of red colour and 2% are red and defective. If one bulb is picked up at random, determine the probability of its being defective if it is red."
   ]
  },
  {
   "cell_type": "code",
   "execution_count": 4,
   "id": "KIDT_nGb8DUg",
   "metadata": {
    "colab": {
     "base_uri": "https://localhost:8080/"
    },
    "executionInfo": {
     "elapsed": 10,
     "status": "ok",
     "timestamp": 1678093986311,
     "user": {
      "displayName": "MEENU SINGH",
      "userId": "08824988348004969626"
     },
     "user_tz": -60
    },
    "id": "KIDT_nGb8DUg",
    "outputId": "da19e0fd-07f5-43f7-f6c6-7c2a0896b196"
   },
   "outputs": [
    {
     "name": "stdout",
     "output_type": "stream",
     "text": [
      "The probability of event A is: 0.1\n",
      "The probability of event B given A is: 0.19999999999999998\n"
     ]
    }
   ],
   "source": [
    "'''\n",
    "Let A and B be the events that the bulb is red and defective, respectively.  \n",
    "\n",
    "''' \n",
    "\n",
    "# Probability of A\n",
    "\n",
    "tot_out = 100\n",
    "fav_out = 10\n",
    "prob_A = fav_out/tot_out\n",
    "print(\"The probability of event A is:\", prob_A)\n",
    "\n",
    "\n",
    "# probability of A and B\n",
    "\n",
    "fav_out_A_int_B = 2\n",
    "\n",
    "prob_A_int_B = fav_out_A_int_B/tot_out\n",
    "\n",
    "#probability of B given A\n",
    "prob_B_given_A = prob_A_int_B/prob_A\n",
    "\n",
    "print(\"The probability of event B given A is:\", prob_B_given_A)   "
   ]
  },
  {
   "cell_type": "markdown",
   "id": "aff06989",
   "metadata": {
    "id": "aff06989"
   },
   "source": [
    "The probability that a buyer bought bucket seats, given that they purchased an alarm system, is 50%."
   ]
  },
  {
   "cell_type": "markdown",
   "id": "ze17Mo_39ge3",
   "metadata": {
    "id": "ze17Mo_39ge3"
   },
   "source": [
    "**Question 5**. Consider the data in the following table:\n",
    "\n",
    "|  | reserved lot | open lot |\n",
    "| --- | --- |--- |\n",
    "| junior | 75 | 175 |\n",
    "| senior | 125 | 275 |\n",
    "\n",
    "What is the probability of picking a junior, given that the student parked in the reserved lot? "
   ]
  },
  {
   "cell_type": "code",
   "execution_count": 5,
   "id": "TtJhJgBDAcUF",
   "metadata": {
    "colab": {
     "base_uri": "https://localhost:8080/"
    },
    "executionInfo": {
     "elapsed": 9,
     "status": "ok",
     "timestamp": 1678093986311,
     "user": {
      "displayName": "MEENU SINGH",
      "userId": "08824988348004969626"
     },
     "user_tz": -60
    },
    "id": "TtJhJgBDAcUF",
    "outputId": "e43b5999-2256-4ea0-d391-49fdcea3cc2e"
   },
   "outputs": [
    {
     "name": "stdout",
     "output_type": "stream",
     "text": [
      " Probability of picking a junior, given that the student parked in the reserved lot is: 0.375\n"
     ]
    }
   ],
   "source": [
    "'''\n",
    "Let event A be student parks in the reserved lot and B be choosing a junior.\n",
    "\n",
    "'''\n",
    "# probability of B given A\n",
    "\n",
    "tot_out = 650\n",
    "\n",
    "#probability of A \n",
    "fav_out_A = 200\n",
    "prob_A = fav_out_A/tot_out\n",
    "\n",
    "#probability of A intersection B\n",
    "\n",
    "fav_out_A_int_B = 75\n",
    "\n",
    "prob_A_int_B = fav_out_A_int_B/tot_out\n",
    "\n",
    "#probability of B given A\n",
    "prob_B_given_A = prob_A_int_B/prob_A\n",
    "\n",
    "print(\" Probability of picking a junior, given that the student parked in the reserved lot is:\", prob_B_given_A)"
   ]
  },
  {
   "cell_type": "markdown",
   "id": "xzbj1m0Kpu9A",
   "metadata": {
    "id": "xzbj1m0Kpu9A"
   },
   "source": [
    "**Question 6** Here is a table tabulated frequencies for the majors and genders of the students in the class survey.\n",
    "\n",
    "| Gender <br> Major | Female | Male | Total |\n",
    "| --- | --- |--- | --- |\n",
    "| Finance | 12 | 20 | 32 |\n",
    "| Other | 4 | 3 | 7 |\n",
    "| Undecided | 10 | 15 | 25 |\n",
    "| Total | 26 | 38 | 64 |\n",
    "\n",
    "Find the following conditional probability\n",
    "\n",
    "* Probability of students listed other subject for Major.\n",
    "* Probability of female students listed Finance subject as Major.\n",
    "* Probability of students who listed Finance as Major are Male.\n",
    "* Probability of male students listed Other subject as Major.\n",
    "* Probability of students who listed Undecided as Major are Female.\n",
    "* OR and AND questions form openstax"
   ]
  },
  {
   "cell_type": "code",
   "execution_count": 6,
   "id": "AjqJDDPGsnYo",
   "metadata": {
    "colab": {
     "base_uri": "https://localhost:8080/",
     "height": 206
    },
    "executionInfo": {
     "elapsed": 1457,
     "status": "ok",
     "timestamp": 1678093987762,
     "user": {
      "displayName": "MEENU SINGH",
      "userId": "08824988348004969626"
     },
     "user_tz": -60
    },
    "id": "AjqJDDPGsnYo",
    "outputId": "d6175769-fa25-4fc3-ca49-afc717faee74"
   },
   "outputs": [
    {
     "data": {
      "text/html": [
       "<div>\n",
       "<style scoped>\n",
       "    .dataframe tbody tr th:only-of-type {\n",
       "        vertical-align: middle;\n",
       "    }\n",
       "\n",
       "    .dataframe tbody tr th {\n",
       "        vertical-align: top;\n",
       "    }\n",
       "\n",
       "    .dataframe thead th {\n",
       "        text-align: right;\n",
       "    }\n",
       "</style>\n",
       "<table border=\"1\" class=\"dataframe\">\n",
       "  <thead>\n",
       "    <tr style=\"text-align: right;\">\n",
       "      <th>Gender</th>\n",
       "      <th>Female</th>\n",
       "      <th>Male</th>\n",
       "      <th>All</th>\n",
       "    </tr>\n",
       "    <tr>\n",
       "      <th>Major</th>\n",
       "      <th></th>\n",
       "      <th></th>\n",
       "      <th></th>\n",
       "    </tr>\n",
       "  </thead>\n",
       "  <tbody>\n",
       "    <tr>\n",
       "      <th>Finance</th>\n",
       "      <td>12</td>\n",
       "      <td>20</td>\n",
       "      <td>32</td>\n",
       "    </tr>\n",
       "    <tr>\n",
       "      <th>Other</th>\n",
       "      <td>4</td>\n",
       "      <td>3</td>\n",
       "      <td>7</td>\n",
       "    </tr>\n",
       "    <tr>\n",
       "      <th>Undecided</th>\n",
       "      <td>10</td>\n",
       "      <td>15</td>\n",
       "      <td>25</td>\n",
       "    </tr>\n",
       "    <tr>\n",
       "      <th>All</th>\n",
       "      <td>26</td>\n",
       "      <td>38</td>\n",
       "      <td>64</td>\n",
       "    </tr>\n",
       "  </tbody>\n",
       "</table>\n",
       "</div>"
      ],
      "text/plain": [
       "Gender     Female  Male  All\n",
       "Major                       \n",
       "Finance        12    20   32\n",
       "Other           4     3    7\n",
       "Undecided      10    15   25\n",
       "All            26    38   64"
      ]
     },
     "execution_count": 6,
     "metadata": {},
     "output_type": "execute_result"
    }
   ],
   "source": [
    "import pandas as pd\n",
    "import numpy as np\n",
    "\n",
    "#Create pandas DataFrame with raw data\n",
    "\n",
    "df = pd.DataFrame({'Gender': np.repeat(np.array(['Male', 'Female']), (38,26)),\n",
    "                   'Major': np.repeat(np.array(['Finance', 'Other', 'Undecided',\n",
    "                                                'Finance', 'Other', 'Undecided']), \n",
    "                                    (20, 3, 15,12, 4, 10))})\n",
    "\n",
    "survey_data = pd.crosstab(index = df['Major'], columns = df['Gender'], margins = True)\n",
    "\n",
    "survey_data"
   ]
  },
  {
   "cell_type": "code",
   "execution_count": 7,
   "id": "quNiAD_xESK-",
   "metadata": {
    "colab": {
     "base_uri": "https://localhost:8080/"
    },
    "executionInfo": {
     "elapsed": 37,
     "status": "ok",
     "timestamp": 1678093987764,
     "user": {
      "displayName": "MEENU SINGH",
      "userId": "08824988348004969626"
     },
     "user_tz": -60
    },
    "id": "quNiAD_xESK-",
    "outputId": "348b2524-2afa-4dfd-e0ec-b936526138e4"
   },
   "outputs": [
    {
     "name": "stdout",
     "output_type": "stream",
     "text": [
      "The probability of students listed other subject for Major:  0.109375\n"
     ]
    }
   ],
   "source": [
    "# P(Other)\n",
    "\n",
    "req1 = survey_data.iloc[1,2]/survey_data.iloc[3,2]\n",
    "print(\"The probability of students listed other subject for Major: \", req1)"
   ]
  },
  {
   "cell_type": "code",
   "execution_count": 8,
   "id": "DXlpOHtDyCrf",
   "metadata": {
    "colab": {
     "base_uri": "https://localhost:8080/"
    },
    "executionInfo": {
     "elapsed": 35,
     "status": "ok",
     "timestamp": 1678093987765,
     "user": {
      "displayName": "MEENU SINGH",
      "userId": "08824988348004969626"
     },
     "user_tz": -60
    },
    "id": "DXlpOHtDyCrf",
    "outputId": "e9dc7549-44ef-427d-81fb-6a380d069c3d"
   },
   "outputs": [
    {
     "name": "stdout",
     "output_type": "stream",
     "text": [
      "The conditional probability of Finance major, given that student is Female:  0.46153846153846156\n"
     ]
    }
   ],
   "source": [
    "# P(Finance | Female)\n",
    "req2 = survey_data.iloc[0,0]/ survey_data.iloc[3,0]\n",
    "print(\"The conditional probability of Finance major, given that student is Female: \", req2)"
   ]
  },
  {
   "cell_type": "code",
   "execution_count": 9,
   "id": "lGbvjgD9y_Mu",
   "metadata": {
    "colab": {
     "base_uri": "https://localhost:8080/"
    },
    "executionInfo": {
     "elapsed": 32,
     "status": "ok",
     "timestamp": 1678093987765,
     "user": {
      "displayName": "MEENU SINGH",
      "userId": "08824988348004969626"
     },
     "user_tz": -60
    },
    "id": "lGbvjgD9y_Mu",
    "outputId": "838797d1-1256-4588-adcb-25e39b742a0f"
   },
   "outputs": [
    {
     "name": "stdout",
     "output_type": "stream",
     "text": [
      "The conditional probability of Male student, given that Major is Finance:  0.625\n"
     ]
    }
   ],
   "source": [
    "# P(Male | Finance)\n",
    "req3=survey_data.iloc[0,1]/ survey_data.iloc[0,2]\n",
    "print(\"The conditional probability of Male student, given that Major is Finance: \", req3)"
   ]
  },
  {
   "cell_type": "code",
   "execution_count": 10,
   "id": "si4iE28kzpp3",
   "metadata": {
    "colab": {
     "base_uri": "https://localhost:8080/"
    },
    "executionInfo": {
     "elapsed": 30,
     "status": "ok",
     "timestamp": 1678093987766,
     "user": {
      "displayName": "MEENU SINGH",
      "userId": "08824988348004969626"
     },
     "user_tz": -60
    },
    "id": "si4iE28kzpp3",
    "outputId": "1cfe156c-265d-486a-ac79-e2eccb8ed145"
   },
   "outputs": [
    {
     "name": "stdout",
     "output_type": "stream",
     "text": [
      "The conditional probability of other major, given that student is Male:  0.07894736842105263\n"
     ]
    }
   ],
   "source": [
    "# P(Other | Male)\n",
    "req4 = survey_data.iloc[1,1]/ survey_data.iloc[3,1]\n",
    "print(\"The conditional probability of other major, given that student is Male: \", req4)"
   ]
  },
  {
   "cell_type": "code",
   "execution_count": 11,
   "id": "iQL7vFEi0Awm",
   "metadata": {
    "colab": {
     "base_uri": "https://localhost:8080/"
    },
    "executionInfo": {
     "elapsed": 28,
     "status": "ok",
     "timestamp": 1678093987767,
     "user": {
      "displayName": "MEENU SINGH",
      "userId": "08824988348004969626"
     },
     "user_tz": -60
    },
    "id": "iQL7vFEi0Awm",
    "outputId": "0d089f8a-d67d-4866-9c0e-0e0314c9d607"
   },
   "outputs": [
    {
     "name": "stdout",
     "output_type": "stream",
     "text": [
      "The conditional probability of Female student, given that Major is Undecided:  0.4\n"
     ]
    }
   ],
   "source": [
    "# P(Female | Undecided)\n",
    "req5 = survey_data.iloc[2,0]/ survey_data.iloc[2,2]\n",
    "print(\"The conditional probability of Female student, given that Major is Undecided: \", req5)"
   ]
  },
  {
   "cell_type": "markdown",
   "id": "0f16fe0f",
   "metadata": {
    "id": "0f16fe0f"
   },
   "source": [
    "**Question 7**. Three identical boxes contain red and white balls. The first box contains 3 red and 2 white balls, the second box has 4 red and 5 white balls, and the third box has 2 red and 4 white balls. A box is chosen very randomly and a ball is drawn from it. If the ball that is drawn out is red, what will be the probability that the second box is chosen? "
   ]
  },
  {
   "cell_type": "code",
   "execution_count": 12,
   "id": "SP65LAFoKyS_",
   "metadata": {
    "colab": {
     "base_uri": "https://localhost:8080/"
    },
    "executionInfo": {
     "elapsed": 27,
     "status": "ok",
     "timestamp": 1678093987768,
     "user": {
      "displayName": "MEENU SINGH",
      "userId": "08824988348004969626"
     },
     "user_tz": -60
    },
    "id": "SP65LAFoKyS_",
    "outputId": "68dd7316-db58-4fb4-cf3a-1afd5073e773"
   },
   "outputs": [
    {
     "name": "stdout",
     "output_type": "stream",
     "text": [
      "The probability of not happening profit due to selection of C is  0.32258064516129037\n"
     ]
    }
   ],
   "source": [
    "# E1: events of choosing the first box\n",
    "# E2: events of choosing the second box\n",
    "# E3: events of choosing the Third box\n",
    "\n",
    "# A: the event of drawing a red ball from the chosen box\n",
    "## Since the boxes are identical, hence \n",
    "\n",
    "prob_E1 = prob_E2 = prob_E3 = 1/3\n",
    "\n",
    "# Profit not happened by the changes introduces by A\n",
    "prob_A_given_E1 = 3/(3+2) \n",
    "prob_A_given_E2 = 4/(4+5) \n",
    "prob_A_given_E3 = 2/(2+4) \n",
    "\n",
    "# probability of not happening profit due to selection of Z\n",
    "prob_E2_given_A = (prob_A_given_E2*prob_E2) /(prob_A_given_E1*prob_E1 + prob_A_given_E2*prob_E2+ prob_A_given_E3*prob_E3)\n",
    "print(\"The probability of not happening profit due to selection of C is \", prob_E2_given_A)"
   ]
  },
  {
   "cell_type": "markdown",
   "id": "493aa3ab",
   "metadata": {
    "id": "493aa3ab"
   },
   "source": [
    "**Question 8**. In a bolt factory, three machines M₁, M₂, and M₃ manufacture 2000, 2500, and 4000 bolts every day. Of their output 3%, 4%, and 2.5% are defective bolts. One of the bolts is drawn very randomly from a day’s production and is found to be defective. What is the probability that it was produced by machine M₂?"
   ]
  },
  {
   "cell_type": "code",
   "execution_count": 13,
   "id": "dfa8488b",
   "metadata": {
    "colab": {
     "base_uri": "https://localhost:8080/"
    },
    "executionInfo": {
     "elapsed": 23,
     "status": "ok",
     "timestamp": 1678093987768,
     "user": {
      "displayName": "MEENU SINGH",
      "userId": "08824988348004969626"
     },
     "user_tz": -60
    },
    "id": "dfa8488b",
    "outputId": "a9e92c59-60e9-4d75-83a2-4de5b69d4a9a"
   },
   "outputs": [
    {
     "name": "stdout",
     "output_type": "stream",
     "text": [
      "The probability that it came from the urn E3 is  0.38461538461538464\n"
     ]
    }
   ],
   "source": [
    "# E1: drawn bolt manufactured by machines M1\n",
    "# E2: drawn bolt manufactured by machines M2\n",
    "# E3: drawn bolt manufactured by machines M3\n",
    "\n",
    "# A: event that the drawn bolt is defective  \n",
    "\n",
    "prob_E1 = 2000/(2000 + 2500 + 4000)\n",
    "prob_E2 = 2500/(2000 + 2500 + 4000)\n",
    "prob_E3 = 4000/(2000 + 2500 + 4000)\n",
    "\n",
    "prob_A_given_E1 = 3/100\n",
    "prob_A_given_E2 = 4/100\n",
    "prob_A_given_E3 = 2.5/100\n",
    "\n",
    "\n",
    "# probability that it came from the urn E3\n",
    "prob_E2_given_A = (prob_A_given_E2*prob_E2)/(prob_A_given_E1*prob_E1+prob_A_given_E2*prob_E2+prob_A_given_E3*prob_E3)\n",
    "print(\"The probability that it came from the urn E3 is \", prob_E2_given_A)"
   ]
  },
  {
   "cell_type": "markdown",
   "id": "06a1f0f3",
   "metadata": {
    "id": "06a1f0f3"
   },
   "source": [
    "**Question 9**. suppose an individuals thinks that if they quit their job and work for themselves that there is a 60% chance they could earn Rs. 20,0000 in their first year, a 30 % chance they could earn Rs. 60,0000, and a 10 % chance they would earn $ 0. What is the expected value for their income in the first year of entrepreneurship ? \n",
    "\n",
    "\n",
    "\n",
    "| Amount(X) | Probability P(X) |\n",
    "| --- | --- |\n",
    "| Rs. 200000 | 0.6 |\n",
    "| Rs. 600000 | 0.3 |\n",
    "| Rs. 0 | 0.1 |"
   ]
  },
  {
   "cell_type": "code",
   "execution_count": 14,
   "id": "02e66c4f",
   "metadata": {
    "colab": {
     "base_uri": "https://localhost:8080/"
    },
    "executionInfo": {
     "elapsed": 21,
     "status": "ok",
     "timestamp": 1678093987769,
     "user": {
      "displayName": "MEENU SINGH",
      "userId": "08824988348004969626"
     },
     "user_tz": -60
    },
    "id": "02e66c4f",
    "outputId": "27b8ffa1-0125-410d-bfb9-044234831c61"
   },
   "outputs": [
    {
     "data": {
      "text/plain": [
       "300000.0"
      ]
     },
     "execution_count": 14,
     "metadata": {},
     "output_type": "execute_result"
    }
   ],
   "source": [
    "import numpy as np\n",
    "\n",
    "# define value\n",
    "val = np.asarray([200000,600000,0])\n",
    "\n",
    "# define probabilities\n",
    "prob = np.asarray([0.6, 0.3, 0.1])\n",
    "\n",
    "expected_value = (val * prob).sum()\n",
    "expected_value\n"
   ]
  },
  {
   "cell_type": "markdown",
   "id": "e88ec985",
   "metadata": {
    "id": "e88ec985"
   },
   "source": [
    "**Question 10**.\n",
    "Suppose that the random variable $X$ is equal to the number of hits obtained by a certain baseball player in his next $3$ at bats. If $P\\{X=1\\} = 0.3, P\\{X=2\\} = 0.2, \\text{ and } P\\{ X = 0\\} = 3 P\\{X=3\\} $ find $E[X]$ and $var(X)$.\n",
    "#### Hint\n",
    "* Sum of probability is 1.\n",
    "\n"
   ]
  },
  {
   "cell_type": "code",
   "execution_count": 15,
   "id": "28e0eeac",
   "metadata": {
    "colab": {
     "base_uri": "https://localhost:8080/"
    },
    "executionInfo": {
     "elapsed": 18,
     "status": "ok",
     "timestamp": 1678093987769,
     "user": {
      "displayName": "MEENU SINGH",
      "userId": "08824988348004969626"
     },
     "user_tz": -60
    },
    "id": "28e0eeac",
    "outputId": "f84ac26d-2a02-497d-a400-6e1d25ea4c60"
   },
   "outputs": [
    {
     "name": "stdout",
     "output_type": "stream",
     "text": [
      "The required expected value is 1.075\n",
      "The required variance is 1.0693750000000002\n"
     ]
    }
   ],
   "source": [
    "val = np.asarray([0,1,2,3])\n",
    "prob = np.asarray([0.375, 0.3, 0.2, 0.125])\n",
    "\n",
    "#E[X]\n",
    "E_X = (val * prob).sum()\n",
    "\n",
    "print(\"The required expected value is\", E_X)\n",
    "\n",
    "#E[X^2]\n",
    "E_X2 = (val**2 * prob).sum()\n",
    "\n",
    "#Variance\n",
    "Var = E_X2 - E_X**2\n",
    "\n",
    "print(\"The required variance is\", Var)"
   ]
  }
 ],
 "metadata": {
  "colab": {
   "provenance": []
  },
  "kernelspec": {
   "display_name": "Python 3 (ipykernel)",
   "language": "python",
   "name": "python3"
  },
  "language_info": {
   "codemirror_mode": {
    "name": "ipython",
    "version": 3
   },
   "file_extension": ".py",
   "mimetype": "text/x-python",
   "name": "python",
   "nbconvert_exporter": "python",
   "pygments_lexer": "ipython3",
   "version": "3.11.5"
  }
 },
 "nbformat": 4,
 "nbformat_minor": 5
}
